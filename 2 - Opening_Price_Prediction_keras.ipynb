{
  "nbformat": 4,
  "nbformat_minor": 0,
  "metadata": {
    "kernelspec": {
      "display_name": "Python 3",
      "language": "python",
      "name": "python3"
    },
    "language_info": {
      "codemirror_mode": {
        "name": "ipython",
        "version": 3
      },
      "file_extension": ".py",
      "mimetype": "text/x-python",
      "name": "python",
      "nbconvert_exporter": "python",
      "pygments_lexer": "ipython3",
      "version": "3.6.10-final"
    },
    "colab": {
      "name": "Opening_Price_Prediction- keras.ipynb",
      "provenance": [],
      "collapsed_sections": [
        "RfFPY58dPFDp"
      ]
    }
  },
  "cells": [
    {
      "cell_type": "markdown",
      "metadata": {
        "id": "esCkMaP7JXew",
        "colab_type": "text"
      },
      "source": [
        "# Long Short Term Memory(LSTM) based - Stock predicition - # CPU based\n",
        "\n",
        "Aim -to predict the Opening stock price using past 60 day stock price.\n",
        "\n"
      ]
    },
    {
      "cell_type": "code",
      "metadata": {
        "id": "dwSlgPvaIn2D",
        "colab_type": "code",
        "outputId": "955e1b24-bf4d-482c-8fe9-903c773a6b42",
        "colab": {
          "base_uri": "https://localhost:8080/",
          "height": 89
        }
      },
      "source": [
        "import math\n",
        "import numpy as np\n",
        "import pandas as pd\n",
        "import pandas_datareader as web\n",
        "#from sklearn.tree import DecisionTreeRegressor\n",
        "#from sklearn.linear_model import LinearRegression\n",
        "#from sklearn.model_selection import train_test_split\n",
        "from sklearn.preprocessing import MinMaxScaler\n",
        "from keras.models import Sequential\n",
        "from keras.layers import Dense, LSTM\n",
        "import matplotlib.pyplot as plt\n",
        "\n"
      ],
      "execution_count": 1,
      "outputs": [
        {
          "output_type": "stream",
          "text": [
            "/usr/local/lib/python3.6/dist-packages/pandas_datareader/compat/__init__.py:7: FutureWarning: pandas.util.testing is deprecated. Use the functions in the public API at pandas.testing instead.\n",
            "  from pandas.util.testing import assert_frame_equal\n",
            "Using TensorFlow backend.\n"
          ],
          "name": "stderr"
        }
      ]
    },
    {
      "cell_type": "markdown",
      "metadata": {
        "colab_type": "text",
        "id": "yHHY9g9hObTw"
      },
      "source": [
        "## Data prep"
      ]
    },
    {
      "cell_type": "markdown",
      "metadata": {
        "colab_type": "text",
        "id": "_T2gT-IgObT2"
      },
      "source": [
        "Works on Yahoo based data. (Doesnt contain Indian stock values) "
      ]
    },
    {
      "cell_type": "code",
      "metadata": {
        "colab_type": "code",
        "id": "O6xbDvInObUO",
        "colab": {}
      },
      "source": [
        "ticker = 'AMZN'  #amazon  start=   end = current date"
      ],
      "execution_count": 0,
      "outputs": []
    },
    {
      "cell_type": "code",
      "metadata": {
        "colab_type": "code",
        "id": "ciN6kpMsObT6",
        "colab": {}
      },
      "source": [
        "ticker = 'TSLA'  #Tesla start=   end = current date"
      ],
      "execution_count": 0,
      "outputs": []
    },
    {
      "cell_type": "code",
      "metadata": {
        "colab_type": "code",
        "id": "iIpMmvfdObUs",
        "colab": {}
      },
      "source": [
        "ticker = 'UBER'  #Uber start=   end = current date"
      ],
      "execution_count": 0,
      "outputs": []
    },
    {
      "cell_type": "code",
      "metadata": {
        "colab_type": "code",
        "id": "bZVF-_oVObU-",
        "colab": {}
      },
      "source": [
        "ticker = 'TSLA'  #Tesla start=   end = current date"
      ],
      "execution_count": 0,
      "outputs": []
    },
    {
      "cell_type": "markdown",
      "metadata": {
        "colab_type": "text",
        "id": "xACXUNdXObVR"
      },
      "source": [
        "Change start and end date for collection, as per Company.  (Start date cant be before the company was founded.)\n",
        "\n",
        "Different approaches can be used for Date collection - \n",
        "\n",
        "\n",
        "1.   Pretrain on 20+ year dataset, finetune for local\n",
        "2.   Event specific timings - As in 2020, covid may lead to a new stock trading pattern.\n",
        "\n"
      ]
    },
    {
      "cell_type": "code",
      "metadata": {
        "id": "VnjvByqHIn3g",
        "colab_type": "code",
        "outputId": "6a35373f-dcab-46fb-fa99-852c3633eacb",
        "colab": {
          "base_uri": "https://localhost:8080/",
          "height": 455
        }
      },
      "source": [
        "#Get stock quote - we import just the opening and closing Prices of stock, over 20 years duration\n",
        "\n",
        "df=web.DataReader(ticker, data_source='yahoo', start='2015-01-01', end='2020-05-24')    #YYYY-MM-DD\n",
        "df"
      ],
      "execution_count": 4,
      "outputs": [
        {
          "output_type": "execute_result",
          "data": {
            "text/html": [
              "<div>\n",
              "<style scoped>\n",
              "    .dataframe tbody tr th:only-of-type {\n",
              "        vertical-align: middle;\n",
              "    }\n",
              "\n",
              "    .dataframe tbody tr th {\n",
              "        vertical-align: top;\n",
              "    }\n",
              "\n",
              "    .dataframe thead th {\n",
              "        text-align: right;\n",
              "    }\n",
              "</style>\n",
              "<table border=\"1\" class=\"dataframe\">\n",
              "  <thead>\n",
              "    <tr style=\"text-align: right;\">\n",
              "      <th></th>\n",
              "      <th>High</th>\n",
              "      <th>Low</th>\n",
              "      <th>Open</th>\n",
              "      <th>Close</th>\n",
              "      <th>Volume</th>\n",
              "      <th>Adj Close</th>\n",
              "    </tr>\n",
              "    <tr>\n",
              "      <th>Date</th>\n",
              "      <th></th>\n",
              "      <th></th>\n",
              "      <th></th>\n",
              "      <th></th>\n",
              "      <th></th>\n",
              "      <th></th>\n",
              "    </tr>\n",
              "  </thead>\n",
              "  <tbody>\n",
              "    <tr>\n",
              "      <th>2015-01-02</th>\n",
              "      <td>223.250000</td>\n",
              "      <td>213.259995</td>\n",
              "      <td>222.869995</td>\n",
              "      <td>219.309998</td>\n",
              "      <td>4764400</td>\n",
              "      <td>219.309998</td>\n",
              "    </tr>\n",
              "    <tr>\n",
              "      <th>2015-01-05</th>\n",
              "      <td>216.500000</td>\n",
              "      <td>207.160004</td>\n",
              "      <td>214.550003</td>\n",
              "      <td>210.089996</td>\n",
              "      <td>5368500</td>\n",
              "      <td>210.089996</td>\n",
              "    </tr>\n",
              "    <tr>\n",
              "      <th>2015-01-06</th>\n",
              "      <td>214.199997</td>\n",
              "      <td>204.210007</td>\n",
              "      <td>210.059998</td>\n",
              "      <td>211.279999</td>\n",
              "      <td>6261900</td>\n",
              "      <td>211.279999</td>\n",
              "    </tr>\n",
              "    <tr>\n",
              "      <th>2015-01-07</th>\n",
              "      <td>214.779999</td>\n",
              "      <td>209.779999</td>\n",
              "      <td>213.350006</td>\n",
              "      <td>210.949997</td>\n",
              "      <td>2968400</td>\n",
              "      <td>210.949997</td>\n",
              "    </tr>\n",
              "    <tr>\n",
              "      <th>2015-01-08</th>\n",
              "      <td>213.800003</td>\n",
              "      <td>210.009995</td>\n",
              "      <td>212.809998</td>\n",
              "      <td>210.619995</td>\n",
              "      <td>3442500</td>\n",
              "      <td>210.619995</td>\n",
              "    </tr>\n",
              "    <tr>\n",
              "      <th>...</th>\n",
              "      <td>...</td>\n",
              "      <td>...</td>\n",
              "      <td>...</td>\n",
              "      <td>...</td>\n",
              "      <td>...</td>\n",
              "      <td>...</td>\n",
              "    </tr>\n",
              "    <tr>\n",
              "      <th>2020-05-18</th>\n",
              "      <td>834.719971</td>\n",
              "      <td>803.880005</td>\n",
              "      <td>827.780029</td>\n",
              "      <td>813.630005</td>\n",
              "      <td>11698100</td>\n",
              "      <td>813.630005</td>\n",
              "    </tr>\n",
              "    <tr>\n",
              "      <th>2020-05-19</th>\n",
              "      <td>822.070007</td>\n",
              "      <td>806.080017</td>\n",
              "      <td>815.169983</td>\n",
              "      <td>808.010010</td>\n",
              "      <td>9636500</td>\n",
              "      <td>808.010010</td>\n",
              "    </tr>\n",
              "    <tr>\n",
              "      <th>2020-05-20</th>\n",
              "      <td>826.000000</td>\n",
              "      <td>811.799988</td>\n",
              "      <td>820.500000</td>\n",
              "      <td>815.559998</td>\n",
              "      <td>7309300</td>\n",
              "      <td>815.559998</td>\n",
              "    </tr>\n",
              "    <tr>\n",
              "      <th>2020-05-21</th>\n",
              "      <td>832.500000</td>\n",
              "      <td>796.000000</td>\n",
              "      <td>816.000000</td>\n",
              "      <td>827.599976</td>\n",
              "      <td>12254600</td>\n",
              "      <td>827.599976</td>\n",
              "    </tr>\n",
              "    <tr>\n",
              "      <th>2020-05-22</th>\n",
              "      <td>831.780029</td>\n",
              "      <td>812.000000</td>\n",
              "      <td>822.169983</td>\n",
              "      <td>816.880005</td>\n",
              "      <td>9987500</td>\n",
              "      <td>816.880005</td>\n",
              "    </tr>\n",
              "  </tbody>\n",
              "</table>\n",
              "<p>1357 rows × 6 columns</p>\n",
              "</div>"
            ],
            "text/plain": [
              "                  High         Low  ...    Volume   Adj Close\n",
              "Date                                ...                      \n",
              "2015-01-02  223.250000  213.259995  ...   4764400  219.309998\n",
              "2015-01-05  216.500000  207.160004  ...   5368500  210.089996\n",
              "2015-01-06  214.199997  204.210007  ...   6261900  211.279999\n",
              "2015-01-07  214.779999  209.779999  ...   2968400  210.949997\n",
              "2015-01-08  213.800003  210.009995  ...   3442500  210.619995\n",
              "...                ...         ...  ...       ...         ...\n",
              "2020-05-18  834.719971  803.880005  ...  11698100  813.630005\n",
              "2020-05-19  822.070007  806.080017  ...   9636500  808.010010\n",
              "2020-05-20  826.000000  811.799988  ...   7309300  815.559998\n",
              "2020-05-21  832.500000  796.000000  ...  12254600  827.599976\n",
              "2020-05-22  831.780029  812.000000  ...   9987500  816.880005\n",
              "\n",
              "[1357 rows x 6 columns]"
            ]
          },
          "metadata": {
            "tags": []
          },
          "execution_count": 4
        }
      ]
    },
    {
      "cell_type": "code",
      "metadata": {
        "id": "NiTAF2f3In4A",
        "colab_type": "code",
        "outputId": "735daa8f-a747-44b6-bbc5-d506f0ac1079",
        "colab": {
          "base_uri": "https://localhost:8080/",
          "height": 34
        }
      },
      "source": [
        "df.shape"
      ],
      "execution_count": 5,
      "outputs": [
        {
          "output_type": "execute_result",
          "data": {
            "text/plain": [
              "(1357, 6)"
            ]
          },
          "metadata": {
            "tags": []
          },
          "execution_count": 5
        }
      ]
    },
    {
      "cell_type": "code",
      "metadata": {
        "id": "BQw5ZLyKYDgB",
        "colab_type": "code",
        "colab": {}
      },
      "source": [
        "#choose plotting style\n",
        "\n",
        "#plt.style.use('fivethirtyeight')\n",
        "plt.style.use('dark_background')\n",
        "#plt.style.use('ggplot')\n",
        "#plt.style.use('seaborn-whitegrid')\n",
        "#plt.style.use('bmh')\n",
        "#plt.style.use('seaborn')"
      ],
      "execution_count": 0,
      "outputs": []
    },
    {
      "cell_type": "code",
      "metadata": {
        "id": "Po2tpyF6In4e",
        "colab_type": "code",
        "outputId": "f905a4a2-e208-4a5a-e09f-823acf142e93",
        "colab": {
          "base_uri": "https://localhost:8080/",
          "height": 521
        }
      },
      "source": [
        "plt.figure(figsize=(16,8))\n",
        "plt.title('Opening Price')\n",
        "plt.plot(df['Open'])\n",
        "plt.xlabel('Date', fontsize=18)\n",
        "plt.ylabel('Open Price USD ($)', fontsize=18)\n",
        "plt.show()"
      ],
      "execution_count": 7,
      "outputs": [
        {
          "output_type": "display_data",
          "data": {
            "image/png": "[encoded data removed]",
            "text/plain": [
              "<Figure size 1152x576 with 1 Axes>"
            ]
          },
          "metadata": {
            "tags": []
          }
        }
      ]
    },
    {
      "cell_type": "code",
      "metadata": {
        "id": "KdEgDzTBIn4-",
        "colab_type": "code",
        "outputId": "511b2b4c-66f4-4b96-8b4f-50644f2a8243",
        "colab": {
          "base_uri": "https://localhost:8080/",
          "height": 34
        }
      },
      "source": [
        "data=df.filter(['Open'])\n",
        "\n",
        "#Convert to np array\n",
        "dataset=data.values\n",
        "\n",
        "#Get the number of rows to train the model on\n",
        "#math.ceil to round up \n",
        "\n",
        "training_data_len = math.ceil(len(dataset)*.8)\n",
        "\n",
        "\n",
        "#print(dataset)\n",
        "training_data_len"
      ],
      "execution_count": 8,
      "outputs": [
        {
          "output_type": "execute_result",
          "data": {
            "text/plain": [
              "1086"
            ]
          },
          "metadata": {
            "tags": []
          },
          "execution_count": 8
        }
      ]
    },
    {
      "cell_type": "code",
      "metadata": {
        "id": "5pp9vHJxIn5a",
        "colab_type": "code",
        "colab": {}
      },
      "source": [
        "#Scale the data\n",
        "\n",
        "scaler = MinMaxScaler(feature_range=(0,1))\n",
        "scaled_data = scaler.fit_transform(dataset)\n",
        "\n"
      ],
      "execution_count": 0,
      "outputs": []
    },
    {
      "cell_type": "code",
      "metadata": {
        "id": "u-TDzVQ7In5s",
        "colab_type": "code",
        "outputId": "cf1bce70-e72d-4a67-fe26-c1f82582bfb9",
        "colab": {
          "base_uri": "https://localhost:8080/",
          "height": 260
        }
      },
      "source": [
        "#Create training dataset\n",
        "#Create scaled training dataset\n",
        "\n",
        "train_data = scaled_data[0:training_data_len,:]\n",
        "\n",
        "#Split the data into x_train and y_train data set\n",
        "\n",
        "x_train=[]\n",
        "y_train=[]\n",
        "\n",
        "for i in range(60, len(train_data)):\n",
        "    x_train.append(train_data[i-60:i,0])\n",
        "    y_train.append(train_data[i,0])\n",
        "    if i<=60:\n",
        "        print(x_train)\n",
        "        print(y_train)\n",
        "        print()"
      ],
      "execution_count": 10,
      "outputs": [
        {
          "output_type": "stream",
          "text": [
            "[array([0.10311322, 0.09246268, 0.08671496, 0.09092655, 0.09023527,\n",
            "       0.08525563, 0.07774136, 0.078087  , 0.05569778, 0.06678358,\n",
            "       0.06193194, 0.0659899 , 0.06045981, 0.06999666, 0.07420823,\n",
            "       0.07617962, 0.07949511, 0.08165851, 0.07520674, 0.07890627,\n",
            "       0.07891906, 0.09076013, 0.0972503 , 0.09928569, 0.10199953,\n",
            "       0.09352518, 0.09630302, 0.08946722, 0.06560588, 0.07754933,\n",
            "       0.08113366, 0.07917508, 0.08023758, 0.08763664, 0.09388361,\n",
            "       0.08316903, 0.08016078, 0.07895747, 0.08266979, 0.07729331,\n",
            "       0.06975344, 0.07287692, 0.07748534, 0.07282573, 0.06665556,\n",
            "       0.05906449, 0.06250798, 0.06583629, 0.05969174, 0.06359609,\n",
            "       0.06798687, 0.06738524, 0.07639724, 0.07057271, 0.07191684,\n",
            "       0.07585959, 0.07162241, 0.06605391, 0.05984536, 0.05572339])]\n",
            "[0.06555466337491336]\n",
            "\n"
          ],
          "name": "stdout"
        }
      ]
    },
    {
      "cell_type": "code",
      "metadata": {
        "id": "nSmeb3afIn6E",
        "colab_type": "code",
        "colab": {}
      },
      "source": [
        "#convert the x_train and y_train to numpy arrays\n",
        "x_train, y_train = np.array(x_train), np.array(y_train)"
      ],
      "execution_count": 0,
      "outputs": []
    },
    {
      "cell_type": "code",
      "metadata": {
        "id": "1oVwfAu4In6a",
        "colab_type": "code",
        "outputId": "dfaba2b9-9167-4204-cfbb-b7cac0c84e04",
        "colab": {
          "base_uri": "https://localhost:8080/",
          "height": 34
        }
      },
      "source": [
        "#Reshape the data into 3 dimensional\n",
        "x_train = np.reshape(x_train, (x_train.shape[0], x_train.shape[1], 1))\n",
        "x_train.shape"
      ],
      "execution_count": 12,
      "outputs": [
        {
          "output_type": "execute_result",
          "data": {
            "text/plain": [
              "(1026, 60, 1)"
            ]
          },
          "metadata": {
            "tags": []
          },
          "execution_count": 12
        }
      ]
    },
    {
      "cell_type": "markdown",
      "metadata": {
        "id": "UNs1SsjiOAAp",
        "colab_type": "text"
      },
      "source": [
        "## Model training "
      ]
    },
    {
      "cell_type": "code",
      "metadata": {
        "id": "Y6RwuEFPIn6_",
        "colab_type": "code",
        "colab": {}
      },
      "source": [
        "#Build LSTM model\n",
        "model=Sequential()\n",
        "#Add first layer to model\n",
        "model.add(LSTM(50, return_sequences=True, input_shape=(x_train.shape[1],1)))\n",
        "#Add second layer to model\n",
        "model.add(LSTM(50, return_sequences=False))\n",
        "#Add Dense Layer to model with 25 neurons\n",
        "model.add(Dense(25))\n",
        "#Add Dense Layer to model with 1 neuron\n",
        "model.add(Dense(1))"
      ],
      "execution_count": 0,
      "outputs": []
    },
    {
      "cell_type": "code",
      "metadata": {
        "id": "ryE2rTOMIn7X",
        "colab_type": "code",
        "colab": {}
      },
      "source": [
        "#Compile the model\n",
        "model.compile(optimizer='adam', loss='mean_squared_error')\n"
      ],
      "execution_count": 0,
      "outputs": []
    },
    {
      "cell_type": "code",
      "metadata": {
        "id": "vmAwD6mUIn7r",
        "colab_type": "code",
        "outputId": "926dad42-42a2-477f-c7b7-102c75d87138",
        "colab": {
          "base_uri": "https://localhost:8080/",
          "height": 139
        }
      },
      "source": [
        "#Train the model\n",
        "model.fit(x_train, y_train, batch_size=1,epochs=3)"
      ],
      "execution_count": 16,
      "outputs": [
        {
          "output_type": "stream",
          "text": [
            "Epoch 1/3\n",
            "1026/1026 [==============================] - 41s 40ms/step - loss: 6.0275e-04\n",
            "Epoch 2/3\n",
            "1026/1026 [==============================] - 39s 38ms/step - loss: 3.1290e-04\n",
            "Epoch 3/3\n",
            "1026/1026 [==============================] - 40s 39ms/step - loss: 2.3827e-04\n"
          ],
          "name": "stdout"
        },
        {
          "output_type": "execute_result",
          "data": {
            "text/plain": [
              "<keras.callbacks.callbacks.History at 0x7f4907abf668>"
            ]
          },
          "metadata": {
            "tags": []
          },
          "execution_count": 16
        }
      ]
    },
    {
      "cell_type": "markdown",
      "metadata": {
        "id": "-__xdsJ_OKUg",
        "colab_type": "text"
      },
      "source": [
        "## Testing and Validating model"
      ]
    },
    {
      "cell_type": "code",
      "metadata": {
        "id": "QlX9uNw3In8R",
        "colab_type": "code",
        "colab": {}
      },
      "source": [
        "#Create the test data set\n",
        "#Create a new array containing scaled values\n",
        "\n",
        "test_data=scaled_data[training_data_len-60: , : ]\n",
        "#Create the data sets x_test and y_test\n",
        "\n",
        "x_test=[]\n",
        "y_test=dataset[training_data_len:,:]\n",
        "for i in range(60, len(test_data)):\n",
        "    x_test.append(test_data[i-60:i,0])\n",
        "    \n"
      ],
      "execution_count": 0,
      "outputs": []
    },
    {
      "cell_type": "code",
      "metadata": {
        "id": "9GWP-0_DIn8z",
        "colab_type": "code",
        "colab": {}
      },
      "source": [
        "#Convert the data to a numpy array\n",
        "\n",
        "x_test=np.array(x_test)\n"
      ],
      "execution_count": 0,
      "outputs": []
    },
    {
      "cell_type": "code",
      "metadata": {
        "id": "0ogsB0ZdIn9J",
        "colab_type": "code",
        "colab": {}
      },
      "source": [
        "#Reshape the data to 3d\n",
        "x_test=np.reshape(x_test,(x_test.shape[0], x_test.shape[1], 1))\n"
      ],
      "execution_count": 0,
      "outputs": []
    },
    {
      "cell_type": "code",
      "metadata": {
        "id": "Yud6qyU6In9Z",
        "colab_type": "code",
        "colab": {}
      },
      "source": [
        "#Get the models predicted price values\n",
        "\n",
        "predictions=model.predict(x_test)\n",
        "predictions=scaler.inverse_transform(predictions)\n"
      ],
      "execution_count": 0,
      "outputs": []
    },
    {
      "cell_type": "code",
      "metadata": {
        "id": "2mlIpi4VIn9z",
        "colab_type": "code",
        "outputId": "087adb1a-c595-4a3f-f7f1-9f213eaa5ff5",
        "colab": {
          "base_uri": "https://localhost:8080/",
          "height": 34
        }
      },
      "source": [
        "#Get root mean squared error(RMSE)\n",
        "\n",
        "rmse =np.sqrt(np.mean(predictions-y_test)**2)\n",
        "rmse\n",
        "\n"
      ],
      "execution_count": 21,
      "outputs": [
        {
          "output_type": "execute_result",
          "data": {
            "text/plain": [
              "13.30443784143652"
            ]
          },
          "metadata": {
            "tags": []
          },
          "execution_count": 21
        }
      ]
    },
    {
      "cell_type": "code",
      "metadata": {
        "id": "yBbVWNWSaGgT",
        "colab_type": "code",
        "colab": {}
      },
      "source": [
        "#choose plotting style\n",
        "\n",
        "#plt.style.use('fivethirtyeight')\n",
        "plt.style.use('dark_background')\n",
        "#plt.style.use('ggplot')\n",
        "#plt.style.use('seaborn-whitegrid')\n",
        "#plt.style.use('bmh')\n",
        "#plt.style.use('seaborn')"
      ],
      "execution_count": 0,
      "outputs": []
    },
    {
      "cell_type": "code",
      "metadata": {
        "scrolled": true,
        "id": "dpG0ZTlAIn-G",
        "colab_type": "code",
        "outputId": "1e575ed9-e2a2-4051-9321-3a96277ddbbf",
        "colab": {
          "base_uri": "https://localhost:8080/",
          "height": 625
        }
      },
      "source": [
        "#plot the data\n",
        "\n",
        "train=data[:training_data_len]\n",
        "valid=data[training_data_len:]\n",
        "valid['predictions'] = predictions\n",
        "\n",
        "#Visualize the data\n",
        "plt.figure(figsize=(16,8))\n",
        "plt.title('TESLA company - Model prediciton comparison')\n",
        "plt.xlabel('Date', fontsize=18)\n",
        "plt.ylabel('Open Price USD($)', fontsize=18)\n",
        "plt.plot(train['Open'] , color='red')\n",
        "plt.plot(valid['Open'] , color='yellow')\n",
        "plt.plot(valid[ 'predictions'] , color='green')\n",
        "plt.legend(['Train','Validation', 'predictions'], loc='lower right')\n",
        "plt.savefig('/content/prediction.png')\n",
        "plt.show()\n"
      ],
      "execution_count": 29,
      "outputs": [
        {
          "output_type": "stream",
          "text": [
            "/usr/local/lib/python3.6/dist-packages/ipykernel_launcher.py:5: SettingWithCopyWarning: \n",
            "A value is trying to be set on a copy of a slice from a DataFrame.\n",
            "Try using .loc[row_indexer,col_indexer] = value instead\n",
            "\n",
            "See the caveats in the documentation: https://pandas.pydata.org/pandas-docs/stable/user_guide/indexing.html#returning-a-view-versus-a-copy\n",
            "  \"\"\"\n"
          ],
          "name": "stderr"
        },
        {
          "output_type": "display_data",
          "data": {
            "image/png": "[encoded data removed]",
            "text/plain": [
              "<Figure size 1152x576 with 1 Axes>"
            ]
          },
          "metadata": {
            "tags": []
          }
        }
      ]
    },
    {
      "cell_type": "code",
      "metadata": {
        "id": "9IZAwTwYIn-Y",
        "colab_type": "code",
        "outputId": "c6ce6c44-c6ec-447a-ef40-e06f237c6a3e",
        "colab": {
          "base_uri": "https://localhost:8080/",
          "height": 551
        }
      },
      "source": [
        "#Show the valid and predicted prices\n",
        "\n",
        "valid.tail(15)"
      ],
      "execution_count": 24,
      "outputs": [
        {
          "output_type": "execute_result",
          "data": {
            "text/html": [
              "<div>\n",
              "<style scoped>\n",
              "    .dataframe tbody tr th:only-of-type {\n",
              "        vertical-align: middle;\n",
              "    }\n",
              "\n",
              "    .dataframe tbody tr th {\n",
              "        vertical-align: top;\n",
              "    }\n",
              "\n",
              "    .dataframe thead th {\n",
              "        text-align: right;\n",
              "    }\n",
              "</style>\n",
              "<table border=\"1\" class=\"dataframe\">\n",
              "  <thead>\n",
              "    <tr style=\"text-align: right;\">\n",
              "      <th></th>\n",
              "      <th>Open</th>\n",
              "      <th>predictions</th>\n",
              "    </tr>\n",
              "    <tr>\n",
              "      <th>Date</th>\n",
              "      <th></th>\n",
              "      <th></th>\n",
              "    </tr>\n",
              "  </thead>\n",
              "  <tbody>\n",
              "    <tr>\n",
              "      <th>2020-05-04</th>\n",
              "      <td>701.000000</td>\n",
              "      <td>709.715271</td>\n",
              "    </tr>\n",
              "    <tr>\n",
              "      <th>2020-05-05</th>\n",
              "      <td>789.789978</td>\n",
              "      <td>645.539734</td>\n",
              "    </tr>\n",
              "    <tr>\n",
              "      <th>2020-05-06</th>\n",
              "      <td>776.500000</td>\n",
              "      <td>747.885864</td>\n",
              "    </tr>\n",
              "    <tr>\n",
              "      <th>2020-05-07</th>\n",
              "      <td>777.210022</td>\n",
              "      <td>751.892517</td>\n",
              "    </tr>\n",
              "    <tr>\n",
              "      <th>2020-05-08</th>\n",
              "      <td>793.770020</td>\n",
              "      <td>745.990112</td>\n",
              "    </tr>\n",
              "    <tr>\n",
              "      <th>2020-05-11</th>\n",
              "      <td>790.510010</td>\n",
              "      <td>761.072388</td>\n",
              "    </tr>\n",
              "    <tr>\n",
              "      <th>2020-05-12</th>\n",
              "      <td>827.000000</td>\n",
              "      <td>757.015015</td>\n",
              "    </tr>\n",
              "    <tr>\n",
              "      <th>2020-05-13</th>\n",
              "      <td>820.830017</td>\n",
              "      <td>793.543884</td>\n",
              "    </tr>\n",
              "    <tr>\n",
              "      <th>2020-05-14</th>\n",
              "      <td>780.000000</td>\n",
              "      <td>785.950439</td>\n",
              "    </tr>\n",
              "    <tr>\n",
              "      <th>2020-05-15</th>\n",
              "      <td>790.349976</td>\n",
              "      <td>736.630920</td>\n",
              "    </tr>\n",
              "    <tr>\n",
              "      <th>2020-05-18</th>\n",
              "      <td>827.780029</td>\n",
              "      <td>747.387878</td>\n",
              "    </tr>\n",
              "    <tr>\n",
              "      <th>2020-05-19</th>\n",
              "      <td>815.169983</td>\n",
              "      <td>794.438538</td>\n",
              "    </tr>\n",
              "    <tr>\n",
              "      <th>2020-05-20</th>\n",
              "      <td>820.500000</td>\n",
              "      <td>782.134766</td>\n",
              "    </tr>\n",
              "    <tr>\n",
              "      <th>2020-05-21</th>\n",
              "      <td>816.000000</td>\n",
              "      <td>782.492676</td>\n",
              "    </tr>\n",
              "    <tr>\n",
              "      <th>2020-05-22</th>\n",
              "      <td>822.169983</td>\n",
              "      <td>777.112793</td>\n",
              "    </tr>\n",
              "  </tbody>\n",
              "</table>\n",
              "</div>"
            ],
            "text/plain": [
              "                  Open  predictions\n",
              "Date                               \n",
              "2020-05-04  701.000000   709.715271\n",
              "2020-05-05  789.789978   645.539734\n",
              "2020-05-06  776.500000   747.885864\n",
              "2020-05-07  777.210022   751.892517\n",
              "2020-05-08  793.770020   745.990112\n",
              "2020-05-11  790.510010   761.072388\n",
              "2020-05-12  827.000000   757.015015\n",
              "2020-05-13  820.830017   793.543884\n",
              "2020-05-14  780.000000   785.950439\n",
              "2020-05-15  790.349976   736.630920\n",
              "2020-05-18  827.780029   747.387878\n",
              "2020-05-19  815.169983   794.438538\n",
              "2020-05-20  820.500000   782.134766\n",
              "2020-05-21  816.000000   782.492676\n",
              "2020-05-22  822.169983   777.112793"
            ]
          },
          "metadata": {
            "tags": []
          },
          "execution_count": 24
        }
      ]
    },
    {
      "cell_type": "markdown",
      "metadata": {
        "id": "EwVZro2_OFLH",
        "colab_type": "text"
      },
      "source": [
        "# Getting predicitions - for tomorrow"
      ]
    },
    {
      "cell_type": "code",
      "metadata": {
        "id": "GXS4uLtRIn-s",
        "colab_type": "code",
        "outputId": "ffc0d544-710f-4145-fee1-c40a39f5fa62",
        "colab": {
          "base_uri": "https://localhost:8080/",
          "height": 34
        }
      },
      "source": [
        "#Get the quote\n",
        "stock_quote = web.DataReader(ticker, data_source='yahoo', start='2012-01-01', end='2020-05-24')\n",
        "\n",
        "new_df=stock_quote.filter(['Open'])\n",
        "#Get last 60 days values and convert into array\n",
        "last_60_days=new_df[-60:].values\n",
        "\n",
        "#Scale the data to be values between 0\n",
        "last_60_days_scaled=scaler.transform(last_60_days)\n",
        "\n",
        "#Create an empty list\n",
        "X_test=[]\n",
        "#Appemd the past 60days\n",
        "X_test.append(last_60_days_scaled)\n",
        "\n",
        "#Conver the X_test data into numpy array\n",
        "X_test = np.array(X_test)\n",
        "\n",
        "#Reshape the data\n",
        "X_test = np.reshape(X_test, (X_test.shape[0], X_test.shape[1],1))\n",
        "#Get predicted scaled price\n",
        "pred_price = model.predict(X_test)\n",
        "#undo the scaling\n",
        "pred_price=scaler.inverse_transform(pred_price)\n",
        "print(f'Opening Price of {ticker} tomorrow:{pred_price}')"
      ],
      "execution_count": 25,
      "outputs": [
        {
          "output_type": "stream",
          "text": [
            "Opening Price of TSLA tomorrow:[[783.4997]]\n"
          ],
          "name": "stdout"
        }
      ]
    },
    {
      "cell_type": "markdown",
      "metadata": {
        "id": "RfFPY58dPFDp",
        "colab_type": "text"
      },
      "source": [
        "## Getting predicitions for 2 months from now ?"
      ]
    },
    {
      "cell_type": "code",
      "metadata": {
        "id": "dCzyvO2LO5cI",
        "colab_type": "code",
        "colab": {
          "base_uri": "https://localhost:8080/",
          "height": 0
        },
        "outputId": "07bd8802-4448-409f-88f1-edb5ceb62085"
      },
      "source": [
        "#Get the quote\n",
        "stock_quote = web.DataReader(ticker, data_source='yahoo', start='2012-01-01', end='2020-05-24')\n",
        "\n",
        "new_df=stock_quote.filter(['Open'])\n",
        "#Get last 60 days values and convert into array\n",
        "last_60_days=new_df[-60:].values\n",
        "\n",
        "#Scale the data to be values between 0\n",
        "last_60_days_scaled=scaler.transform(last_60_days)\n",
        "\n",
        "#Create an empty list\n",
        "X_test=[]\n",
        "#Appemd the past 60days\n",
        "X_test.append(last_60_days_scaled)\n",
        "\n",
        "#Conver the X_test data into numpy array\n",
        "X_test = np.array(X_test)\n",
        "\n",
        "#Reshape the data\n",
        "X_test = np.reshape(X_test, (X_test.shape[0], X_test.shape[1],1))\n",
        "#Get predicted scaled price\n",
        "pred_price = model.predict(X_test)\n",
        "#undo the scaling\n",
        "pred_price=scaler.inverse_transform(pred_price)\n",
        "print(f'Opening Price of {ticker} tomorrow:{pred_price}')"
      ],
      "execution_count": 26,
      "outputs": [
        {
          "output_type": "stream",
          "text": [
            "Opening Price of TSLA tomorrow:[[783.4997]]\n"
          ],
          "name": "stdout"
        }
      ]
    }
  ]
}