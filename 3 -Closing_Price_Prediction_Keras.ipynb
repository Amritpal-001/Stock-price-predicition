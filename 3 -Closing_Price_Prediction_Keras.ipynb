{
  "nbformat": 4,
  "nbformat_minor": 0,
  "metadata": {
    "kernelspec": {
      "display_name": "Python 3",
      "language": "python",
      "name": "python3"
    },
    "language_info": {
      "codemirror_mode": {
        "name": "ipython",
        "version": 3
      },
      "file_extension": ".py",
      "mimetype": "text/x-python",
      "name": "python",
      "nbconvert_exporter": "python",
      "pygments_lexer": "ipython3",
      "version": "3.6.10-final"
    },
    "colab": {
      "name": "Closing_Price_Prediction- Keras.ipynb",
      "provenance": [],
      "collapsed_sections": [
        "RfFPY58dPFDp"
      ]
    }
  },
  "cells": [
    {
      "cell_type": "markdown",
      "metadata": {
        "id": "esCkMaP7JXew",
        "colab_type": "text"
      },
      "source": [
        "# Long Short Term Memory(LSTM) based - Stock predicition - - # CPU based\n",
        "\n",
        "\n",
        "Aim -to predict the Closing_Price_Prediction using past 60 day stock price."
      ]
    },
    {
      "cell_type": "code",
      "metadata": {
        "id": "KdEgDzTBIn4-",
        "colab_type": "code",
        "outputId": "08f0e6ec-10ce-4eed-85ab-8ff8c6ae4a2f",
        "colab": {
          "base_uri": "https://localhost:8080/",
          "height": 34
        }
      },
      "source": [
        "data=df.filter(['Open'])\n",
        "\n",
        "#Convert to np array\n",
        "dataset=data.values\n",
        "\n",
        "#Get the number of rows to train the model on\n",
        "#math.ceil to round up \n",
        "\n",
        "training_data_len = math.ceil(len(dataset)*.8)\n",
        "\n",
        "\n",
        "#print(dataset)\n",
        "training_data_len"
      ],
      "execution_count": 0,
      "outputs": [
        {
          "output_type": "execute_result",
          "data": {
            "text/plain": [
              "3704"
            ]
          },
          "metadata": {
            "tags": []
          },
          "execution_count": 8
        }
      ]
    },
    {
      "cell_type": "code",
      "metadata": {
        "id": "dwSlgPvaIn2D",
        "colab_type": "code",
        "outputId": "6e52e8be-c05d-40a5-a54e-7c28a80327b1",
        "colab": {
          "base_uri": "https://localhost:8080/",
          "height": 89
        }
      },
      "source": [
        "import math\n",
        "import numpy as np\n",
        "import pandas as pd\n",
        "import pandas_datareader as web\n",
        "#from sklearn.tree import DecisionTreeRegressor\n",
        "#from sklearn.linear_model import LinearRegression\n",
        "#from sklearn.model_selection import train_test_split\n",
        "from sklearn.preprocessing import MinMaxScaler\n",
        "from keras.models import Sequential\n",
        "from keras.layers import Dense, LSTM\n",
        "import matplotlib.pyplot as plt\n",
        "\n",
        "#plt.style.use('fivethirtyeight')\n",
        "#plt.style.use('fivethirtyeight')\n",
        "plt.style.use('seaborn')\n"
      ],
      "execution_count": 1,
      "outputs": [
        {
          "output_type": "stream",
          "text": [
            "/usr/local/lib/python3.6/dist-packages/pandas_datareader/compat/__init__.py:7: FutureWarning: pandas.util.testing is deprecated. Use the functions in the public API at pandas.testing instead.\n",
            "  from pandas.util.testing import assert_frame_equal\n",
            "Using TensorFlow backend.\n"
          ],
          "name": "stderr"
        }
      ]
    },
    {
      "cell_type": "markdown",
      "metadata": {
        "colab_type": "text",
        "id": "yHHY9g9hObTw"
      },
      "source": [
        "## Data prep"
      ]
    },
    {
      "cell_type": "markdown",
      "metadata": {
        "colab_type": "text",
        "id": "_T2gT-IgObT2"
      },
      "source": [
        "Works on Yahoo based data. (Doesnt contain Indian stock values) "
      ]
    },
    {
      "cell_type": "code",
      "metadata": {
        "colab_type": "code",
        "id": "O6xbDvInObUO",
        "colab": {}
      },
      "source": [
        "ticker = 'AMZN'  #amazon  start=   end = current date"
      ],
      "execution_count": 0,
      "outputs": []
    },
    {
      "cell_type": "code",
      "metadata": {
        "colab_type": "code",
        "id": "ciN6kpMsObT6",
        "colab": {}
      },
      "source": [
        "ticker = 'TSLA'  #Tesla start=   end = current date"
      ],
      "execution_count": 0,
      "outputs": []
    },
    {
      "cell_type": "code",
      "metadata": {
        "colab_type": "code",
        "id": "iIpMmvfdObUs",
        "colab": {}
      },
      "source": [
        "ticker = 'UBER'  #Uber start=   end = current date"
      ],
      "execution_count": 0,
      "outputs": []
    },
    {
      "cell_type": "code",
      "metadata": {
        "colab_type": "code",
        "id": "bZVF-_oVObU-",
        "colab": {}
      },
      "source": [
        "ticker = 'TSLA'  #Tesla start=   end = current date"
      ],
      "execution_count": 0,
      "outputs": []
    },
    {
      "cell_type": "markdown",
      "metadata": {
        "colab_type": "text",
        "id": "xACXUNdXObVR"
      },
      "source": [
        "Change start and end date for collection, as per Company.  (Start date cant be before the company was founded.)\n",
        "\n",
        "Different approaches can be used for Date collection - \n",
        "\n",
        "\n",
        "1.   Pretrain on 20+ year dataset, finetune for local\n",
        "2.   Event specific timings - As in 2020, covid may lead to a new stock trading pattern.\n",
        "\n"
      ]
    },
    {
      "cell_type": "code",
      "metadata": {
        "id": "VnjvByqHIn3g",
        "colab_type": "code",
        "outputId": "249e16d6-f942-431e-f573-0d0f6978e13d",
        "colab": {
          "base_uri": "https://localhost:8080/",
          "height": 455
        }
      },
      "source": [
        "#Get stock quote - we import just the opening and closing Prices of stock, over 20 years duration\n",
        "\n",
        "df=web.DataReader(ticker, data_source='yahoo', start='2012-01-01', end='2020-05-24')    #YYYY-MM-DD\n",
        "df"
      ],
      "execution_count": 6,
      "outputs": [
        {
          "output_type": "execute_result",
          "data": {
            "text/html": [
              "<div>\n",
              "<style scoped>\n",
              "    .dataframe tbody tr th:only-of-type {\n",
              "        vertical-align: middle;\n",
              "    }\n",
              "\n",
              "    .dataframe tbody tr th {\n",
              "        vertical-align: top;\n",
              "    }\n",
              "\n",
              "    .dataframe thead th {\n",
              "        text-align: right;\n",
              "    }\n",
              "</style>\n",
              "<table border=\"1\" class=\"dataframe\">\n",
              "  <thead>\n",
              "    <tr style=\"text-align: right;\">\n",
              "      <th></th>\n",
              "      <th>High</th>\n",
              "      <th>Low</th>\n",
              "      <th>Open</th>\n",
              "      <th>Close</th>\n",
              "      <th>Volume</th>\n",
              "      <th>Adj Close</th>\n",
              "    </tr>\n",
              "    <tr>\n",
              "      <th>Date</th>\n",
              "      <th></th>\n",
              "      <th></th>\n",
              "      <th></th>\n",
              "      <th></th>\n",
              "      <th></th>\n",
              "      <th></th>\n",
              "    </tr>\n",
              "  </thead>\n",
              "  <tbody>\n",
              "    <tr>\n",
              "      <th>2012-01-03</th>\n",
              "      <td>179.479996</td>\n",
              "      <td>175.550003</td>\n",
              "      <td>175.889999</td>\n",
              "      <td>179.029999</td>\n",
              "      <td>5110800</td>\n",
              "      <td>179.029999</td>\n",
              "    </tr>\n",
              "    <tr>\n",
              "      <th>2012-01-04</th>\n",
              "      <td>180.500000</td>\n",
              "      <td>176.070007</td>\n",
              "      <td>179.210007</td>\n",
              "      <td>177.509995</td>\n",
              "      <td>4205200</td>\n",
              "      <td>177.509995</td>\n",
              "    </tr>\n",
              "    <tr>\n",
              "      <th>2012-01-05</th>\n",
              "      <td>178.250000</td>\n",
              "      <td>174.050003</td>\n",
              "      <td>175.940002</td>\n",
              "      <td>177.610001</td>\n",
              "      <td>3809100</td>\n",
              "      <td>177.610001</td>\n",
              "    </tr>\n",
              "    <tr>\n",
              "      <th>2012-01-06</th>\n",
              "      <td>184.649994</td>\n",
              "      <td>177.500000</td>\n",
              "      <td>178.070007</td>\n",
              "      <td>182.610001</td>\n",
              "      <td>7008400</td>\n",
              "      <td>182.610001</td>\n",
              "    </tr>\n",
              "    <tr>\n",
              "      <th>2012-01-09</th>\n",
              "      <td>184.369995</td>\n",
              "      <td>177.000000</td>\n",
              "      <td>182.759995</td>\n",
              "      <td>178.559998</td>\n",
              "      <td>5056900</td>\n",
              "      <td>178.559998</td>\n",
              "    </tr>\n",
              "    <tr>\n",
              "      <th>...</th>\n",
              "      <td>...</td>\n",
              "      <td>...</td>\n",
              "      <td>...</td>\n",
              "      <td>...</td>\n",
              "      <td>...</td>\n",
              "      <td>...</td>\n",
              "    </tr>\n",
              "    <tr>\n",
              "      <th>2020-05-18</th>\n",
              "      <td>2433.000000</td>\n",
              "      <td>2384.010010</td>\n",
              "      <td>2404.350098</td>\n",
              "      <td>2426.260010</td>\n",
              "      <td>4366600</td>\n",
              "      <td>2426.260010</td>\n",
              "    </tr>\n",
              "    <tr>\n",
              "      <th>2020-05-19</th>\n",
              "      <td>2485.000000</td>\n",
              "      <td>2428.969971</td>\n",
              "      <td>2429.830078</td>\n",
              "      <td>2449.330078</td>\n",
              "      <td>4320500</td>\n",
              "      <td>2449.330078</td>\n",
              "    </tr>\n",
              "    <tr>\n",
              "      <th>2020-05-20</th>\n",
              "      <td>2500.010010</td>\n",
              "      <td>2467.270020</td>\n",
              "      <td>2477.870117</td>\n",
              "      <td>2497.939941</td>\n",
              "      <td>3998100</td>\n",
              "      <td>2497.939941</td>\n",
              "    </tr>\n",
              "    <tr>\n",
              "      <th>2020-05-21</th>\n",
              "      <td>2525.449951</td>\n",
              "      <td>2442.540039</td>\n",
              "      <td>2500.000000</td>\n",
              "      <td>2446.739990</td>\n",
              "      <td>5114400</td>\n",
              "      <td>2446.739990</td>\n",
              "    </tr>\n",
              "    <tr>\n",
              "      <th>2020-05-22</th>\n",
              "      <td>2469.850098</td>\n",
              "      <td>2430.129883</td>\n",
              "      <td>2455.010010</td>\n",
              "      <td>2436.879883</td>\n",
              "      <td>2867100</td>\n",
              "      <td>2436.879883</td>\n",
              "    </tr>\n",
              "  </tbody>\n",
              "</table>\n",
              "<p>2111 rows × 6 columns</p>\n",
              "</div>"
            ],
            "text/plain": [
              "                   High          Low  ...   Volume    Adj Close\n",
              "Date                                  ...                      \n",
              "2012-01-03   179.479996   175.550003  ...  5110800   179.029999\n",
              "2012-01-04   180.500000   176.070007  ...  4205200   177.509995\n",
              "2012-01-05   178.250000   174.050003  ...  3809100   177.610001\n",
              "2012-01-06   184.649994   177.500000  ...  7008400   182.610001\n",
              "2012-01-09   184.369995   177.000000  ...  5056900   178.559998\n",
              "...                 ...          ...  ...      ...          ...\n",
              "2020-05-18  2433.000000  2384.010010  ...  4366600  2426.260010\n",
              "2020-05-19  2485.000000  2428.969971  ...  4320500  2449.330078\n",
              "2020-05-20  2500.010010  2467.270020  ...  3998100  2497.939941\n",
              "2020-05-21  2525.449951  2442.540039  ...  5114400  2446.739990\n",
              "2020-05-22  2469.850098  2430.129883  ...  2867100  2436.879883\n",
              "\n",
              "[2111 rows x 6 columns]"
            ]
          },
          "metadata": {
            "tags": []
          },
          "execution_count": 6
        }
      ]
    },
    {
      "cell_type": "code",
      "metadata": {
        "id": "NiTAF2f3In4A",
        "colab_type": "code",
        "outputId": "c0a606e8-9eb9-4cc4-b168-3adb706e1399",
        "colab": {
          "base_uri": "https://localhost:8080/",
          "height": 34
        }
      },
      "source": [
        "df.shape"
      ],
      "execution_count": 0,
      "outputs": [
        {
          "output_type": "execute_result",
          "data": {
            "text/plain": [
              "(4630, 6)"
            ]
          },
          "metadata": {
            "tags": []
          },
          "execution_count": 6
        }
      ]
    },
    {
      "cell_type": "code",
      "metadata": {
        "id": "BQw5ZLyKYDgB",
        "colab_type": "code",
        "colab": {}
      },
      "source": [
        "#choose plotting style\n",
        "\n",
        "#plt.style.use('fivethirtyeight')\n",
        "plt.style.use('dark_background')\n",
        "#plt.style.use('ggplot')\n",
        "#plt.style.use('seaborn-whitegrid')\n",
        "#plt.style.use('bmh')\n",
        "#plt.style.use('seaborn')"
      ],
      "execution_count": 0,
      "outputs": []
    },
    {
      "cell_type": "code",
      "metadata": {
        "id": "AFGqYo-IUspD",
        "colab_type": "code",
        "outputId": "f859450f-8f21-4596-db5f-48ea6a80ff5a",
        "colab": {
          "base_uri": "https://localhost:8080/",
          "height": 521
        }
      },
      "source": [
        "plt.figure(figsize=(16,8))\n",
        "plt.title('Closing Price')\n",
        "plt.plot(df['Close'])\n",
        "plt.xlabel('Date', fontsize=18)\n",
        "plt.ylabel('Close Price USD ($)', fontsize=18)\n",
        "plt.show()"
      ],
      "execution_count": 19,
      "outputs": [
        {
          "output_type": "display_data",
          "data": {
            "image/png": "[encoded data removed]",
            "text/plain": [
              "<Figure size 1152x576 with 1 Axes>"
            ]
          },
          "metadata": {
            "tags": []
          }
        }
      ]
    },
    {
      "cell_type": "code",
      "metadata": {
        "id": "dqyNcMhNUspe",
        "colab_type": "code",
        "outputId": "024a59a1-d91e-48b9-a0b0-43d6e3c2357f",
        "colab": {
          "base_uri": "https://localhost:8080/",
          "height": 34
        }
      },
      "source": [
        "data=df.filter(['Close'])\n",
        "\n",
        "#Convert to np array\n",
        "dataset=data.values\n",
        "\n",
        "#Get the number of rows to train the model on\n",
        "#math.ceil to round up \n",
        "\n",
        "training_data_len = math.ceil(len(dataset)*.8)\n",
        "\n",
        "\n",
        "#print(dataset)\n",
        "training_data_len"
      ],
      "execution_count": 20,
      "outputs": [
        {
          "output_type": "execute_result",
          "data": {
            "text/plain": [
              "1689"
            ]
          },
          "metadata": {
            "tags": []
          },
          "execution_count": 20
        }
      ]
    },
    {
      "cell_type": "code",
      "metadata": {
        "id": "k9IvTJCkUsp0",
        "colab_type": "code",
        "outputId": "ca6cc8c1-8e90-4181-a8e6-1809abddf146",
        "colab": {
          "base_uri": "https://localhost:8080/",
          "height": 139
        }
      },
      "source": [
        "#Scale the data\n",
        "\n",
        "scaler = MinMaxScaler(feature_range=(0,1))\n",
        "scaled_data = scaler.fit_transform(dataset)\n",
        "\n",
        "scaled_data"
      ],
      "execution_count": 21,
      "outputs": [
        {
          "output_type": "execute_result",
          "data": {
            "text/plain": [
              "array([[1.33505289e-03],\n",
              "       [6.80445763e-04],\n",
              "       [7.23514529e-04],\n",
              "       ...,\n",
              "       [1.00000000e+00],\n",
              "       [9.77950159e-01],\n",
              "       [9.73703791e-01]])"
            ]
          },
          "metadata": {
            "tags": []
          },
          "execution_count": 21
        }
      ]
    },
    {
      "cell_type": "code",
      "metadata": {
        "id": "1Gs5vf5FUsqI",
        "colab_type": "code",
        "outputId": "33aed46e-eb0d-492e-b132-c9e6eb75cc84",
        "colab": {
          "base_uri": "https://localhost:8080/",
          "height": 260
        }
      },
      "source": [
        "#Create training dataset\n",
        "#Create scaled training dataset\n",
        "\n",
        "train_data = scaled_data[0:training_data_len,:]\n",
        "\n",
        "#Split the data into x_train and y_train data set\n",
        "\n",
        "x_train=[]\n",
        "y_train=[]\n",
        "\n",
        "for i in range(60, len(train_data)):\n",
        "    x_train.append(train_data[i-60:i,0])\n",
        "    y_train.append(train_data[i,0])\n",
        "    if i<=60:\n",
        "        print(x_train)\n",
        "        print(y_train)\n",
        "        print()"
      ],
      "execution_count": 22,
      "outputs": [
        {
          "output_type": "stream",
          "text": [
            "[array([0.00133505, 0.00068045, 0.00072351, 0.00287682, 0.00113264,\n",
            "       0.00146856, 0.00127906, 0.        , 0.00107235, 0.00246769,\n",
            "       0.00581824, 0.00797585, 0.00645992, 0.00437552, 0.00476742,\n",
            "       0.00511196, 0.00748921, 0.00837206, 0.00698533, 0.00797155,\n",
            "       0.00152024, 0.00249353, 0.00506027, 0.00310507, 0.00355727,\n",
            "       0.00411282, 0.00389749, 0.00413866, 0.00674416, 0.00661927,\n",
            "       0.00367785, 0.00172265, 0.00282945, 0.00272609, 0.00200258,\n",
            "       0.00127476, 0.00137812, 0.00111972, 0.00338931, 0.00161929,\n",
            "       0.00177002, 0.00145133, 0.00186476, 0.00222221, 0.00337639,\n",
            "       0.00504305, 0.00361326, 0.00321274, 0.00372953, 0.00272609,\n",
            "       0.00366062, 0.00392764, 0.00413005, 0.00706285, 0.00680445,\n",
            "       0.00709299, 0.00822994, 0.01160202, 0.01270882, 0.01086559])]\n",
            "[0.012351371685659987]\n",
            "\n"
          ],
          "name": "stdout"
        }
      ]
    },
    {
      "cell_type": "code",
      "metadata": {
        "id": "LWJ35ZDCUsqc",
        "colab_type": "code",
        "colab": {}
      },
      "source": [
        "#convert the x_train and y_train to numpy arrays\n",
        "x_train, y_train = np.array(x_train), np.array(y_train)"
      ],
      "execution_count": 0,
      "outputs": []
    },
    {
      "cell_type": "code",
      "metadata": {
        "id": "0sMpmm1oUsqx",
        "colab_type": "code",
        "outputId": "bcae4586-550f-453e-9632-3d4b2a7a9849",
        "colab": {
          "base_uri": "https://localhost:8080/",
          "height": 34
        }
      },
      "source": [
        "#Reshape the data into 3 dimensional\n",
        "x_train = np.reshape(x_train, (x_train.shape[0], x_train.shape[1], 1))\n",
        "x_train.shape"
      ],
      "execution_count": 24,
      "outputs": [
        {
          "output_type": "execute_result",
          "data": {
            "text/plain": [
              "(1629, 60, 1)"
            ]
          },
          "metadata": {
            "tags": []
          },
          "execution_count": 24
        }
      ]
    },
    {
      "cell_type": "markdown",
      "metadata": {
        "id": "UNs1SsjiOAAp",
        "colab_type": "text"
      },
      "source": [
        "## Model training "
      ]
    },
    {
      "cell_type": "code",
      "metadata": {
        "id": "Y6RwuEFPIn6_",
        "colab_type": "code",
        "colab": {}
      },
      "source": [
        "#Build LSTM model\n",
        "model=Sequential()\n",
        "#Add first layer to model\n",
        "model.add(LSTM(50, return_sequences=True, input_shape=(x_train.shape[1],1)))\n",
        "#Add second layer to model\n",
        "model.add(LSTM(50, return_sequences=False))\n",
        "#Add Dense Layer to model with 25 neurons\n",
        "model.add(Dense(25))\n",
        "#Add Dense Layer to model with 1 neuron\n",
        "model.add(Dense(1))"
      ],
      "execution_count": 0,
      "outputs": []
    },
    {
      "cell_type": "code",
      "metadata": {
        "id": "ryE2rTOMIn7X",
        "colab_type": "code",
        "colab": {}
      },
      "source": [
        "#Compile the model\n",
        "model.compile(optimizer='adam', loss='mean_squared_error')\n"
      ],
      "execution_count": 0,
      "outputs": []
    },
    {
      "cell_type": "code",
      "metadata": {
        "id": "vmAwD6mUIn7r",
        "colab_type": "code",
        "outputId": "7b18a6da-0449-4b35-d6e0-f655449c2541",
        "colab": {
          "base_uri": "https://localhost:8080/",
          "height": 139
        }
      },
      "source": [
        "#Train the model\n",
        "model.fit(x_train, y_train, batch_size=1,epochs=3 )"
      ],
      "execution_count": 27,
      "outputs": [
        {
          "output_type": "stream",
          "text": [
            "Epoch 1/3\n",
            "1629/1629 [==============================] - 62s 38ms/step - loss: 8.5361e-04\n",
            "Epoch 2/3\n",
            "1629/1629 [==============================] - 60s 37ms/step - loss: 4.1631e-04\n",
            "Epoch 3/3\n",
            "1629/1629 [==============================] - 61s 38ms/step - loss: 3.4475e-04\n"
          ],
          "name": "stdout"
        },
        {
          "output_type": "execute_result",
          "data": {
            "text/plain": [
              "<keras.callbacks.callbacks.History at 0x7f7596104a58>"
            ]
          },
          "metadata": {
            "tags": []
          },
          "execution_count": 27
        }
      ]
    },
    {
      "cell_type": "markdown",
      "metadata": {
        "id": "-__xdsJ_OKUg",
        "colab_type": "text"
      },
      "source": [
        "## Testing and Validating model"
      ]
    },
    {
      "cell_type": "code",
      "metadata": {
        "id": "QlX9uNw3In8R",
        "colab_type": "code",
        "colab": {}
      },
      "source": [
        "#Create the test data set\n",
        "#Create a new array containing scaled values\n",
        "\n",
        "test_data=scaled_data[training_data_len-60: , : ]\n",
        "#Create the data sets x_test and y_test\n",
        "\n",
        "x_test=[]\n",
        "y_test=dataset[training_data_len:,:]\n",
        "for i in range(60, len(test_data)):\n",
        "    x_test.append(test_data[i-60:i,0])\n",
        "    \n"
      ],
      "execution_count": 0,
      "outputs": []
    },
    {
      "cell_type": "code",
      "metadata": {
        "id": "9GWP-0_DIn8z",
        "colab_type": "code",
        "colab": {}
      },
      "source": [
        "#Convert the data to a numpy array\n",
        "\n",
        "x_test=np.array(x_test)\n"
      ],
      "execution_count": 0,
      "outputs": []
    },
    {
      "cell_type": "code",
      "metadata": {
        "id": "0ogsB0ZdIn9J",
        "colab_type": "code",
        "colab": {}
      },
      "source": [
        "#Reshape the data to 3d\n",
        "x_test=np.reshape(x_test,(x_test.shape[0], x_test.shape[1], 1))\n"
      ],
      "execution_count": 0,
      "outputs": []
    },
    {
      "cell_type": "code",
      "metadata": {
        "id": "Yud6qyU6In9Z",
        "colab_type": "code",
        "colab": {}
      },
      "source": [
        "#Get the models predicted price values\n",
        "\n",
        "predictions=model.predict(x_test)\n",
        "predictions=scaler.inverse_transform(predictions)\n"
      ],
      "execution_count": 0,
      "outputs": []
    },
    {
      "cell_type": "code",
      "metadata": {
        "id": "2mlIpi4VIn9z",
        "colab_type": "code",
        "outputId": "eef440c9-48d7-4435-9f00-798a6ede7d27",
        "colab": {
          "base_uri": "https://localhost:8080/",
          "height": 34
        }
      },
      "source": [
        "#Get root mean squared error(RMSE)\n",
        "\n",
        "rmse =np.sqrt(np.mean(predictions-y_test)**2)\n",
        "rmse\n",
        "\n"
      ],
      "execution_count": 32,
      "outputs": [
        {
          "output_type": "execute_result",
          "data": {
            "text/plain": [
              "19.886305967213417"
            ]
          },
          "metadata": {
            "tags": []
          },
          "execution_count": 32
        }
      ]
    },
    {
      "cell_type": "code",
      "metadata": {
        "id": "yBbVWNWSaGgT",
        "colab_type": "code",
        "colab": {}
      },
      "source": [
        "#choose plotting style\n",
        "\n",
        "#plt.style.use('fivethirtyeight')\n",
        "plt.style.use('dark_background')\n",
        "#plt.style.use('ggplot')\n",
        "#plt.style.use('seaborn-whitegrid')\n",
        "#plt.style.use('bmh')\n",
        "#plt.style.use('seaborn')"
      ],
      "execution_count": 0,
      "outputs": []
    },
    {
      "cell_type": "code",
      "metadata": {
        "scrolled": true,
        "id": "dpG0ZTlAIn-G",
        "colab_type": "code",
        "outputId": "a5fff0a2-b165-4557-b2a0-b525536191e3",
        "colab": {
          "base_uri": "https://localhost:8080/",
          "height": 625
        }
      },
      "source": [
        "#plot the data\n",
        "\n",
        "train=data[:training_data_len]\n",
        "valid=data[training_data_len:]\n",
        "valid['predictions'] = predictions\n",
        "\n",
        "#Visualize the data\n",
        "plt.figure(figsize=(16,8))\n",
        "plt.title('Model prediciton results - AMAZON shares')\n",
        "plt.xlabel('Date', fontsize=18)\n",
        "plt.ylabel('Close Price USD($)', fontsize=18)\n",
        "plt.plot(train['Close'] , color='red')\n",
        "plt.plot(valid['Close'] , color='yellow')\n",
        "plt.plot(valid[ 'predictions'] , color='green')\n",
        "plt.legend(['Train','Validation', 'predictions'], loc='lower right')\n",
        "plt.savefig('/content/prediction.png')\n",
        "plt.show()"
      ],
      "execution_count": 48,
      "outputs": [
        {
          "output_type": "stream",
          "text": [
            "/usr/local/lib/python3.6/dist-packages/ipykernel_launcher.py:5: SettingWithCopyWarning: \n",
            "A value is trying to be set on a copy of a slice from a DataFrame.\n",
            "Try using .loc[row_indexer,col_indexer] = value instead\n",
            "\n",
            "See the caveats in the documentation: https://pandas.pydata.org/pandas-docs/stable/user_guide/indexing.html#returning-a-view-versus-a-copy\n",
            "  \"\"\"\n"
          ],
          "name": "stderr"
        },
        {
          "output_type": "display_data",
          "data": {
            "image/png": "[encoded data removed]",
            "text/plain": [
              "<Figure size 1152x576 with 1 Axes>"
            ]
          },
          "metadata": {
            "tags": []
          }
        }
      ]
    },
    {
      "cell_type": "code",
      "metadata": {
        "id": "9IZAwTwYIn-Y",
        "colab_type": "code",
        "outputId": "3e920d38-e5b2-47b7-ec58-1ce03e39053f",
        "colab": {
          "base_uri": "https://localhost:8080/",
          "height": 551
        }
      },
      "source": [
        "#Show the valid and predicted prices\n",
        "\n",
        "valid.tail(15)"
      ],
      "execution_count": 49,
      "outputs": [
        {
          "output_type": "execute_result",
          "data": {
            "text/html": [
              "<div>\n",
              "<style scoped>\n",
              "    .dataframe tbody tr th:only-of-type {\n",
              "        vertical-align: middle;\n",
              "    }\n",
              "\n",
              "    .dataframe tbody tr th {\n",
              "        vertical-align: top;\n",
              "    }\n",
              "\n",
              "    .dataframe thead th {\n",
              "        text-align: right;\n",
              "    }\n",
              "</style>\n",
              "<table border=\"1\" class=\"dataframe\">\n",
              "  <thead>\n",
              "    <tr style=\"text-align: right;\">\n",
              "      <th></th>\n",
              "      <th>Close</th>\n",
              "      <th>predictions</th>\n",
              "    </tr>\n",
              "    <tr>\n",
              "      <th>Date</th>\n",
              "      <th></th>\n",
              "      <th></th>\n",
              "    </tr>\n",
              "  </thead>\n",
              "  <tbody>\n",
              "    <tr>\n",
              "      <th>2020-05-04</th>\n",
              "      <td>2315.989990</td>\n",
              "      <td>2353.478760</td>\n",
              "    </tr>\n",
              "    <tr>\n",
              "      <th>2020-05-05</th>\n",
              "      <td>2317.800049</td>\n",
              "      <td>2339.276611</td>\n",
              "    </tr>\n",
              "    <tr>\n",
              "      <th>2020-05-06</th>\n",
              "      <td>2351.260010</td>\n",
              "      <td>2327.780029</td>\n",
              "    </tr>\n",
              "    <tr>\n",
              "      <th>2020-05-07</th>\n",
              "      <td>2367.610107</td>\n",
              "      <td>2326.094238</td>\n",
              "    </tr>\n",
              "    <tr>\n",
              "      <th>2020-05-08</th>\n",
              "      <td>2379.610107</td>\n",
              "      <td>2330.867188</td>\n",
              "    </tr>\n",
              "    <tr>\n",
              "      <th>2020-05-11</th>\n",
              "      <td>2409.000000</td>\n",
              "      <td>2339.045166</td>\n",
              "    </tr>\n",
              "    <tr>\n",
              "      <th>2020-05-12</th>\n",
              "      <td>2356.949951</td>\n",
              "      <td>2352.319580</td>\n",
              "    </tr>\n",
              "    <tr>\n",
              "      <th>2020-05-13</th>\n",
              "      <td>2367.919922</td>\n",
              "      <td>2354.082520</td>\n",
              "    </tr>\n",
              "    <tr>\n",
              "      <th>2020-05-14</th>\n",
              "      <td>2388.850098</td>\n",
              "      <td>2354.481934</td>\n",
              "    </tr>\n",
              "    <tr>\n",
              "      <th>2020-05-15</th>\n",
              "      <td>2409.780029</td>\n",
              "      <td>2358.229980</td>\n",
              "    </tr>\n",
              "    <tr>\n",
              "      <th>2020-05-18</th>\n",
              "      <td>2426.260010</td>\n",
              "      <td>2366.129639</td>\n",
              "    </tr>\n",
              "    <tr>\n",
              "      <th>2020-05-19</th>\n",
              "      <td>2449.330078</td>\n",
              "      <td>2376.743896</td>\n",
              "    </tr>\n",
              "    <tr>\n",
              "      <th>2020-05-20</th>\n",
              "      <td>2497.939941</td>\n",
              "      <td>2390.372314</td>\n",
              "    </tr>\n",
              "    <tr>\n",
              "      <th>2020-05-21</th>\n",
              "      <td>2446.739990</td>\n",
              "      <td>2411.365234</td>\n",
              "    </tr>\n",
              "    <tr>\n",
              "      <th>2020-05-22</th>\n",
              "      <td>2436.879883</td>\n",
              "      <td>2419.855469</td>\n",
              "    </tr>\n",
              "  </tbody>\n",
              "</table>\n",
              "</div>"
            ],
            "text/plain": [
              "                  Close  predictions\n",
              "Date                                \n",
              "2020-05-04  2315.989990  2353.478760\n",
              "2020-05-05  2317.800049  2339.276611\n",
              "2020-05-06  2351.260010  2327.780029\n",
              "2020-05-07  2367.610107  2326.094238\n",
              "2020-05-08  2379.610107  2330.867188\n",
              "2020-05-11  2409.000000  2339.045166\n",
              "2020-05-12  2356.949951  2352.319580\n",
              "2020-05-13  2367.919922  2354.082520\n",
              "2020-05-14  2388.850098  2354.481934\n",
              "2020-05-15  2409.780029  2358.229980\n",
              "2020-05-18  2426.260010  2366.129639\n",
              "2020-05-19  2449.330078  2376.743896\n",
              "2020-05-20  2497.939941  2390.372314\n",
              "2020-05-21  2446.739990  2411.365234\n",
              "2020-05-22  2436.879883  2419.855469"
            ]
          },
          "metadata": {
            "tags": []
          },
          "execution_count": 49
        }
      ]
    },
    {
      "cell_type": "markdown",
      "metadata": {
        "id": "EwVZro2_OFLH",
        "colab_type": "text"
      },
      "source": [
        "# Getting predicitions - for tomorrow"
      ]
    },
    {
      "cell_type": "code",
      "metadata": {
        "id": "GXS4uLtRIn-s",
        "colab_type": "code",
        "outputId": "c84309e5-1594-4817-be4d-22c494807bf0",
        "colab": {
          "base_uri": "https://localhost:8080/",
          "height": 34
        }
      },
      "source": [
        "#Get the quote\n",
        "stock_quote = web.DataReader(ticker, data_source='yahoo', start='2012-01-01', end='2020-05-25')\n",
        "\n",
        "new_df=stock_quote.filter(['Close'])\n",
        "#Get last 60 days values and convert into array\n",
        "last_60_days=new_df[-60:].values\n",
        "\n",
        "#Scale the data to be values between 0\n",
        "last_60_days_scaled=scaler.transform(last_60_days)\n",
        "\n",
        "#Create an empty list\n",
        "X_test=[]\n",
        "#Appemd the past 60days\n",
        "X_test.append(last_60_days_scaled)\n",
        "\n",
        "#Conver the X_test data into numpy array\n",
        "X_test = np.array(X_test)\n",
        "\n",
        "#Reshape the data\n",
        "X_test = np.reshape(X_test, (X_test.shape[0], X_test.shape[1],1))\n",
        "#Get predicted scaled price\n",
        "pred_price = model.predict(X_test)\n",
        "#undo the scaling\n",
        "pred_price=scaler.inverse_transform(pred_price)\n",
        "print(f'Price of {ticker} tomorrow:{pred_price}')"
      ],
      "execution_count": 50,
      "outputs": [
        {
          "output_type": "stream",
          "text": [
            "Price of AMZN tomorrow:[[2421.2363]]\n"
          ],
          "name": "stdout"
        }
      ]
    },
    {
      "cell_type": "markdown",
      "metadata": {
        "id": "RfFPY58dPFDp",
        "colab_type": "text"
      },
      "source": [
        "## Getting predicitions for 2 months from now ?"
      ]
    },
    {
      "cell_type": "code",
      "metadata": {
        "id": "dCzyvO2LO5cI",
        "colab_type": "code",
        "colab": {}
      },
      "source": [
        "#Get the quote\n",
        "stock_quote = web.DataReader(ticker, data_source='yahoo', start='2012-01-01', end='2020-05-24')\n",
        "\n",
        "new_df=stock_quote.filter(['Open'])\n",
        "#Get last 60 days values and convert into array\n",
        "last_60_days=new_df[-60:].values\n",
        "\n",
        "#Scale the data to be values between 0\n",
        "last_60_days_scaled=scaler.transform(last_60_days)\n",
        "\n",
        "#Create an empty list\n",
        "X_test=[]\n",
        "#Appemd the past 60days\n",
        "X_test.append(last_60_days_scaled)\n",
        "\n",
        "#Conver the X_test data into numpy array\n",
        "X_test = np.array(X_test)\n",
        "\n",
        "#Reshape the data\n",
        "X_test = np.reshape(X_test, (X_test.shape[0], X_test.shape[1],1))\n",
        "#Get predicted scaled price\n",
        "pred_price = model.predict(X_test)\n",
        "#undo the scaling\n",
        "pred_price=scaler.inverse_transform(pred_price)\n",
        "print(f'Opening Price of {ticker} tomorrow:{pred_price}')"
      ],
      "execution_count": 0,
      "outputs": []
    }
  ]
}