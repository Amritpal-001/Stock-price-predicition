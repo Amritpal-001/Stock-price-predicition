{
 "cells": [
  {
   "cell_type": "code",
   "execution_count": 1,
   "metadata": {},
   "outputs": [],
   "source": [
    "import pandas as pd\n",
    "import csv\n",
    "import os"
   ]
  },
  {
   "cell_type": "code",
   "execution_count": 2,
   "metadata": {},
   "outputs": [],
   "source": [
    "filepath = os.getcwd()"
   ]
  },
  {
   "cell_type": "code",
   "execution_count": 3,
   "metadata": {},
   "outputs": [],
   "source": [
    "op = pd.read_csv(filepath + '\\RawData\\FiveYearData\\\\five_year_data_Open.csv')\n",
    "lo = pd.read_csv(filepath + '\\RawData\\FiveYearData\\\\five_year_data_Low.csv')\n",
    "hi = pd.read_csv(filepath + '\\RawData\\FiveYearData\\\\five_year_data_High.csv')\n",
    "vol = pd.read_csv(filepath + '\\RawData\\FiveYearData\\\\five_year_data_Volume.csv')\n",
    "cl = pd.read_csv(filepath + '\\RawData\\FiveYearData\\\\five_year_data_Close.csv')"
   ]
  },
  {
   "cell_type": "code",
   "execution_count": 4,
   "metadata": {},
   "outputs": [],
   "source": [
    "ticker = 'PFE'\n",
    "f1 = pd.concat([op['Date'], op[ticker], lo[ticker], hi[ticker], vol[ticker], cl[ticker]], axis=1, sort='true')\n"
   ]
  },
  {
   "cell_type": "code",
   "execution_count": 5,
   "metadata": {},
   "outputs": [],
   "source": [
    "newfile = filepath + '\\RawData\\FiveYearData1_'+ticker+'.csv'"
   ]
  },
  {
   "cell_type": "code",
   "execution_count": 6,
   "metadata": {},
   "outputs": [],
   "source": [
    "f1.to_csv(newfile, header='false')"
   ]
  },
  {
   "cell_type": "code",
   "execution_count": 7,
   "metadata": {},
   "outputs": [],
   "source": [
    "data = pd.read_csv(newfile)\n"
   ]
  },
  {
   "cell_type": "code",
   "execution_count": 8,
   "metadata": {},
   "outputs": [],
   "source": [
    "data['date'] = pd.to_datetime(data['Date'])"
   ]
  },
  {
   "cell_type": "code",
   "execution_count": 9,
   "metadata": {
    "scrolled": true
   },
   "outputs": [
    {
     "name": "stdout",
     "output_type": "stream",
     "text": [
      "2017-10-01 00:00:00\n"
     ]
    }
   ],
   "source": [
    "date_start = pd.to_datetime(20171001, format='%Y%m%d')\n",
    "date_end = pd.to_datetime(2018310, format='%Y%m%d')\n",
    "print(date_start)"
   ]
  },
  {
   "cell_type": "code",
   "execution_count": 10,
   "metadata": {},
   "outputs": [],
   "source": [
    "val = data[(data['date']> date_start) & (data['date']< date_end)]"
   ]
  },
  {
   "cell_type": "code",
   "execution_count": 11,
   "metadata": {},
   "outputs": [],
   "source": [
    "filename = filepath + \"\\RawData\\parse_PFE.csv\"\n",
    "val.to_csv(filename, header='true')"
   ]
  },
  {
   "cell_type": "code",
   "execution_count": 12,
   "metadata": {},
   "outputs": [],
   "source": [
    "f1 = pd.read_csv(filepath + \"\\RawData\\PfizerSentiment_6Months.csv\")\n",
    "f2 = pd.read_csv(filepath + \"\\RawData\\parse_PFE.csv\")\n"
   ]
  },
  {
   "cell_type": "code",
   "execution_count": 13,
   "metadata": {},
   "outputs": [
    {
     "data": {
      "text/html": [
       "<div>\n",
       "<style scoped>\n",
       "    .dataframe tbody tr th:only-of-type {\n",
       "        vertical-align: middle;\n",
       "    }\n",
       "\n",
       "    .dataframe tbody tr th {\n",
       "        vertical-align: top;\n",
       "    }\n",
       "\n",
       "    .dataframe thead th {\n",
       "        text-align: right;\n",
       "    }\n",
       "</style>\n",
       "<table border=\"1\" class=\"dataframe\">\n",
       "  <thead>\n",
       "    <tr style=\"text-align: right;\">\n",
       "      <th></th>\n",
       "      <th>Date</th>\n",
       "      <th>Positve</th>\n",
       "      <th>Negative</th>\n",
       "      <th>Neutral</th>\n",
       "      <th>Total</th>\n",
       "    </tr>\n",
       "  </thead>\n",
       "  <tbody>\n",
       "    <tr>\n",
       "      <th>0</th>\n",
       "      <td>2017-09-09</td>\n",
       "      <td>17.857143</td>\n",
       "      <td>7.142857</td>\n",
       "      <td>75.000000</td>\n",
       "      <td>28</td>\n",
       "    </tr>\n",
       "    <tr>\n",
       "      <th>1</th>\n",
       "      <td>2017-09-10</td>\n",
       "      <td>32.222222</td>\n",
       "      <td>3.333333</td>\n",
       "      <td>64.444444</td>\n",
       "      <td>90</td>\n",
       "    </tr>\n",
       "    <tr>\n",
       "      <th>2</th>\n",
       "      <td>2017-09-11</td>\n",
       "      <td>35.416667</td>\n",
       "      <td>4.687500</td>\n",
       "      <td>59.895833</td>\n",
       "      <td>192</td>\n",
       "    </tr>\n",
       "    <tr>\n",
       "      <th>3</th>\n",
       "      <td>2017-09-12</td>\n",
       "      <td>38.188976</td>\n",
       "      <td>7.480315</td>\n",
       "      <td>54.330709</td>\n",
       "      <td>254</td>\n",
       "    </tr>\n",
       "    <tr>\n",
       "      <th>4</th>\n",
       "      <td>2017-09-13</td>\n",
       "      <td>25.625000</td>\n",
       "      <td>10.625000</td>\n",
       "      <td>63.750000</td>\n",
       "      <td>160</td>\n",
       "    </tr>\n",
       "  </tbody>\n",
       "</table>\n",
       "</div>"
      ],
      "text/plain": [
       "        Date    Positve   Negative    Neutral  Total\n",
       "0 2017-09-09  17.857143   7.142857  75.000000     28\n",
       "1 2017-09-10  32.222222   3.333333  64.444444     90\n",
       "2 2017-09-11  35.416667   4.687500  59.895833    192\n",
       "3 2017-09-12  38.188976   7.480315  54.330709    254\n",
       "4 2017-09-13  25.625000  10.625000  63.750000    160"
      ]
     },
     "execution_count": 13,
     "metadata": {},
     "output_type": "execute_result"
    }
   ],
   "source": [
    "f1['Date'] = pd.to_datetime(f1['Date'])\n",
    "f1.head()"
   ]
  },
  {
   "cell_type": "code",
   "execution_count": 14,
   "metadata": {},
   "outputs": [
    {
     "data": {
      "text/html": [
       "<div>\n",
       "<style scoped>\n",
       "    .dataframe tbody tr th:only-of-type {\n",
       "        vertical-align: middle;\n",
       "    }\n",
       "\n",
       "    .dataframe tbody tr th {\n",
       "        vertical-align: top;\n",
       "    }\n",
       "\n",
       "    .dataframe thead th {\n",
       "        text-align: right;\n",
       "    }\n",
       "</style>\n",
       "<table border=\"1\" class=\"dataframe\">\n",
       "  <thead>\n",
       "    <tr style=\"text-align: right;\">\n",
       "      <th></th>\n",
       "      <th>Unnamed: 0</th>\n",
       "      <th>Unnamed: 0.1</th>\n",
       "      <th>Date</th>\n",
       "      <th>PFE</th>\n",
       "      <th>PFE.1</th>\n",
       "      <th>PFE.2</th>\n",
       "      <th>PFE.3</th>\n",
       "      <th>PFE.4</th>\n",
       "      <th>date</th>\n",
       "    </tr>\n",
       "  </thead>\n",
       "  <tbody>\n",
       "    <tr>\n",
       "      <th>0</th>\n",
       "      <td>944</td>\n",
       "      <td>944</td>\n",
       "      <td>2017-10-02</td>\n",
       "      <td>35.67</td>\n",
       "      <td>35.49</td>\n",
       "      <td>36.10</td>\n",
       "      <td>15287990.0</td>\n",
       "      <td>36.07</td>\n",
       "      <td>2017-10-02</td>\n",
       "    </tr>\n",
       "    <tr>\n",
       "      <th>1</th>\n",
       "      <td>945</td>\n",
       "      <td>945</td>\n",
       "      <td>2017-10-03</td>\n",
       "      <td>36.02</td>\n",
       "      <td>35.75</td>\n",
       "      <td>36.20</td>\n",
       "      <td>13528203.0</td>\n",
       "      <td>36.14</td>\n",
       "      <td>2017-10-03</td>\n",
       "    </tr>\n",
       "    <tr>\n",
       "      <th>2</th>\n",
       "      <td>946</td>\n",
       "      <td>946</td>\n",
       "      <td>2017-10-04</td>\n",
       "      <td>36.18</td>\n",
       "      <td>35.90</td>\n",
       "      <td>36.24</td>\n",
       "      <td>10815755.0</td>\n",
       "      <td>35.96</td>\n",
       "      <td>2017-10-04</td>\n",
       "    </tr>\n",
       "    <tr>\n",
       "      <th>3</th>\n",
       "      <td>947</td>\n",
       "      <td>947</td>\n",
       "      <td>2017-10-05</td>\n",
       "      <td>35.88</td>\n",
       "      <td>35.75</td>\n",
       "      <td>36.00</td>\n",
       "      <td>13060859.0</td>\n",
       "      <td>36.00</td>\n",
       "      <td>2017-10-05</td>\n",
       "    </tr>\n",
       "    <tr>\n",
       "      <th>4</th>\n",
       "      <td>948</td>\n",
       "      <td>948</td>\n",
       "      <td>2017-10-06</td>\n",
       "      <td>35.99</td>\n",
       "      <td>35.94</td>\n",
       "      <td>36.14</td>\n",
       "      <td>11247289.0</td>\n",
       "      <td>36.05</td>\n",
       "      <td>2017-10-06</td>\n",
       "    </tr>\n",
       "  </tbody>\n",
       "</table>\n",
       "</div>"
      ],
      "text/plain": [
       "   Unnamed: 0  Unnamed: 0.1        Date    PFE  PFE.1  PFE.2       PFE.3  \\\n",
       "0         944           944  2017-10-02  35.67  35.49  36.10  15287990.0   \n",
       "1         945           945  2017-10-03  36.02  35.75  36.20  13528203.0   \n",
       "2         946           946  2017-10-04  36.18  35.90  36.24  10815755.0   \n",
       "3         947           947  2017-10-05  35.88  35.75  36.00  13060859.0   \n",
       "4         948           948  2017-10-06  35.99  35.94  36.14  11247289.0   \n",
       "\n",
       "   PFE.4        date  \n",
       "0  36.07  2017-10-02  \n",
       "1  36.14  2017-10-03  \n",
       "2  35.96  2017-10-04  \n",
       "3  36.00  2017-10-05  \n",
       "4  36.05  2017-10-06  "
      ]
     },
     "execution_count": 14,
     "metadata": {},
     "output_type": "execute_result"
    }
   ],
   "source": [
    "f2.head()"
   ]
  },
  {
   "cell_type": "code",
   "execution_count": 15,
   "metadata": {},
   "outputs": [
    {
     "name": "stdout",
     "output_type": "stream",
     "text": [
      "          Date    Positve   Negative    Neutral  Total\n",
      "23  2017-10-02  29.545455   5.000000  65.454545    220\n",
      "24  2017-10-03  26.506024   9.036145  64.457831    166\n",
      "25  2017-10-04  22.426471   3.308824  74.264706    272\n",
      "26  2017-10-05  28.662420   7.643312  63.694268    157\n",
      "27  2017-10-06  28.455285   4.878049  66.666667    123\n",
      "30  2017-10-09  17.283951   4.938272  77.777778    162\n",
      "31  2017-10-10  35.388128   4.337900  60.273973    438\n",
      "32  2017-10-11  35.135135   4.504505  60.360360    222\n",
      "33  2017-10-12  24.858757   5.084746  70.056497    177\n",
      "34  2017-10-13  25.123153   4.433498  70.443350    203\n",
      "37  2017-10-16  27.319588   4.123711  68.556701    194\n",
      "38  2017-10-17  28.448276   1.724138  69.827586    232\n",
      "39  2017-10-18  22.374429   3.652968  73.972603    219\n",
      "40  2017-10-19  28.504673   4.205607  67.289720    214\n",
      "41  2017-10-20  23.622047   6.299213  70.078740    254\n",
      "44  2017-10-23  33.526012   5.202312  61.271676    173\n",
      "45  2017-10-24  26.111111   6.111111  67.777778    180\n",
      "46  2017-10-25  23.788546   4.405286  71.806167    227\n",
      "47  2017-10-26  20.809249   3.468208  75.722543    173\n",
      "48  2017-10-27  24.242424   7.878788  67.878788    165\n",
      "51  2017-10-30  32.456140   5.701754  61.842105    228\n",
      "52  2017-10-31  29.237288   8.474576  62.288136    472\n",
      "53  2017-11-01  18.644068   5.508475  75.847458    236\n",
      "54  2017-11-02  19.767442   9.689922  70.542636    258\n",
      "55  2017-11-03  24.226804   3.092784  72.680412    194\n",
      "58  2017-11-06  25.888325   3.045685  71.065990    197\n",
      "59  2017-11-07  27.860697   3.482587  68.656716    201\n",
      "61  2017-11-09  26.595745   4.255319  69.148936    188\n",
      "62  2017-11-10  28.372093   3.255814  68.372093    215\n",
      "65  2017-11-13  33.454545   3.272727  63.272727    275\n",
      "..         ...        ...        ...        ...    ...\n",
      "138 2018-01-25  18.674699   7.228916  74.096386    166\n",
      "139 2018-01-26  35.172414   6.551724  58.275862    290\n",
      "142 2018-01-29  28.148148   6.666667  65.185185    270\n",
      "143 2018-01-30  27.343750  11.132812  61.523438    512\n",
      "144 2018-01-31  20.000000   8.800000  71.200000    250\n",
      "145 2018-02-01  21.468927   7.344633  71.186441    177\n",
      "146 2018-02-02  22.598870   9.039548  68.361582    177\n",
      "149 2018-02-05  21.229050   8.938547  69.832402    179\n",
      "150 2018-02-06  23.602484   6.211180  70.186335    161\n",
      "151 2018-02-07  28.947368   8.552632  62.500000    152\n",
      "152 2018-02-08  23.566879  10.828025  65.605096    157\n",
      "153 2018-02-09  20.125786   8.176101  71.698113    159\n",
      "156 2018-02-12  32.291667   3.645833  64.062500    192\n",
      "157 2018-02-13  28.275862   8.275862  63.448276    145\n",
      "158 2018-02-14  29.139073   3.973510  66.887417    151\n",
      "159 2018-02-15  27.868852  11.475410  60.655738    183\n",
      "160 2018-02-16  30.635838   8.670520  60.693642    173\n",
      "164 2018-02-20  30.201342   5.369128  64.429530    149\n",
      "165 2018-02-21  30.281690   7.042254  62.676056    142\n",
      "166 2018-02-22  30.569948   7.253886  62.176166    193\n",
      "167 2018-02-23  34.594595   4.864865  60.540541    185\n",
      "170 2018-02-26  25.454545   7.272727  67.272727    165\n",
      "171 2018-02-27  25.146199   9.356725  65.497076    171\n",
      "172 2018-02-28  30.357143   6.547619  63.095238    168\n",
      "173 2018-03-01  30.344828   2.758621  66.896552    145\n",
      "174 2018-03-02  32.142857   5.102041  62.755102    196\n",
      "177 2018-03-05  26.785714   7.142857  66.071429    168\n",
      "178 2018-03-06  30.246914   7.407407  62.345679    162\n",
      "179 2018-03-07  24.725275   6.593407  68.681319    182\n",
      "180 2018-03-08  24.043716   4.371585  71.584699    183\n",
      "\n",
      "[108 rows x 5 columns]\n"
     ]
    }
   ],
   "source": [
    "#print(f1[f1.Date.isin(f2.date)])\n",
    "f3 = f1[f1.Date.isin(f2.date)]\n",
    "print (f3)"
   ]
  },
  {
   "cell_type": "code",
   "execution_count": 16,
   "metadata": {},
   "outputs": [],
   "source": [
    "f3.reset_index(drop=True, inplace=True)\n",
    "f2.reset_index(drop=True, inplace=True)"
   ]
  },
  {
   "cell_type": "code",
   "execution_count": 17,
   "metadata": {},
   "outputs": [],
   "source": [
    "f4 = pd.concat([f2, f3], axis = 1, sort='true')\n",
    "                "
   ]
  },
  {
   "cell_type": "code",
   "execution_count": 18,
   "metadata": {},
   "outputs": [
    {
     "data": {
      "text/html": [
       "<div>\n",
       "<style scoped>\n",
       "    .dataframe tbody tr th:only-of-type {\n",
       "        vertical-align: middle;\n",
       "    }\n",
       "\n",
       "    .dataframe tbody tr th {\n",
       "        vertical-align: top;\n",
       "    }\n",
       "\n",
       "    .dataframe thead th {\n",
       "        text-align: right;\n",
       "    }\n",
       "</style>\n",
       "<table border=\"1\" class=\"dataframe\">\n",
       "  <thead>\n",
       "    <tr style=\"text-align: right;\">\n",
       "      <th></th>\n",
       "      <th>Unnamed: 0</th>\n",
       "      <th>Unnamed: 0.1</th>\n",
       "      <th>Date</th>\n",
       "      <th>PFE</th>\n",
       "      <th>PFE.1</th>\n",
       "      <th>PFE.2</th>\n",
       "      <th>PFE.3</th>\n",
       "      <th>PFE.4</th>\n",
       "      <th>date</th>\n",
       "      <th>Date</th>\n",
       "      <th>Positve</th>\n",
       "      <th>Negative</th>\n",
       "      <th>Neutral</th>\n",
       "      <th>Total</th>\n",
       "    </tr>\n",
       "  </thead>\n",
       "  <tbody>\n",
       "    <tr>\n",
       "      <th>0</th>\n",
       "      <td>944</td>\n",
       "      <td>944</td>\n",
       "      <td>2017-10-02</td>\n",
       "      <td>35.67</td>\n",
       "      <td>35.49</td>\n",
       "      <td>36.10</td>\n",
       "      <td>15287990.0</td>\n",
       "      <td>36.07</td>\n",
       "      <td>2017-10-02</td>\n",
       "      <td>2017-10-02</td>\n",
       "      <td>29.545455</td>\n",
       "      <td>5.000000</td>\n",
       "      <td>65.454545</td>\n",
       "      <td>220.0</td>\n",
       "    </tr>\n",
       "    <tr>\n",
       "      <th>1</th>\n",
       "      <td>945</td>\n",
       "      <td>945</td>\n",
       "      <td>2017-10-03</td>\n",
       "      <td>36.02</td>\n",
       "      <td>35.75</td>\n",
       "      <td>36.20</td>\n",
       "      <td>13528203.0</td>\n",
       "      <td>36.14</td>\n",
       "      <td>2017-10-03</td>\n",
       "      <td>2017-10-03</td>\n",
       "      <td>26.506024</td>\n",
       "      <td>9.036145</td>\n",
       "      <td>64.457831</td>\n",
       "      <td>166.0</td>\n",
       "    </tr>\n",
       "    <tr>\n",
       "      <th>2</th>\n",
       "      <td>946</td>\n",
       "      <td>946</td>\n",
       "      <td>2017-10-04</td>\n",
       "      <td>36.18</td>\n",
       "      <td>35.90</td>\n",
       "      <td>36.24</td>\n",
       "      <td>10815755.0</td>\n",
       "      <td>35.96</td>\n",
       "      <td>2017-10-04</td>\n",
       "      <td>2017-10-04</td>\n",
       "      <td>22.426471</td>\n",
       "      <td>3.308824</td>\n",
       "      <td>74.264706</td>\n",
       "      <td>272.0</td>\n",
       "    </tr>\n",
       "    <tr>\n",
       "      <th>3</th>\n",
       "      <td>947</td>\n",
       "      <td>947</td>\n",
       "      <td>2017-10-05</td>\n",
       "      <td>35.88</td>\n",
       "      <td>35.75</td>\n",
       "      <td>36.00</td>\n",
       "      <td>13060859.0</td>\n",
       "      <td>36.00</td>\n",
       "      <td>2017-10-05</td>\n",
       "      <td>2017-10-05</td>\n",
       "      <td>28.662420</td>\n",
       "      <td>7.643312</td>\n",
       "      <td>63.694268</td>\n",
       "      <td>157.0</td>\n",
       "    </tr>\n",
       "    <tr>\n",
       "      <th>4</th>\n",
       "      <td>948</td>\n",
       "      <td>948</td>\n",
       "      <td>2017-10-06</td>\n",
       "      <td>35.99</td>\n",
       "      <td>35.94</td>\n",
       "      <td>36.14</td>\n",
       "      <td>11247289.0</td>\n",
       "      <td>36.05</td>\n",
       "      <td>2017-10-06</td>\n",
       "      <td>2017-10-06</td>\n",
       "      <td>28.455285</td>\n",
       "      <td>4.878049</td>\n",
       "      <td>66.666667</td>\n",
       "      <td>123.0</td>\n",
       "    </tr>\n",
       "  </tbody>\n",
       "</table>\n",
       "</div>"
      ],
      "text/plain": [
       "   Unnamed: 0  Unnamed: 0.1        Date    PFE  PFE.1  PFE.2       PFE.3  \\\n",
       "0         944           944  2017-10-02  35.67  35.49  36.10  15287990.0   \n",
       "1         945           945  2017-10-03  36.02  35.75  36.20  13528203.0   \n",
       "2         946           946  2017-10-04  36.18  35.90  36.24  10815755.0   \n",
       "3         947           947  2017-10-05  35.88  35.75  36.00  13060859.0   \n",
       "4         948           948  2017-10-06  35.99  35.94  36.14  11247289.0   \n",
       "\n",
       "   PFE.4        date       Date    Positve  Negative    Neutral  Total  \n",
       "0  36.07  2017-10-02 2017-10-02  29.545455  5.000000  65.454545  220.0  \n",
       "1  36.14  2017-10-03 2017-10-03  26.506024  9.036145  64.457831  166.0  \n",
       "2  35.96  2017-10-04 2017-10-04  22.426471  3.308824  74.264706  272.0  \n",
       "3  36.00  2017-10-05 2017-10-05  28.662420  7.643312  63.694268  157.0  \n",
       "4  36.05  2017-10-06 2017-10-06  28.455285  4.878049  66.666667  123.0  "
      ]
     },
     "execution_count": 18,
     "metadata": {},
     "output_type": "execute_result"
    }
   ],
   "source": [
    "f4.head()"
   ]
  },
  {
   "cell_type": "code",
   "execution_count": 19,
   "metadata": {},
   "outputs": [],
   "source": [
    "Consolidated_file = filepath + \"\\RawData\\PfizerStock_Sentiment1_6M.csv\"\n",
    "f4.to_csv(Consolidated_file)"
   ]
  },
  {
   "cell_type": "code",
   "execution_count": null,
   "metadata": {},
   "outputs": [],
   "source": []
  }
 ],
 "metadata": {
  "kernelspec": {
   "display_name": "Python 3",
   "language": "python",
   "name": "python3"
  },
  "language_info": {
   "codemirror_mode": {
    "name": "ipython",
    "version": 3
   },
   "file_extension": ".py",
   "mimetype": "text/x-python",
   "name": "python",
   "nbconvert_exporter": "python",
   "pygments_lexer": "ipython3",
   "version": "3.7.3"
  }
 },
 "nbformat": 4,
 "nbformat_minor": 2
}
