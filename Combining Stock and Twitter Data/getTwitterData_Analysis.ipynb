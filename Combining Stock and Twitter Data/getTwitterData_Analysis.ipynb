{
 "cells": [
  {
   "cell_type": "code",
   "execution_count": 1,
   "metadata": {},
   "outputs": [],
   "source": [
    "import re\n",
    "import tweepy\n",
    "from tweepy import OAuthHandler\n",
    "from textblob import TextBlob\n",
    "from tweepy import Stream                   \n",
    "from tweepy.streaming import StreamListener\n",
    "import json\n",
    "import csv\n",
    "import os\n",
    "from os import path\n",
    "import got3"
   ]
  },
  {
   "cell_type": "code",
   "execution_count": 2,
   "metadata": {},
   "outputs": [],
   "source": [
    "consumer_key = \"xxxxxxxxxx\"\n",
    "consumer_secret = \"xxxxxxxxxx\"\n",
    "token_key = \"xxxxxxxxxx\"\n",
    "token_secret = \"xxxxxxxxxx\""
   ]
  },
  {
   "cell_type": "code",
   "execution_count": 3,
   "metadata": {},
   "outputs": [],
   "source": [
    "auth = OAuthHandler(consumer_key, consumer_secret)\n",
    "auth.set_access_token(token_key, token_secret)\n",
    "api = tweepy.API(auth)"
   ]
  },
  {
   "cell_type": "code",
   "execution_count": 4,
   "metadata": {},
   "outputs": [],
   "source": [
    "filepath = os.getcwd()"
   ]
  },
  {
   "cell_type": "code",
   "execution_count": 5,
   "metadata": {},
   "outputs": [
    {
     "name": "stdout",
     "output_type": "stream",
     "text": [
      "12482\n"
     ]
    }
   ],
   "source": [
    "tweetCriteria = got3.manager.TweetCriteria().setQuerySearch('AMZN').setSince(\"2018-10-01\").setUntil(\"2018-10-10\")\n",
    "tweet = got3.manager.TweetManager.getTweets(tweetCriteria)\n",
    "print (len(tweet))"
   ]
  },
  {
   "cell_type": "code",
   "execution_count": 6,
   "metadata": {},
   "outputs": [],
   "source": [
    "def write_to_csv(tweet):\n",
    "    #fields = [\"timestamp\", \"tweet\", \"user\", \"verified\", \"url\"]\n",
    "    fields = [\"Date\", \"Tweet\", \"PermLink\", \"retweets\", \"Favourites\", \"url\", \"Geo\"]\n",
    "    filename = filepath + \"\\RawData\\Amazon.csv\"\n",
    "    fileState = path.isfile(filename)\n",
    "    with open(filename,'a') as fd:        \n",
    "        writer = csv.writer(fd)\n",
    "        if(not fileState):\n",
    "            writer.writerow(fields)\n",
    "        else:\n",
    "            #print(tweet)\n",
    "            writer.writerow([tweet.date, tweet.text.encode(\"utf-8\"), tweet.permalink.encode(\"utf-8\"),tweet.retweets, tweet.favorites,tweet.urls.encode(\"utf-8\"),tweet.geo.encode(\"utf-8\")])\n",
    "        #fd.write(timestamp, tweet, user, verified, url)       "
   ]
  },
  {
   "cell_type": "code",
   "execution_count": 7,
   "metadata": {},
   "outputs": [],
   "source": [
    "for idx in range(len(tweet)):\n",
    "    write_to_csv(tweet[idx])"
   ]
  },
  {
   "cell_type": "code",
   "execution_count": 8,
   "metadata": {},
   "outputs": [],
   "source": [
    "def clean_tweet(tweet):\n",
    "    return ' '.join(re.sub(\"(@[A-Za-z0-9]+)|([^0-9A-Za-z \\t]) | (\\w+:\\/\\/\\S+)\", \" \", tweet).split())"
   ]
  },
  {
   "cell_type": "markdown",
   "metadata": {},
   "source": [
    "#### Uses TextBlob to create the sentimental Analysis from Twitter data"
   ]
  },
  {
   "cell_type": "code",
   "execution_count": 9,
   "metadata": {},
   "outputs": [],
   "source": [
    "def get_tweet_sentiment(tweet):\n",
    "    analysis = TextBlob(clean_tweet(tweet))\n",
    "    if analysis.sentiment.polarity > 0:\n",
    "        return 'positive'\n",
    "    elif analysis.sentiment.polarity == 0: \n",
    "        return 'neutral'\n",
    "    else: \n",
    "        return 'negative'"
   ]
  },
  {
   "cell_type": "code",
   "execution_count": 10,
   "metadata": {},
   "outputs": [],
   "source": [
    "import pandas as pd\n",
    "tweets_data = []\n",
    "tweets_data_path = filepath +\"\\RawData\\Amazon.csv\"\n",
    "pdData = pd.read_csv(tweets_data_path, delimiter=\",\")\n",
    "for row in pdData['Tweet']:    \n",
    "    try:\n",
    "        parsedTweet = {}\n",
    "        #parsedTweet['date'] = row['Date']\n",
    "        parsedTweet['text'] = row\n",
    "        parsedTweet['sentiment'] = get_tweet_sentiment(row)\n",
    "        tweets_data.append(parsedTweet)\n",
    "    except tweepy.TweepError as e:\n",
    "        print(\"Error : \" + str(e))\n"
   ]
  },
  {
   "cell_type": "markdown",
   "metadata": {},
   "source": [
    "#### Calculate the percentage of Polarity based on the data"
   ]
  },
  {
   "cell_type": "code",
   "execution_count": 11,
   "metadata": {},
   "outputs": [
    {
     "name": "stdout",
     "output_type": "stream",
     "text": [
      "Positive tweets percentage: 33.561671273484755 %\n",
      "Negative tweets percentage: 13.844489844970557 %\n",
      "Neutral tweets percentage: 52.593838881544684 %\n"
     ]
    }
   ],
   "source": [
    "#ptweets = [tweet for tweet in tweets_data if tweets_data['sentiment'] == 'positive']\n",
    "ptweets = [tweet for tweet in tweets_data if tweet['sentiment'] == 'positive']\n",
    "print(\"Positive tweets percentage: {} %\".format(100*len(ptweets)/len(tweets_data)))\n",
    "ntweets = [tweet for tweet in tweets_data if tweet['sentiment'] == 'negative']\n",
    "print(\"Negative tweets percentage: {} %\".format(100*len(ntweets)/len(tweets_data)))\n",
    "print(\"Neutral tweets percentage: {} %\".format(100*(len(tweets_data) - len(ntweets) - len(ptweets))/len(tweets_data)))"
   ]
  },
  {
   "cell_type": "code",
   "execution_count": null,
   "metadata": {},
   "outputs": [],
   "source": []
  }
 ],
 "metadata": {
  "kernelspec": {
   "display_name": "Python 3",
   "language": "python",
   "name": "python3"
  },
  "language_info": {
   "codemirror_mode": {
    "name": "ipython",
    "version": 3
   },
   "file_extension": ".py",
   "mimetype": "text/x-python",
   "name": "python",
   "nbconvert_exporter": "python",
   "pygments_lexer": "ipython3",
   "version": "3.7.3"
  }
 },
 "nbformat": 4,
 "nbformat_minor": 2
}
