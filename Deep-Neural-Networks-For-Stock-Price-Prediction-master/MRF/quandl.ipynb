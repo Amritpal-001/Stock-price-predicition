{
 "cells": [
  {
   "cell_type": "code",
   "execution_count": 1,
   "metadata": {},
   "outputs": [],
   "source": [
    "import quandl\n",
    "import datetime\n",
    "import pandas"
   ]
  },
  {
   "cell_type": "code",
   "execution_count": 11,
   "metadata": {},
   "outputs": [],
   "source": [
    "df = quandl.get(\"NSE/MRF\", authtoken=\"W2gL6N2N-DhBQeGxB3Ly\", start_date=\"2013-01-01\", end_date=\"2018-05-18\")"
   ]
  },
  {
   "cell_type": "code",
   "execution_count": 12,
   "metadata": {},
   "outputs": [
    {
     "data": {
      "text/html": [
       "<div>\n",
       "<style scoped>\n",
       "    .dataframe tbody tr th:only-of-type {\n",
       "        vertical-align: middle;\n",
       "    }\n",
       "\n",
       "    .dataframe tbody tr th {\n",
       "        vertical-align: top;\n",
       "    }\n",
       "\n",
       "    .dataframe thead th {\n",
       "        text-align: right;\n",
       "    }\n",
       "</style>\n",
       "<table border=\"1\" class=\"dataframe\">\n",
       "  <thead>\n",
       "    <tr style=\"text-align: right;\">\n",
       "      <th></th>\n",
       "      <th>Open</th>\n",
       "      <th>High</th>\n",
       "      <th>Low</th>\n",
       "      <th>Last</th>\n",
       "      <th>Close</th>\n",
       "      <th>Total Trade Quantity</th>\n",
       "      <th>Turnover (Lacs)</th>\n",
       "    </tr>\n",
       "    <tr>\n",
       "      <th>Date</th>\n",
       "      <th></th>\n",
       "      <th></th>\n",
       "      <th></th>\n",
       "      <th></th>\n",
       "      <th></th>\n",
       "      <th></th>\n",
       "      <th></th>\n",
       "    </tr>\n",
       "  </thead>\n",
       "  <tbody>\n",
       "    <tr>\n",
       "      <th>2013-01-01</th>\n",
       "      <td>12927.0</td>\n",
       "      <td>13380.00</td>\n",
       "      <td>12879.85</td>\n",
       "      <td>13350.0</td>\n",
       "      <td>13243.25</td>\n",
       "      <td>20619.0</td>\n",
       "      <td>2695.81</td>\n",
       "    </tr>\n",
       "    <tr>\n",
       "      <th>2013-01-02</th>\n",
       "      <td>13312.4</td>\n",
       "      <td>13435.00</td>\n",
       "      <td>13256.00</td>\n",
       "      <td>13295.0</td>\n",
       "      <td>13316.20</td>\n",
       "      <td>12217.0</td>\n",
       "      <td>1631.71</td>\n",
       "    </tr>\n",
       "    <tr>\n",
       "      <th>2013-01-03</th>\n",
       "      <td>13351.0</td>\n",
       "      <td>13365.95</td>\n",
       "      <td>13124.15</td>\n",
       "      <td>13273.0</td>\n",
       "      <td>13279.10</td>\n",
       "      <td>10213.0</td>\n",
       "      <td>1353.29</td>\n",
       "    </tr>\n",
       "    <tr>\n",
       "      <th>2013-01-04</th>\n",
       "      <td>13240.0</td>\n",
       "      <td>13418.40</td>\n",
       "      <td>13221.30</td>\n",
       "      <td>13365.0</td>\n",
       "      <td>13361.10</td>\n",
       "      <td>7307.0</td>\n",
       "      <td>973.81</td>\n",
       "    </tr>\n",
       "    <tr>\n",
       "      <th>2013-01-07</th>\n",
       "      <td>13375.0</td>\n",
       "      <td>13439.95</td>\n",
       "      <td>13265.00</td>\n",
       "      <td>13295.0</td>\n",
       "      <td>13288.80</td>\n",
       "      <td>7509.0</td>\n",
       "      <td>1001.57</td>\n",
       "    </tr>\n",
       "  </tbody>\n",
       "</table>\n",
       "</div>"
      ],
      "text/plain": [
       "               Open      High       Low     Last     Close  \\\n",
       "Date                                                         \n",
       "2013-01-01  12927.0  13380.00  12879.85  13350.0  13243.25   \n",
       "2013-01-02  13312.4  13435.00  13256.00  13295.0  13316.20   \n",
       "2013-01-03  13351.0  13365.95  13124.15  13273.0  13279.10   \n",
       "2013-01-04  13240.0  13418.40  13221.30  13365.0  13361.10   \n",
       "2013-01-07  13375.0  13439.95  13265.00  13295.0  13288.80   \n",
       "\n",
       "            Total Trade Quantity  Turnover (Lacs)  \n",
       "Date                                               \n",
       "2013-01-01               20619.0          2695.81  \n",
       "2013-01-02               12217.0          1631.71  \n",
       "2013-01-03               10213.0          1353.29  \n",
       "2013-01-04                7307.0           973.81  \n",
       "2013-01-07                7509.0          1001.57  "
      ]
     },
     "execution_count": 12,
     "metadata": {},
     "output_type": "execute_result"
    }
   ],
   "source": [
    "df.head()"
   ]
  },
  {
   "cell_type": "code",
   "execution_count": 13,
   "metadata": {},
   "outputs": [
    {
     "data": {
      "text/plain": [
       "Open                    1331\n",
       "High                    1331\n",
       "Low                     1331\n",
       "Last                    1331\n",
       "Close                   1331\n",
       "Total Trade Quantity    1331\n",
       "Turnover (Lacs)         1331\n",
       "dtype: int64"
      ]
     },
     "execution_count": 13,
     "metadata": {},
     "output_type": "execute_result"
    }
   ],
   "source": [
    "df.count()"
   ]
  },
  {
   "cell_type": "code",
   "execution_count": 14,
   "metadata": {},
   "outputs": [],
   "source": [
    "today = datetime.date.today()\n",
    "stock_name = 'mrf'\n",
    "file_name = stock_name+'_stock_%s.csv' % today\n",
    "df.to_csv(file_name)"
   ]
  }
 ],
 "metadata": {
  "kernelspec": {
   "display_name": "Python 3",
   "language": "python",
   "name": "python3"
  },
  "language_info": {
   "codemirror_mode": {
    "name": "ipython",
    "version": 3
   },
   "file_extension": ".py",
   "mimetype": "text/x-python",
   "name": "python",
   "nbconvert_exporter": "python",
   "pygments_lexer": "ipython3",
   "version": "3.6.4"
  }
 },
 "nbformat": 4,
 "nbformat_minor": 2
}
