{
  "nbformat": 4,
  "nbformat_minor": 0,
  "metadata": {
    "colab": {
      "name": "Project2(SVM and LR).ipynb",
      "provenance": [],
      "authorship_tag": "ABX9TyPadM95AnQ30O3QQb7zoPl/",
      "include_colab_link": true
    },
    "kernelspec": {
      "name": "python3",
      "display_name": "Python 3"
    }
  },
  "cells": [
    {
      "cell_type": "markdown",
      "metadata": {
        "id": "view-in-github",
        "colab_type": "text"
      },
      "source": [
        "<a href=\"https://colab.research.google.com/github/AnarHuseynov00/Microsoft-stock-price-prediction-using-SVR-and-LR/blob/master/Project2(SVM_and_LR).ipynb\" target=\"_parent\"><img src=\"https://colab.research.google.com/assets/colab-badge.svg\" alt=\"Open In Colab\"/></a>"
      ]
    },
    {
      "cell_type": "code",
      "metadata": {
        "id": "qwpZwlkcC6D0",
        "colab_type": "code",
        "outputId": "a5879584-e69d-4158-bff7-83ab91e262a3",
        "colab": {
          "base_uri": "https://localhost:8080/",
          "height": 302
        }
      },
      "source": [
        "pip install quandl"
      ],
      "execution_count": 1,
      "outputs": [
        {
          "output_type": "stream",
          "text": [
            "Collecting quandl\n",
            "  Downloading https://files.pythonhosted.org/packages/07/ab/8cd479fba8a9b197a43a0d55dd534b066fb8e5a0a04b5c0384cbc5d663aa/Quandl-3.5.0-py2.py3-none-any.whl\n",
            "Collecting inflection>=0.3.1\n",
            "  Downloading https://files.pythonhosted.org/packages/52/c1/36be286d85dbd76527fb613527222a795d7c071da195fa916e7bf3cb03cb/inflection-0.4.0-py2.py3-none-any.whl\n",
            "Requirement already satisfied: pandas>=0.14 in /usr/local/lib/python3.6/dist-packages (from quandl) (1.0.3)\n",
            "Requirement already satisfied: more-itertools in /usr/local/lib/python3.6/dist-packages (from quandl) (8.2.0)\n",
            "Requirement already satisfied: numpy>=1.8 in /usr/local/lib/python3.6/dist-packages (from quandl) (1.18.3)\n",
            "Requirement already satisfied: six in /usr/local/lib/python3.6/dist-packages (from quandl) (1.12.0)\n",
            "Requirement already satisfied: python-dateutil in /usr/local/lib/python3.6/dist-packages (from quandl) (2.8.1)\n",
            "Requirement already satisfied: requests>=2.7.0 in /usr/local/lib/python3.6/dist-packages (from quandl) (2.23.0)\n",
            "Requirement already satisfied: pytz>=2017.2 in /usr/local/lib/python3.6/dist-packages (from pandas>=0.14->quandl) (2018.9)\n",
            "Requirement already satisfied: certifi>=2017.4.17 in /usr/local/lib/python3.6/dist-packages (from requests>=2.7.0->quandl) (2020.4.5.1)\n",
            "Requirement already satisfied: urllib3!=1.25.0,!=1.25.1,<1.26,>=1.21.1 in /usr/local/lib/python3.6/dist-packages (from requests>=2.7.0->quandl) (1.24.3)\n",
            "Requirement already satisfied: idna<3,>=2.5 in /usr/local/lib/python3.6/dist-packages (from requests>=2.7.0->quandl) (2.9)\n",
            "Requirement already satisfied: chardet<4,>=3.0.2 in /usr/local/lib/python3.6/dist-packages (from requests>=2.7.0->quandl) (3.0.4)\n",
            "Installing collected packages: inflection, quandl\n",
            "Successfully installed inflection-0.4.0 quandl-3.5.0\n"
          ],
          "name": "stdout"
        }
      ]
    },
    {
      "cell_type": "code",
      "metadata": {
        "id": "5rhPet6bjjA1",
        "colab_type": "code",
        "colab": {}
      },
      "source": [
        "import quandl\n",
        "import numpy as np\n",
        "from sklearn.linear_model import LinearRegression\n",
        "from sklearn.svm import SVR\n",
        "from sklearn.model_selection import train_test_split"
      ],
      "execution_count": 0,
      "outputs": []
    },
    {
      "cell_type": "code",
      "metadata": {
        "id": "lD1RLnd_jpsL",
        "colab_type": "code",
        "outputId": "ef1a0783-fa74-440b-b54a-70acc95d3b25",
        "colab": {
          "base_uri": "https://localhost:8080/",
          "height": 168
        }
      },
      "source": [
        "df = quandl.get(\"WIKI/MSFT\")\n",
        "print(df.head())"
      ],
      "execution_count": 5,
      "outputs": [
        {
          "output_type": "stream",
          "text": [
            "             Open   High   Low  ...  Adj. Low  Adj. Close   Adj. Volume\n",
            "Date                            ...                                    \n",
            "1986-03-13  25.50  29.25  25.5  ...  0.058941    0.064720  1.031789e+09\n",
            "1986-03-14  28.00  29.50  28.0  ...  0.064720    0.067031  3.081600e+08\n",
            "1986-03-17  29.00  29.75  29.0  ...  0.067031    0.068187  1.331712e+08\n",
            "1986-03-18  29.50  29.75  28.5  ...  0.065876    0.066454  6.776640e+07\n",
            "1986-03-19  28.75  29.00  28.0  ...  0.064720    0.065298  4.789440e+07\n",
            "\n",
            "[5 rows x 12 columns]\n"
          ],
          "name": "stdout"
        }
      ]
    },
    {
      "cell_type": "code",
      "metadata": {
        "id": "wG9mi-NKkX_1",
        "colab_type": "code",
        "outputId": "c68a7c4f-d54f-4527-9d11-33f2f273fb4e",
        "colab": {
          "base_uri": "https://localhost:8080/",
          "height": 431
        }
      },
      "source": [
        "df = df[[\"Adj. Close\"]]\n",
        "df"
      ],
      "execution_count": 6,
      "outputs": [
        {
          "output_type": "execute_result",
          "data": {
            "text/html": [
              "<div>\n",
              "<style scoped>\n",
              "    .dataframe tbody tr th:only-of-type {\n",
              "        vertical-align: middle;\n",
              "    }\n",
              "\n",
              "    .dataframe tbody tr th {\n",
              "        vertical-align: top;\n",
              "    }\n",
              "\n",
              "    .dataframe thead th {\n",
              "        text-align: right;\n",
              "    }\n",
              "</style>\n",
              "<table border=\"1\" class=\"dataframe\">\n",
              "  <thead>\n",
              "    <tr style=\"text-align: right;\">\n",
              "      <th></th>\n",
              "      <th>Adj. Close</th>\n",
              "    </tr>\n",
              "    <tr>\n",
              "      <th>Date</th>\n",
              "      <th></th>\n",
              "    </tr>\n",
              "  </thead>\n",
              "  <tbody>\n",
              "    <tr>\n",
              "      <th>1986-03-13</th>\n",
              "      <td>0.064720</td>\n",
              "    </tr>\n",
              "    <tr>\n",
              "      <th>1986-03-14</th>\n",
              "      <td>0.067031</td>\n",
              "    </tr>\n",
              "    <tr>\n",
              "      <th>1986-03-17</th>\n",
              "      <td>0.068187</td>\n",
              "    </tr>\n",
              "    <tr>\n",
              "      <th>1986-03-18</th>\n",
              "      <td>0.066454</td>\n",
              "    </tr>\n",
              "    <tr>\n",
              "      <th>1986-03-19</th>\n",
              "      <td>0.065298</td>\n",
              "    </tr>\n",
              "    <tr>\n",
              "      <th>...</th>\n",
              "      <td>...</td>\n",
              "    </tr>\n",
              "    <tr>\n",
              "      <th>2018-03-21</th>\n",
              "      <td>92.480000</td>\n",
              "    </tr>\n",
              "    <tr>\n",
              "      <th>2018-03-22</th>\n",
              "      <td>89.790000</td>\n",
              "    </tr>\n",
              "    <tr>\n",
              "      <th>2018-03-23</th>\n",
              "      <td>87.180000</td>\n",
              "    </tr>\n",
              "    <tr>\n",
              "      <th>2018-03-26</th>\n",
              "      <td>93.780000</td>\n",
              "    </tr>\n",
              "    <tr>\n",
              "      <th>2018-03-27</th>\n",
              "      <td>89.470000</td>\n",
              "    </tr>\n",
              "  </tbody>\n",
              "</table>\n",
              "<p>8076 rows × 1 columns</p>\n",
              "</div>"
            ],
            "text/plain": [
              "            Adj. Close\n",
              "Date                  \n",
              "1986-03-13    0.064720\n",
              "1986-03-14    0.067031\n",
              "1986-03-17    0.068187\n",
              "1986-03-18    0.066454\n",
              "1986-03-19    0.065298\n",
              "...                ...\n",
              "2018-03-21   92.480000\n",
              "2018-03-22   89.790000\n",
              "2018-03-23   87.180000\n",
              "2018-03-26   93.780000\n",
              "2018-03-27   89.470000\n",
              "\n",
              "[8076 rows x 1 columns]"
            ]
          },
          "metadata": {
            "tags": []
          },
          "execution_count": 6
        }
      ]
    },
    {
      "cell_type": "code",
      "metadata": {
        "id": "Amva0eC2lKuU",
        "colab_type": "code",
        "colab": {}
      },
      "source": [
        "forecast_out = 30\n",
        "df['Prediction'] = df[['Adj. Close']].shift(-forecast_out)"
      ],
      "execution_count": 0,
      "outputs": []
    },
    {
      "cell_type": "code",
      "metadata": {
        "id": "nbLTLBGSlo-h",
        "colab_type": "code",
        "outputId": "2127e3b4-daf2-480d-b5fd-b3773e459fbd",
        "colab": {
          "base_uri": "https://localhost:8080/",
          "height": 225
        }
      },
      "source": [
        "df.head()"
      ],
      "execution_count": 8,
      "outputs": [
        {
          "output_type": "execute_result",
          "data": {
            "text/html": [
              "<div>\n",
              "<style scoped>\n",
              "    .dataframe tbody tr th:only-of-type {\n",
              "        vertical-align: middle;\n",
              "    }\n",
              "\n",
              "    .dataframe tbody tr th {\n",
              "        vertical-align: top;\n",
              "    }\n",
              "\n",
              "    .dataframe thead th {\n",
              "        text-align: right;\n",
              "    }\n",
              "</style>\n",
              "<table border=\"1\" class=\"dataframe\">\n",
              "  <thead>\n",
              "    <tr style=\"text-align: right;\">\n",
              "      <th></th>\n",
              "      <th>Adj. Close</th>\n",
              "      <th>Prediction</th>\n",
              "    </tr>\n",
              "    <tr>\n",
              "      <th>Date</th>\n",
              "      <th></th>\n",
              "      <th></th>\n",
              "    </tr>\n",
              "  </thead>\n",
              "  <tbody>\n",
              "    <tr>\n",
              "      <th>1986-03-13</th>\n",
              "      <td>0.064720</td>\n",
              "      <td>0.078011</td>\n",
              "    </tr>\n",
              "    <tr>\n",
              "      <th>1986-03-14</th>\n",
              "      <td>0.067031</td>\n",
              "      <td>0.078589</td>\n",
              "    </tr>\n",
              "    <tr>\n",
              "      <th>1986-03-17</th>\n",
              "      <td>0.068187</td>\n",
              "      <td>0.076277</td>\n",
              "    </tr>\n",
              "    <tr>\n",
              "      <th>1986-03-18</th>\n",
              "      <td>0.066454</td>\n",
              "      <td>0.074544</td>\n",
              "    </tr>\n",
              "    <tr>\n",
              "      <th>1986-03-19</th>\n",
              "      <td>0.065298</td>\n",
              "      <td>0.073388</td>\n",
              "    </tr>\n",
              "  </tbody>\n",
              "</table>\n",
              "</div>"
            ],
            "text/plain": [
              "            Adj. Close  Prediction\n",
              "Date                              \n",
              "1986-03-13    0.064720    0.078011\n",
              "1986-03-14    0.067031    0.078589\n",
              "1986-03-17    0.068187    0.076277\n",
              "1986-03-18    0.066454    0.074544\n",
              "1986-03-19    0.065298    0.073388"
            ]
          },
          "metadata": {
            "tags": []
          },
          "execution_count": 8
        }
      ]
    },
    {
      "cell_type": "code",
      "metadata": {
        "id": "LnS8m_5klr9O",
        "colab_type": "code",
        "outputId": "6fceb396-f217-436a-a963-e0240ff5f4bc",
        "colab": {
          "base_uri": "https://localhost:8080/",
          "height": 225
        }
      },
      "source": [
        "df.tail()"
      ],
      "execution_count": 9,
      "outputs": [
        {
          "output_type": "execute_result",
          "data": {
            "text/html": [
              "<div>\n",
              "<style scoped>\n",
              "    .dataframe tbody tr th:only-of-type {\n",
              "        vertical-align: middle;\n",
              "    }\n",
              "\n",
              "    .dataframe tbody tr th {\n",
              "        vertical-align: top;\n",
              "    }\n",
              "\n",
              "    .dataframe thead th {\n",
              "        text-align: right;\n",
              "    }\n",
              "</style>\n",
              "<table border=\"1\" class=\"dataframe\">\n",
              "  <thead>\n",
              "    <tr style=\"text-align: right;\">\n",
              "      <th></th>\n",
              "      <th>Adj. Close</th>\n",
              "      <th>Prediction</th>\n",
              "    </tr>\n",
              "    <tr>\n",
              "      <th>Date</th>\n",
              "      <th></th>\n",
              "      <th></th>\n",
              "    </tr>\n",
              "  </thead>\n",
              "  <tbody>\n",
              "    <tr>\n",
              "      <th>2018-03-21</th>\n",
              "      <td>92.48</td>\n",
              "      <td>NaN</td>\n",
              "    </tr>\n",
              "    <tr>\n",
              "      <th>2018-03-22</th>\n",
              "      <td>89.79</td>\n",
              "      <td>NaN</td>\n",
              "    </tr>\n",
              "    <tr>\n",
              "      <th>2018-03-23</th>\n",
              "      <td>87.18</td>\n",
              "      <td>NaN</td>\n",
              "    </tr>\n",
              "    <tr>\n",
              "      <th>2018-03-26</th>\n",
              "      <td>93.78</td>\n",
              "      <td>NaN</td>\n",
              "    </tr>\n",
              "    <tr>\n",
              "      <th>2018-03-27</th>\n",
              "      <td>89.47</td>\n",
              "      <td>NaN</td>\n",
              "    </tr>\n",
              "  </tbody>\n",
              "</table>\n",
              "</div>"
            ],
            "text/plain": [
              "            Adj. Close  Prediction\n",
              "Date                              \n",
              "2018-03-21       92.48         NaN\n",
              "2018-03-22       89.79         NaN\n",
              "2018-03-23       87.18         NaN\n",
              "2018-03-26       93.78         NaN\n",
              "2018-03-27       89.47         NaN"
            ]
          },
          "metadata": {
            "tags": []
          },
          "execution_count": 9
        }
      ]
    },
    {
      "cell_type": "code",
      "metadata": {
        "id": "HLqtvfoCl44x",
        "colab_type": "code",
        "colab": {}
      },
      "source": [
        "X = np.array(df.drop(['Prediction'],1))\n",
        "X = X[:-forecast_out]"
      ],
      "execution_count": 0,
      "outputs": []
    },
    {
      "cell_type": "code",
      "metadata": {
        "id": "76vJfFNimw_j",
        "colab_type": "code",
        "colab": {}
      },
      "source": [
        "Y = np.array(df['Prediction'])\n",
        "Y = Y[:-forecast_out]"
      ],
      "execution_count": 0,
      "outputs": []
    },
    {
      "cell_type": "code",
      "metadata": {
        "id": "b7dybpcknn3F",
        "colab_type": "code",
        "colab": {}
      },
      "source": [
        "x_train, x_test, y_train, y_test = train_test_split(X, Y, test_size = 0.2)"
      ],
      "execution_count": 0,
      "outputs": []
    },
    {
      "cell_type": "code",
      "metadata": {
        "id": "xr0AEqjQnpkE",
        "colab_type": "code",
        "outputId": "fd048aeb-a5f1-4140-f0f9-372e29654b83",
        "colab": {
          "base_uri": "https://localhost:8080/",
          "height": 50
        }
      },
      "source": [
        "#SVM (SVR)\n",
        "SVR_rbf = SVR(kernel='rbf', C = 1e3, gamma=0.1)\n",
        "SVR_rbf.fit(x_train, y_train)"
      ],
      "execution_count": 13,
      "outputs": [
        {
          "output_type": "execute_result",
          "data": {
            "text/plain": [
              "SVR(C=1000.0, cache_size=200, coef0=0.0, degree=3, epsilon=0.1, gamma=0.1,\n",
              "    kernel='rbf', max_iter=-1, shrinking=True, tol=0.001, verbose=False)"
            ]
          },
          "metadata": {
            "tags": []
          },
          "execution_count": 13
        }
      ]
    },
    {
      "cell_type": "code",
      "metadata": {
        "id": "BlFXCe_-o--l",
        "colab_type": "code",
        "outputId": "adca5c69-f1cb-4548-f6d2-26fe4951134e",
        "colab": {
          "base_uri": "https://localhost:8080/",
          "height": 34
        }
      },
      "source": [
        "#test\n",
        "confidence_svm = SVR_rbf.score(x_test, y_test)\n",
        "print(confidence_svm)"
      ],
      "execution_count": 14,
      "outputs": [
        {
          "output_type": "stream",
          "text": [
            "0.9897957590309014\n"
          ],
          "name": "stdout"
        }
      ]
    },
    {
      "cell_type": "code",
      "metadata": {
        "id": "zLghOL9wp4Jn",
        "colab_type": "code",
        "outputId": "2fcc6ef2-658f-4dfa-fb14-20ebfbb96b98",
        "colab": {
          "base_uri": "https://localhost:8080/",
          "height": 34
        }
      },
      "source": [
        "lr = LinearRegression()\n",
        "lr.fit(x_train, y_train)\n",
        "confidence_lr = lr.score(x_test, y_test)\n",
        "print(confidence_lr)"
      ],
      "execution_count": 15,
      "outputs": [
        {
          "output_type": "stream",
          "text": [
            "0.9875755371750361\n"
          ],
          "name": "stdout"
        }
      ]
    },
    {
      "cell_type": "code",
      "metadata": {
        "id": "AXBObpnyqlx9",
        "colab_type": "code",
        "colab": {}
      },
      "source": [
        "x_forecast = np.array(df.drop(['Prediction'], 1))[-forecast_out:]"
      ],
      "execution_count": 0,
      "outputs": []
    },
    {
      "cell_type": "code",
      "metadata": {
        "id": "PGghf46SqyVG",
        "colab_type": "code",
        "outputId": "b6eaa6db-a178-4767-81e5-8038569d8f3f",
        "colab": {
          "base_uri": "https://localhost:8080/",
          "height": 521
        }
      },
      "source": [
        "x_forecast"
      ],
      "execution_count": 17,
      "outputs": [
        {
          "output_type": "execute_result",
          "data": {
            "text/plain": [
              "array([[89.83],\n",
              "       [90.81],\n",
              "       [92.66],\n",
              "       [92.  ],\n",
              "       [92.72],\n",
              "       [91.49],\n",
              "       [91.74],\n",
              "       [94.06],\n",
              "       [95.42],\n",
              "       [94.2 ],\n",
              "       [93.77],\n",
              "       [92.85],\n",
              "       [93.05],\n",
              "       [93.64],\n",
              "       [93.32],\n",
              "       [93.86],\n",
              "       [94.43],\n",
              "       [96.54],\n",
              "       [96.77],\n",
              "       [94.41],\n",
              "       [93.85],\n",
              "       [94.18],\n",
              "       [94.6 ],\n",
              "       [92.89],\n",
              "       [93.13],\n",
              "       [92.48],\n",
              "       [89.79],\n",
              "       [87.18],\n",
              "       [93.78],\n",
              "       [89.47]])"
            ]
          },
          "metadata": {
            "tags": []
          },
          "execution_count": 17
        }
      ]
    },
    {
      "cell_type": "code",
      "metadata": {
        "id": "2PY3oep8rBK2",
        "colab_type": "code",
        "outputId": "bfbb1ee2-3432-4377-ae41-822e0f5f6e99",
        "colab": {
          "base_uri": "https://localhost:8080/",
          "height": 101
        }
      },
      "source": [
        "lr_prediction = lr.predict(x_forecast)\n",
        "print(lr_prediction)"
      ],
      "execution_count": 18,
      "outputs": [
        {
          "output_type": "stream",
          "text": [
            "[92.05054274 93.05606513 94.95424516 94.27705661 95.01580776 93.75377455\n",
            " 94.01028536 96.39070573 97.78612456 96.53435178 96.09315318 95.14919338\n",
            " 95.35440203 95.95976756 95.63143371 96.18549707 96.77034173 98.93529301\n",
            " 99.17128296 96.74982087 96.17523664 96.51383092 96.94476909 95.19023511\n",
            " 95.43648549 94.76955738 92.00950101 89.3315281  96.10341361 91.68116716]\n"
          ],
          "name": "stdout"
        }
      ]
    },
    {
      "cell_type": "code",
      "metadata": {
        "id": "V6oW1Vm8rK2Y",
        "colab_type": "code",
        "outputId": "18d418e1-5da4-40b9-e5a5-cecca63f4e45",
        "colab": {
          "base_uri": "https://localhost:8080/",
          "height": 101
        }
      },
      "source": [
        "svm_prediction = SVR_rbf.predict(x_forecast)\n",
        "print(svm_prediction)"
      ],
      "execution_count": 19,
      "outputs": [
        {
          "output_type": "stream",
          "text": [
            "[92.83101941 93.05086618 93.89141419 93.42202636 93.93540361 93.17478065\n",
            " 93.27768936 94.52153274 93.3998154  94.51843541 94.48214431 94.02832768\n",
            " 94.16160144 94.44634111 94.31491936 94.50054971 94.47639613 88.46761424\n",
            " 86.75589886 94.48208629 94.49877    94.51984405 94.40997538 94.05605323\n",
            " 94.21059503 93.75758696 92.81116717 92.06780831 94.48445203 92.61840072]\n"
          ],
          "name": "stdout"
        }
      ]
    },
    {
      "cell_type": "code",
      "metadata": {
        "id": "FcY_U57IrVe7",
        "colab_type": "code",
        "colab": {}
      },
      "source": [
        ""
      ],
      "execution_count": 0,
      "outputs": []
    }
  ]
}