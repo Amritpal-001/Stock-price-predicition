{
 "cells": [
  {
   "cell_type": "markdown",
   "metadata": {},
   "source": [
    "# Pipeline Example\n",
    "\n",
    "We will cover the following Topics\n",
    "1. Pipeline Example\n",
    "2. Leverage\n",
    "3. Hedging\n",
    "4. PyFolio for Portfolioio Analysis\n",
    "5. Stock Sentiment Trading Strategy\n",
    "6. Futures"
   ]
  },
  {
   "cell_type": "code",
   "execution_count": 1,
   "metadata": {},
   "outputs": [],
   "source": [
    "from quantopian.pipeline import Pipeline\n",
    "from quantopian.research import run_pipeline\n",
    "from quantopian.pipeline.data.builtin import USEquityPricing"
   ]
  },
  {
   "cell_type": "code",
   "execution_count": 2,
   "metadata": {},
   "outputs": [],
   "source": [
    "# Stock universes try to avoid not traded error\n",
    "from quantopian.pipeline.filters import Q1500US"
   ]
  },
  {
   "cell_type": "code",
   "execution_count": 3,
   "metadata": {},
   "outputs": [],
   "source": [
    "universe = Q1500US()"
   ]
  },
  {
   "cell_type": "code",
   "execution_count": 4,
   "metadata": {},
   "outputs": [],
   "source": [
    "from quantopian.pipeline.data import morningstar"
   ]
  },
  {
   "cell_type": "code",
   "execution_count": 5,
   "metadata": {},
   "outputs": [],
   "source": [
    "sector = morningstar.asset_classification.morningstar_sector_code.latest"
   ]
  },
  {
   "cell_type": "code",
   "execution_count": 6,
   "metadata": {},
   "outputs": [],
   "source": [
    "#from quantopian.pipeline.classifiers.morningstar import Sector"
   ]
  },
  {
   "cell_type": "code",
   "execution_count": 7,
   "metadata": {},
   "outputs": [],
   "source": [
    "# Link for different sector codes in notebook\n",
    "energy_sector = sector.eq(309)"
   ]
  },
  {
   "cell_type": "code",
   "execution_count": 8,
   "metadata": {},
   "outputs": [],
   "source": [
    "from quantopian.pipeline.factors import SimpleMovingAverage, AverageDollarVolume"
   ]
  },
  {
   "cell_type": "code",
   "execution_count": 11,
   "metadata": {},
   "outputs": [],
   "source": [
    "# Past 30 days\n",
    "dollar_volume = AverageDollarVolume(window_length=30)"
   ]
  },
  {
   "cell_type": "code",
   "execution_count": 19,
   "metadata": {},
   "outputs": [],
   "source": [
    "dollar_volume.top(5)\n",
    "dollar_volume.bottom(5)\n",
    "# Top 10% of stocks\n",
    "high_dollar_volume = dollar_volume.percentile_between(90,100)"
   ]
  },
  {
   "cell_type": "code",
   "execution_count": 21,
   "metadata": {},
   "outputs": [],
   "source": [
    "top_open_prices = USEquityPricing.open.latest.top(50, mask=high_dollar_volume)"
   ]
  },
  {
   "cell_type": "code",
   "execution_count": 22,
   "metadata": {},
   "outputs": [],
   "source": [
    "high_close_price = USEquityPricing.close.latest.percentile_between(90,100,mask= top_open_prices)"
   ]
  },
  {
   "cell_type": "code",
   "execution_count": 24,
   "metadata": {},
   "outputs": [],
   "source": [
    "def make_pipeline():\n",
    "    # Universe of Q1500\n",
    "    base_universe = Q1500US()\n",
    "    \n",
    "    # Energy Sector\n",
    "    energy_sector = sector.eq(309)\n",
    "    \n",
    "    # Make a mask of 1500US and Energy\n",
    "    base_energy = base_universe & energy_sector\n",
    "    \n",
    "    # Dollar volume (30 days) Grab the iniformation\n",
    "    dollar_volume = AverageDollarVolume(window_length=30)\n",
    "    \n",
    "    # Grab the top 5% in avg dollar volume\n",
    "    high_dollar_volume = dollar_volume.percentile_between(95,100)\n",
    "    \n",
    "    # Combine the filters\n",
    "    top_five_base_energy = base_energy & high_dollar_volume\n",
    "    \n",
    "    # 10 day mean close\n",
    "    mean_10 = SimpleMovingAverage(inputs=[\n",
    "        USEquityPricing.close\n",
    "    ],window_length=10,mask=top_five_base_energy)\n",
    "    \n",
    "    # 30 day mean close\n",
    "    mean_30 = SimpleMovingAverage(inputs=[\n",
    "        USEquityPricing.close\n",
    "    ],window_length=30,mask=top_five_base_energy)\n",
    "    \n",
    "    # Percent difference between\n",
    "    percent_diff = (mean_10-mean_30) / mean_30\n",
    "    \n",
    "    # List of shorts\n",
    "    shorts = percent_diff < 0\n",
    "    \n",
    "    # List of Longs\n",
    "    longs = percent_diff > 0\n",
    "    \n",
    "    # Final mask/Filter for anything in shorts or longs\n",
    "    securities_to_trade = (shorts | longs)\n",
    "    \n",
    "    # Return Pipeline\n",
    "    return Pipeline(\n",
    "        columns ={\n",
    "            'longs': longs,\n",
    "            'shorts': shorts,\n",
    "            'percent_diff': percent_diff,\n",
    "        },\n",
    "        screen=securities_to_trade\n",
    "    )\n",
    "    "
   ]
  },
  {
   "cell_type": "code",
   "execution_count": 25,
   "metadata": {},
   "outputs": [
    {
     "data": {
      "application/vnd.jupyter.widget-view+json": {
       "model_id": "",
       "version_major": 2,
       "version_minor": 0
      },
      "text/plain": []
     },
     "metadata": {},
     "output_type": "display_data"
    },
    {
     "data": {
      "text/html": [
       "<b>Pipeline Execution Time:</b> 18.41 Seconds"
      ],
      "text/plain": [
       "<IPython.core.display.HTML object>"
      ]
     },
     "metadata": {},
     "output_type": "display_data"
    }
   ],
   "source": [
    "result = run_pipeline(make_pipeline(),'2015-05-05','2015-05-05')"
   ]
  },
  {
   "cell_type": "code",
   "execution_count": 26,
   "metadata": {},
   "outputs": [
    {
     "data": {
      "text/html": [
       "<div>\n",
       "<table border=\"1\" class=\"dataframe\">\n",
       "  <thead>\n",
       "    <tr style=\"text-align: right;\">\n",
       "      <th></th>\n",
       "      <th></th>\n",
       "      <th>longs</th>\n",
       "      <th>percent_diff</th>\n",
       "      <th>shorts</th>\n",
       "    </tr>\n",
       "  </thead>\n",
       "  <tbody>\n",
       "    <tr>\n",
       "      <th rowspan=\"5\" valign=\"top\">2015-05-05 00:00:00+00:00</th>\n",
       "      <th>Equity(216 [HES])</th>\n",
       "      <td>True</td>\n",
       "      <td>0.036528</td>\n",
       "      <td>False</td>\n",
       "    </tr>\n",
       "    <tr>\n",
       "      <th>Equity(448 [APA])</th>\n",
       "      <td>True</td>\n",
       "      <td>0.035926</td>\n",
       "      <td>False</td>\n",
       "    </tr>\n",
       "    <tr>\n",
       "      <th>Equity(455 [APC])</th>\n",
       "      <td>True</td>\n",
       "      <td>0.049153</td>\n",
       "      <td>False</td>\n",
       "    </tr>\n",
       "    <tr>\n",
       "      <th>Equity(858 [BHI])</th>\n",
       "      <td>True</td>\n",
       "      <td>0.033807</td>\n",
       "      <td>False</td>\n",
       "    </tr>\n",
       "    <tr>\n",
       "      <th>Equity(1746 [COG])</th>\n",
       "      <td>True</td>\n",
       "      <td>0.058078</td>\n",
       "      <td>False</td>\n",
       "    </tr>\n",
       "  </tbody>\n",
       "</table>\n",
       "</div>"
      ],
      "text/plain": [
       "                                             longs  percent_diff shorts\n",
       "2015-05-05 00:00:00+00:00 Equity(216 [HES])   True      0.036528  False\n",
       "                          Equity(448 [APA])   True      0.035926  False\n",
       "                          Equity(455 [APC])   True      0.049153  False\n",
       "                          Equity(858 [BHI])   True      0.033807  False\n",
       "                          Equity(1746 [COG])  True      0.058078  False"
      ]
     },
     "execution_count": 26,
     "metadata": {},
     "output_type": "execute_result"
    }
   ],
   "source": [
    "result.head()"
   ]
  },
  {
   "cell_type": "code",
   "execution_count": 27,
   "metadata": {},
   "outputs": [
    {
     "data": {
      "text/plain": [
       "38"
      ]
     },
     "execution_count": 27,
     "metadata": {},
     "output_type": "execute_result"
    }
   ],
   "source": [
    "len(result)"
   ]
  },
  {
   "cell_type": "code",
   "execution_count": 28,
   "metadata": {},
   "outputs": [
    {
     "data": {
      "text/html": [
       "<div>\n",
       "<table border=\"1\" class=\"dataframe\">\n",
       "  <thead>\n",
       "    <tr style=\"text-align: right;\">\n",
       "      <th></th>\n",
       "      <th></th>\n",
       "      <th>longs</th>\n",
       "      <th>percent_diff</th>\n",
       "      <th>shorts</th>\n",
       "    </tr>\n",
       "  </thead>\n",
       "  <tbody>\n",
       "    <tr>\n",
       "      <th rowspan=\"38\" valign=\"top\">2015-05-05 00:00:00+00:00</th>\n",
       "      <th>Equity(216 [HES])</th>\n",
       "      <td>True</td>\n",
       "      <td>0.036528</td>\n",
       "      <td>False</td>\n",
       "    </tr>\n",
       "    <tr>\n",
       "      <th>Equity(448 [APA])</th>\n",
       "      <td>True</td>\n",
       "      <td>0.035926</td>\n",
       "      <td>False</td>\n",
       "    </tr>\n",
       "    <tr>\n",
       "      <th>Equity(455 [APC])</th>\n",
       "      <td>True</td>\n",
       "      <td>0.049153</td>\n",
       "      <td>False</td>\n",
       "    </tr>\n",
       "    <tr>\n",
       "      <th>Equity(858 [BHI])</th>\n",
       "      <td>True</td>\n",
       "      <td>0.033807</td>\n",
       "      <td>False</td>\n",
       "    </tr>\n",
       "    <tr>\n",
       "      <th>Equity(1746 [COG])</th>\n",
       "      <td>True</td>\n",
       "      <td>0.058078</td>\n",
       "      <td>False</td>\n",
       "    </tr>\n",
       "    <tr>\n",
       "      <th>Equity(2368 [DVN])</th>\n",
       "      <td>True</td>\n",
       "      <td>0.046264</td>\n",
       "      <td>False</td>\n",
       "    </tr>\n",
       "    <tr>\n",
       "      <th>Equity(2564 [EOG])</th>\n",
       "      <td>True</td>\n",
       "      <td>0.032102</td>\n",
       "      <td>False</td>\n",
       "    </tr>\n",
       "    <tr>\n",
       "      <th>Equity(2621 [VAL])</th>\n",
       "      <td>True</td>\n",
       "      <td>0.060197</td>\n",
       "      <td>False</td>\n",
       "    </tr>\n",
       "    <tr>\n",
       "      <th>Equity(3443 [HAL])</th>\n",
       "      <td>True</td>\n",
       "      <td>0.049257</td>\n",
       "      <td>False</td>\n",
       "    </tr>\n",
       "    <tr>\n",
       "      <th>Equity(3647 [HP])</th>\n",
       "      <td>True</td>\n",
       "      <td>0.040991</td>\n",
       "      <td>False</td>\n",
       "    </tr>\n",
       "    <tr>\n",
       "      <th>Equity(5035 [MRO])</th>\n",
       "      <td>True</td>\n",
       "      <td>0.061598</td>\n",
       "      <td>False</td>\n",
       "    </tr>\n",
       "    <tr>\n",
       "      <th>Equity(5213 [NBL])</th>\n",
       "      <td>True</td>\n",
       "      <td>0.010443</td>\n",
       "      <td>False</td>\n",
       "    </tr>\n",
       "    <tr>\n",
       "      <th>Equity(5214 [NBR])</th>\n",
       "      <td>True</td>\n",
       "      <td>0.064133</td>\n",
       "      <td>False</td>\n",
       "    </tr>\n",
       "    <tr>\n",
       "      <th>Equity(5249 [NE])</th>\n",
       "      <td>True</td>\n",
       "      <td>0.037559</td>\n",
       "      <td>False</td>\n",
       "    </tr>\n",
       "    <tr>\n",
       "      <th>Equity(5729 [OXY])</th>\n",
       "      <td>True</td>\n",
       "      <td>0.029776</td>\n",
       "      <td>False</td>\n",
       "    </tr>\n",
       "    <tr>\n",
       "      <th>Equity(6928 [SLB])</th>\n",
       "      <td>True</td>\n",
       "      <td>0.046555</td>\n",
       "      <td>False</td>\n",
       "    </tr>\n",
       "    <tr>\n",
       "      <th>Equity(7244 [SWN])</th>\n",
       "      <td>True</td>\n",
       "      <td>0.070788</td>\n",
       "      <td>False</td>\n",
       "    </tr>\n",
       "    <tr>\n",
       "      <th>Equity(7612 [ANDV])</th>\n",
       "      <td>True</td>\n",
       "      <td>0.005997</td>\n",
       "      <td>False</td>\n",
       "    </tr>\n",
       "    <tr>\n",
       "      <th>Equity(7990 [VLO])</th>\n",
       "      <td>False</td>\n",
       "      <td>-0.017145</td>\n",
       "      <td>True</td>\n",
       "    </tr>\n",
       "    <tr>\n",
       "      <th>Equity(8214 [WMB])</th>\n",
       "      <td>True</td>\n",
       "      <td>0.018876</td>\n",
       "      <td>False</td>\n",
       "    </tr>\n",
       "    <tr>\n",
       "      <th>Equity(8347 [XOM])</th>\n",
       "      <td>True</td>\n",
       "      <td>0.017343</td>\n",
       "      <td>False</td>\n",
       "    </tr>\n",
       "    <tr>\n",
       "      <th>Equity(8461 [CHK])</th>\n",
       "      <td>True</td>\n",
       "      <td>0.014265</td>\n",
       "      <td>False</td>\n",
       "    </tr>\n",
       "    <tr>\n",
       "      <th>Equity(9038 [RIG])</th>\n",
       "      <td>True</td>\n",
       "      <td>0.048180</td>\n",
       "      <td>False</td>\n",
       "    </tr>\n",
       "    <tr>\n",
       "      <th>Equity(13176 [CAM])</th>\n",
       "      <td>True</td>\n",
       "      <td>0.082110</td>\n",
       "      <td>False</td>\n",
       "    </tr>\n",
       "    <tr>\n",
       "      <th>Equity(17436 [PXD])</th>\n",
       "      <td>True</td>\n",
       "      <td>0.010248</td>\n",
       "      <td>False</td>\n",
       "    </tr>\n",
       "    <tr>\n",
       "      <th>Equity(19249 [RRC])</th>\n",
       "      <td>True</td>\n",
       "      <td>0.087062</td>\n",
       "      <td>False</td>\n",
       "    </tr>\n",
       "    <tr>\n",
       "      <th>Equity(19336 [WFT])</th>\n",
       "      <td>True</td>\n",
       "      <td>0.049141</td>\n",
       "      <td>False</td>\n",
       "    </tr>\n",
       "    <tr>\n",
       "      <th>Equity(22784 [FTI])</th>\n",
       "      <td>True</td>\n",
       "      <td>0.054529</td>\n",
       "      <td>False</td>\n",
       "    </tr>\n",
       "    <tr>\n",
       "      <th>Equity(23112 [CVX])</th>\n",
       "      <td>True</td>\n",
       "      <td>0.018972</td>\n",
       "      <td>False</td>\n",
       "    </tr>\n",
       "    <tr>\n",
       "      <th>Equity(23998 [COP])</th>\n",
       "      <td>True</td>\n",
       "      <td>0.023902</td>\n",
       "      <td>False</td>\n",
       "    </tr>\n",
       "    <tr>\n",
       "      <th>Equity(24809 [NOV])</th>\n",
       "      <td>True</td>\n",
       "      <td>0.024940</td>\n",
       "      <td>False</td>\n",
       "    </tr>\n",
       "    <tr>\n",
       "      <th>Equity(25707 [WLL])</th>\n",
       "      <td>True</td>\n",
       "      <td>0.048205</td>\n",
       "      <td>False</td>\n",
       "    </tr>\n",
       "    <tr>\n",
       "      <th>Equity(33856 [CLR])</th>\n",
       "      <td>True</td>\n",
       "      <td>0.064304</td>\n",
       "      <td>False</td>\n",
       "    </tr>\n",
       "    <tr>\n",
       "      <th>Equity(34440 [CXO])</th>\n",
       "      <td>True</td>\n",
       "      <td>0.042184</td>\n",
       "      <td>False</td>\n",
       "    </tr>\n",
       "    <tr>\n",
       "      <th>Equity(39797 [OAS])</th>\n",
       "      <td>True</td>\n",
       "      <td>0.042388</td>\n",
       "      <td>False</td>\n",
       "    </tr>\n",
       "    <tr>\n",
       "      <th>Equity(40852 [KMI])</th>\n",
       "      <td>True</td>\n",
       "      <td>0.023016</td>\n",
       "      <td>False</td>\n",
       "    </tr>\n",
       "    <tr>\n",
       "      <th>Equity(41636 [MPC])</th>\n",
       "      <td>True</td>\n",
       "      <td>0.011952</td>\n",
       "      <td>False</td>\n",
       "    </tr>\n",
       "    <tr>\n",
       "      <th>Equity(42788 [PSX])</th>\n",
       "      <td>True</td>\n",
       "      <td>0.020911</td>\n",
       "      <td>False</td>\n",
       "    </tr>\n",
       "  </tbody>\n",
       "</table>\n",
       "</div>"
      ],
      "text/plain": [
       "                                               longs  percent_diff shorts\n",
       "2015-05-05 00:00:00+00:00 Equity(216 [HES])     True      0.036528  False\n",
       "                          Equity(448 [APA])     True      0.035926  False\n",
       "                          Equity(455 [APC])     True      0.049153  False\n",
       "                          Equity(858 [BHI])     True      0.033807  False\n",
       "                          Equity(1746 [COG])    True      0.058078  False\n",
       "                          Equity(2368 [DVN])    True      0.046264  False\n",
       "                          Equity(2564 [EOG])    True      0.032102  False\n",
       "                          Equity(2621 [VAL])    True      0.060197  False\n",
       "                          Equity(3443 [HAL])    True      0.049257  False\n",
       "                          Equity(3647 [HP])     True      0.040991  False\n",
       "                          Equity(5035 [MRO])    True      0.061598  False\n",
       "                          Equity(5213 [NBL])    True      0.010443  False\n",
       "                          Equity(5214 [NBR])    True      0.064133  False\n",
       "                          Equity(5249 [NE])     True      0.037559  False\n",
       "                          Equity(5729 [OXY])    True      0.029776  False\n",
       "                          Equity(6928 [SLB])    True      0.046555  False\n",
       "                          Equity(7244 [SWN])    True      0.070788  False\n",
       "                          Equity(7612 [ANDV])   True      0.005997  False\n",
       "                          Equity(7990 [VLO])   False     -0.017145   True\n",
       "                          Equity(8214 [WMB])    True      0.018876  False\n",
       "                          Equity(8347 [XOM])    True      0.017343  False\n",
       "                          Equity(8461 [CHK])    True      0.014265  False\n",
       "                          Equity(9038 [RIG])    True      0.048180  False\n",
       "                          Equity(13176 [CAM])   True      0.082110  False\n",
       "                          Equity(17436 [PXD])   True      0.010248  False\n",
       "                          Equity(19249 [RRC])   True      0.087062  False\n",
       "                          Equity(19336 [WFT])   True      0.049141  False\n",
       "                          Equity(22784 [FTI])   True      0.054529  False\n",
       "                          Equity(23112 [CVX])   True      0.018972  False\n",
       "                          Equity(23998 [COP])   True      0.023902  False\n",
       "                          Equity(24809 [NOV])   True      0.024940  False\n",
       "                          Equity(25707 [WLL])   True      0.048205  False\n",
       "                          Equity(33856 [CLR])   True      0.064304  False\n",
       "                          Equity(34440 [CXO])   True      0.042184  False\n",
       "                          Equity(39797 [OAS])   True      0.042388  False\n",
       "                          Equity(40852 [KMI])   True      0.023016  False\n",
       "                          Equity(41636 [MPC])   True      0.011952  False\n",
       "                          Equity(42788 [PSX])   True      0.020911  False"
      ]
     },
     "execution_count": 28,
     "metadata": {},
     "output_type": "execute_result"
    }
   ],
   "source": [
    "result"
   ]
  },
  {
   "cell_type": "code",
   "execution_count": null,
   "metadata": {},
   "outputs": [],
   "source": []
  }
 ],
 "metadata": {
  "kernelspec": {
   "display_name": "Python 3.5",
   "language": "python",
   "name": "py35"
  },
  "language_info": {
   "codemirror_mode": {
    "name": "ipython",
    "version": 3
   },
   "file_extension": ".py",
   "mimetype": "text/x-python",
   "name": "python",
   "nbconvert_exporter": "python",
   "pygments_lexer": "ipython3",
   "version": "3.5.9"
  }
 },
 "nbformat": 4,
 "nbformat_minor": 2
}