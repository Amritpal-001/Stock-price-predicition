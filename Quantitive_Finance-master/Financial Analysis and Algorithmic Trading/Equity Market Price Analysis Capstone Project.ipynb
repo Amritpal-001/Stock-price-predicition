{
 "cells": [
  {
   "cell_type": "markdown",
   "metadata": {},
   "source": [
    "# Python For Finacne\n",
    "* welcome to the first large project\n",
    "* project will guid you\n",
    "* stock-market-analysis -capstone-project\n",
    "* work throught it or treat it as a code along project\n",
    "* a few bonus tasks, such as candlestick visualization that require exploring the documentation\n",
    "* another major part is to slowly introduce new financial concepts"
   ]
  },
  {
   "cell_type": "code",
   "execution_count": null,
   "metadata": {},
   "outputs": [],
   "source": []
  }
 ],
 "metadata": {
  "kernelspec": {
   "display_name": "Python 3",
   "language": "python",
   "name": "python3"
  },
  "language_info": {
   "codemirror_mode": {
    "name": "ipython",
    "version": 3
   },
   "file_extension": ".py",
   "mimetype": "text/x-python",
   "name": "python",
   "nbconvert_exporter": "python",
   "pygments_lexer": "ipython3",
   "version": "3.8.2"
  }
 },
 "nbformat": 4,
 "nbformat_minor": 4
}
