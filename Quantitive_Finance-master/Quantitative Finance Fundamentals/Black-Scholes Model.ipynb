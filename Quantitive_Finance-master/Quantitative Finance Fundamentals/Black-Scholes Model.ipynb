{
 "cells": [
  {
   "cell_type": "markdown",
   "metadata": {},
   "source": [
    "### Black Scholes Model\n",
    "\n",
    "They showed that combining risky assets can elimiante risk itself.\n",
    "\n",
    "Modern Portfolio Theory is about including several stocks in a portfolio in order to reduce unsystematic risk, specific risk to individual stocks that can be diversified away.\n",
    "\n",
    "Capm is about systematic risk or market that can not be diversified away. all about beta. \n",
    "\n",
    "Market neutral strategies and delta hedging and pairs trading can eliminate all risk. \n",
    "\n",
    "V(S,t,...) value of an option is a function of various parameters\n",
    "V (s,t, o, u, E, T, r)\n",
    "s,t - stock price and time are variable\n",
    "o,u - volatility and mean are parameters associated with the stock price\n",
    "E,T  - strike price and expiry are parameters associated with the given option\n",
    "r - parameter associated with risk free rate\n",
    "\n",
    "Call option will rise in value if the underlying asset rises and falls if the asset falls\n",
    "\n",
    "Option and underlying stock as a positive correlation for call options\n",
    "\n",
    "Option and underlying stock has a negative correlation for put options\n",
    "\n",
    "we can exploit these correlations to end up with a rather special portfolio\n",
    "\n",
    "TT = V(S,t) - dS\n",
    "     long pos. short pos\n",
    "    \n",
    "The special TT portfolio contains a long position in the V(S,t) option and a short optionn in the S(t) underlying stock\n",
    "\n",
    "what is d? we short just some quantity of the underlying\n",
    "\n",
    "### Dynamic Delta Hedging\n",
    "\n",
    "Assumption the underlying asset follows a log-normal random walk\n",
    "https://en.wikipedia.org/wiki/Log-normal_distribution\n",
    "\n",
    "dS = u S dt + o S dx\n",
    "      deterministic + stochastic (winer)\n",
    "\n",
    "what about the change in the portfolios value\n",
    "\n",
    "The TT portfolio changes from time t to t+dt first of due to change in the V(S,t) option value + because of the change in the S(t) underlying asset\n",
    "\n",
    "dTT = dV(S,t) - ddS\n",
    "\n",
    "How to deal with these changes? With the help of Ito's lemma\n",
    "\n",
    "<img src=\"images/black_scholes_1.png\" />\n",
    "\n",
    "\n",
    "any elimination in randomness is called hedging\n",
    "delta hedging the perfect elimination of rosk because of exploiting the coorrelation between two assets \n",
    "it is an example of dynamic hedging"
   ]
  },
  {
   "cell_type": "markdown",
   "metadata": {},
   "source": [
    "### No Arbitrage Principal\n",
    "\n",
    "<img src=\"images/time_value_of_money.png\" />\n",
    "\n",
    "<img src=\"images/no_arbitrage_principal.png\" />\n",
    "\n",
    "Arbitrage when the invest can make riskless money\n",
    "\n",
    "If we can get a greater return withthe delta hedged portfolio we could borrow money from the bank and pay interest at rate r invest that money into risk free option/stock portfolio and we could make a profit\n",
    "\n",
    "usually we can assume there are no arbitrage opportunities or if there are they exist for just a short period of time\n",
    "\n",
    "<img src=\"images/black_scholes_2.png\" />\n",
    "\n",
    "<img src=\"images/black_scholes_3.png\" />"
   ]
  },
  {
   "cell_type": "markdown",
   "metadata": {},
   "source": [
    "### The Greeks\n",
    "Of Option Pricing\n",
    "\n",
    "Delta d\n",
    "\n",
    "d = dV / dS\n",
    "\n",
    "velocity of underyling price\n",
    "\n",
    "Delta - The delta of an option or portfolio is the sensitivity of the option or portfolio to the underlying\n",
    "\n",
    "the delta of a portfolio is the sunm of deltas or all individual positions\n",
    "\n",
    "it is important when dealing with delta hedging  we can eliminate risk if we make sure delta is equals to the derivative\n",
    "\n",
    "Gamma r\n",
    "\n",
    "r = d^2V / ds^2\n",
    "\n",
    "acceleration of the underlying price\n",
    "\n",
    "Gamma - The Gamma of an option or portfolio is the second derivative of the position with respect to the underlying. It is basically the sensitivity of the Delta. Gamme is a measure of how often a position must be rehedged in order to maintaini a delta-neutral position.\n",
    "\n",
    "Delta-neutral it means the portfolio value remains unchanged when small changes occur in the value of the underlying. \n",
    "\n",
    "Theta o\n",
    "\n",
    "o = dV / dt\n",
    "\n",
    "Theta - the rate of change of the option price with time\n",
    "\n",
    "Vega \n",
    "\n",
    "dV / do\n",
    "\n",
    "Vega - some models rely heavily on the volatility so it may be important to monitor the change according to volatility\n",
    "\n",
    "<img src=\"images/black_scholes_greeks.png\" />\n",
    "\n"
   ]
  },
  {
   "cell_type": "code",
   "execution_count": 32,
   "metadata": {},
   "outputs": [],
   "source": [
    "import numpy as np\n",
    "from numpy.lib.scimath import log as nlog, sqrt as nsqrt\n",
    "import pandas as pd\n",
    "from scipy import log,exp, sqrt, stats"
   ]
  },
  {
   "cell_type": "code",
   "execution_count": 33,
   "metadata": {},
   "outputs": [],
   "source": [
    "# underlying strike price\n",
    "s0 = 100\n",
    "# strike price\n",
    "E=100\n",
    "#expiry\n",
    "T =1 # 1 year = 365 days\n",
    "#Risk free rate of return\n",
    "rf= 0.05\n",
    "#Volatility of the underlying stock\n",
    "sigma =0.2\n",
    "# Number of iterations in MC simulation\n",
    "iterations = 10000"
   ]
  },
  {
   "cell_type": "markdown",
   "metadata": {},
   "source": [
    "<img src=\"images/black_scholes_3.png\"/>\n",
    "\n",
    "Pairs trading strategy - Developed at Morgan Stanley\n",
    "\n",
    "Combining long and short positions in a pair of highly correlated financial instruments such as stocks\n",
    "it is a form of statistical arbitrage developed in the 80s\n",
    "\n",
    "if the correlation between the two stocks weakens investors should long the underperforming stock and short the outperforming stock -> because they are expected to converge in the future"
   ]
  },
  {
   "cell_type": "code",
   "execution_count": 34,
   "metadata": {},
   "outputs": [
    {
     "data": {
      "text/plain": [
       "(0.35000000000000003, 0.15000000000000002)"
      ]
     },
     "execution_count": 34,
     "metadata": {},
     "output_type": "execute_result"
    }
   ],
   "source": [
    "# Calculate Call\n",
    "d1 = (nlog(s0/E)+(rf+0.5*sigma*sigma)*T)/(sigma*nsqrt(T))\n",
    "d2 = d1 - sigma*nsqrt(T)\n",
    "d1,d2"
   ]
  },
  {
   "cell_type": "code",
   "execution_count": 35,
   "metadata": {},
   "outputs": [
    {
     "data": {
      "text/plain": [
       "(10.450583572185565, 5.573526022256971)"
      ]
     },
     "execution_count": 35,
     "metadata": {},
     "output_type": "execute_result"
    }
   ],
   "source": [
    "# Cumulative distribution function of the given RV.\n",
    "call_price = s0*stats.norm.cdf(d1)-E*np.exp(-rf*T)*stats.norm.cdf(d2)\n",
    "put_price = -s0*stats.norm.cdf(-d1)+E*np.exp(-rf*T)*stats.norm.cdf(-d2)\n",
    "call_price, put_price"
   ]
  },
  {
   "cell_type": "markdown",
   "metadata": {},
   "source": [
    "### Monte Carlo Simulation\n",
    "<img src=\"images/black_scholes_mc.png\" />\n",
    "<img src=\"images/black_scholes_mc_2.png\" />"
   ]
  },
  {
   "cell_type": "code",
   "execution_count": 36,
   "metadata": {},
   "outputs": [],
   "source": [
    "class OptionPricing:\n",
    "    def __init__(self, s0,E,T,rf,sigma,iterations):\n",
    "        self.s0 = s0\n",
    "        self.E = E\n",
    "        self.T = T\n",
    "        self.rf = rf\n",
    "        self.sigma = sigma\n",
    "        self.iterations = iterations\n",
    "    \n",
    "    def call_option_simulation(self):\n",
    "        # we have 2 columns first with 0s\n",
    "        # the second column will store the payoff\n",
    "        #we need the first column of 0s\n",
    "        # the payoff function is max(0,S-E) for call options\n",
    "        option_data = np.zeros([self.iterations,2])\n",
    "        \n",
    "        #dimensions: 1 dim array with as many items as iterations\n",
    "        rand = np.random.normal(0,1,[1,self.iterations])\n",
    "        \n",
    "        # equation for the S(t) stock price\n",
    "        stock_price = self.s0*np.exp(self.T*(self.rf-0.5*self.sigma**2)+ self.sigma*np.sqrt(self.T)*rand)\n",
    "        \n",
    "        # we need S-E because we have to calculate the max(S-E,0)\n",
    "        option_data[:,1] = stock_price - self.E\n",
    "        \n",
    "        #average for the Monte-Carlo method\n",
    "        # np.amax() returns the max(0,S-E) according to the forumla\n",
    "        average = np.sum(np.amax(option_data,axis=1))/float(self.iterations)\n",
    "        \n",
    "        # have to use the exp(-rT) discount factor\n",
    "        return np.exp(-1.0*self.rf*self.T)*average\n",
    "    \n",
    "    def put_option_simulation(self):\n",
    "        # we have 2 columns first with 0s\n",
    "        # the second column will store the payoff\n",
    "        #we need the first column of 0s\n",
    "        # the payoff function is max(E-S,0) for put options\n",
    "        option_data = np.zeros([self.iterations,2])\n",
    "        \n",
    "        #dimensions: 1 dim array with as many items as iterations\n",
    "        rand = np.random.normal(0,1,[1,self.iterations])\n",
    "        \n",
    "        # equationn for the S(t) stock price\n",
    "        stock_price = self.s0*np.exp(self.T*(self.rf-0.5*self.sigma**2)+ self.sigma*np.sqrt(self.T)*rand)\n",
    "        \n",
    "        # we need S-E because we have to calculate the max(S-E,0)\n",
    "        option_data[:,1] = self.E - stock_price\n",
    "        \n",
    "        #average for the Monte-Carlo method for put\n",
    "        # np.amax() returns the max(E-S,0) according to the forumla\n",
    "        average = np.sum(np.amax(option_data,axis=1))/float(self.iterations)\n",
    "        \n",
    "        # have to use the exp(-rT) discount factor\n",
    "        return np.exp(-1.0*self.rf*self.T)*average\n",
    "        \n",
    "        "
   ]
  },
  {
   "cell_type": "code",
   "execution_count": 37,
   "metadata": {},
   "outputs": [
    {
     "data": {
      "text/plain": [
       "10.460503699469522"
      ]
     },
     "execution_count": 37,
     "metadata": {},
     "output_type": "execute_result"
    }
   ],
   "source": [
    "\n",
    "o = OptionPricing(s0,E,T,rf,sigma,iterations)\n",
    "sim_call_price = o.call_option_simulation()\n",
    "sim_call_price"
   ]
  },
  {
   "cell_type": "code",
   "execution_count": 38,
   "metadata": {},
   "outputs": [
    {
     "data": {
      "text/plain": [
       "5.609667675849664"
      ]
     },
     "execution_count": 38,
     "metadata": {},
     "output_type": "execute_result"
    }
   ],
   "source": [
    "sim_put_price = o.put_option_simulation()\n",
    "sim_put_price"
   ]
  },
  {
   "cell_type": "code",
   "execution_count": null,
   "metadata": {},
   "outputs": [],
   "source": []
  }
 ],
 "metadata": {
  "kernelspec": {
   "display_name": "Python 3",
   "language": "python",
   "name": "python3"
  },
  "language_info": {
   "codemirror_mode": {
    "name": "ipython",
    "version": 3
   },
   "file_extension": ".py",
   "mimetype": "text/x-python",
   "name": "python",
   "nbconvert_exporter": "python",
   "pygments_lexer": "ipython3",
   "version": "3.8.2"
  }
 },
 "nbformat": 4,
 "nbformat_minor": 4
}
