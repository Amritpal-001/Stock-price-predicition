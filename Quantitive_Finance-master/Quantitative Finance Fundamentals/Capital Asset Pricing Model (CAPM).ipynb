{
 "cells": [
  {
   "cell_type": "markdown",
   "metadata": {},
   "source": [
    "### Capital Asset Pricing Model (CAPM)\n",
    "\n",
    "Markowtiz model is working fine but \n",
    "we can not get rid of all risk by diversiversification\n",
    "\n",
    "Two types of risk:\n",
    "    1. Un systematic risk - this is the risk specific to individual stocks it can be diversified away by increasing the number of stocks in a portfolio\n",
    "    \n",
    "    2. Systematic risk or market risk - this risk can not be diversified away ie. interest rates, recssion or war\n",
    "    \n",
    "    Captial Asset Pricing Model Measures this Risk\n",
    "    \n",
    "\n",
    "The model was formulated in 1960s by William f Sharpe and his colleagues\n",
    "\n",
    "[Expected return of investment] = [risk free rate of return] + Beta([Expected Market Rate of Return - the Risk free rate of return]\n",
    "\n",
    "E(r) = rf + b(E[m]- rf)\n",
    "\n",
    "Linear relationship between any stock expected return and market premium\n",
    "\n",
    "Ba = Cov(ra,rm)/ var(rm)\n",
    "\n",
    "According to CAPM beta is the only relevant measure of a stocks risk\n",
    "\n",
    "Measures the stocks volatility how much the price of a given stock goes up/down compared to that of the whole market.\n",
    "\n",
    "In portfolio of multiple stocks\n",
    "\n",
    "Ba = w1b1 + w2B2\n",
    "\n",
    "E[r) - rf = alpha + Beta(E[rm] - rf)\n",
    "\n",
    "Linear regression gives the alpha and beta, the slope is the beta and the alpha\n",
    "\n",
    "alpha is the difference between the actual return and the expected return\n",
    "\n",
    "alpha = E[r] - (rf+B(E[m]-rf)\n",
    "    \n",
    "    \n",
    "## Why Use Monthly Returns\n",
    "\n",
    "1. Use daily returns if you want to deal with microscopic data for example holidays Daily returns are superior for short term tatical forecasting\n",
    "2. For long term models monthly returns are favourable the main benefit is that with monthly data, returns are at least approximately normally distributed\n",
    "3. Most of the model assume normal distribution"
   ]
  },
  {
   "cell_type": "code",
   "execution_count": 1,
   "metadata": {},
   "outputs": [
    {
     "name": "stderr",
     "output_type": "stream",
     "text": [
      "<frozen importlib._bootstrap>:219: RuntimeWarning: numpy.ufunc size changed, may indicate binary incompatibility. Expected 192 from C header, got 216 from PyObject\n",
      "/Users/dennismacpro/HelloML/MachineLearning/sample_project/env/lib/python3.8/site-packages/pandas_datareader/compat/__init__.py:7: FutureWarning: pandas.util.testing is deprecated. Use the functions in the public API at pandas.testing instead.\n",
      "  from pandas.util.testing import assert_frame_equal\n"
     ]
    }
   ],
   "source": [
    "import pandas_datareader as pdr\n",
    "from pandas_datareader import data, wb\n",
    "from datetime import date\n",
    "import numpy as np\n",
    "import matplotlib.pyplot as plt\n",
    "import pandas as pd"
   ]
  },
  {
   "cell_type": "code",
   "execution_count": 2,
   "metadata": {},
   "outputs": [],
   "source": [
    "risk_free_rate = 0.05"
   ]
  },
  {
   "cell_type": "code",
   "execution_count": 108,
   "metadata": {},
   "outputs": [],
   "source": [
    "stock = pdr.get_data_yahoo('TSLA','2019-01-01',\n",
    "                        '2020-01-01')"
   ]
  },
  {
   "cell_type": "code",
   "execution_count": 109,
   "metadata": {},
   "outputs": [],
   "source": [
    "sp500 = pdr.get_data_yahoo('^GSPC','2019-01-01',\n",
    "                        '2020-01-01')"
   ]
  },
  {
   "cell_type": "code",
   "execution_count": 110,
   "metadata": {},
   "outputs": [
    {
     "data": {
      "text/html": [
       "<div>\n",
       "<style scoped>\n",
       "    .dataframe tbody tr th:only-of-type {\n",
       "        vertical-align: middle;\n",
       "    }\n",
       "\n",
       "    .dataframe tbody tr th {\n",
       "        vertical-align: top;\n",
       "    }\n",
       "\n",
       "    .dataframe thead th {\n",
       "        text-align: right;\n",
       "    }\n",
       "</style>\n",
       "<table border=\"1\" class=\"dataframe\">\n",
       "  <thead>\n",
       "    <tr style=\"text-align: right;\">\n",
       "      <th></th>\n",
       "      <th>High</th>\n",
       "      <th>Low</th>\n",
       "      <th>Open</th>\n",
       "      <th>Close</th>\n",
       "      <th>Volume</th>\n",
       "      <th>Adj Close</th>\n",
       "    </tr>\n",
       "    <tr>\n",
       "      <th>Date</th>\n",
       "      <th></th>\n",
       "      <th></th>\n",
       "      <th></th>\n",
       "      <th></th>\n",
       "      <th></th>\n",
       "      <th></th>\n",
       "    </tr>\n",
       "  </thead>\n",
       "  <tbody>\n",
       "    <tr>\n",
       "      <th>2019-01-02</th>\n",
       "      <td>315.130005</td>\n",
       "      <td>298.799988</td>\n",
       "      <td>306.100006</td>\n",
       "      <td>310.119995</td>\n",
       "      <td>11658600</td>\n",
       "      <td>310.119995</td>\n",
       "    </tr>\n",
       "    <tr>\n",
       "      <th>2019-01-03</th>\n",
       "      <td>309.399994</td>\n",
       "      <td>297.380005</td>\n",
       "      <td>307.000000</td>\n",
       "      <td>300.359985</td>\n",
       "      <td>6965200</td>\n",
       "      <td>300.359985</td>\n",
       "    </tr>\n",
       "    <tr>\n",
       "      <th>2019-01-04</th>\n",
       "      <td>318.000000</td>\n",
       "      <td>302.730011</td>\n",
       "      <td>306.000000</td>\n",
       "      <td>317.690002</td>\n",
       "      <td>7394100</td>\n",
       "      <td>317.690002</td>\n",
       "    </tr>\n",
       "    <tr>\n",
       "      <th>2019-01-07</th>\n",
       "      <td>336.739990</td>\n",
       "      <td>317.750000</td>\n",
       "      <td>321.720001</td>\n",
       "      <td>334.959991</td>\n",
       "      <td>7551200</td>\n",
       "      <td>334.959991</td>\n",
       "    </tr>\n",
       "    <tr>\n",
       "      <th>2019-01-08</th>\n",
       "      <td>344.010010</td>\n",
       "      <td>327.019989</td>\n",
       "      <td>341.959991</td>\n",
       "      <td>335.350006</td>\n",
       "      <td>7008500</td>\n",
       "      <td>335.350006</td>\n",
       "    </tr>\n",
       "  </tbody>\n",
       "</table>\n",
       "</div>"
      ],
      "text/plain": [
       "                  High         Low        Open       Close    Volume  \\\n",
       "Date                                                                   \n",
       "2019-01-02  315.130005  298.799988  306.100006  310.119995  11658600   \n",
       "2019-01-03  309.399994  297.380005  307.000000  300.359985   6965200   \n",
       "2019-01-04  318.000000  302.730011  306.000000  317.690002   7394100   \n",
       "2019-01-07  336.739990  317.750000  321.720001  334.959991   7551200   \n",
       "2019-01-08  344.010010  327.019989  341.959991  335.350006   7008500   \n",
       "\n",
       "             Adj Close  \n",
       "Date                    \n",
       "2019-01-02  310.119995  \n",
       "2019-01-03  300.359985  \n",
       "2019-01-04  317.690002  \n",
       "2019-01-07  334.959991  \n",
       "2019-01-08  335.350006  "
      ]
     },
     "execution_count": 110,
     "metadata": {},
     "output_type": "execute_result"
    }
   ],
   "source": [
    "stock.head()"
   ]
  },
  {
   "cell_type": "code",
   "execution_count": 111,
   "metadata": {},
   "outputs": [
    {
     "data": {
      "text/html": [
       "<div>\n",
       "<style scoped>\n",
       "    .dataframe tbody tr th:only-of-type {\n",
       "        vertical-align: middle;\n",
       "    }\n",
       "\n",
       "    .dataframe tbody tr th {\n",
       "        vertical-align: top;\n",
       "    }\n",
       "\n",
       "    .dataframe thead th {\n",
       "        text-align: right;\n",
       "    }\n",
       "</style>\n",
       "<table border=\"1\" class=\"dataframe\">\n",
       "  <thead>\n",
       "    <tr style=\"text-align: right;\">\n",
       "      <th></th>\n",
       "      <th>High</th>\n",
       "      <th>Low</th>\n",
       "      <th>Open</th>\n",
       "      <th>Close</th>\n",
       "      <th>Volume</th>\n",
       "      <th>Adj Close</th>\n",
       "    </tr>\n",
       "    <tr>\n",
       "      <th>Date</th>\n",
       "      <th></th>\n",
       "      <th></th>\n",
       "      <th></th>\n",
       "      <th></th>\n",
       "      <th></th>\n",
       "      <th></th>\n",
       "    </tr>\n",
       "  </thead>\n",
       "  <tbody>\n",
       "    <tr>\n",
       "      <th>2019-01-02</th>\n",
       "      <td>2519.489990</td>\n",
       "      <td>2467.469971</td>\n",
       "      <td>2476.959961</td>\n",
       "      <td>2510.030029</td>\n",
       "      <td>3733160000</td>\n",
       "      <td>2510.030029</td>\n",
       "    </tr>\n",
       "    <tr>\n",
       "      <th>2019-01-03</th>\n",
       "      <td>2493.139893</td>\n",
       "      <td>2443.959961</td>\n",
       "      <td>2491.919922</td>\n",
       "      <td>2447.889893</td>\n",
       "      <td>3822860000</td>\n",
       "      <td>2447.889893</td>\n",
       "    </tr>\n",
       "    <tr>\n",
       "      <th>2019-01-04</th>\n",
       "      <td>2538.070068</td>\n",
       "      <td>2474.330078</td>\n",
       "      <td>2474.330078</td>\n",
       "      <td>2531.939941</td>\n",
       "      <td>4213410000</td>\n",
       "      <td>2531.939941</td>\n",
       "    </tr>\n",
       "    <tr>\n",
       "      <th>2019-01-07</th>\n",
       "      <td>2566.159912</td>\n",
       "      <td>2524.560059</td>\n",
       "      <td>2535.610107</td>\n",
       "      <td>2549.689941</td>\n",
       "      <td>4104710000</td>\n",
       "      <td>2549.689941</td>\n",
       "    </tr>\n",
       "    <tr>\n",
       "      <th>2019-01-08</th>\n",
       "      <td>2579.820068</td>\n",
       "      <td>2547.560059</td>\n",
       "      <td>2568.110107</td>\n",
       "      <td>2574.409912</td>\n",
       "      <td>4083030000</td>\n",
       "      <td>2574.409912</td>\n",
       "    </tr>\n",
       "  </tbody>\n",
       "</table>\n",
       "</div>"
      ],
      "text/plain": [
       "                   High          Low         Open        Close      Volume  \\\n",
       "Date                                                                         \n",
       "2019-01-02  2519.489990  2467.469971  2476.959961  2510.030029  3733160000   \n",
       "2019-01-03  2493.139893  2443.959961  2491.919922  2447.889893  3822860000   \n",
       "2019-01-04  2538.070068  2474.330078  2474.330078  2531.939941  4213410000   \n",
       "2019-01-07  2566.159912  2524.560059  2535.610107  2549.689941  4104710000   \n",
       "2019-01-08  2579.820068  2547.560059  2568.110107  2574.409912  4083030000   \n",
       "\n",
       "              Adj Close  \n",
       "Date                     \n",
       "2019-01-02  2510.030029  \n",
       "2019-01-03  2447.889893  \n",
       "2019-01-04  2531.939941  \n",
       "2019-01-07  2549.689941  \n",
       "2019-01-08  2574.409912  "
      ]
     },
     "execution_count": 111,
     "metadata": {},
     "output_type": "execute_result"
    }
   ],
   "source": [
    "sp500.head()"
   ]
  },
  {
   "cell_type": "code",
   "execution_count": 112,
   "metadata": {},
   "outputs": [],
   "source": [
    "return_stock = stock.resample('M').last()"
   ]
  },
  {
   "cell_type": "code",
   "execution_count": 113,
   "metadata": {},
   "outputs": [],
   "source": [
    "return_spys = sp500.resample('M').last()"
   ]
  },
  {
   "cell_type": "code",
   "execution_count": 114,
   "metadata": {},
   "outputs": [
    {
     "data": {
      "text/html": [
       "<div>\n",
       "<style scoped>\n",
       "    .dataframe tbody tr th:only-of-type {\n",
       "        vertical-align: middle;\n",
       "    }\n",
       "\n",
       "    .dataframe tbody tr th {\n",
       "        vertical-align: top;\n",
       "    }\n",
       "\n",
       "    .dataframe thead th {\n",
       "        text-align: right;\n",
       "    }\n",
       "</style>\n",
       "<table border=\"1\" class=\"dataframe\">\n",
       "  <thead>\n",
       "    <tr style=\"text-align: right;\">\n",
       "      <th></th>\n",
       "      <th>s_adjclose</th>\n",
       "      <th>m_adjclose</th>\n",
       "    </tr>\n",
       "    <tr>\n",
       "      <th>Date</th>\n",
       "      <th></th>\n",
       "      <th></th>\n",
       "    </tr>\n",
       "  </thead>\n",
       "  <tbody>\n",
       "    <tr>\n",
       "      <th>2019-01-31</th>\n",
       "      <td>307.019989</td>\n",
       "      <td>2704.100098</td>\n",
       "    </tr>\n",
       "    <tr>\n",
       "      <th>2019-02-28</th>\n",
       "      <td>319.880005</td>\n",
       "      <td>2784.489990</td>\n",
       "    </tr>\n",
       "    <tr>\n",
       "      <th>2019-03-31</th>\n",
       "      <td>279.859985</td>\n",
       "      <td>2834.399902</td>\n",
       "    </tr>\n",
       "    <tr>\n",
       "      <th>2019-04-30</th>\n",
       "      <td>238.690002</td>\n",
       "      <td>2945.830078</td>\n",
       "    </tr>\n",
       "    <tr>\n",
       "      <th>2019-05-31</th>\n",
       "      <td>185.160004</td>\n",
       "      <td>2752.060059</td>\n",
       "    </tr>\n",
       "    <tr>\n",
       "      <th>2019-06-30</th>\n",
       "      <td>223.460007</td>\n",
       "      <td>2941.760010</td>\n",
       "    </tr>\n",
       "    <tr>\n",
       "      <th>2019-07-31</th>\n",
       "      <td>241.610001</td>\n",
       "      <td>2980.379883</td>\n",
       "    </tr>\n",
       "    <tr>\n",
       "      <th>2019-08-31</th>\n",
       "      <td>225.610001</td>\n",
       "      <td>2926.459961</td>\n",
       "    </tr>\n",
       "    <tr>\n",
       "      <th>2019-09-30</th>\n",
       "      <td>240.869995</td>\n",
       "      <td>2976.739990</td>\n",
       "    </tr>\n",
       "    <tr>\n",
       "      <th>2019-10-31</th>\n",
       "      <td>314.920013</td>\n",
       "      <td>3037.560059</td>\n",
       "    </tr>\n",
       "    <tr>\n",
       "      <th>2019-11-30</th>\n",
       "      <td>329.940002</td>\n",
       "      <td>3140.979980</td>\n",
       "    </tr>\n",
       "    <tr>\n",
       "      <th>2019-12-31</th>\n",
       "      <td>418.329987</td>\n",
       "      <td>3230.780029</td>\n",
       "    </tr>\n",
       "  </tbody>\n",
       "</table>\n",
       "</div>"
      ],
      "text/plain": [
       "            s_adjclose   m_adjclose\n",
       "Date                               \n",
       "2019-01-31  307.019989  2704.100098\n",
       "2019-02-28  319.880005  2784.489990\n",
       "2019-03-31  279.859985  2834.399902\n",
       "2019-04-30  238.690002  2945.830078\n",
       "2019-05-31  185.160004  2752.060059\n",
       "2019-06-30  223.460007  2941.760010\n",
       "2019-07-31  241.610001  2980.379883\n",
       "2019-08-31  225.610001  2926.459961\n",
       "2019-09-30  240.869995  2976.739990\n",
       "2019-10-31  314.920013  3037.560059\n",
       "2019-11-30  329.940002  3140.979980\n",
       "2019-12-31  418.329987  3230.780029"
      ]
     },
     "execution_count": 114,
     "metadata": {},
     "output_type": "execute_result"
    }
   ],
   "source": [
    "#Create a dataframe from the data - adjusted closing price\n",
    "stock_data = pd.DataFrame({'s_adjclose': return_stock['Adj Close'],\n",
    "                         'm_adjclose': return_spys['Adj Close']},\n",
    "                        index=return_stock.index)\n",
    "\n",
    "stock_data"
   ]
  },
  {
   "cell_type": "markdown",
   "metadata": {},
   "source": [
    "### Modern Portfolio Theory\n",
    "\n",
    "Usually we use the natural logarithm as the return !!!!\n",
    "\n",
    "StockPrice(n) - stockPrice(n-1) /  stockPrice(n-1)\n",
    "\n",
    "we use the logarithm of returns instead of actual prices of stocks \n",
    "\n",
    "To form a normalization : import for machine learning techniques and satistical analysis\n",
    "\n",
    "\n",
    "log ( stockPrice (n) / stockPrice (n-1) )"
   ]
  },
  {
   "cell_type": "code",
   "execution_count": 122,
   "metadata": {},
   "outputs": [],
   "source": [
    "#natural logarithm of the returns\n",
    "# machine learning and statistical anaylsis of the return\n",
    "# shift method gives us n-1 or yesterdays value\n",
    "stock_data[['cron_returns','spy_returns']] = np.log(stock_data[['s_adjclose','m_adjclose']]/stock_data[['s_adjclose','m_adjclose']].shift(1))"
   ]
  },
  {
   "cell_type": "code",
   "execution_count": 123,
   "metadata": {},
   "outputs": [
    {
     "data": {
      "text/html": [
       "<div>\n",
       "<style scoped>\n",
       "    .dataframe tbody tr th:only-of-type {\n",
       "        vertical-align: middle;\n",
       "    }\n",
       "\n",
       "    .dataframe tbody tr th {\n",
       "        vertical-align: top;\n",
       "    }\n",
       "\n",
       "    .dataframe thead th {\n",
       "        text-align: right;\n",
       "    }\n",
       "</style>\n",
       "<table border=\"1\" class=\"dataframe\">\n",
       "  <thead>\n",
       "    <tr style=\"text-align: right;\">\n",
       "      <th></th>\n",
       "      <th>s_adjclose</th>\n",
       "      <th>m_adjclose</th>\n",
       "      <th>cron_returns</th>\n",
       "      <th>spy_returns</th>\n",
       "    </tr>\n",
       "    <tr>\n",
       "      <th>Date</th>\n",
       "      <th></th>\n",
       "      <th></th>\n",
       "      <th></th>\n",
       "      <th></th>\n",
       "    </tr>\n",
       "  </thead>\n",
       "  <tbody>\n",
       "    <tr>\n",
       "      <th>2019-03-31</th>\n",
       "      <td>279.859985</td>\n",
       "      <td>2834.399902</td>\n",
       "      <td>-0.133657</td>\n",
       "      <td>0.017766</td>\n",
       "    </tr>\n",
       "    <tr>\n",
       "      <th>2019-04-30</th>\n",
       "      <td>238.690002</td>\n",
       "      <td>2945.830078</td>\n",
       "      <td>-0.159124</td>\n",
       "      <td>0.038560</td>\n",
       "    </tr>\n",
       "    <tr>\n",
       "      <th>2019-05-31</th>\n",
       "      <td>185.160004</td>\n",
       "      <td>2752.060059</td>\n",
       "      <td>-0.253945</td>\n",
       "      <td>-0.068041</td>\n",
       "    </tr>\n",
       "    <tr>\n",
       "      <th>2019-06-30</th>\n",
       "      <td>223.460007</td>\n",
       "      <td>2941.760010</td>\n",
       "      <td>0.188012</td>\n",
       "      <td>0.066658</td>\n",
       "    </tr>\n",
       "    <tr>\n",
       "      <th>2019-07-31</th>\n",
       "      <td>241.610001</td>\n",
       "      <td>2980.379883</td>\n",
       "      <td>0.078092</td>\n",
       "      <td>0.013043</td>\n",
       "    </tr>\n",
       "  </tbody>\n",
       "</table>\n",
       "</div>"
      ],
      "text/plain": [
       "            s_adjclose   m_adjclose  cron_returns  spy_returns\n",
       "Date                                                          \n",
       "2019-03-31  279.859985  2834.399902     -0.133657     0.017766\n",
       "2019-04-30  238.690002  2945.830078     -0.159124     0.038560\n",
       "2019-05-31  185.160004  2752.060059     -0.253945    -0.068041\n",
       "2019-06-30  223.460007  2941.760010      0.188012     0.066658\n",
       "2019-07-31  241.610001  2980.379883      0.078092     0.013043"
      ]
     },
     "execution_count": 123,
     "metadata": {},
     "output_type": "execute_result"
    }
   ],
   "source": [
    "stock_data = stock_data.dropna()\n",
    "stock_data.head()"
   ]
  },
  {
   "cell_type": "code",
   "execution_count": 124,
   "metadata": {},
   "outputs": [
    {
     "data": {
      "text/plain": [
       "array([[0.03125171, 0.00381878],\n",
       "       [0.00381878, 0.0013093 ]])"
      ]
     },
     "execution_count": 124,
     "metadata": {},
     "output_type": "execute_result"
    }
   ],
   "source": [
    "#covariance matrix the diagnoal terms are the variances\n",
    "# the off diagonal terms are the covariances\n",
    "#Estimate a covariance matrix, given data and weights.\n",
    "#Covariance indicates the level to which two variables vary together.\n",
    "cov_mat = np.cov(stock_data[\"cron_returns\"], stock_data['spy_returns'])\n",
    "cov_mat"
   ]
  },
  {
   "cell_type": "code",
   "execution_count": 125,
   "metadata": {},
   "outputs": [
    {
     "data": {
      "text/plain": [
       "2.916648424498784"
      ]
     },
     "execution_count": 125,
     "metadata": {},
     "output_type": "execute_result"
    }
   ],
   "source": [
    "beta = cov_mat[0,1]/cov_mat[1,1]\n",
    "beta"
   ]
  },
  {
   "cell_type": "code",
   "execution_count": 126,
   "metadata": {},
   "outputs": [
    {
     "data": {
      "text/plain": [
       "(0.12219412294803376, 0.011587118215281562)"
      ]
     },
     "execution_count": 126,
     "metadata": {},
     "output_type": "execute_result"
    }
   ],
   "source": [
    "# using linear regression to fit a line to the data [stock_returns, market_returns]\n",
    "# slope i the beta\n",
    "# Least squares polynomial fit.\n",
    "beta, alpha = np.polyfit(stock_data[\"cron_returns\"],stock_data[\"spy_returns\"],deg=1)\n",
    "beta, alpha"
   ]
  },
  {
   "cell_type": "code",
   "execution_count": 127,
   "metadata": {},
   "outputs": [
    {
     "data": {
      "image/png": "[encoded data removed]",
      "text/plain": [
       "<Figure size 1440x720 with 1 Axes>"
      ]
     },
     "metadata": {
      "needs_background": "light"
     },
     "output_type": "display_data"
    }
   ],
   "source": [
    "# Ok lets plot this\n",
    "fig, axis = plt.subplots(1,figsize=(20,10))\n",
    "axis.scatter(stock_data[\"spy_returns\"], stock_data[\"cron_returns\"],label='Data points')\n",
    "axis.plot(stock_data[\"spy_returns\"],beta*stock_data[\"spy_returns\"] + alpha, color='red', label='CAPM line')\n",
    "plt.title('Capital Asset Pricing Model')\n",
    "plt.xlabel('Market return $R_m$', fontsize=12)\n",
    "plt.ylabel('Stock return $R_a$')\n",
    "plt.text(0.08,0.05, r'$R_a = \\beta * R_m + \\alpha$', fontsize=12)\n",
    "plt.legend()\n",
    "plt.grid(True)\n",
    "plt.show()"
   ]
  },
  {
   "cell_type": "code",
   "execution_count": null,
   "metadata": {},
   "outputs": [],
   "source": []
  }
 ],
 "metadata": {
  "kernelspec": {
   "display_name": "Python 3",
   "language": "python",
   "name": "python3"
  },
  "language_info": {
   "codemirror_mode": {
    "name": "ipython",
    "version": 3
   },
   "file_extension": ".py",
   "mimetype": "text/x-python",
   "name": "python",
   "nbconvert_exporter": "python",
   "pygments_lexer": "ipython3",
   "version": "3.8.1"
  }
 },
 "nbformat": 4,
 "nbformat_minor": 4
}
