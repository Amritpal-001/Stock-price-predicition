{
 "cells": [
  {
   "cell_type": "markdown",
   "metadata": {},
   "source": [
    "# Random Behavior\n",
    "\n",
    "There are three important forms of analysis in finance:\n",
    "    1. fundamental analysis\n",
    "    2. technical analysis\n",
    "    3. quantitative analysis\n",
    "    \n",
    "### Fundamental Analysis\n",
    "\n",
    "In depth study of the given company\n",
    "managment teams\n",
    "product/service\n",
    "balance sheets\n",
    "competitors\n",
    "\n",
    "We take these factors and predict the stock price\n",
    "\n",
    "this is extremely hard to do\n",
    "\n",
    "### Technical Analysis\n",
    "Does not care about the company, all information is contained within its stock\n",
    "\n",
    "technical analysis is about historical data\n",
    "\n",
    "we have to analyse historical data, look for specific patterns in the share price to make predictions accordingly\n",
    "\n",
    "Machine learniing algorithms and neural networks\n",
    "51,52,55% are not that good, useful for other industries concerning cancer or face recongizition. \n",
    "Not able to cross the complexity for stock market\n",
    "\n",
    "Modern portfolio theory and CAPM models are OK\n",
    "\n",
    "### Quantitative Analysis\n",
    "All financial quantities such as stock prices or interest rates has random behavior\n",
    "\n",
    "We have to use randomness in our models\n",
    "stochastic calculs and stochastic differential equations\n",
    "\n",
    "Black Scholes in the only working financial model\n",
    "\n",
    "S(t+1) - S(t) / S(t) = R(T) return in the interval [t,t+1]\n",
    "\n",
    "As we have seen the daily returns (monthly returns) has approximately normal distribution \n",
    "\n",
    "\n",
    "normal distributiono can be defined by two parameters\n",
    "mean and variance\n",
    "\n",
    "so returns can be defined by these parameters as well\n",
    "\n",
    "R(t) = mean + x * standard * deviation\n",
    "\n",
    "we can define returns as a random variable drawn from a normal distribution\n",
    "\n",
    "Central Limit Theorem, if we keep running we will keep ending up with a normal distribution\n",
    "\n",
    "STock price S(T) can be described by a W(t) random walk\n",
    "\n",
    "W(t0 has a continous sample path\n",
    "it has indepdendent and normally distributed increments\n",
    "\n",
    "<img src=\"images/random_behaviour.png\" />\n",
    "\n",
    "### Winer Process\n",
    "\n",
    "W(T) had independent increments: future W(T+dt) - W(t) increments are independent of past values\n",
    "\n",
    "W(t) has Gaussian increments W(t+dt)-W(t) is normally distributed with mean 0 and variance dt\n",
    "\n",
    "W(t+dt) - W(t) - N(0,dt)\n",
    "\n",
    "Wiener-process W(t) has continuous paths\n",
    "\n",
    "dS = u S dt + o S dx\n",
    "\n",
    "thtis is the change in the stock price\n",
    "\n",
    "deterministic part of drift\n",
    "\n",
    "stochastic part\n",
    "\n",
    "E[dx] = 0 an E[dx^2] = dt\n",
    "\n",
    "Basically dx is random variable drawn from a normal distribution with mean 0 and variance dt\n",
    "\n",
    "#### This is a stochastic differential equation\n",
    "\n",
    "continous model of asset prices\n",
    "fundamental assumption for most of the modern financial models\n",
    "\n",
    "### Stochastic Calculus\n",
    "\n",
    "Ordinary functions with deterministic variables\n",
    "\n",
    "f(x) = x^2 what is the derivative of F(x)\n",
    "\n",
    "\n",
    "d(f(x))/dx = 2x\n",
    "\n",
    "Df(x) = D(f(x))/dx = 2xdx\n",
    "\n",
    "Dealing with stochastic random variables this is not going to be true.\n",
    "\n",
    "#### stochastic random variables\n",
    "\n",
    "if we have a function of a stochastic variable for example a brownian motion X(T) and the function F(x) =x^2\n",
    "\n",
    "ordinary approach is not good F(X) is stochastic\n",
    "\n",
    "<img src=\"images/ito_leema.png\" />\n",
    "\n",
    "we do not assume any stochastic behaviour\n",
    "\n",
    "but we know that E[dx^2] = dt and F(X+dx) - F(X) = dF(X)\n",
    "\n",
    "we can use Itos Lemma\n",
    "\n",
    "So the solution\n",
    "dF(x) = 2xdx + dt\n",
    "\n",
    "\n",
    "#### Itos Lemma in higher dimensions\n",
    "\n",
    "V(S,T) when t < T. \n",
    "\n",
    "dS(t) = a(S,t) dt + b(S,t) dX\n",
    "\n",
    "Higher dimensional formual for itos method needed\n",
    "\n",
    "<img src=\"images/high_dim_ito_leema.png\" />\n",
    "<img src=\"images/high_dim_ito_leema_2.png\"/>"
   ]
  },
  {
   "cell_type": "code",
   "execution_count": 2,
   "metadata": {},
   "outputs": [],
   "source": [
    "## Brownian Motion\n",
    "import math\n",
    "import numpy as np\n",
    "import numpy.random as npr\n",
    "import scipy\n",
    "import matplotlib.pyplot as plt"
   ]
  },
  {
   "cell_type": "code",
   "execution_count": 31,
   "metadata": {},
   "outputs": [],
   "source": [
    "dt = 0.001\n",
    "xo =0\n",
    "n = 1000"
   ]
  },
  {
   "cell_type": "code",
   "execution_count": 8,
   "metadata": {},
   "outputs": [
    {
     "data": {
      "text/plain": [
       "array([0., 0., 0., ..., 0., 0., 0.])"
      ]
     },
     "execution_count": 8,
     "metadata": {},
     "output_type": "execute_result"
    }
   ],
   "source": [
    "# initalize W(t) with zeros\n",
    "W = np.zeros(n+1)\n",
    "W"
   ]
  },
  {
   "cell_type": "code",
   "execution_count": 33,
   "metadata": {},
   "outputs": [
    {
     "data": {
      "text/plain": [
       "array([   0.,    1.,    2., ...,  998.,  999., 1000.])"
      ]
     },
     "execution_count": 33,
     "metadata": {},
     "output_type": "execute_result"
    }
   ],
   "source": [
    "# we create n timesteps\n",
    "t = np.linspace(0,n,n+1)\n",
    "t"
   ]
  },
  {
   "cell_type": "code",
   "execution_count": 34,
   "metadata": {},
   "outputs": [
    {
     "data": {
      "text/plain": [
       "array([ 0.00000000e+00,  3.73446156e-04,  2.19952825e-03,  2.04719234e-03,\n",
       "        2.58145417e-03,  1.73133021e-03,  1.96139352e-03,  5.98503186e-04,\n",
       "        2.97345388e-04, -3.72198824e-05])"
      ]
     },
     "execution_count": 34,
     "metadata": {},
     "output_type": "execute_result"
    }
   ],
   "source": [
    "# we have to sue cumulative sum: on every step the additional value\n",
    "# is drawn from a normal distribution with mean 0\n",
    "# and variance dt*dt ... N(0,dt*dt)\n",
    "# First item is 0 anyway so start with 1\n",
    "W[1:n+1] = np.cumsum(scipy.random.normal(0,dt,n))\n",
    "W[:10]"
   ]
  },
  {
   "cell_type": "code",
   "execution_count": 35,
   "metadata": {},
   "outputs": [
    {
     "data": {
      "image/png": "[encoded data removed]",
      "text/plain": [
       "<Figure size 432x288 with 1 Axes>"
      ]
     },
     "metadata": {
      "needs_background": "light"
     },
     "output_type": "display_data"
    }
   ],
   "source": [
    "plt.plot(t,W)\n",
    "plt.xlabel('Time(t)')\n",
    "plt.ylabel(\"Wiener-process W(t)\")\n",
    "plt.title(\"Wiener-process\")\n",
    "plt.show()"
   ]
  },
  {
   "cell_type": "code",
   "execution_count": null,
   "metadata": {},
   "outputs": [],
   "source": []
  }
 ],
 "metadata": {
  "kernelspec": {
   "display_name": "Python 3",
   "language": "python",
   "name": "python3"
  },
  "language_info": {
   "codemirror_mode": {
    "name": "ipython",
    "version": 3
   },
   "file_extension": ".py",
   "mimetype": "text/x-python",
   "name": "python",
   "nbconvert_exporter": "python",
   "pygments_lexer": "ipython3",
   "version": "3.8.1"
  }
 },
 "nbformat": 4,
 "nbformat_minor": 4
}
