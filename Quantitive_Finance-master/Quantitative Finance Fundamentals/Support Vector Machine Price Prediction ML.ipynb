{
 "cells": [
  {
   "cell_type": "markdown",
   "metadata": {},
   "source": [
    "# Support Vector Machine (SVM)\n",
    "-very popular and widely used\n",
    "-operates in infinite dimensions\n",
    "defines a margin boundary between the data points in multidimensional space\n",
    "\n",
    "Goal\n",
    "to find a flat boundary or hyperplane that leads to a homogenous partition of the data\n",
    "\n",
    "Good sepeartion is achieved by the hyperplane that has the largest distance to the nearest training-data point of any class since\n",
    "in general the larger the margin the lower the generalization error of the classifier\n",
    "\n",
    "### Non Linearly Seperable Problem\n",
    "We can use kernal function in order to transform the problem into a linearly seperable one\n",
    "\n",
    "SVMS with non lienar kernels add additional dimensions to the data in ordeer to create seperation\n",
    "\n",
    "#### Kernal Trick\n",
    "Process of adding new features that express mathematical relationships between measured characteristics and features\n",
    "\n",
    "#### Allows SVM to learn concepts that are not measured in original dataset\n",
    "\n",
    "#### Gaussian RBF Kernal\n",
    "\n",
    "*can be used for regression\n",
    "\n",
    "*not influenced by noisy data\n",
    "\n",
    "*easier to use then neural networks\n",
    "\n",
    "*several model parameters to tune\n",
    "\n",
    "*black box model\n"
   ]
  },
  {
   "cell_type": "code",
   "execution_count": 1,
   "metadata": {},
   "outputs": [
    {
     "name": "stderr",
     "output_type": "stream",
     "text": [
      "<frozen importlib._bootstrap>:219: RuntimeWarning: numpy.ufunc size changed, may indicate binary incompatibility. Expected 192 from C header, got 216 from PyObject\n",
      "C:\\Users\\Goliath\\miniconda3\\envs\\quantitive_finance\\lib\\site-packages\\pandas_datareader\\compat\\__init__.py:7: FutureWarning: pandas.util.testing is deprecated. Use the functions in the public API at pandas.testing instead.\n",
      "  from pandas.util.testing import assert_frame_equal\n"
     ]
    }
   ],
   "source": [
    "import numpy as np\n",
    "import pandas as pd\n",
    "from datetime import datetime\n",
    "from sklearn.linear_model import LogisticRegression\n",
    "import pandas_datareader.data as web\n",
    "from sklearn.svm import LinearSVC\n",
    "from sklearn.metrics import confusion_matrix"
   ]
  },
  {
   "cell_type": "code",
   "execution_count": 13,
   "metadata": {},
   "outputs": [],
   "source": [
    "stock_symbol=\"AAPL\"\n",
    "start_date=\"01/01/2017\"\n",
    "end_date=\"12/31/2019\"\n",
    "lags = 5"
   ]
  },
  {
   "cell_type": "code",
   "execution_count": 14,
   "metadata": {},
   "outputs": [
    {
     "data": {
      "text/html": [
       "<div>\n",
       "<style scoped>\n",
       "    .dataframe tbody tr th:only-of-type {\n",
       "        vertical-align: middle;\n",
       "    }\n",
       "\n",
       "    .dataframe tbody tr th {\n",
       "        vertical-align: top;\n",
       "    }\n",
       "\n",
       "    .dataframe thead th {\n",
       "        text-align: right;\n",
       "    }\n",
       "</style>\n",
       "<table border=\"1\" class=\"dataframe\">\n",
       "  <thead>\n",
       "    <tr style=\"text-align: right;\">\n",
       "      <th></th>\n",
       "      <th>High</th>\n",
       "      <th>Low</th>\n",
       "      <th>Open</th>\n",
       "      <th>Close</th>\n",
       "      <th>Volume</th>\n",
       "      <th>Adj Close</th>\n",
       "    </tr>\n",
       "    <tr>\n",
       "      <th>Date</th>\n",
       "      <th></th>\n",
       "      <th></th>\n",
       "      <th></th>\n",
       "      <th></th>\n",
       "      <th></th>\n",
       "      <th></th>\n",
       "    </tr>\n",
       "  </thead>\n",
       "  <tbody>\n",
       "    <tr>\n",
       "      <th>2017-01-03</th>\n",
       "      <td>116.330002</td>\n",
       "      <td>114.760002</td>\n",
       "      <td>115.800003</td>\n",
       "      <td>116.150002</td>\n",
       "      <td>28781900.0</td>\n",
       "      <td>110.691154</td>\n",
       "    </tr>\n",
       "    <tr>\n",
       "      <th>2017-01-04</th>\n",
       "      <td>116.510002</td>\n",
       "      <td>115.750000</td>\n",
       "      <td>115.849998</td>\n",
       "      <td>116.019997</td>\n",
       "      <td>21118100.0</td>\n",
       "      <td>110.567276</td>\n",
       "    </tr>\n",
       "    <tr>\n",
       "      <th>2017-01-05</th>\n",
       "      <td>116.860001</td>\n",
       "      <td>115.809998</td>\n",
       "      <td>115.919998</td>\n",
       "      <td>116.610001</td>\n",
       "      <td>22193600.0</td>\n",
       "      <td>111.129562</td>\n",
       "    </tr>\n",
       "    <tr>\n",
       "      <th>2017-01-06</th>\n",
       "      <td>118.160004</td>\n",
       "      <td>116.470001</td>\n",
       "      <td>116.779999</td>\n",
       "      <td>117.910004</td>\n",
       "      <td>31751900.0</td>\n",
       "      <td>112.368469</td>\n",
       "    </tr>\n",
       "    <tr>\n",
       "      <th>2017-01-09</th>\n",
       "      <td>119.430000</td>\n",
       "      <td>117.940002</td>\n",
       "      <td>117.949997</td>\n",
       "      <td>118.989998</td>\n",
       "      <td>33561900.0</td>\n",
       "      <td>113.397697</td>\n",
       "    </tr>\n",
       "  </tbody>\n",
       "</table>\n",
       "</div>"
      ],
      "text/plain": [
       "                  High         Low        Open       Close      Volume  \\\n",
       "Date                                                                     \n",
       "2017-01-03  116.330002  114.760002  115.800003  116.150002  28781900.0   \n",
       "2017-01-04  116.510002  115.750000  115.849998  116.019997  21118100.0   \n",
       "2017-01-05  116.860001  115.809998  115.919998  116.610001  22193600.0   \n",
       "2017-01-06  118.160004  116.470001  116.779999  117.910004  31751900.0   \n",
       "2017-01-09  119.430000  117.940002  117.949997  118.989998  33561900.0   \n",
       "\n",
       "             Adj Close  \n",
       "Date                    \n",
       "2017-01-03  110.691154  \n",
       "2017-01-04  110.567276  \n",
       "2017-01-05  111.129562  \n",
       "2017-01-06  112.368469  \n",
       "2017-01-09  113.397697  "
      ]
     },
     "execution_count": 14,
     "metadata": {},
     "output_type": "execute_result"
    }
   ],
   "source": [
    "df = web.DataReader(stock_symbol, \"yahoo\", start_date,end_date)\n",
    "df.head()"
   ]
  },
  {
   "cell_type": "code",
   "execution_count": 15,
   "metadata": {},
   "outputs": [],
   "source": [
    "#create new \n",
    "tslag = pd.DataFrame(index=df.index)\n",
    "tslag[\"Today\"]= df[\"Adj Close\"]\n",
    "tslag[\"Volume\"] = df[\"Volume\"]"
   ]
  },
  {
   "cell_type": "code",
   "execution_count": 16,
   "metadata": {},
   "outputs": [
    {
     "data": {
      "text/html": [
       "<div>\n",
       "<style scoped>\n",
       "    .dataframe tbody tr th:only-of-type {\n",
       "        vertical-align: middle;\n",
       "    }\n",
       "\n",
       "    .dataframe tbody tr th {\n",
       "        vertical-align: top;\n",
       "    }\n",
       "\n",
       "    .dataframe thead th {\n",
       "        text-align: right;\n",
       "    }\n",
       "</style>\n",
       "<table border=\"1\" class=\"dataframe\">\n",
       "  <thead>\n",
       "    <tr style=\"text-align: right;\">\n",
       "      <th></th>\n",
       "      <th>Volume</th>\n",
       "      <th>Today</th>\n",
       "    </tr>\n",
       "    <tr>\n",
       "      <th>Date</th>\n",
       "      <th></th>\n",
       "      <th></th>\n",
       "    </tr>\n",
       "  </thead>\n",
       "  <tbody>\n",
       "    <tr>\n",
       "      <th>2017-01-03</th>\n",
       "      <td>28781900.0</td>\n",
       "      <td>NaN</td>\n",
       "    </tr>\n",
       "    <tr>\n",
       "      <th>2017-01-04</th>\n",
       "      <td>21118100.0</td>\n",
       "      <td>-0.111914</td>\n",
       "    </tr>\n",
       "    <tr>\n",
       "      <th>2017-01-05</th>\n",
       "      <td>22193600.0</td>\n",
       "      <td>0.508547</td>\n",
       "    </tr>\n",
       "    <tr>\n",
       "      <th>2017-01-06</th>\n",
       "      <td>31751900.0</td>\n",
       "      <td>1.114831</td>\n",
       "    </tr>\n",
       "    <tr>\n",
       "      <th>2017-01-09</th>\n",
       "      <td>33561900.0</td>\n",
       "      <td>0.915940</td>\n",
       "    </tr>\n",
       "  </tbody>\n",
       "</table>\n",
       "</div>"
      ],
      "text/plain": [
       "                Volume     Today\n",
       "Date                            \n",
       "2017-01-03  28781900.0       NaN\n",
       "2017-01-04  21118100.0 -0.111914\n",
       "2017-01-05  22193600.0  0.508547\n",
       "2017-01-06  31751900.0  1.114831\n",
       "2017-01-09  33561900.0  0.915940"
      ]
     },
     "execution_count": 16,
     "metadata": {},
     "output_type": "execute_result"
    }
   ],
   "source": [
    "#Create the shifted lag series of prior trading period close values\n",
    "for i in range(0,lags):\n",
    "    tslag[\"Lag%s\" %str(i+1)] =  df[\"Adj Close\"].shift(i+1)\n",
    "\n",
    "# Create the returns data fram\n",
    "dfret = pd.DataFrame(index=tslag.index)\n",
    "dfret[\"Volume\"] = tslag[\"Volume\"]\n",
    "dfret[\"Today\"] = tslag[\"Today\"].pct_change()*100.0\n",
    "dfret.head()"
   ]
  },
  {
   "cell_type": "code",
   "execution_count": 17,
   "metadata": {},
   "outputs": [
    {
     "name": "stderr",
     "output_type": "stream",
     "text": [
      "C:\\Users\\Goliath\\miniconda3\\envs\\quantitive_finance\\lib\\site-packages\\pandas\\core\\series.py:679: RuntimeWarning: invalid value encountered in sign\n",
      "  result = getattr(ufunc, method)(*inputs, **kwargs)\n"
     ]
    },
    {
     "data": {
      "text/html": [
       "<div>\n",
       "<style scoped>\n",
       "    .dataframe tbody tr th:only-of-type {\n",
       "        vertical-align: middle;\n",
       "    }\n",
       "\n",
       "    .dataframe tbody tr th {\n",
       "        vertical-align: top;\n",
       "    }\n",
       "\n",
       "    .dataframe thead th {\n",
       "        text-align: right;\n",
       "    }\n",
       "</style>\n",
       "<table border=\"1\" class=\"dataframe\">\n",
       "  <thead>\n",
       "    <tr style=\"text-align: right;\">\n",
       "      <th></th>\n",
       "      <th>Volume</th>\n",
       "      <th>Today</th>\n",
       "      <th>Lag1</th>\n",
       "      <th>Lag2</th>\n",
       "      <th>Lag3</th>\n",
       "      <th>Lag4</th>\n",
       "      <th>Lag5</th>\n",
       "      <th>Direction</th>\n",
       "    </tr>\n",
       "    <tr>\n",
       "      <th>Date</th>\n",
       "      <th></th>\n",
       "      <th></th>\n",
       "      <th></th>\n",
       "      <th></th>\n",
       "      <th></th>\n",
       "      <th></th>\n",
       "      <th></th>\n",
       "      <th></th>\n",
       "    </tr>\n",
       "  </thead>\n",
       "  <tbody>\n",
       "    <tr>\n",
       "      <th>2017-01-10</th>\n",
       "      <td>24462100.0</td>\n",
       "      <td>0.100859</td>\n",
       "      <td>0.915940</td>\n",
       "      <td>1.114831</td>\n",
       "      <td>0.508547</td>\n",
       "      <td>-0.111914</td>\n",
       "      <td>NaN</td>\n",
       "      <td>1.0</td>\n",
       "    </tr>\n",
       "    <tr>\n",
       "      <th>2017-01-11</th>\n",
       "      <td>27588600.0</td>\n",
       "      <td>0.537314</td>\n",
       "      <td>0.100859</td>\n",
       "      <td>0.915940</td>\n",
       "      <td>1.114831</td>\n",
       "      <td>0.508547</td>\n",
       "      <td>-0.111914</td>\n",
       "      <td>1.0</td>\n",
       "    </tr>\n",
       "    <tr>\n",
       "      <th>2017-01-12</th>\n",
       "      <td>27086200.0</td>\n",
       "      <td>-0.417564</td>\n",
       "      <td>0.537314</td>\n",
       "      <td>0.100859</td>\n",
       "      <td>0.915940</td>\n",
       "      <td>1.114831</td>\n",
       "      <td>0.508547</td>\n",
       "      <td>-1.0</td>\n",
       "    </tr>\n",
       "    <tr>\n",
       "      <th>2017-01-13</th>\n",
       "      <td>26111900.0</td>\n",
       "      <td>-0.176084</td>\n",
       "      <td>-0.417564</td>\n",
       "      <td>0.537314</td>\n",
       "      <td>0.100859</td>\n",
       "      <td>0.915940</td>\n",
       "      <td>1.114831</td>\n",
       "      <td>-1.0</td>\n",
       "    </tr>\n",
       "    <tr>\n",
       "      <th>2017-01-17</th>\n",
       "      <td>34439800.0</td>\n",
       "      <td>0.806462</td>\n",
       "      <td>-0.176084</td>\n",
       "      <td>-0.417564</td>\n",
       "      <td>0.537314</td>\n",
       "      <td>0.100859</td>\n",
       "      <td>0.915940</td>\n",
       "      <td>1.0</td>\n",
       "    </tr>\n",
       "  </tbody>\n",
       "</table>\n",
       "</div>"
      ],
      "text/plain": [
       "                Volume     Today      Lag1      Lag2      Lag3      Lag4  \\\n",
       "Date                                                                       \n",
       "2017-01-10  24462100.0  0.100859  0.915940  1.114831  0.508547 -0.111914   \n",
       "2017-01-11  27588600.0  0.537314  0.100859  0.915940  1.114831  0.508547   \n",
       "2017-01-12  27086200.0 -0.417564  0.537314  0.100859  0.915940  1.114831   \n",
       "2017-01-13  26111900.0 -0.176084 -0.417564  0.537314  0.100859  0.915940   \n",
       "2017-01-17  34439800.0  0.806462 -0.176084 -0.417564  0.537314  0.100859   \n",
       "\n",
       "                Lag5  Direction  \n",
       "Date                             \n",
       "2017-01-10       NaN        1.0  \n",
       "2017-01-11 -0.111914        1.0  \n",
       "2017-01-12  0.508547       -1.0  \n",
       "2017-01-13  1.114831       -1.0  \n",
       "2017-01-17  0.915940        1.0  "
      ]
     },
     "execution_count": 17,
     "metadata": {},
     "output_type": "execute_result"
    }
   ],
   "source": [
    "# Create the lagged percentage returns columns\n",
    "for i in range(0,lags):\n",
    "    dfret[\"Lag%s\" % str(i+1)] = tslag[\"Lag%s\" % str(i+1)].pct_change()*100.0\n",
    "\n",
    "# Direction (+1 or -1 indicating an Up or Down down day)\n",
    "dfret[\"Direction\"] = np.sign(dfret[\"Today\"])\n",
    "\n",
    "#because of the shifts there are NaN avlues\n",
    "dfret.drop(dfret.index[:5], inplace=True)\n",
    "dfret.head()"
   ]
  },
  {
   "cell_type": "code",
   "execution_count": 18,
   "metadata": {},
   "outputs": [
    {
     "name": "stderr",
     "output_type": "stream",
     "text": [
      "C:\\Users\\Goliath\\miniconda3\\envs\\quantitive_finance\\lib\\site-packages\\sklearn\\svm\\_base.py:946: ConvergenceWarning: Liblinear failed to converge, increase the number of iterations.\n",
      "  warnings.warn(\"Liblinear failed to converge, increase \"\n"
     ]
    },
    {
     "data": {
      "text/plain": [
       "0.5339366515837104"
      ]
     },
     "execution_count": 18,
     "metadata": {},
     "output_type": "execute_result"
    }
   ],
   "source": [
    "X = dfret[[\"Lag1\",\"Lag2\",\"Lag3\",\"Lag4\"]]\n",
    "y = dfret[\"Direction\"]\n",
    "start_test = datetime(2018,4,1)\n",
    "\n",
    "X_train = X[X.index < start_test]\n",
    "X_test = X[X.index >= start_test]\n",
    "y_train = y[y.index < start_test]\n",
    "y_test = y[y.index >= start_test]\n",
    "\n",
    "# we use Linear Support Vector Machine as the machine learning model\n",
    "model = LinearSVC()\n",
    "\n",
    "# train\n",
    "model.fit(X_train, y_train)\n",
    "\n",
    "#Predict\n",
    "predictions =model.predict(X_test)\n",
    "\n",
    "#score\n",
    "model.score(X_test, y_test)\n"
   ]
  },
  {
   "cell_type": "code",
   "execution_count": 19,
   "metadata": {},
   "outputs": [
    {
     "data": {
      "text/plain": [
       "array([[ 66,  78],\n",
       "       [128, 170]], dtype=int64)"
      ]
     },
     "execution_count": 19,
     "metadata": {},
     "output_type": "execute_result"
    }
   ],
   "source": [
    "#Confusion matrix\n",
    "confusion_matrix(predictions,y_test)"
   ]
  },
  {
   "cell_type": "code",
   "execution_count": null,
   "metadata": {},
   "outputs": [],
   "source": []
  }
 ],
 "metadata": {
  "kernelspec": {
   "display_name": "Python 3",
   "language": "python",
   "name": "python3"
  },
  "language_info": {
   "codemirror_mode": {
    "name": "ipython",
    "version": 3
   },
   "file_extension": ".py",
   "mimetype": "text/x-python",
   "name": "python",
   "nbconvert_exporter": "python",
   "pygments_lexer": "ipython3",
   "version": "3.8.2"
  }
 },
 "nbformat": 4,
 "nbformat_minor": 4
}
