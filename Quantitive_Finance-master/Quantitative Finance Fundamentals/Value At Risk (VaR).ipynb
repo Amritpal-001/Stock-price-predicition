{
 "cells": [
  {
   "cell_type": "markdown",
   "metadata": {},
   "source": [
    "# Value At Risk (VAR)\n",
    "\n",
    "There is a trade off between risk and return \n",
    "the conclusion of MPT and CAPM\n",
    "\n",
    "There are several measures\n",
    "variance\n",
    "standard deviation\n",
    "total risk\n",
    "beta\n",
    "\n",
    "These measures do not consider a probability distribution\n",
    "\n",
    "Var Is a number measure in price units\n",
    "It tells you that in. large percentage of casses your portfolio is likley to not lose more than the specified amount of money\n",
    "\n",
    "VaR measures the amount of potential loss that could happen in an investment of portfolio over a given period of time with a given degree of confidence\n",
    "\n",
    "Easy to understand and interpret\n",
    "\n",
    "can compare different types of assets or portfolios with VaR \n",
    "\n",
    "Risk Budgeting\n",
    "\n",
    "Variance method - assumes returns are normally disributed\n",
    "\n",
    "The desnitty of normal distribution function\n",
    "\n",
    "https://en.wikipedia.org/wiki/Normal_distribution\n",
    "\n",
    "Returns are normally distributed\n",
    "\n",
    "We have to define a confidence level (95%)\n",
    "\n",
    "z defines the number of standard deviations from the mean\n",
    "z = 2.33, z = 1.64 99%, 95%\n",
    "\n"
   ]
  },
  {
   "cell_type": "code",
   "execution_count": 15,
   "metadata": {},
   "outputs": [],
   "source": [
    "import numpy as np\n",
    "import pandas as pd\n",
    "from scipy.stats import norm\n",
    "import pandas_datareader as web\n",
    "import datetime"
   ]
  },
  {
   "cell_type": "code",
   "execution_count": 16,
   "metadata": {},
   "outputs": [],
   "source": [
    "def value_at_risk(pos, c, mu, sigma):\n",
    "    alpha = norm.ppf(1-c)\n",
    "    var = pos*(mu-sigma*alpha)\n",
    "    return var\n",
    "\n",
    "def value_at_risk_long(S,c,mu,sigma,n):\n",
    "    alpha = norm.ppf(1-c)\n",
    "    var = S*(mu*n-sigma*alpha,*np.sqrt(n))\n",
    "    return var"
   ]
  },
  {
   "cell_type": "code",
   "execution_count": 23,
   "metadata": {},
   "outputs": [],
   "source": [
    "start_date = datetime.datetime(2014,1,1)\n",
    "end_date = datetime.datetime(2019,10,15)"
   ]
  },
  {
   "cell_type": "code",
   "execution_count": 24,
   "metadata": {},
   "outputs": [],
   "source": [
    "citi = web.DataReader('C',data_source='yahoo', start=start_date,\n",
    "                     end=end_date)"
   ]
  },
  {
   "cell_type": "code",
   "execution_count": 25,
   "metadata": {},
   "outputs": [
    {
     "data": {
      "text/html": [
       "<div>\n",
       "<style scoped>\n",
       "    .dataframe tbody tr th:only-of-type {\n",
       "        vertical-align: middle;\n",
       "    }\n",
       "\n",
       "    .dataframe tbody tr th {\n",
       "        vertical-align: top;\n",
       "    }\n",
       "\n",
       "    .dataframe thead th {\n",
       "        text-align: right;\n",
       "    }\n",
       "</style>\n",
       "<table border=\"1\" class=\"dataframe\">\n",
       "  <thead>\n",
       "    <tr style=\"text-align: right;\">\n",
       "      <th></th>\n",
       "      <th>High</th>\n",
       "      <th>Low</th>\n",
       "      <th>Open</th>\n",
       "      <th>Close</th>\n",
       "      <th>Volume</th>\n",
       "      <th>Adj Close</th>\n",
       "      <th>returns</th>\n",
       "    </tr>\n",
       "    <tr>\n",
       "      <th>Date</th>\n",
       "      <th></th>\n",
       "      <th></th>\n",
       "      <th></th>\n",
       "      <th></th>\n",
       "      <th></th>\n",
       "      <th></th>\n",
       "      <th></th>\n",
       "    </tr>\n",
       "  </thead>\n",
       "  <tbody>\n",
       "    <tr>\n",
       "      <th>2014-01-02</th>\n",
       "      <td>52.400002</td>\n",
       "      <td>51.810001</td>\n",
       "      <td>52.029999</td>\n",
       "      <td>52.270000</td>\n",
       "      <td>16479700.0</td>\n",
       "      <td>48.062008</td>\n",
       "      <td>NaN</td>\n",
       "    </tr>\n",
       "    <tr>\n",
       "      <th>2014-01-03</th>\n",
       "      <td>53.470001</td>\n",
       "      <td>52.310001</td>\n",
       "      <td>52.389999</td>\n",
       "      <td>53.400002</td>\n",
       "      <td>26884900.0</td>\n",
       "      <td>49.101032</td>\n",
       "      <td>0.021618</td>\n",
       "    </tr>\n",
       "    <tr>\n",
       "      <th>2014-01-06</th>\n",
       "      <td>54.290001</td>\n",
       "      <td>53.430000</td>\n",
       "      <td>53.619999</td>\n",
       "      <td>53.810001</td>\n",
       "      <td>28503100.0</td>\n",
       "      <td>49.478031</td>\n",
       "      <td>0.007678</td>\n",
       "    </tr>\n",
       "    <tr>\n",
       "      <th>2014-01-07</th>\n",
       "      <td>54.720001</td>\n",
       "      <td>53.779999</td>\n",
       "      <td>54.590000</td>\n",
       "      <td>54.180000</td>\n",
       "      <td>28840400.0</td>\n",
       "      <td>49.818245</td>\n",
       "      <td>0.006876</td>\n",
       "    </tr>\n",
       "    <tr>\n",
       "      <th>2014-01-08</th>\n",
       "      <td>55.000000</td>\n",
       "      <td>54.200001</td>\n",
       "      <td>54.290001</td>\n",
       "      <td>54.810001</td>\n",
       "      <td>25989800.0</td>\n",
       "      <td>50.397526</td>\n",
       "      <td>0.011628</td>\n",
       "    </tr>\n",
       "    <tr>\n",
       "      <th>2014-01-09</th>\n",
       "      <td>55.279999</td>\n",
       "      <td>54.759998</td>\n",
       "      <td>55.000000</td>\n",
       "      <td>55.200001</td>\n",
       "      <td>21803700.0</td>\n",
       "      <td>50.756126</td>\n",
       "      <td>0.007115</td>\n",
       "    </tr>\n",
       "    <tr>\n",
       "      <th>2014-01-10</th>\n",
       "      <td>55.090000</td>\n",
       "      <td>54.299999</td>\n",
       "      <td>55.029999</td>\n",
       "      <td>54.720001</td>\n",
       "      <td>22485900.0</td>\n",
       "      <td>50.314762</td>\n",
       "      <td>-0.008696</td>\n",
       "    </tr>\n",
       "    <tr>\n",
       "      <th>2014-01-13</th>\n",
       "      <td>54.660000</td>\n",
       "      <td>53.439999</td>\n",
       "      <td>54.459999</td>\n",
       "      <td>53.720001</td>\n",
       "      <td>21110300.0</td>\n",
       "      <td>49.395275</td>\n",
       "      <td>-0.018275</td>\n",
       "    </tr>\n",
       "    <tr>\n",
       "      <th>2014-01-14</th>\n",
       "      <td>54.400002</td>\n",
       "      <td>53.630001</td>\n",
       "      <td>54.130001</td>\n",
       "      <td>53.950001</td>\n",
       "      <td>17771000.0</td>\n",
       "      <td>49.606762</td>\n",
       "      <td>0.004282</td>\n",
       "    </tr>\n",
       "    <tr>\n",
       "      <th>2014-01-15</th>\n",
       "      <td>55.169998</td>\n",
       "      <td>54.360001</td>\n",
       "      <td>54.520000</td>\n",
       "      <td>54.990002</td>\n",
       "      <td>33688100.0</td>\n",
       "      <td>50.563030</td>\n",
       "      <td>0.019277</td>\n",
       "    </tr>\n",
       "  </tbody>\n",
       "</table>\n",
       "</div>"
      ],
      "text/plain": [
       "                 High        Low       Open      Close      Volume  Adj Close  \\\n",
       "Date                                                                            \n",
       "2014-01-02  52.400002  51.810001  52.029999  52.270000  16479700.0  48.062008   \n",
       "2014-01-03  53.470001  52.310001  52.389999  53.400002  26884900.0  49.101032   \n",
       "2014-01-06  54.290001  53.430000  53.619999  53.810001  28503100.0  49.478031   \n",
       "2014-01-07  54.720001  53.779999  54.590000  54.180000  28840400.0  49.818245   \n",
       "2014-01-08  55.000000  54.200001  54.290001  54.810001  25989800.0  50.397526   \n",
       "2014-01-09  55.279999  54.759998  55.000000  55.200001  21803700.0  50.756126   \n",
       "2014-01-10  55.090000  54.299999  55.029999  54.720001  22485900.0  50.314762   \n",
       "2014-01-13  54.660000  53.439999  54.459999  53.720001  21110300.0  49.395275   \n",
       "2014-01-14  54.400002  53.630001  54.130001  53.950001  17771000.0  49.606762   \n",
       "2014-01-15  55.169998  54.360001  54.520000  54.990002  33688100.0  50.563030   \n",
       "\n",
       "             returns  \n",
       "Date                  \n",
       "2014-01-02       NaN  \n",
       "2014-01-03  0.021618  \n",
       "2014-01-06  0.007678  \n",
       "2014-01-07  0.006876  \n",
       "2014-01-08  0.011628  \n",
       "2014-01-09  0.007115  \n",
       "2014-01-10 -0.008696  \n",
       "2014-01-13 -0.018275  \n",
       "2014-01-14  0.004282  \n",
       "2014-01-15  0.019277  "
      ]
     },
     "execution_count": 25,
     "metadata": {},
     "output_type": "execute_result"
    }
   ],
   "source": [
    "citi['returns'] = citi['Adj Close'].pct_change()\n",
    "citi[:10]"
   ]
  },
  {
   "cell_type": "code",
   "execution_count": 26,
   "metadata": {},
   "outputs": [],
   "source": [
    "S = 1e6\n",
    "c=0.99 # confidence is 99%\n",
    "mu = np.mean(citi['returns'])  # mean\n",
    "sigma = np.std(citi['returns']) # sigma is the standard deviation"
   ]
  },
  {
   "cell_type": "code",
   "execution_count": 41,
   "metadata": {},
   "outputs": [
    {
     "data": {
      "text/plain": [
       "36079.532345918444"
      ]
     },
     "execution_count": 41,
     "metadata": {},
     "output_type": "execute_result"
    }
   ],
   "source": [
    "var = value_at_risk(S,c,mu,sigma)\n",
    "#Result in USD $\n",
    "var"
   ]
  },
  {
   "cell_type": "code",
   "execution_count": 38,
   "metadata": {},
   "outputs": [],
   "source": [
    "# lets do monte carlo simmulations\n",
    "iterations = 100000\n",
    "n = 1"
   ]
  },
  {
   "cell_type": "code",
   "execution_count": 39,
   "metadata": {},
   "outputs": [],
   "source": [
    "class ValueAtRiskMoneteCarlo:\n",
    "    def __init__(self, S, mu, sigma, c, n, iterations):\n",
    "        self.S = S\n",
    "        self.mu = mu\n",
    "        self.sigma = sigma\n",
    "        self.c = c\n",
    "        self.n = n\n",
    "        self.iterations = iterations\n",
    "        \n",
    "    def simulation(self):\n",
    "        stock_data = np.zeros([self.iterations,1])\n",
    "        rand = np.random.normal(0,1,[1,self.iterations])\n",
    "        \n",
    "        # equation for S(t) stock price\n",
    "        stock_price = self.S*np.exp(self.n*(self.mu-0.5*self.sigma**2)+ self.sigma*np.sqrt(self.n)*rand)\n",
    "        \n",
    "        #we have to sort the stock prices to determine the percentile\n",
    "        stock_price = np.sort(stock_price)\n",
    "        \n",
    "        #it depends on the confidence level: 95% -> 5 and 99% -> 1\n",
    "        percentile = np.percentile(stock_price,(1-self.c)*100)\n",
    "        \n",
    "        return self.S-percentile\n",
    "        "
   ]
  },
  {
   "cell_type": "code",
   "execution_count": 40,
   "metadata": {},
   "outputs": [
    {
     "data": {
      "text/plain": [
       "34686.73668969667"
      ]
     },
     "execution_count": 40,
     "metadata": {},
     "output_type": "execute_result"
    }
   ],
   "source": [
    "model = ValueAtRiskMoneteCarlo(S, mu, sigma,c,n,iterations)\n",
    "r = model.simulation()\n",
    "# R is the amount in USD $\n",
    "r"
   ]
  },
  {
   "cell_type": "code",
   "execution_count": null,
   "metadata": {},
   "outputs": [],
   "source": []
  },
  {
   "cell_type": "code",
   "execution_count": null,
   "metadata": {},
   "outputs": [],
   "source": []
  }
 ],
 "metadata": {
  "kernelspec": {
   "display_name": "Python 3",
   "language": "python",
   "name": "python3"
  },
  "language_info": {
   "codemirror_mode": {
    "name": "ipython",
    "version": 3
   },
   "file_extension": ".py",
   "mimetype": "text/x-python",
   "name": "python",
   "nbconvert_exporter": "python",
   "pygments_lexer": "ipython3",
   "version": "3.8.1"
  }
 },
 "nbformat": 4,
 "nbformat_minor": 4
}
