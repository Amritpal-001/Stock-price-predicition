{
 "cells": [
  {
   "cell_type": "markdown",
   "metadata": {},
   "source": [
    "## Interest Rates\n",
    "\n",
    "Inteerest rates are measures of the price charged in the economy to borrow money\n",
    "\n",
    "Terminology: The charge levied to borrow money is called interest\n",
    "Principal is the amount of money borrowed in a loan\n",
    "The interest rate is the fraction of the principal of loan that will be charged as interest per unit time\n",
    "\n",
    "Thus there is a time unit implicit in an interest rate\n",
    "\n",
    "An annual interest rate is an interest rate is for 1year\n",
    "\n",
    "Quoted interest rates in thisi course interes rates are annual rates unless otherwiise stated."
   ]
  },
  {
   "cell_type": "code",
   "execution_count": null,
   "metadata": {},
   "outputs": [],
   "source": []
  },
  {
   "cell_type": "code",
   "execution_count": null,
   "metadata": {},
   "outputs": [],
   "source": []
  }
 ],
 "metadata": {
  "kernelspec": {
   "display_name": "Python 3",
   "language": "python",
   "name": "python3"
  },
  "language_info": {
   "codemirror_mode": {
    "name": "ipython",
    "version": 3
   },
   "file_extension": ".py",
   "mimetype": "text/x-python",
   "name": "python",
   "nbconvert_exporter": "python",
   "pygments_lexer": "ipython3",
   "version": "3.7.6"
  }
 },
 "nbformat": 4,
 "nbformat_minor": 4
}
