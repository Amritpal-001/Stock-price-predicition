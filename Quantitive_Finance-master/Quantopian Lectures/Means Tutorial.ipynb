{
 "cells": [
  {
   "cell_type": "markdown",
   "metadata": {},
   "source": [
    "# Means\n",
    "\n",
    "Measuring data by taking a mean is pretty ubiquitous. However means also omits a lot of information.\n",
    "\n",
    "This is a primer on means and some other 'measures of centrality' in data."
   ]
  },
  {
   "cell_type": "markdown",
   "metadata": {},
   "source": [
    "#### Summarizing data using a single number\n",
    "\n",
    "The goal is to capture informationo about the distribution of data.\n",
    "\n",
    "## Arithmetic mean\n",
    "\n",
    "The arithmetic mean is used very frequently to summarize numerical data, and is usually the one assumed to be meant by the word \"average\" It is defined as th sum of the observation dvided by the number of observationos\n",
    "\n",
    "u = Sum X, / N"
   ]
  },
  {
   "cell_type": "code",
   "execution_count": 1,
   "metadata": {},
   "outputs": [],
   "source": [
    "import scipy.stats as stats\n",
    "import numpy as np"
   ]
  },
  {
   "cell_type": "code",
   "execution_count": 3,
   "metadata": {},
   "outputs": [],
   "source": [
    "x1 = [1,2,2,3,4,5,5,7]\n",
    "x2 = x1 + [100]"
   ]
  },
  {
   "cell_type": "code",
   "execution_count": 6,
   "metadata": {},
   "outputs": [
    {
     "name": "stdout",
     "output_type": "stream",
     "text": [
      "Mean of x1: 29 / 8 = 3.625\n",
      "Mean of x2: 129 / 9 = 14.3333333333\n"
     ]
    }
   ],
   "source": [
    "print 'Mean of x1:', sum(x1),'/', len(x1), '=', np.mean(x1)\n",
    "print 'Mean of x2:', sum(x2),'/', len(x2), '=', np.mean(x2)"
   ]
  },
  {
   "cell_type": "markdown",
   "metadata": {},
   "source": [
    "#### Weighted Arithmetic Mean\n",
    "\n",
    "Useful for explicity specifying the number of times each observation should be cnounted. Multiply each value with a weight."
   ]
  },
  {
   "cell_type": "markdown",
   "metadata": {},
   "source": [
    "## Median\n",
    "\n",
    "The median of a set of data is the number which appears in the middle of the list when it is sorted."
   ]
  },
  {
   "cell_type": "code",
   "execution_count": 7,
   "metadata": {},
   "outputs": [
    {
     "data": {
      "text/plain": [
       "(3.5, 4.0)"
      ]
     },
     "execution_count": 7,
     "metadata": {},
     "output_type": "execute_result"
    }
   ],
   "source": [
    "np.median(x1),np.median(x2)"
   ]
  },
  {
   "cell_type": "markdown",
   "metadata": {},
   "source": [
    "## Mode\n",
    "\n",
    "The most frequenly occuring value in a data set. Useful for data whose possible values are independent. For example in the outcomes of weighted dice, coming up 6 often does not mean it is likely to come up 5.\n",
    "\n"
   ]
  },
  {
   "cell_type": "code",
   "execution_count": 12,
   "metadata": {},
   "outputs": [
    {
     "data": {
      "text/plain": [
       "2"
      ]
     },
     "execution_count": 12,
     "metadata": {},
     "output_type": "execute_result"
    }
   ],
   "source": [
    "# Returns only one value\n",
    "stats.mode(x1)[0][0]"
   ]
  },
  {
   "cell_type": "code",
   "execution_count": 13,
   "metadata": {},
   "outputs": [],
   "source": [
    "def mode(l):\n",
    "    counts ={}\n",
    "    for e in l:\n",
    "        if e in counts:\n",
    "            counts[e]+=1\n",
    "        else:\n",
    "            counts[e] =1\n",
    "    \n",
    "    maxcount = 0\n",
    "    modes = {}\n",
    "    for (k,v) in counts.items():\n",
    "        if v > maxcount:\n",
    "            maxcount = v\n",
    "            modes = {k}\n",
    "        elif v == maxcount:\n",
    "            modes.add(k)\n",
    "    if maxcount >1 or len(l) == 1:\n",
    "        return list(modes)\n",
    "    return 'No Mode'\n"
   ]
  },
  {
   "cell_type": "code",
   "execution_count": 11,
   "metadata": {},
   "outputs": [
    {
     "data": {
      "text/plain": [
       "[2, 5]"
      ]
     },
     "execution_count": 11,
     "metadata": {},
     "output_type": "execute_result"
    }
   ],
   "source": [
    "mode(x1)"
   ]
  },
  {
   "cell_type": "markdown",
   "metadata": {},
   "source": [
    "For data that can take on many different values such as returns data, there may not be any values that appear more than once. \n",
    "\n",
    "In this case we can bin values, like we do when constructiong a histogram. Then find the mode of the data set where each value is replaced with the name of its bin\n",
    "\n",
    "That is we find which bin elements fall into most often."
   ]
  },
  {
   "cell_type": "code",
   "execution_count": 14,
   "metadata": {},
   "outputs": [
    {
     "data": {
      "text/plain": [
       "'No Mode'"
      ]
     },
     "execution_count": 14,
     "metadata": {},
     "output_type": "execute_result"
    }
   ],
   "source": [
    "# Get return data foor an asset and comopute the mode of the data set\n",
    "start = '2019-01-01'\n",
    "end = '2020-01-01'\n",
    "pricing = get_pricing('SPY', fields='price', start_date=start,end_date=end)\n",
    "returns = pricing.pct_change()[1:]\n",
    "mode(returns)"
   ]
  },
  {
   "cell_type": "markdown",
   "metadata": {},
   "source": [
    "Since all of the returns are distinct we use a frequency distribution to get an alternative mode.\n",
    "\n",
    "np histogram returns the frequency distribution over he bins as well as the endpoints of the bins"
   ]
  },
  {
   "cell_type": "code",
   "execution_count": 16,
   "metadata": {},
   "outputs": [
    {
     "name": "stdout",
     "output_type": "stream",
     "text": [
      "Mode of bins: [(-0.0010477179735711162, 0.0021455730028153708)]\n"
     ]
    }
   ],
   "source": [
    "hist,bins = np.histogram(returns,20)\n",
    "maxfreq = max(hist)\n",
    "\n",
    "bin_result = [(bins[i],bins[i+1]) for i, j in enumerate(hist) if j == maxfreq]\n",
    "print 'Mode of bins:', bin_result"
   ]
  },
  {
   "cell_type": "markdown",
   "metadata": {},
   "source": [
    "## Geometric Mean\n",
    "\n",
    "While the arithmetic mean averages using addition, the geometric mean uses multiplication.\n",
    "\n",
    "G = sqrt(x1*x2*...*xN,N)\n",
    "\n",
    "where Xi > 0 We can also rewrite it as the arithmetic mean using logarithms:\n",
    "\n",
    "ln G = sum(ln X1)/N\n",
    "\n",
    "The geometric mean is always less than or equal to the arithmetifc mean (when working with non-negative observations) with equality only when all of the observations are the same.\n"
   ]
  },
  {
   "cell_type": "code",
   "execution_count": 18,
   "metadata": {},
   "outputs": [
    {
     "data": {
      "text/plain": [
       "(3.0941040249774403, 4.5525345876200713)"
      ]
     },
     "execution_count": 18,
     "metadata": {},
     "output_type": "execute_result"
    }
   ],
   "source": [
    "stats.gmean(x1),stats.gmean(x2)"
   ]
  },
  {
   "cell_type": "markdown",
   "metadata": {},
   "source": [
    "The geometric mean is always less than or equal to the arithmetic mean when working with non negative observations. with equality only when all of the observations are the same."
   ]
  },
  {
   "cell_type": "markdown",
   "metadata": {},
   "source": [
    "What if we want to compute the geometric mean when we have negative observations? \n",
    "\n",
    "In the case of asset returns, where our values are always at least -1. we can add 1 to a return Rt to get 1 + Rt whic is the ratioio of the price of the asset for two consecutive perids (as opposed to the percent change between the prices, R)\n",
    "\n",
    "This quantity will alwyas be non-negative. So we can compute the geometric mean return,\n",
    "\n",
    "Rg = sqrt(sum(1+R1*1+R2*...*1+RT),t)-1"
   ]
  },
  {
   "cell_type": "code",
   "execution_count": 22,
   "metadata": {},
   "outputs": [
    {
     "data": {
      "text/plain": [
       "2019-01-03 00:00:00+00:00    0.975506\n",
       "2019-01-04 00:00:00+00:00    1.034078\n",
       "2019-01-07 00:00:00+00:00    1.007289\n",
       "2019-01-08 00:00:00+00:00    1.009436\n",
       "2019-01-09 00:00:00+00:00    1.004636\n",
       "2019-01-10 00:00:00+00:00    1.004188\n",
       "2019-01-11 00:00:00+00:00    0.999807\n",
       "2019-01-14 00:00:00+00:00    0.994400\n",
       "2019-01-15 00:00:00+00:00    1.011343\n",
       "2019-01-16 00:00:00+00:00    1.002188\n",
       "Freq: C, Name: Equity(8554 [SPY]), dtype: float64"
      ]
     },
     "execution_count": 22,
     "metadata": {},
     "output_type": "execute_result"
    }
   ],
   "source": [
    "# add 1 to every value in the returns array and then compute R-G\n",
    "ratios = returns + np.ones(len(returns))\n",
    "ratios[:10]"
   ]
  },
  {
   "cell_type": "code",
   "execution_count": 23,
   "metadata": {},
   "outputs": [],
   "source": [
    "R_G = stats.gmean(ratios)-1"
   ]
  },
  {
   "cell_type": "code",
   "execution_count": 24,
   "metadata": {},
   "outputs": [
    {
     "name": "stdout",
     "output_type": "stream",
     "text": [
      "Geometric mean of returns:  0.0010781304075\n"
     ]
    }
   ],
   "source": [
    "print 'Geometric mean of returns: ', R_G"
   ]
  },
  {
   "cell_type": "markdown",
   "metadata": {},
   "source": [
    "The geometric mean is defined so that if the rate of return over the whole time period were constant and equal to Rg, the final price of the securiity would be the same as in the case of returns R1,...,Rt"
   ]
  },
  {
   "cell_type": "code",
   "execution_count": 26,
   "metadata": {},
   "outputs": [
    {
     "name": "stdout",
     "output_type": "stream",
     "text": [
      "Initial price: 245.61\n",
      "Final price:  321.89\n",
      "Final price as computed with R_G: 321.89\n"
     ]
    }
   ],
   "source": [
    "T = len(returns)\n",
    "init_price = pricing[0]\n",
    "final_price = pricing[T]\n",
    "print 'Initial price:', init_price\n",
    "print 'Final price: ', final_price\n",
    "print 'Final price as computed with R_G:', init_price*(1+R_G)**T"
   ]
  },
  {
   "cell_type": "markdown",
   "metadata": {},
   "source": [
    "# WOW THATS COOL"
   ]
  },
  {
   "cell_type": "markdown",
   "metadata": {},
   "source": [
    "# Harmonic Mean\n",
    "\n",
    "This harmonic mean is less commonly used than the ther types of means. It is defined as \n",
    "\n",
    "H = n/ sum(1/x)\n",
    "\n",
    "As with the geometric mean we can rewrite the harmonic mean to look like the arithmetic mean \n",
    "\n",
    "The harmonic mean for nnegatibve numbers is always at most the geometric mean, assuming equality.\n",
    "\n",
    "####The harmonic mean can be used when the data can be naturally phrased in terms of ratios.\n",
    "\n",
    "For instance in the dollar cost averaging strategy, a fixed amount is spent on shares of a stock at regular intervals. \n",
    "\n",
    "The higher the price of the stock, then the fewer shares an investor following the strategy buys.\n",
    "\n",
    "The average (arithmetic mean) amount they pay for the stock is the harmonic mean of the prices."
   ]
  },
  {
   "cell_type": "code",
   "execution_count": 27,
   "metadata": {},
   "outputs": [
    {
     "data": {
      "text/plain": [
       "(2.5590251332825593, 2.8697236562405108)"
      ]
     },
     "execution_count": 27,
     "metadata": {},
     "output_type": "execute_result"
    }
   ],
   "source": [
    "stats.hmean(x1),stats.hmean(x2)"
   ]
  },
  {
   "cell_type": "code",
   "execution_count": null,
   "metadata": {},
   "outputs": [],
   "source": []
  }
 ],
 "metadata": {
  "kernelspec": {
   "display_name": "Python 3.5",
   "language": "python",
   "name": "py35"
  },
  "language_info": {
   "codemirror_mode": {
    "name": "ipython",
    "version": 3
   },
   "file_extension": ".py",
   "mimetype": "text/x-python",
   "name": "python",
   "nbconvert_exporter": "python",
   "pygments_lexer": "ipython3",
   "version": "3.5.9"
  }
 },
 "nbformat": 4,
 "nbformat_minor": 2
}