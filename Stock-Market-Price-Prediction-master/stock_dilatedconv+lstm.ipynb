{
 "cells": [
  {
   "cell_type": "code",
   "execution_count": 1,
   "metadata": {},
   "outputs": [
    {
     "name": "stderr",
     "output_type": "stream",
     "text": [
      "Using Theano backend.\n"
     ]
    }
   ],
   "source": [
    "import numpy as np\n",
    "import pandas as pd\n",
    "from keras.engine.topology import merge\n",
    "from keras.layers import Dense, Dropout, Activation, LSTM, Conv1D, MaxPooling1D, Flatten, AtrousConvolution1D, Input\n",
    "from keras.models import Sequential, Model\n",
    "import matplotlib.pyplot as plt\n",
    "%matplotlib inline"
   ]
  },
  {
   "cell_type": "code",
   "execution_count": 2,
   "metadata": {
    "collapsed": true
   },
   "outputs": [],
   "source": [
    "## Data preparation"
   ]
  },
  {
   "cell_type": "code",
   "execution_count": 3,
   "metadata": {},
   "outputs": [
    {
     "data": {
      "text/html": [
       "<div>\n",
       "<style>\n",
       "    .dataframe thead tr:only-child th {\n",
       "        text-align: right;\n",
       "    }\n",
       "\n",
       "    .dataframe thead th {\n",
       "        text-align: left;\n",
       "    }\n",
       "\n",
       "    .dataframe tbody tr th {\n",
       "        vertical-align: top;\n",
       "    }\n",
       "</style>\n",
       "<table border=\"1\" class=\"dataframe\">\n",
       "  <thead>\n",
       "    <tr style=\"text-align: right;\">\n",
       "      <th></th>\n",
       "      <th>Date</th>\n",
       "      <th>Open</th>\n",
       "      <th>High</th>\n",
       "      <th>Low</th>\n",
       "      <th>Close</th>\n",
       "      <th>Adj Close</th>\n",
       "      <th>Volume</th>\n",
       "    </tr>\n",
       "  </thead>\n",
       "  <tbody>\n",
       "    <tr>\n",
       "      <th>4271</th>\n",
       "      <td>2017-11-27</td>\n",
       "      <td>23552.859375</td>\n",
       "      <td>23638.919922</td>\n",
       "      <td>23545.019531</td>\n",
       "      <td>23580.779297</td>\n",
       "      <td>23580.779297</td>\n",
       "      <td>296320000</td>\n",
       "    </tr>\n",
       "    <tr>\n",
       "      <th>4272</th>\n",
       "      <td>2017-11-28</td>\n",
       "      <td>23625.189453</td>\n",
       "      <td>23849.609375</td>\n",
       "      <td>23617.109375</td>\n",
       "      <td>23836.710938</td>\n",
       "      <td>23836.710938</td>\n",
       "      <td>319240000</td>\n",
       "    </tr>\n",
       "    <tr>\n",
       "      <th>4273</th>\n",
       "      <td>2017-11-29</td>\n",
       "      <td>23883.259766</td>\n",
       "      <td>23959.759766</td>\n",
       "      <td>23872.589844</td>\n",
       "      <td>23940.679688</td>\n",
       "      <td>23940.679688</td>\n",
       "      <td>401410000</td>\n",
       "    </tr>\n",
       "    <tr>\n",
       "      <th>4274</th>\n",
       "      <td>2017-11-30</td>\n",
       "      <td>24013.800781</td>\n",
       "      <td>24327.820313</td>\n",
       "      <td>24013.800781</td>\n",
       "      <td>24272.349609</td>\n",
       "      <td>24272.349609</td>\n",
       "      <td>488200000</td>\n",
       "    </tr>\n",
       "    <tr>\n",
       "      <th>4275</th>\n",
       "      <td>2017-12-01</td>\n",
       "      <td>24305.400391</td>\n",
       "      <td>24322.060547</td>\n",
       "      <td>23921.900391</td>\n",
       "      <td>24231.589844</td>\n",
       "      <td>24231.589844</td>\n",
       "      <td>417910000</td>\n",
       "    </tr>\n",
       "  </tbody>\n",
       "</table>\n",
       "</div>"
      ],
      "text/plain": [
       "            Date          Open          High           Low         Close  \\\n",
       "4271  2017-11-27  23552.859375  23638.919922  23545.019531  23580.779297   \n",
       "4272  2017-11-28  23625.189453  23849.609375  23617.109375  23836.710938   \n",
       "4273  2017-11-29  23883.259766  23959.759766  23872.589844  23940.679688   \n",
       "4274  2017-11-30  24013.800781  24327.820313  24013.800781  24272.349609   \n",
       "4275  2017-12-01  24305.400391  24322.060547  23921.900391  24231.589844   \n",
       "\n",
       "         Adj Close     Volume  \n",
       "4271  23580.779297  296320000  \n",
       "4272  23836.710938  319240000  \n",
       "4273  23940.679688  401410000  \n",
       "4274  24272.349609  488200000  \n",
       "4275  24231.589844  417910000  "
      ]
     },
     "execution_count": 3,
     "metadata": {},
     "output_type": "execute_result"
    }
   ],
   "source": [
    "data= pd.read_csv('/Users/arshiyaaggarwal/Desktop/Fms_Project/code/data/^DJI.csv')\n",
    "data.tail()"
   ]
  },
  {
   "cell_type": "code",
   "execution_count": 4,
   "metadata": {},
   "outputs": [
    {
     "data": {
      "text/html": [
       "<div>\n",
       "<style>\n",
       "    .dataframe thead tr:only-child th {\n",
       "        text-align: right;\n",
       "    }\n",
       "\n",
       "    .dataframe thead th {\n",
       "        text-align: left;\n",
       "    }\n",
       "\n",
       "    .dataframe tbody tr th {\n",
       "        vertical-align: top;\n",
       "    }\n",
       "</style>\n",
       "<table border=\"1\" class=\"dataframe\">\n",
       "  <thead>\n",
       "    <tr style=\"text-align: right;\">\n",
       "      <th></th>\n",
       "      <th>Date</th>\n",
       "      <th>Open</th>\n",
       "      <th>High</th>\n",
       "      <th>Low</th>\n",
       "      <th>Close</th>\n",
       "      <th>Adj Close</th>\n",
       "      <th>Volume</th>\n",
       "    </tr>\n",
       "  </thead>\n",
       "  <tbody>\n",
       "    <tr>\n",
       "      <th>4271</th>\n",
       "      <td>2017-11-27</td>\n",
       "      <td>23552.859375</td>\n",
       "      <td>23638.919922</td>\n",
       "      <td>23545.019531</td>\n",
       "      <td>23580.779297</td>\n",
       "      <td>23580.779297</td>\n",
       "      <td>296320000</td>\n",
       "    </tr>\n",
       "    <tr>\n",
       "      <th>4272</th>\n",
       "      <td>2017-11-28</td>\n",
       "      <td>23625.189453</td>\n",
       "      <td>23849.609375</td>\n",
       "      <td>23617.109375</td>\n",
       "      <td>23836.710938</td>\n",
       "      <td>23836.710938</td>\n",
       "      <td>319240000</td>\n",
       "    </tr>\n",
       "    <tr>\n",
       "      <th>4273</th>\n",
       "      <td>2017-11-29</td>\n",
       "      <td>23883.259766</td>\n",
       "      <td>23959.759766</td>\n",
       "      <td>23872.589844</td>\n",
       "      <td>23940.679688</td>\n",
       "      <td>23940.679688</td>\n",
       "      <td>401410000</td>\n",
       "    </tr>\n",
       "    <tr>\n",
       "      <th>4274</th>\n",
       "      <td>2017-11-30</td>\n",
       "      <td>24013.800781</td>\n",
       "      <td>24327.820313</td>\n",
       "      <td>24013.800781</td>\n",
       "      <td>24272.349609</td>\n",
       "      <td>24272.349609</td>\n",
       "      <td>488200000</td>\n",
       "    </tr>\n",
       "    <tr>\n",
       "      <th>4275</th>\n",
       "      <td>2017-12-01</td>\n",
       "      <td>24305.400391</td>\n",
       "      <td>24322.060547</td>\n",
       "      <td>23921.900391</td>\n",
       "      <td>24231.589844</td>\n",
       "      <td>24231.589844</td>\n",
       "      <td>417910000</td>\n",
       "    </tr>\n",
       "  </tbody>\n",
       "</table>\n",
       "</div>"
      ],
      "text/plain": [
       "            Date          Open          High           Low         Close  \\\n",
       "4271  2017-11-27  23552.859375  23638.919922  23545.019531  23580.779297   \n",
       "4272  2017-11-28  23625.189453  23849.609375  23617.109375  23836.710938   \n",
       "4273  2017-11-29  23883.259766  23959.759766  23872.589844  23940.679688   \n",
       "4274  2017-11-30  24013.800781  24327.820313  24013.800781  24272.349609   \n",
       "4275  2017-12-01  24305.400391  24322.060547  23921.900391  24231.589844   \n",
       "\n",
       "         Adj Close     Volume  \n",
       "4271  23580.779297  296320000  \n",
       "4272  23836.710938  319240000  \n",
       "4273  23940.679688  401410000  \n",
       "4274  24272.349609  488200000  \n",
       "4275  24231.589844  417910000  "
      ]
     },
     "execution_count": 4,
     "metadata": {},
     "output_type": "execute_result"
    }
   ],
   "source": [
    "data= data.dropna(axis=0)\n",
    "data.tail()"
   ]
  },
  {
   "cell_type": "code",
   "execution_count": 5,
   "metadata": {},
   "outputs": [
    {
     "name": "stdout",
     "output_type": "stream",
     "text": [
      "(4276, 4)\n"
     ]
    }
   ],
   "source": [
    "data= data.values[:, 1:5]\n",
    "print data.shape"
   ]
  },
  {
   "cell_type": "code",
   "execution_count": 6,
   "metadata": {},
   "outputs": [
    {
     "name": "stdout",
     "output_type": "stream",
     "text": [
      "[[10377.330078 10604.459961 10319.30957 10560.950195]\n",
      " [10576.780273 10917.299805 10576.780273 10898.719727]\n",
      " [10896.139648 10896.139648 10620.860352 10664.379883]\n",
      " [10644.660156 10689.019531 10583.230469 10617.360352]\n",
      " [10632.139648 10803.540039 10631.860352 10712.910156]\n",
      " [10719.360352 10792.160156 10670.05957 10725.799805]]\n"
     ]
    }
   ],
   "source": [
    "print data[:6, :]"
   ]
  },
  {
   "cell_type": "code",
   "execution_count": 7,
   "metadata": {},
   "outputs": [
    {
     "name": "stdout",
     "output_type": "stream",
     "text": [
      "(4275,)\n",
      "(4275, 4)\n"
     ]
    }
   ],
   "source": [
    "y= data[1:, 3]\n",
    "print y.shape\n",
    "X= data[:4275,:]\n",
    "print X.shape"
   ]
  },
  {
   "cell_type": "code",
   "execution_count": 8,
   "metadata": {},
   "outputs": [
    {
     "name": "stdout",
     "output_type": "stream",
     "text": [
      "[0.9609839991623761 0.9754227755909837 0.9812883322331646 1.0\n",
      " 0.9977004752838762]\n",
      "[0.2455061392540156 0.2322854972004963 0.2296328181756039\n",
      " 0.2350234070545823 0.23575059639087165 0.23814659118191125\n",
      " 0.23962306262608365]\n"
     ]
    }
   ],
   "source": [
    "y= (y- min(y))/(max(y)- min(y))\n",
    "print y[4270:]\n",
    "print y[:7]"
   ]
  },
  {
   "cell_type": "code",
   "execution_count": 9,
   "metadata": {},
   "outputs": [
    {
     "name": "stdout",
     "output_type": "stream",
     "text": [
      "(4275, 4)\n",
      "[[0.2192915864574453 0.22106956373653716 0.2194135977236257\n",
      "  0.22645035256860355]\n",
      " [0.23071040945868904 0.23882618237200137 0.23408943537613414\n",
      "  0.2455061392540156]\n",
      " [0.24899421297621796 0.2376251434208518 0.23660200117712055\n",
      "  0.2322854972004963]]\n"
     ]
    }
   ],
   "source": [
    "X= (X- np.min(X,axis=0))/(np.max(X, axis=0)-np.min(X,axis=0))\n",
    "print X.shape\n",
    "print X[:3, :]"
   ]
  },
  {
   "cell_type": "code",
   "execution_count": 10,
   "metadata": {
    "collapsed": true
   },
   "outputs": [],
   "source": [
    "## Input layer preparation"
   ]
  },
  {
   "cell_type": "code",
   "execution_count": 11,
   "metadata": {},
   "outputs": [
    {
     "name": "stdout",
     "output_type": "stream",
     "text": [
      "(4176, 100, 4) (4176,)\n"
     ]
    }
   ],
   "source": [
    "time_steps= 100\n",
    "X_new= np.zeros((X.shape[0] - time_steps +1, 100, X.shape[1]))\n",
    "y_new= np.zeros((y.shape[0] -time_steps +1,))\n",
    "for ix in range(X_new.shape[0]):\n",
    "    for jx in range(time_steps):\n",
    "        X_new[ix, jx, :]= X[ix +jx, :]\n",
    "    y_new[ix]= y[ix + time_steps -1]\n",
    "print X_new.shape, y_new.shape"
   ]
  },
  {
   "cell_type": "code",
   "execution_count": 12,
   "metadata": {
    "collapsed": true
   },
   "outputs": [],
   "source": [
    "## split into train and test sets"
   ]
  },
  {
   "cell_type": "code",
   "execution_count": 13,
   "metadata": {},
   "outputs": [
    {
     "name": "stdout",
     "output_type": "stream",
     "text": [
      "(3420, 100, 4) (3420,)\n",
      "(756, 100, 4) (756,)\n"
     ]
    }
   ],
   "source": [
    "split = int(0.8*data.shape[0])\n",
    "X_train = X_new[:split]\n",
    "X_test = X_new[split:]\n",
    "\n",
    "y_train = y_new[:split]\n",
    "y_test = y_new[split:]\n",
    "\n",
    "print X_train.shape, y_train.shape\n",
    "print X_test.shape, y_test.shape"
   ]
  },
  {
   "cell_type": "code",
   "execution_count": 14,
   "metadata": {
    "collapsed": true
   },
   "outputs": [],
   "source": [
    "## Model fitting"
   ]
  },
  {
   "cell_type": "code",
   "execution_count": null,
   "metadata": {
    "collapsed": true
   },
   "outputs": [],
   "source": [
    "## Model - 1 - main - with residual learning"
   ]
  },
  {
   "cell_type": "code",
   "execution_count": 15,
   "metadata": {
    "collapsed": true
   },
   "outputs": [],
   "source": [
    "x= Input(shape= (100, 4))\n",
    "x_side= Conv1D(64, 1, border_mode='causal', activation='relu')(x)\n",
    "pool= MaxPooling1D(pool_length=2)(x_side)\n",
    "dil_conv1= AtrousConvolution1D(64, 3, atrous_rate=2, border_mode='causal', activation='relu')(x)\n",
    "pool1= MaxPooling1D(pool_length=2)(dil_conv1)\n",
    "out1= merge([pool, pool1], mode= 'sum', output_shape= (50,64))\n",
    "lstm= LSTM(50, return_sequences= True)(out1)\n",
    "dropout= Dropout(0.1)(lstm)\n",
    "x_n= Conv1D(32, 1, border_mode='causal', activation='relu')(dropout)\n",
    "pool_n= MaxPooling1D(pool_length=2)(x_n)\n",
    "dil_conv2= AtrousConvolution1D(32, 3, atrous_rate=2, border_mode='causal', activation='relu')(dropout)\n",
    "pool2= MaxPooling1D(pool_length=2)(dil_conv2)\n",
    "out2= merge([pool_n, pool2], mode= 'sum', output_shape= (25,32))\n",
    "conv1= Conv1D(16, 3, border_mode='causal')(out2)\n",
    "flat= Flatten()(conv1)\n",
    "dense= Dense(output_dim=1, activation='linear')(flat)"
   ]
  },
  {
   "cell_type": "code",
   "execution_count": null,
   "metadata": {},
   "outputs": [
    {
     "name": "stdout",
     "output_type": "stream",
     "text": [
      "Train on 3420 samples, validate on 756 samples\n",
      "Epoch 1/5\n",
      "5s - loss: 0.0010 - acc: 2.9240e-04 - val_loss: 0.0017 - val_acc: 0.0013\n",
      "Epoch 2/5\n",
      "5s - loss: 3.0093e-04 - acc: 2.9240e-04 - val_loss: 5.6833e-04 - val_acc: 0.0013\n",
      "Epoch 3/5\n",
      "5s - loss: 3.5594e-04 - acc: 2.9240e-04 - val_loss: 4.6210e-04 - val_acc: 0.0013\n",
      "Epoch 4/5\n"
     ]
    }
   ],
   "source": [
    "model = Model(input=x, output=dense)\n",
    "model.compile(optimizer='rmsprop',\n",
    "              loss='mse',\n",
    "              metrics=['accuracy'])\n",
    "model.fit(X_train, y_train, batch_size=256, nb_epoch=5, validation_data = (X_test, y_test), verbose=2)"
   ]
  },
  {
   "cell_type": "code",
   "execution_count": null,
   "metadata": {
    "collapsed": true
   },
   "outputs": [],
   "source": [
    "## Model - 2 - simple - without residual learning"
   ]
  },
  {
   "cell_type": "code",
   "execution_count": 26,
   "metadata": {},
   "outputs": [
    {
     "name": "stdout",
     "output_type": "stream",
     "text": [
      "____________________________________________________________________________________________________\n",
      "Layer (type)                     Output Shape          Param #     Connected to                     \n",
      "====================================================================================================\n",
      "atrousconvolution1d_9 (AtrousCon (None, 100, 64)       1344        atrousconvolution1d_input_2[0][0]\n",
      "____________________________________________________________________________________________________\n",
      "maxpooling1d_12 (MaxPooling1D)   (None, 50, 64)        0           atrousconvolution1d_9[0][0]      \n",
      "____________________________________________________________________________________________________\n",
      "lstm_2 (LSTM)                    (None, 50, 50)        23000       maxpooling1d_12[0][0]            \n",
      "____________________________________________________________________________________________________\n",
      "dropout_2 (Dropout)              (None, 50, 50)        0           lstm_2[0][0]                     \n",
      "____________________________________________________________________________________________________\n",
      "atrousconvolution1d_10 (AtrousCo (None, 50, 32)        4832        dropout_2[0][0]                  \n",
      "____________________________________________________________________________________________________\n",
      "maxpooling1d_13 (MaxPooling1D)   (None, 25, 32)        0           atrousconvolution1d_10[0][0]     \n",
      "____________________________________________________________________________________________________\n",
      "flatten_2 (Flatten)              (None, 800)           0           maxpooling1d_13[0][0]            \n",
      "____________________________________________________________________________________________________\n",
      "dense_2 (Dense)                  (None, 1)             801         flatten_2[0][0]                  \n",
      "____________________________________________________________________________________________________\n",
      "activation_2 (Activation)        (None, 1)             0           dense_2[0][0]                    \n",
      "====================================================================================================\n",
      "Total params: 29,977\n",
      "Trainable params: 29,977\n",
      "Non-trainable params: 0\n",
      "____________________________________________________________________________________________________\n"
     ]
    }
   ],
   "source": [
    "model = Sequential()\n",
    "model.add(AtrousConvolution1D(64, 5, atrous_rate=2, border_mode='same', input_shape= (100,4)))\n",
    "model.add(MaxPooling1D(pool_length=2))\n",
    "model.add(LSTM(50, return_sequences=True))\n",
    "model.add(Dropout(0.1))\n",
    "model.add(AtrousConvolution1D(32, 3, atrous_rate=2, border_mode='same'))\n",
    "model.add(MaxPooling1D(pool_length=2))\n",
    "model.add(Flatten())\n",
    "model.add(Dense(output_dim=1))\n",
    "model.add(Activation('linear'))\n",
    "\n",
    "model.summary()"
   ]
  },
  {
   "cell_type": "code",
   "execution_count": 24,
   "metadata": {
    "collapsed": true
   },
   "outputs": [],
   "source": [
    "model.compile(loss='mse', optimizer='adagrad', metrics=['accuracy'])"
   ]
  },
  {
   "cell_type": "code",
   "execution_count": null,
   "metadata": {},
   "outputs": [
    {
     "name": "stdout",
     "output_type": "stream",
     "text": [
      "Train on 3420 samples, validate on 756 samples\n",
      "Epoch 1/200\n",
      "5s - loss: 0.2340 - acc: 2.9240e-04 - val_loss: 0.0409 - val_acc: 0.0013\n",
      "Epoch 2/200\n",
      "6s - loss: 0.0047 - acc: 2.9240e-04 - val_loss: 0.0201 - val_acc: 0.0013\n",
      "Epoch 3/200\n",
      "5s - loss: 0.0031 - acc: 2.9240e-04 - val_loss: 0.0088 - val_acc: 0.0013\n",
      "Epoch 4/200\n",
      "5s - loss: 0.0021 - acc: 2.9240e-04 - val_loss: 0.0029 - val_acc: 0.0013\n",
      "Epoch 5/200\n",
      "5s - loss: 0.0018 - acc: 2.9240e-04 - val_loss: 0.0032 - val_acc: 0.0013\n",
      "Epoch 6/200\n",
      "5s - loss: 0.0016 - acc: 2.9240e-04 - val_loss: 0.0023 - val_acc: 0.0013\n",
      "Epoch 7/200\n",
      "5s - loss: 0.0016 - acc: 2.9240e-04 - val_loss: 0.0021 - val_acc: 0.0013\n",
      "Epoch 8/200\n",
      "5s - loss: 0.0015 - acc: 2.9240e-04 - val_loss: 0.0022 - val_acc: 0.0013\n",
      "Epoch 9/200\n",
      "5s - loss: 0.0016 - acc: 2.9240e-04 - val_loss: 0.0022 - val_acc: 0.0013\n",
      "Epoch 10/200\n",
      "5s - loss: 0.0015 - acc: 2.9240e-04 - val_loss: 0.0021 - val_acc: 0.0013\n",
      "Epoch 11/200\n",
      "5s - loss: 0.0015 - acc: 2.9240e-04 - val_loss: 0.0021 - val_acc: 0.0013\n",
      "Epoch 12/200\n",
      "5s - loss: 0.0014 - acc: 2.9240e-04 - val_loss: 0.0021 - val_acc: 0.0013\n",
      "Epoch 13/200\n",
      "4s - loss: 0.0014 - acc: 2.9240e-04 - val_loss: 0.0020 - val_acc: 0.0013\n",
      "Epoch 14/200\n",
      "4s - loss: 0.0014 - acc: 2.9240e-04 - val_loss: 0.0020 - val_acc: 0.0013\n",
      "Epoch 15/200\n",
      "5s - loss: 0.0014 - acc: 2.9240e-04 - val_loss: 0.0022 - val_acc: 0.0013\n",
      "Epoch 16/200\n",
      "4s - loss: 0.0014 - acc: 2.9240e-04 - val_loss: 0.0019 - val_acc: 0.0013\n",
      "Epoch 17/200\n",
      "4s - loss: 0.0013 - acc: 2.9240e-04 - val_loss: 0.0020 - val_acc: 0.0013\n",
      "Epoch 18/200\n",
      "4s - loss: 0.0013 - acc: 2.9240e-04 - val_loss: 0.0020 - val_acc: 0.0013\n",
      "Epoch 19/200\n",
      "4s - loss: 0.0013 - acc: 2.9240e-04 - val_loss: 0.0019 - val_acc: 0.0013\n",
      "Epoch 20/200\n",
      "4s - loss: 0.0012 - acc: 2.9240e-04 - val_loss: 0.0019 - val_acc: 0.0013\n",
      "Epoch 21/200\n",
      "4s - loss: 0.0012 - acc: 2.9240e-04 - val_loss: 0.0024 - val_acc: 0.0013\n",
      "Epoch 22/200\n",
      "4s - loss: 0.0012 - acc: 2.9240e-04 - val_loss: 0.0019 - val_acc: 0.0013\n",
      "Epoch 23/200\n",
      "4s - loss: 0.0012 - acc: 2.9240e-04 - val_loss: 0.0018 - val_acc: 0.0013\n",
      "Epoch 24/200\n",
      "4s - loss: 0.0012 - acc: 2.9240e-04 - val_loss: 0.0018 - val_acc: 0.0013\n",
      "Epoch 25/200\n",
      "4s - loss: 0.0012 - acc: 2.9240e-04 - val_loss: 0.0018 - val_acc: 0.0013\n",
      "Epoch 26/200\n",
      "4s - loss: 0.0011 - acc: 2.9240e-04 - val_loss: 0.0020 - val_acc: 0.0013\n",
      "Epoch 27/200\n",
      "4s - loss: 0.0011 - acc: 2.9240e-04 - val_loss: 0.0018 - val_acc: 0.0013\n",
      "Epoch 28/200\n",
      "4s - loss: 0.0011 - acc: 2.9240e-04 - val_loss: 0.0018 - val_acc: 0.0013\n",
      "Epoch 29/200\n",
      "4s - loss: 0.0011 - acc: 2.9240e-04 - val_loss: 0.0017 - val_acc: 0.0013\n",
      "Epoch 30/200\n",
      "4s - loss: 0.0011 - acc: 2.9240e-04 - val_loss: 0.0019 - val_acc: 0.0013\n",
      "Epoch 31/200\n",
      "4s - loss: 0.0011 - acc: 2.9240e-04 - val_loss: 0.0018 - val_acc: 0.0013\n",
      "Epoch 32/200\n",
      "4s - loss: 0.0011 - acc: 2.9240e-04 - val_loss: 0.0018 - val_acc: 0.0013\n",
      "Epoch 33/200\n",
      "4s - loss: 0.0010 - acc: 2.9240e-04 - val_loss: 0.0017 - val_acc: 0.0013\n",
      "Epoch 34/200\n",
      "4s - loss: 9.9939e-04 - acc: 2.9240e-04 - val_loss: 0.0017 - val_acc: 0.0013\n",
      "Epoch 35/200\n",
      "4s - loss: 0.0010 - acc: 2.9240e-04 - val_loss: 0.0018 - val_acc: 0.0013\n",
      "Epoch 36/200\n",
      "4s - loss: 0.0010 - acc: 2.9240e-04 - val_loss: 0.0016 - val_acc: 0.0013\n",
      "Epoch 37/200\n",
      "4s - loss: 0.0010 - acc: 2.9240e-04 - val_loss: 0.0020 - val_acc: 0.0013\n",
      "Epoch 38/200\n",
      "5s - loss: 0.0010 - acc: 2.9240e-04 - val_loss: 0.0017 - val_acc: 0.0013\n",
      "Epoch 39/200\n",
      "4s - loss: 9.3045e-04 - acc: 2.9240e-04 - val_loss: 0.0016 - val_acc: 0.0013\n",
      "Epoch 40/200\n",
      "4s - loss: 9.7259e-04 - acc: 2.9240e-04 - val_loss: 0.0022 - val_acc: 0.0013\n",
      "Epoch 41/200\n",
      "4s - loss: 9.4826e-04 - acc: 2.9240e-04 - val_loss: 0.0017 - val_acc: 0.0013\n",
      "Epoch 42/200\n",
      "4s - loss: 9.1202e-04 - acc: 2.9240e-04 - val_loss: 0.0016 - val_acc: 0.0013\n",
      "Epoch 43/200\n",
      "4s - loss: 9.0570e-04 - acc: 2.9240e-04 - val_loss: 0.0015 - val_acc: 0.0013\n",
      "Epoch 44/200\n",
      "4s - loss: 8.8980e-04 - acc: 2.9240e-04 - val_loss: 0.0018 - val_acc: 0.0013\n",
      "Epoch 45/200\n",
      "4s - loss: 9.2308e-04 - acc: 2.9240e-04 - val_loss: 0.0017 - val_acc: 0.0013\n",
      "Epoch 46/200\n",
      "4s - loss: 9.0715e-04 - acc: 2.9240e-04 - val_loss: 0.0015 - val_acc: 0.0013\n",
      "Epoch 47/200\n",
      "4s - loss: 8.6615e-04 - acc: 2.9240e-04 - val_loss: 0.0017 - val_acc: 0.0013\n",
      "Epoch 48/200\n",
      "4s - loss: 9.1266e-04 - acc: 2.9240e-04 - val_loss: 0.0018 - val_acc: 0.0013\n",
      "Epoch 49/200\n",
      "4s - loss: 8.4869e-04 - acc: 2.9240e-04 - val_loss: 0.0018 - val_acc: 0.0013\n",
      "Epoch 50/200\n",
      "4s - loss: 8.2866e-04 - acc: 2.9240e-04 - val_loss: 0.0015 - val_acc: 0.0013\n",
      "Epoch 51/200\n",
      "4s - loss: 8.2871e-04 - acc: 2.9240e-04 - val_loss: 0.0017 - val_acc: 0.0013\n",
      "Epoch 52/200\n",
      "4s - loss: 8.2649e-04 - acc: 2.9240e-04 - val_loss: 0.0014 - val_acc: 0.0013\n",
      "Epoch 53/200\n"
     ]
    }
   ],
   "source": [
    "model.fit(X_train, y_train, batch_size=256, nb_epoch=200, validation_data = (X_test, y_test), verbose=2)"
   ]
  },
  {
   "cell_type": "code",
   "execution_count": null,
   "metadata": {
    "collapsed": true
   },
   "outputs": [],
   "source": [
    "## Evaluation of the model and display of the results"
   ]
  },
  {
   "cell_type": "code",
   "execution_count": 24,
   "metadata": {},
   "outputs": [
    {
     "name": "stdout",
     "output_type": "stream",
     "text": [
      "756/756 [==============================] - 0s     \n"
     ]
    }
   ],
   "source": [
    "score= model.evaluate(X_test, y_test, batch_size=256)"
   ]
  },
  {
   "cell_type": "code",
   "execution_count": 25,
   "metadata": {},
   "outputs": [
    {
     "name": "stdout",
     "output_type": "stream",
     "text": [
      "[0.00039541598707536066, 0.0013227512488368327]\n"
     ]
    }
   ],
   "source": [
    "print score"
   ]
  },
  {
   "cell_type": "code",
   "execution_count": 26,
   "metadata": {
    "collapsed": true
   },
   "outputs": [],
   "source": [
    "y_pred= model.predict(X_test)"
   ]
  },
  {
   "cell_type": "code",
   "execution_count": 27,
   "metadata": {},
   "outputs": [
    {
     "data": {
      "image/png": "[encoded data removed]",
      "text/plain": [
       "<matplotlib.figure.Figure at 0x124b86710>"
      ]
     },
     "metadata": {},
     "output_type": "display_data"
    }
   ],
   "source": [
    "plt.plot(y_pred, 'r-')\n",
    "plt.plot(y_test, 'b-')\n",
    "plt.show()"
   ]
  },
  {
   "cell_type": "code",
   "execution_count": 28,
   "metadata": {},
   "outputs": [
    {
     "data": {
      "image/png": "[encoded data removed]",
      "text/plain": [
       "<matplotlib.figure.Figure at 0x1234a9d10>"
      ]
     },
     "metadata": {},
     "output_type": "display_data"
    }
   ],
   "source": [
    "plt.plot (y_pred, y_test, 'bo')\n",
    "plt.xlabel('y_pred')\n",
    "plt.ylabel('y_test')\n",
    "plt.show()"
   ]
  },
  {
   "cell_type": "code",
   "execution_count": null,
   "metadata": {
    "collapsed": true
   },
   "outputs": [],
   "source": []
  }
 ],
 "metadata": {
  "kernelspec": {
   "display_name": "Python 2",
   "language": "python",
   "name": "python2"
  },
  "language_info": {
   "codemirror_mode": {
    "name": "ipython",
    "version": 2
   },
   "file_extension": ".py",
   "mimetype": "text/x-python",
   "name": "python",
   "nbconvert_exporter": "python",
   "pygments_lexer": "ipython2",
   "version": "2.7.10"
  }
 },
 "nbformat": 4,
 "nbformat_minor": 2
}
