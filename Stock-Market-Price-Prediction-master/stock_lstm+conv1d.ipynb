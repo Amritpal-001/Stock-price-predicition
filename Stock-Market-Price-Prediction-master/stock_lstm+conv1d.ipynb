{
 "cells": [
  {
   "cell_type": "code",
   "execution_count": 1,
   "metadata": {},
   "outputs": [
    {
     "name": "stderr",
     "output_type": "stream",
     "text": [
      "Using Theano backend.\n"
     ]
    }
   ],
   "source": [
    "import numpy as np\n",
    "import pandas as pd\n",
    "from keras.layers import Dense, Dropout, Activation, LSTM, Convolution1D, MaxPooling1D, Flatten\n",
    "from keras.models import Sequential\n",
    "import matplotlib.pyplot as plt\n",
    "%matplotlib inline"
   ]
  },
  {
   "cell_type": "code",
   "execution_count": 2,
   "metadata": {
    "collapsed": true
   },
   "outputs": [],
   "source": [
    "## Data preparation"
   ]
  },
  {
   "cell_type": "code",
   "execution_count": 3,
   "metadata": {},
   "outputs": [
    {
     "data": {
      "text/html": [
       "<div>\n",
       "<style>\n",
       "    .dataframe thead tr:only-child th {\n",
       "        text-align: right;\n",
       "    }\n",
       "\n",
       "    .dataframe thead th {\n",
       "        text-align: left;\n",
       "    }\n",
       "\n",
       "    .dataframe tbody tr th {\n",
       "        vertical-align: top;\n",
       "    }\n",
       "</style>\n",
       "<table border=\"1\" class=\"dataframe\">\n",
       "  <thead>\n",
       "    <tr style=\"text-align: right;\">\n",
       "      <th></th>\n",
       "      <th>Date</th>\n",
       "      <th>Open</th>\n",
       "      <th>High</th>\n",
       "      <th>Low</th>\n",
       "      <th>Close</th>\n",
       "      <th>Adj Close</th>\n",
       "      <th>Volume</th>\n",
       "    </tr>\n",
       "  </thead>\n",
       "  <tbody>\n",
       "    <tr>\n",
       "      <th>4271</th>\n",
       "      <td>2017-11-27</td>\n",
       "      <td>23552.859375</td>\n",
       "      <td>23638.919922</td>\n",
       "      <td>23545.019531</td>\n",
       "      <td>23580.779297</td>\n",
       "      <td>23580.779297</td>\n",
       "      <td>296320000</td>\n",
       "    </tr>\n",
       "    <tr>\n",
       "      <th>4272</th>\n",
       "      <td>2017-11-28</td>\n",
       "      <td>23625.189453</td>\n",
       "      <td>23849.609375</td>\n",
       "      <td>23617.109375</td>\n",
       "      <td>23836.710938</td>\n",
       "      <td>23836.710938</td>\n",
       "      <td>319240000</td>\n",
       "    </tr>\n",
       "    <tr>\n",
       "      <th>4273</th>\n",
       "      <td>2017-11-29</td>\n",
       "      <td>23883.259766</td>\n",
       "      <td>23959.759766</td>\n",
       "      <td>23872.589844</td>\n",
       "      <td>23940.679688</td>\n",
       "      <td>23940.679688</td>\n",
       "      <td>401410000</td>\n",
       "    </tr>\n",
       "    <tr>\n",
       "      <th>4274</th>\n",
       "      <td>2017-11-30</td>\n",
       "      <td>24013.800781</td>\n",
       "      <td>24327.820313</td>\n",
       "      <td>24013.800781</td>\n",
       "      <td>24272.349609</td>\n",
       "      <td>24272.349609</td>\n",
       "      <td>488200000</td>\n",
       "    </tr>\n",
       "    <tr>\n",
       "      <th>4275</th>\n",
       "      <td>2017-12-01</td>\n",
       "      <td>24305.400391</td>\n",
       "      <td>24322.060547</td>\n",
       "      <td>23921.900391</td>\n",
       "      <td>24231.589844</td>\n",
       "      <td>24231.589844</td>\n",
       "      <td>417910000</td>\n",
       "    </tr>\n",
       "  </tbody>\n",
       "</table>\n",
       "</div>"
      ],
      "text/plain": [
       "            Date          Open          High           Low         Close  \\\n",
       "4271  2017-11-27  23552.859375  23638.919922  23545.019531  23580.779297   \n",
       "4272  2017-11-28  23625.189453  23849.609375  23617.109375  23836.710938   \n",
       "4273  2017-11-29  23883.259766  23959.759766  23872.589844  23940.679688   \n",
       "4274  2017-11-30  24013.800781  24327.820313  24013.800781  24272.349609   \n",
       "4275  2017-12-01  24305.400391  24322.060547  23921.900391  24231.589844   \n",
       "\n",
       "         Adj Close     Volume  \n",
       "4271  23580.779297  296320000  \n",
       "4272  23836.710938  319240000  \n",
       "4273  23940.679688  401410000  \n",
       "4274  24272.349609  488200000  \n",
       "4275  24231.589844  417910000  "
      ]
     },
     "execution_count": 3,
     "metadata": {},
     "output_type": "execute_result"
    }
   ],
   "source": [
    "data= pd.read_csv('/Users/arshiyaaggarwal/Desktop/Fms_Project/code/data/^DJI.csv')\n",
    "data.tail()"
   ]
  },
  {
   "cell_type": "code",
   "execution_count": 4,
   "metadata": {},
   "outputs": [
    {
     "data": {
      "text/html": [
       "<div>\n",
       "<style>\n",
       "    .dataframe thead tr:only-child th {\n",
       "        text-align: right;\n",
       "    }\n",
       "\n",
       "    .dataframe thead th {\n",
       "        text-align: left;\n",
       "    }\n",
       "\n",
       "    .dataframe tbody tr th {\n",
       "        vertical-align: top;\n",
       "    }\n",
       "</style>\n",
       "<table border=\"1\" class=\"dataframe\">\n",
       "  <thead>\n",
       "    <tr style=\"text-align: right;\">\n",
       "      <th></th>\n",
       "      <th>Date</th>\n",
       "      <th>Open</th>\n",
       "      <th>High</th>\n",
       "      <th>Low</th>\n",
       "      <th>Close</th>\n",
       "      <th>Adj Close</th>\n",
       "      <th>Volume</th>\n",
       "    </tr>\n",
       "  </thead>\n",
       "  <tbody>\n",
       "    <tr>\n",
       "      <th>4271</th>\n",
       "      <td>2017-11-27</td>\n",
       "      <td>23552.859375</td>\n",
       "      <td>23638.919922</td>\n",
       "      <td>23545.019531</td>\n",
       "      <td>23580.779297</td>\n",
       "      <td>23580.779297</td>\n",
       "      <td>296320000</td>\n",
       "    </tr>\n",
       "    <tr>\n",
       "      <th>4272</th>\n",
       "      <td>2017-11-28</td>\n",
       "      <td>23625.189453</td>\n",
       "      <td>23849.609375</td>\n",
       "      <td>23617.109375</td>\n",
       "      <td>23836.710938</td>\n",
       "      <td>23836.710938</td>\n",
       "      <td>319240000</td>\n",
       "    </tr>\n",
       "    <tr>\n",
       "      <th>4273</th>\n",
       "      <td>2017-11-29</td>\n",
       "      <td>23883.259766</td>\n",
       "      <td>23959.759766</td>\n",
       "      <td>23872.589844</td>\n",
       "      <td>23940.679688</td>\n",
       "      <td>23940.679688</td>\n",
       "      <td>401410000</td>\n",
       "    </tr>\n",
       "    <tr>\n",
       "      <th>4274</th>\n",
       "      <td>2017-11-30</td>\n",
       "      <td>24013.800781</td>\n",
       "      <td>24327.820313</td>\n",
       "      <td>24013.800781</td>\n",
       "      <td>24272.349609</td>\n",
       "      <td>24272.349609</td>\n",
       "      <td>488200000</td>\n",
       "    </tr>\n",
       "    <tr>\n",
       "      <th>4275</th>\n",
       "      <td>2017-12-01</td>\n",
       "      <td>24305.400391</td>\n",
       "      <td>24322.060547</td>\n",
       "      <td>23921.900391</td>\n",
       "      <td>24231.589844</td>\n",
       "      <td>24231.589844</td>\n",
       "      <td>417910000</td>\n",
       "    </tr>\n",
       "  </tbody>\n",
       "</table>\n",
       "</div>"
      ],
      "text/plain": [
       "            Date          Open          High           Low         Close  \\\n",
       "4271  2017-11-27  23552.859375  23638.919922  23545.019531  23580.779297   \n",
       "4272  2017-11-28  23625.189453  23849.609375  23617.109375  23836.710938   \n",
       "4273  2017-11-29  23883.259766  23959.759766  23872.589844  23940.679688   \n",
       "4274  2017-11-30  24013.800781  24327.820313  24013.800781  24272.349609   \n",
       "4275  2017-12-01  24305.400391  24322.060547  23921.900391  24231.589844   \n",
       "\n",
       "         Adj Close     Volume  \n",
       "4271  23580.779297  296320000  \n",
       "4272  23836.710938  319240000  \n",
       "4273  23940.679688  401410000  \n",
       "4274  24272.349609  488200000  \n",
       "4275  24231.589844  417910000  "
      ]
     },
     "execution_count": 4,
     "metadata": {},
     "output_type": "execute_result"
    }
   ],
   "source": [
    "data= data.dropna(axis=0)\n",
    "data.tail()"
   ]
  },
  {
   "cell_type": "code",
   "execution_count": 5,
   "metadata": {},
   "outputs": [
    {
     "name": "stdout",
     "output_type": "stream",
     "text": [
      "(4276, 4)\n"
     ]
    }
   ],
   "source": [
    "data= data.values[:, 1:5]\n",
    "print data.shape"
   ]
  },
  {
   "cell_type": "code",
   "execution_count": 6,
   "metadata": {},
   "outputs": [
    {
     "name": "stdout",
     "output_type": "stream",
     "text": [
      "[[10377.330078 10604.459961 10319.30957 10560.950195]\n",
      " [10576.780273 10917.299805 10576.780273 10898.719727]\n",
      " [10896.139648 10896.139648 10620.860352 10664.379883]\n",
      " [10644.660156 10689.019531 10583.230469 10617.360352]\n",
      " [10632.139648 10803.540039 10631.860352 10712.910156]\n",
      " [10719.360352 10792.160156 10670.05957 10725.799805]]\n"
     ]
    }
   ],
   "source": [
    "print data[:6, :]"
   ]
  },
  {
   "cell_type": "code",
   "execution_count": 7,
   "metadata": {},
   "outputs": [
    {
     "name": "stdout",
     "output_type": "stream",
     "text": [
      "(4275,)\n",
      "(4275, 4)\n"
     ]
    }
   ],
   "source": [
    "y= data[1:, 3]\n",
    "print y.shape\n",
    "X= data[:4275,:]\n",
    "print X.shape"
   ]
  },
  {
   "cell_type": "code",
   "execution_count": 8,
   "metadata": {},
   "outputs": [
    {
     "name": "stdout",
     "output_type": "stream",
     "text": [
      "[0.9609839991623761 0.9754227755909837 0.9812883322331646 1.0\n",
      " 0.9977004752838762]\n",
      "[0.2455061392540156 0.2322854972004963 0.2296328181756039\n",
      " 0.2350234070545823 0.23575059639087165 0.23814659118191125\n",
      " 0.23962306262608365]\n"
     ]
    }
   ],
   "source": [
    "y= (y- min(y))/(max(y)- min(y))\n",
    "print y[4270:]\n",
    "print y[:7]"
   ]
  },
  {
   "cell_type": "code",
   "execution_count": 9,
   "metadata": {},
   "outputs": [
    {
     "name": "stdout",
     "output_type": "stream",
     "text": [
      "(4275, 4)\n",
      "[[0.2192915864574453 0.22106956373653716 0.2194135977236257\n",
      "  0.22645035256860355]\n",
      " [0.23071040945868904 0.23882618237200137 0.23408943537613414\n",
      "  0.2455061392540156]\n",
      " [0.24899421297621796 0.2376251434208518 0.23660200117712055\n",
      "  0.2322854972004963]]\n"
     ]
    }
   ],
   "source": [
    "X= (X- np.min(X,axis=0))/(np.max(X, axis=0)-np.min(X,axis=0))\n",
    "print X.shape\n",
    "print X[:3, :]"
   ]
  },
  {
   "cell_type": "code",
   "execution_count": 10,
   "metadata": {
    "collapsed": true
   },
   "outputs": [],
   "source": [
    "## Input layer preparation"
   ]
  },
  {
   "cell_type": "code",
   "execution_count": 11,
   "metadata": {},
   "outputs": [
    {
     "name": "stdout",
     "output_type": "stream",
     "text": [
      "(4176, 100, 4) (4176,)\n"
     ]
    }
   ],
   "source": [
    "time_steps= 100\n",
    "X_new= np.zeros((X.shape[0] - time_steps +1, 100, X.shape[1]))\n",
    "y_new= np.zeros((y.shape[0] -time_steps +1,))\n",
    "for ix in range(X_new.shape[0]):\n",
    "    for jx in range(time_steps):\n",
    "        X_new[ix, jx, :]= X[ix +jx, :]\n",
    "    y_new[ix]= y[ix + time_steps -1]\n",
    "print X_new.shape, y_new.shape"
   ]
  },
  {
   "cell_type": "code",
   "execution_count": 12,
   "metadata": {
    "collapsed": true
   },
   "outputs": [],
   "source": [
    "## split into train and test sets"
   ]
  },
  {
   "cell_type": "code",
   "execution_count": 13,
   "metadata": {},
   "outputs": [
    {
     "name": "stdout",
     "output_type": "stream",
     "text": [
      "(3420, 100, 4) (3420,)\n",
      "(756, 100, 4) (756,)\n"
     ]
    }
   ],
   "source": [
    "split = int(0.8*data.shape[0])\n",
    "X_train = X_new[:split]\n",
    "X_test = X_new[split:]\n",
    "\n",
    "y_train = y_new[:split]\n",
    "y_test = y_new[split:]\n",
    "\n",
    "print X_train.shape, y_train.shape\n",
    "print X_test.shape, y_test.shape"
   ]
  },
  {
   "cell_type": "code",
   "execution_count": 14,
   "metadata": {
    "collapsed": true
   },
   "outputs": [],
   "source": [
    "## Model fitting"
   ]
  },
  {
   "cell_type": "code",
   "execution_count": 15,
   "metadata": {},
   "outputs": [
    {
     "name": "stdout",
     "output_type": "stream",
     "text": [
      "____________________________________________________________________________________________________\n",
      "Layer (type)                     Output Shape          Param #     Connected to                     \n",
      "====================================================================================================\n",
      "convolution1d_1 (Convolution1D)  (None, 100, 64)       832         convolution1d_input_1[0][0]      \n",
      "____________________________________________________________________________________________________\n",
      "maxpooling1d_1 (MaxPooling1D)    (None, 50, 64)        0           convolution1d_1[0][0]            \n",
      "____________________________________________________________________________________________________\n",
      "lstm_1 (LSTM)                    (None, 50, 100)       66000       maxpooling1d_1[0][0]             \n",
      "____________________________________________________________________________________________________\n",
      "dropout_1 (Dropout)              (None, 50, 100)       0           lstm_1[0][0]                     \n",
      "____________________________________________________________________________________________________\n",
      "convolution1d_2 (Convolution1D)  (None, 50, 32)        9632        dropout_1[0][0]                  \n",
      "____________________________________________________________________________________________________\n",
      "maxpooling1d_2 (MaxPooling1D)    (None, 25, 32)        0           convolution1d_2[0][0]            \n",
      "____________________________________________________________________________________________________\n",
      "flatten_1 (Flatten)              (None, 800)           0           maxpooling1d_2[0][0]             \n",
      "____________________________________________________________________________________________________\n",
      "dense_1 (Dense)                  (None, 1)             801         flatten_1[0][0]                  \n",
      "____________________________________________________________________________________________________\n",
      "activation_1 (Activation)        (None, 1)             0           dense_1[0][0]                    \n",
      "====================================================================================================\n",
      "Total params: 77,265\n",
      "Trainable params: 77,265\n",
      "Non-trainable params: 0\n",
      "____________________________________________________________________________________________________\n"
     ]
    }
   ],
   "source": [
    "model = Sequential()\n",
    "model.add(Convolution1D(64, 3, input_shape= (100,4), border_mode='same'))\n",
    "model.add(MaxPooling1D(pool_length=2))\n",
    "model.add(LSTM(100, return_sequences=True))\n",
    "model.add(Dropout(0.2))\n",
    "model.add(Convolution1D(32, 3, border_mode='same'))\n",
    "model.add(MaxPooling1D(pool_length=2))\n",
    "model.add(Flatten())\n",
    "model.add(Dense(output_dim=1))\n",
    "model.add(Activation('linear'))\n",
    "\n",
    "model.summary()"
   ]
  },
  {
   "cell_type": "code",
   "execution_count": 16,
   "metadata": {},
   "outputs": [
    {
     "name": "stderr",
     "output_type": "stream",
     "text": [
      "/usr/local/lib/python2.7/site-packages/theano/tensor/basic.py:2146: UserWarning: theano.tensor.round() changed its default from `half_away_from_zero` to `half_to_even` to have the same default as NumPy. Use the Theano flag `warn.round=False` to disable this warning.\n",
      "  \"theano.tensor.round() changed its default from\"\n"
     ]
    }
   ],
   "source": [
    "model.compile(loss='mse', optimizer='rmsprop', metrics=['accuracy'])"
   ]
  },
  {
   "cell_type": "code",
   "execution_count": 18,
   "metadata": {},
   "outputs": [
    {
     "name": "stdout",
     "output_type": "stream",
     "text": [
      "Train on 3420 samples, validate on 756 samples\n",
      "Epoch 1/75\n",
      "6s - loss: 0.0031 - acc: 2.9240e-04 - val_loss: 0.0195 - val_acc: 0.0013\n",
      "Epoch 2/75\n",
      "6s - loss: 0.0048 - acc: 2.9240e-04 - val_loss: 0.0400 - val_acc: 0.0013\n",
      "Epoch 3/75\n",
      "6s - loss: 0.0052 - acc: 2.9240e-04 - val_loss: 0.0315 - val_acc: 0.0013\n",
      "Epoch 4/75\n",
      "6s - loss: 0.0047 - acc: 2.9240e-04 - val_loss: 0.0058 - val_acc: 0.0013\n",
      "Epoch 5/75\n",
      "6s - loss: 0.0048 - acc: 2.9240e-04 - val_loss: 0.0177 - val_acc: 0.0013\n",
      "Epoch 6/75\n",
      "6s - loss: 0.0053 - acc: 2.9240e-04 - val_loss: 0.0292 - val_acc: 0.0013\n",
      "Epoch 7/75\n",
      "6s - loss: 0.0029 - acc: 2.9240e-04 - val_loss: 0.0158 - val_acc: 0.0013\n",
      "Epoch 8/75\n",
      "6s - loss: 0.0037 - acc: 2.9240e-04 - val_loss: 0.0362 - val_acc: 0.0013\n",
      "Epoch 9/75\n",
      "6s - loss: 0.0023 - acc: 2.9240e-04 - val_loss: 0.0442 - val_acc: 0.0013\n",
      "Epoch 10/75\n",
      "6s - loss: 0.0031 - acc: 2.9240e-04 - val_loss: 0.0179 - val_acc: 0.0013\n",
      "Epoch 11/75\n",
      "6s - loss: 0.0035 - acc: 2.9240e-04 - val_loss: 0.0084 - val_acc: 0.0013\n",
      "Epoch 12/75\n",
      "6s - loss: 0.0027 - acc: 2.9240e-04 - val_loss: 0.0053 - val_acc: 0.0013\n",
      "Epoch 13/75\n",
      "6s - loss: 0.0021 - acc: 2.9240e-04 - val_loss: 0.0093 - val_acc: 0.0013\n",
      "Epoch 14/75\n",
      "6s - loss: 0.0027 - acc: 2.9240e-04 - val_loss: 0.0030 - val_acc: 0.0013\n",
      "Epoch 15/75\n",
      "6s - loss: 0.0019 - acc: 2.9240e-04 - val_loss: 0.0527 - val_acc: 0.0013\n",
      "Epoch 16/75\n",
      "6s - loss: 0.0019 - acc: 2.9240e-04 - val_loss: 0.0127 - val_acc: 0.0013\n",
      "Epoch 17/75\n",
      "6s - loss: 0.0026 - acc: 2.9240e-04 - val_loss: 7.1681e-04 - val_acc: 0.0013\n",
      "Epoch 18/75\n",
      "6s - loss: 0.0017 - acc: 2.9240e-04 - val_loss: 0.0045 - val_acc: 0.0013\n",
      "Epoch 19/75\n",
      "6s - loss: 0.0014 - acc: 2.9240e-04 - val_loss: 7.8572e-04 - val_acc: 0.0013\n",
      "Epoch 20/75\n",
      "6s - loss: 0.0023 - acc: 2.9240e-04 - val_loss: 9.1487e-04 - val_acc: 0.0013\n",
      "Epoch 21/75\n",
      "6s - loss: 0.0011 - acc: 2.9240e-04 - val_loss: 0.0123 - val_acc: 0.0013\n",
      "Epoch 22/75\n",
      "6s - loss: 0.0018 - acc: 2.9240e-04 - val_loss: 8.5035e-04 - val_acc: 0.0013\n",
      "Epoch 23/75\n",
      "6s - loss: 0.0020 - acc: 2.9240e-04 - val_loss: 6.2433e-04 - val_acc: 0.0013\n",
      "Epoch 24/75\n",
      "6s - loss: 0.0012 - acc: 2.9240e-04 - val_loss: 0.0126 - val_acc: 0.0013\n",
      "Epoch 25/75\n",
      "6s - loss: 0.0014 - acc: 2.9240e-04 - val_loss: 5.5758e-04 - val_acc: 0.0013\n",
      "Epoch 26/75\n",
      "6s - loss: 0.0019 - acc: 2.9240e-04 - val_loss: 0.0038 - val_acc: 0.0013\n",
      "Epoch 27/75\n",
      "6s - loss: 0.0010 - acc: 2.9240e-04 - val_loss: 0.0134 - val_acc: 0.0013\n",
      "Epoch 28/75\n",
      "6s - loss: 0.0013 - acc: 2.9240e-04 - val_loss: 0.0026 - val_acc: 0.0013\n",
      "Epoch 29/75\n",
      "6s - loss: 0.0016 - acc: 2.9240e-04 - val_loss: 0.0011 - val_acc: 0.0013\n",
      "Epoch 30/75\n",
      "6s - loss: 0.0015 - acc: 2.9240e-04 - val_loss: 0.0108 - val_acc: 0.0013\n",
      "Epoch 31/75\n",
      "6s - loss: 8.8955e-04 - acc: 2.9240e-04 - val_loss: 0.0078 - val_acc: 0.0013\n",
      "Epoch 32/75\n",
      "6s - loss: 0.0013 - acc: 2.9240e-04 - val_loss: 0.0487 - val_acc: 0.0013\n",
      "Epoch 33/75\n",
      "6s - loss: 8.9283e-04 - acc: 2.9240e-04 - val_loss: 0.0034 - val_acc: 0.0013\n",
      "Epoch 34/75\n",
      "6s - loss: 0.0013 - acc: 2.9240e-04 - val_loss: 0.0041 - val_acc: 0.0013\n",
      "Epoch 35/75\n",
      "6s - loss: 0.0012 - acc: 2.9240e-04 - val_loss: 0.0226 - val_acc: 0.0013\n",
      "Epoch 36/75\n",
      "6s - loss: 7.3660e-04 - acc: 2.9240e-04 - val_loss: 0.0035 - val_acc: 0.0013\n",
      "Epoch 37/75\n",
      "6s - loss: 0.0018 - acc: 2.9240e-04 - val_loss: 3.9995e-04 - val_acc: 0.0013\n",
      "Epoch 38/75\n",
      "6s - loss: 6.7099e-04 - acc: 2.9240e-04 - val_loss: 0.0033 - val_acc: 0.0013\n",
      "Epoch 39/75\n",
      "6s - loss: 7.8377e-04 - acc: 2.9240e-04 - val_loss: 0.0032 - val_acc: 0.0013\n",
      "Epoch 40/75\n",
      "6s - loss: 0.0013 - acc: 2.9240e-04 - val_loss: 5.3891e-04 - val_acc: 0.0013\n",
      "Epoch 41/75\n",
      "6s - loss: 0.0011 - acc: 2.9240e-04 - val_loss: 4.4102e-04 - val_acc: 0.0013\n",
      "Epoch 42/75\n",
      "6s - loss: 5.0682e-04 - acc: 2.9240e-04 - val_loss: 0.0018 - val_acc: 0.0013\n",
      "Epoch 43/75\n",
      "6s - loss: 8.9435e-04 - acc: 2.9240e-04 - val_loss: 0.0018 - val_acc: 0.0013\n",
      "Epoch 44/75\n",
      "6s - loss: 0.0011 - acc: 2.9240e-04 - val_loss: 3.7997e-04 - val_acc: 0.0013\n",
      "Epoch 45/75\n",
      "6s - loss: 5.3627e-04 - acc: 2.9240e-04 - val_loss: 0.0070 - val_acc: 0.0013\n",
      "Epoch 46/75\n",
      "6s - loss: 8.7290e-04 - acc: 2.9240e-04 - val_loss: 3.2010e-04 - val_acc: 0.0013\n",
      "Epoch 47/75\n",
      "6s - loss: 0.0011 - acc: 2.9240e-04 - val_loss: 9.3726e-04 - val_acc: 0.0013\n",
      "Epoch 48/75\n",
      "6s - loss: 6.7787e-04 - acc: 2.9240e-04 - val_loss: 0.0021 - val_acc: 0.0013\n",
      "Epoch 49/75\n",
      "6s - loss: 5.5809e-04 - acc: 2.9240e-04 - val_loss: 0.0012 - val_acc: 0.0013\n",
      "Epoch 50/75\n",
      "7s - loss: 9.0106e-04 - acc: 2.9240e-04 - val_loss: 0.0020 - val_acc: 0.0013\n",
      "Epoch 51/75\n",
      "7s - loss: 0.0010 - acc: 2.9240e-04 - val_loss: 8.9277e-04 - val_acc: 0.0013\n",
      "Epoch 52/75\n",
      "6s - loss: 3.7392e-04 - acc: 2.9240e-04 - val_loss: 4.6220e-04 - val_acc: 0.0013\n",
      "Epoch 53/75\n",
      "7s - loss: 8.3311e-04 - acc: 2.9240e-04 - val_loss: 3.8053e-04 - val_acc: 0.0013\n",
      "Epoch 54/75\n",
      "7s - loss: 0.0011 - acc: 2.9240e-04 - val_loss: 3.3732e-04 - val_acc: 0.0013\n",
      "Epoch 55/75\n",
      "6s - loss: 4.1918e-04 - acc: 2.9240e-04 - val_loss: 3.6943e-04 - val_acc: 0.0013\n",
      "Epoch 56/75\n",
      "6s - loss: 5.2001e-04 - acc: 2.9240e-04 - val_loss: 0.0062 - val_acc: 0.0013\n",
      "Epoch 57/75\n",
      "6s - loss: 8.0851e-04 - acc: 2.9240e-04 - val_loss: 6.5718e-04 - val_acc: 0.0013\n",
      "Epoch 58/75\n",
      "6s - loss: 7.4189e-04 - acc: 2.9240e-04 - val_loss: 0.0024 - val_acc: 0.0013\n",
      "Epoch 59/75\n",
      "6s - loss: 6.3145e-04 - acc: 2.9240e-04 - val_loss: 0.0142 - val_acc: 0.0013\n",
      "Epoch 60/75\n",
      "6s - loss: 5.6682e-04 - acc: 2.9240e-04 - val_loss: 0.0015 - val_acc: 0.0013\n",
      "Epoch 61/75\n",
      "6s - loss: 6.0424e-04 - acc: 2.9240e-04 - val_loss: 9.7688e-04 - val_acc: 0.0013\n",
      "Epoch 62/75\n",
      "6s - loss: 8.5475e-04 - acc: 2.9240e-04 - val_loss: 3.1566e-04 - val_acc: 0.0013\n",
      "Epoch 63/75\n",
      "6s - loss: 5.5492e-04 - acc: 2.9240e-04 - val_loss: 0.0055 - val_acc: 0.0013\n",
      "Epoch 64/75\n",
      "6s - loss: 4.1250e-04 - acc: 2.9240e-04 - val_loss: 0.0075 - val_acc: 0.0013\n",
      "Epoch 65/75\n",
      "6s - loss: 7.5497e-04 - acc: 2.9240e-04 - val_loss: 0.0042 - val_acc: 0.0013\n",
      "Epoch 66/75\n",
      "6s - loss: 7.5776e-04 - acc: 2.9240e-04 - val_loss: 0.0015 - val_acc: 0.0013\n",
      "Epoch 67/75\n",
      "6s - loss: 2.3446e-04 - acc: 2.9240e-04 - val_loss: 0.0081 - val_acc: 0.0013\n",
      "Epoch 68/75\n",
      "6s - loss: 7.3986e-04 - acc: 2.9240e-04 - val_loss: 2.9208e-04 - val_acc: 0.0013\n",
      "Epoch 69/75\n",
      "6s - loss: 8.0861e-04 - acc: 2.9240e-04 - val_loss: 2.7208e-04 - val_acc: 0.0013\n",
      "Epoch 70/75\n",
      "6s - loss: 2.3345e-04 - acc: 2.9240e-04 - val_loss: 0.0105 - val_acc: 0.0013\n",
      "Epoch 71/75\n",
      "6s - loss: 6.6132e-04 - acc: 2.9240e-04 - val_loss: 2.2731e-04 - val_acc: 0.0013\n",
      "Epoch 72/75\n",
      "6s - loss: 6.8559e-04 - acc: 2.9240e-04 - val_loss: 2.3751e-04 - val_acc: 0.0013\n",
      "Epoch 73/75\n",
      "6s - loss: 3.9890e-04 - acc: 2.9240e-04 - val_loss: 0.0080 - val_acc: 0.0013\n",
      "Epoch 74/75\n",
      "6s - loss: 3.8155e-04 - acc: 2.9240e-04 - val_loss: 1.9861e-04 - val_acc: 0.0013\n",
      "Epoch 75/75\n",
      "6s - loss: 7.5927e-04 - acc: 2.9240e-04 - val_loss: 2.3440e-04 - val_acc: 0.0013\n"
     ]
    },
    {
     "data": {
      "text/plain": [
       "<keras.callbacks.History at 0x111fe5f50>"
      ]
     },
     "execution_count": 18,
     "metadata": {},
     "output_type": "execute_result"
    }
   ],
   "source": [
    "model.fit(X_train, y_train, batch_size=256, nb_epoch=75, validation_data = (X_test, y_test), verbose=2)"
   ]
  },
  {
   "cell_type": "code",
   "execution_count": 19,
   "metadata": {},
   "outputs": [
    {
     "name": "stdout",
     "output_type": "stream",
     "text": [
      "756/756 [==============================] - 0s     \n"
     ]
    }
   ],
   "source": [
    "score= model.evaluate(X_test, y_test, batch_size=256)"
   ]
  },
  {
   "cell_type": "code",
   "execution_count": 20,
   "metadata": {},
   "outputs": [
    {
     "name": "stdout",
     "output_type": "stream",
     "text": [
      "[0.0002343969106385928, 0.0013227512488368327]\n"
     ]
    }
   ],
   "source": [
    "print score"
   ]
  },
  {
   "cell_type": "code",
   "execution_count": 21,
   "metadata": {
    "collapsed": true
   },
   "outputs": [],
   "source": [
    "y_pred= model.predict(X_test)"
   ]
  },
  {
   "cell_type": "code",
   "execution_count": 22,
   "metadata": {},
   "outputs": [
    {
     "data": {
      "image/png": "[encoded data removed]",
      "text/plain": [
       "<matplotlib.figure.Figure at 0x1130d9b50>"
      ]
     },
     "metadata": {},
     "output_type": "display_data"
    }
   ],
   "source": [
    "plt.plot(y_pred, 'r-')\n",
    "plt.plot(y_test, 'b-')\n",
    "plt.show()"
   ]
  },
  {
   "cell_type": "code",
   "execution_count": 23,
   "metadata": {},
   "outputs": [
    {
     "data": {
      "image/png": "[encoded data removed]",
      "text/plain": [
       "<matplotlib.figure.Figure at 0x11546f350>"
      ]
     },
     "metadata": {},
     "output_type": "display_data"
    }
   ],
   "source": [
    "plt.plot (y_pred, y_test, 'bo')\n",
    "plt.xlabel('y_pred')\n",
    "plt.ylabel('y_test')\n",
    "plt.show()"
   ]
  },
  {
   "cell_type": "code",
   "execution_count": null,
   "metadata": {
    "collapsed": true
   },
   "outputs": [],
   "source": []
  }
 ],
 "metadata": {
  "kernelspec": {
   "display_name": "Python 2",
   "language": "python",
   "name": "python2"
  },
  "language_info": {
   "codemirror_mode": {
    "name": "ipython",
    "version": 2
   },
   "file_extension": ".py",
   "mimetype": "text/x-python",
   "name": "python",
   "nbconvert_exporter": "python",
   "pygments_lexer": "ipython2",
   "version": "2.7.10"
  }
 },
 "nbformat": 4,
 "nbformat_minor": 2
}
