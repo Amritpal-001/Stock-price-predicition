{
 "cells": [
  {
   "cell_type": "code",
   "execution_count": 2,
   "metadata": {},
   "outputs": [
    {
     "name": "stderr",
     "output_type": "stream",
     "text": [
      "Using Theano backend.\n"
     ]
    }
   ],
   "source": [
    "import numpy as np\n",
    "import pandas as pd\n",
    "from sklearn.neural_network import MLPRegressor as mlp\n",
    "from keras.layers import Dense, Dropout, Activation\n",
    "from keras.models import Sequential\n",
    "import matplotlib.pyplot as plt\n",
    "%matplotlib inline"
   ]
  },
  {
   "cell_type": "code",
   "execution_count": 3,
   "metadata": {
    "collapsed": true
   },
   "outputs": [],
   "source": [
    "## Data preparation"
   ]
  },
  {
   "cell_type": "code",
   "execution_count": 4,
   "metadata": {},
   "outputs": [
    {
     "data": {
      "text/html": [
       "<div>\n",
       "<style>\n",
       "    .dataframe thead tr:only-child th {\n",
       "        text-align: right;\n",
       "    }\n",
       "\n",
       "    .dataframe thead th {\n",
       "        text-align: left;\n",
       "    }\n",
       "\n",
       "    .dataframe tbody tr th {\n",
       "        vertical-align: top;\n",
       "    }\n",
       "</style>\n",
       "<table border=\"1\" class=\"dataframe\">\n",
       "  <thead>\n",
       "    <tr style=\"text-align: right;\">\n",
       "      <th></th>\n",
       "      <th>Date</th>\n",
       "      <th>Open</th>\n",
       "      <th>High</th>\n",
       "      <th>Low</th>\n",
       "      <th>Close</th>\n",
       "      <th>Adj Close</th>\n",
       "      <th>Volume</th>\n",
       "    </tr>\n",
       "  </thead>\n",
       "  <tbody>\n",
       "    <tr>\n",
       "      <th>4271</th>\n",
       "      <td>2017-11-27</td>\n",
       "      <td>23552.859375</td>\n",
       "      <td>23638.919922</td>\n",
       "      <td>23545.019531</td>\n",
       "      <td>23580.779297</td>\n",
       "      <td>23580.779297</td>\n",
       "      <td>296320000</td>\n",
       "    </tr>\n",
       "    <tr>\n",
       "      <th>4272</th>\n",
       "      <td>2017-11-28</td>\n",
       "      <td>23625.189453</td>\n",
       "      <td>23849.609375</td>\n",
       "      <td>23617.109375</td>\n",
       "      <td>23836.710938</td>\n",
       "      <td>23836.710938</td>\n",
       "      <td>319240000</td>\n",
       "    </tr>\n",
       "    <tr>\n",
       "      <th>4273</th>\n",
       "      <td>2017-11-29</td>\n",
       "      <td>23883.259766</td>\n",
       "      <td>23959.759766</td>\n",
       "      <td>23872.589844</td>\n",
       "      <td>23940.679688</td>\n",
       "      <td>23940.679688</td>\n",
       "      <td>401410000</td>\n",
       "    </tr>\n",
       "    <tr>\n",
       "      <th>4274</th>\n",
       "      <td>2017-11-30</td>\n",
       "      <td>24013.800781</td>\n",
       "      <td>24327.820313</td>\n",
       "      <td>24013.800781</td>\n",
       "      <td>24272.349609</td>\n",
       "      <td>24272.349609</td>\n",
       "      <td>488200000</td>\n",
       "    </tr>\n",
       "    <tr>\n",
       "      <th>4275</th>\n",
       "      <td>2017-12-01</td>\n",
       "      <td>24305.400391</td>\n",
       "      <td>24322.060547</td>\n",
       "      <td>23921.900391</td>\n",
       "      <td>24231.589844</td>\n",
       "      <td>24231.589844</td>\n",
       "      <td>417910000</td>\n",
       "    </tr>\n",
       "  </tbody>\n",
       "</table>\n",
       "</div>"
      ],
      "text/plain": [
       "            Date          Open          High           Low         Close  \\\n",
       "4271  2017-11-27  23552.859375  23638.919922  23545.019531  23580.779297   \n",
       "4272  2017-11-28  23625.189453  23849.609375  23617.109375  23836.710938   \n",
       "4273  2017-11-29  23883.259766  23959.759766  23872.589844  23940.679688   \n",
       "4274  2017-11-30  24013.800781  24327.820313  24013.800781  24272.349609   \n",
       "4275  2017-12-01  24305.400391  24322.060547  23921.900391  24231.589844   \n",
       "\n",
       "         Adj Close     Volume  \n",
       "4271  23580.779297  296320000  \n",
       "4272  23836.710938  319240000  \n",
       "4273  23940.679688  401410000  \n",
       "4274  24272.349609  488200000  \n",
       "4275  24231.589844  417910000  "
      ]
     },
     "execution_count": 4,
     "metadata": {},
     "output_type": "execute_result"
    }
   ],
   "source": [
    "data= pd.read_csv('/Users/arshiyaaggarwal/Desktop/Fms_Project/code/data/^DJI.csv')\n",
    "data.tail()"
   ]
  },
  {
   "cell_type": "code",
   "execution_count": 5,
   "metadata": {},
   "outputs": [
    {
     "data": {
      "text/html": [
       "<div>\n",
       "<style>\n",
       "    .dataframe thead tr:only-child th {\n",
       "        text-align: right;\n",
       "    }\n",
       "\n",
       "    .dataframe thead th {\n",
       "        text-align: left;\n",
       "    }\n",
       "\n",
       "    .dataframe tbody tr th {\n",
       "        vertical-align: top;\n",
       "    }\n",
       "</style>\n",
       "<table border=\"1\" class=\"dataframe\">\n",
       "  <thead>\n",
       "    <tr style=\"text-align: right;\">\n",
       "      <th></th>\n",
       "      <th>Date</th>\n",
       "      <th>Open</th>\n",
       "      <th>High</th>\n",
       "      <th>Low</th>\n",
       "      <th>Close</th>\n",
       "      <th>Adj Close</th>\n",
       "      <th>Volume</th>\n",
       "    </tr>\n",
       "  </thead>\n",
       "  <tbody>\n",
       "    <tr>\n",
       "      <th>4271</th>\n",
       "      <td>2017-11-27</td>\n",
       "      <td>23552.859375</td>\n",
       "      <td>23638.919922</td>\n",
       "      <td>23545.019531</td>\n",
       "      <td>23580.779297</td>\n",
       "      <td>23580.779297</td>\n",
       "      <td>296320000</td>\n",
       "    </tr>\n",
       "    <tr>\n",
       "      <th>4272</th>\n",
       "      <td>2017-11-28</td>\n",
       "      <td>23625.189453</td>\n",
       "      <td>23849.609375</td>\n",
       "      <td>23617.109375</td>\n",
       "      <td>23836.710938</td>\n",
       "      <td>23836.710938</td>\n",
       "      <td>319240000</td>\n",
       "    </tr>\n",
       "    <tr>\n",
       "      <th>4273</th>\n",
       "      <td>2017-11-29</td>\n",
       "      <td>23883.259766</td>\n",
       "      <td>23959.759766</td>\n",
       "      <td>23872.589844</td>\n",
       "      <td>23940.679688</td>\n",
       "      <td>23940.679688</td>\n",
       "      <td>401410000</td>\n",
       "    </tr>\n",
       "    <tr>\n",
       "      <th>4274</th>\n",
       "      <td>2017-11-30</td>\n",
       "      <td>24013.800781</td>\n",
       "      <td>24327.820313</td>\n",
       "      <td>24013.800781</td>\n",
       "      <td>24272.349609</td>\n",
       "      <td>24272.349609</td>\n",
       "      <td>488200000</td>\n",
       "    </tr>\n",
       "    <tr>\n",
       "      <th>4275</th>\n",
       "      <td>2017-12-01</td>\n",
       "      <td>24305.400391</td>\n",
       "      <td>24322.060547</td>\n",
       "      <td>23921.900391</td>\n",
       "      <td>24231.589844</td>\n",
       "      <td>24231.589844</td>\n",
       "      <td>417910000</td>\n",
       "    </tr>\n",
       "  </tbody>\n",
       "</table>\n",
       "</div>"
      ],
      "text/plain": [
       "            Date          Open          High           Low         Close  \\\n",
       "4271  2017-11-27  23552.859375  23638.919922  23545.019531  23580.779297   \n",
       "4272  2017-11-28  23625.189453  23849.609375  23617.109375  23836.710938   \n",
       "4273  2017-11-29  23883.259766  23959.759766  23872.589844  23940.679688   \n",
       "4274  2017-11-30  24013.800781  24327.820313  24013.800781  24272.349609   \n",
       "4275  2017-12-01  24305.400391  24322.060547  23921.900391  24231.589844   \n",
       "\n",
       "         Adj Close     Volume  \n",
       "4271  23580.779297  296320000  \n",
       "4272  23836.710938  319240000  \n",
       "4273  23940.679688  401410000  \n",
       "4274  24272.349609  488200000  \n",
       "4275  24231.589844  417910000  "
      ]
     },
     "execution_count": 5,
     "metadata": {},
     "output_type": "execute_result"
    }
   ],
   "source": [
    "data= data.dropna(axis=0)\n",
    "data.tail()"
   ]
  },
  {
   "cell_type": "code",
   "execution_count": 6,
   "metadata": {},
   "outputs": [
    {
     "name": "stdout",
     "output_type": "stream",
     "text": [
      "(4276, 4)\n"
     ]
    }
   ],
   "source": [
    "data= data.values[:, 1:5]\n",
    "print data.shape"
   ]
  },
  {
   "cell_type": "code",
   "execution_count": 7,
   "metadata": {},
   "outputs": [
    {
     "name": "stdout",
     "output_type": "stream",
     "text": [
      "[[10377.330078 10604.459961 10319.30957 10560.950195]\n",
      " [10576.780273 10917.299805 10576.780273 10898.719727]\n",
      " [10896.139648 10896.139648 10620.860352 10664.379883]\n",
      " [10644.660156 10689.019531 10583.230469 10617.360352]\n",
      " [10632.139648 10803.540039 10631.860352 10712.910156]\n",
      " [10719.360352 10792.160156 10670.05957 10725.799805]]\n"
     ]
    }
   ],
   "source": [
    "print data[:6, :]"
   ]
  },
  {
   "cell_type": "code",
   "execution_count": 8,
   "metadata": {},
   "outputs": [
    {
     "name": "stdout",
     "output_type": "stream",
     "text": [
      "(4275,)\n",
      "(4275, 4)\n"
     ]
    }
   ],
   "source": [
    "y= data[1:, 3]\n",
    "print y.shape\n",
    "X= data[:4275,:]\n",
    "print X.shape"
   ]
  },
  {
   "cell_type": "code",
   "execution_count": 9,
   "metadata": {
    "collapsed": true
   },
   "outputs": [],
   "source": [
    "y= (y- min(y))/(max(y)- min(y))"
   ]
  },
  {
   "cell_type": "code",
   "execution_count": 10,
   "metadata": {},
   "outputs": [
    {
     "name": "stdout",
     "output_type": "stream",
     "text": [
      "[0.9609839991623761 0.9754227755909837 0.9812883322331646 1.0\n",
      " 0.9977004752838762]\n",
      "[0.2455061392540156 0.2322854972004963 0.2296328181756039\n",
      " 0.2350234070545823 0.23575059639087165 0.23814659118191125\n",
      " 0.23962306262608365]\n"
     ]
    }
   ],
   "source": [
    "print y[4270:]\n",
    "print y[:7]"
   ]
  },
  {
   "cell_type": "code",
   "execution_count": 11,
   "metadata": {},
   "outputs": [
    {
     "name": "stdout",
     "output_type": "stream",
     "text": [
      "(4275, 4)\n",
      "[0.22645035256860355 0.2455061392540156 0.2322854972004963\n",
      " 0.2296328181756039 0.2350234070545823 0.23575059639087165\n",
      " 0.23814659118191125]\n"
     ]
    }
   ],
   "source": [
    "X= (X- np.min(X,axis=0))/(np.max(X, axis=0)-np.min(X,axis=0))\n",
    "print X.shape\n",
    "print X[:7, 3]"
   ]
  },
  {
   "cell_type": "code",
   "execution_count": 12,
   "metadata": {},
   "outputs": [
    {
     "name": "stdout",
     "output_type": "stream",
     "text": [
      "(3420, 4) (3420,)\n",
      "(855, 4) (855,)\n"
     ]
    }
   ],
   "source": [
    "split = int(0.8*data.shape[0])\n",
    "X_train = X[:split]\n",
    "X_test = X[split:]\n",
    "\n",
    "y_train = y[:split]\n",
    "y_test = y[split:]\n",
    "\n",
    "print X_train.shape, y_train.shape\n",
    "print X_test.shape, y_test.shape"
   ]
  },
  {
   "cell_type": "code",
   "execution_count": 13,
   "metadata": {
    "collapsed": true
   },
   "outputs": [],
   "source": [
    "## Model fitting and score calculation"
   ]
  },
  {
   "cell_type": "code",
   "execution_count": 14,
   "metadata": {
    "collapsed": true
   },
   "outputs": [],
   "source": [
    "model= mlp(hidden_layer_sizes=(100, 50), activation='relu', solver='adam', verbose=True)"
   ]
  },
  {
   "cell_type": "code",
   "execution_count": 15,
   "metadata": {},
   "outputs": [
    {
     "name": "stdout",
     "output_type": "stream",
     "text": [
      "Iteration 1, loss = 0.00201374\n",
      "Iteration 2, loss = 0.00016774\n",
      "Iteration 3, loss = 0.00008106\n",
      "Iteration 4, loss = 0.00005977\n",
      "Iteration 5, loss = 0.00005388\n",
      "Training loss did not improve more than tol=0.000100 for two consecutive epochs. Stopping.\n"
     ]
    },
    {
     "data": {
      "text/plain": [
       "MLPRegressor(activation='relu', alpha=0.0001, batch_size='auto', beta_1=0.9,\n",
       "       beta_2=0.999, early_stopping=False, epsilon=1e-08,\n",
       "       hidden_layer_sizes=(100, 50), learning_rate='constant',\n",
       "       learning_rate_init=0.001, max_iter=200, momentum=0.9,\n",
       "       nesterovs_momentum=True, power_t=0.5, random_state=None,\n",
       "       shuffle=True, solver='adam', tol=0.0001, validation_fraction=0.1,\n",
       "       verbose=True, warm_start=False)"
      ]
     },
     "execution_count": 15,
     "metadata": {},
     "output_type": "execute_result"
    }
   ],
   "source": [
    "model.fit(X_train, y_train)"
   ]
  },
  {
   "cell_type": "code",
   "execution_count": 16,
   "metadata": {
    "collapsed": true
   },
   "outputs": [],
   "source": [
    "y_pred= model.predict(X_test)"
   ]
  },
  {
   "cell_type": "code",
   "execution_count": 18,
   "metadata": {},
   "outputs": [
    {
     "name": "stdout",
     "output_type": "stream",
     "text": [
      "0.00246168388985\n"
     ]
    }
   ],
   "source": [
    "rmse= (((y_pred - y_test)**2).sum())/y_pred.size\n",
    "print rmse"
   ]
  },
  {
   "cell_type": "code",
   "execution_count": 19,
   "metadata": {
    "collapsed": true
   },
   "outputs": [],
   "source": [
    "## To show how well the trend of y_test has been tracked by y_pred"
   ]
  },
  {
   "cell_type": "code",
   "execution_count": 20,
   "metadata": {},
   "outputs": [
    {
     "data": {
      "image/png": "[encoded data removed]",
      "text/plain": [
       "<matplotlib.figure.Figure at 0x10c204690>"
      ]
     },
     "metadata": {},
     "output_type": "display_data"
    }
   ],
   "source": [
    "plt.plot(y_pred, 'r-')\n",
    "plt.plot(y_test, 'b-')\n",
    "plt.show()"
   ]
  },
  {
   "cell_type": "code",
   "execution_count": 21,
   "metadata": {
    "collapsed": true
   },
   "outputs": [],
   "source": [
    "## To show how similar y_pred and y_test are"
   ]
  },
  {
   "cell_type": "code",
   "execution_count": 22,
   "metadata": {},
   "outputs": [
    {
     "data": {
      "image/png": "[encoded data removed]",
      "text/plain": [
       "<matplotlib.figure.Figure at 0x10d4ff390>"
      ]
     },
     "metadata": {},
     "output_type": "display_data"
    }
   ],
   "source": [
    "plt.plot(y_test, y_pred, 'bo')\n",
    "plt.xlabel('y_test')\n",
    "plt.ylabel('y_pred')\n",
    "plt.show()"
   ]
  },
  {
   "cell_type": "code",
   "execution_count": 23,
   "metadata": {},
   "outputs": [
    {
     "data": {
      "text/plain": [
       "0.79268164745009018"
      ]
     },
     "execution_count": 23,
     "metadata": {},
     "output_type": "execute_result"
    }
   ],
   "source": [
    "model.score(X_test, y_test)"
   ]
  },
  {
   "cell_type": "code",
   "execution_count": null,
   "metadata": {
    "collapsed": true
   },
   "outputs": [],
   "source": [
    "#The score fluctuates between 75 to 85 based on the number of layers and random initialisation"
   ]
  }
 ],
 "metadata": {
  "kernelspec": {
   "display_name": "Python 2",
   "language": "python",
   "name": "python2"
  },
  "language_info": {
   "codemirror_mode": {
    "name": "ipython",
    "version": 2
   },
   "file_extension": ".py",
   "mimetype": "text/x-python",
   "name": "python",
   "nbconvert_exporter": "python",
   "pygments_lexer": "ipython2",
   "version": "2.7.10"
  }
 },
 "nbformat": 4,
 "nbformat_minor": 2
}
