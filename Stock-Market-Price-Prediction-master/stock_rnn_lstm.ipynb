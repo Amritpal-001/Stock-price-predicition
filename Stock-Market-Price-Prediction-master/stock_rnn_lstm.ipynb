{
 "cells": [
  {
   "cell_type": "code",
   "execution_count": 1,
   "metadata": {},
   "outputs": [
    {
     "name": "stderr",
     "output_type": "stream",
     "text": [
      "Using Theano backend.\n"
     ]
    }
   ],
   "source": [
    "import numpy as np\n",
    "import pandas as pd\n",
    "from keras.layers import Dense, Dropout, Activation, LSTM, Convolution1D, MaxPooling1D\n",
    "from keras.models import Sequential\n",
    "import matplotlib.pyplot as plt\n",
    "%matplotlib inline"
   ]
  },
  {
   "cell_type": "code",
   "execution_count": 2,
   "metadata": {
    "collapsed": true
   },
   "outputs": [],
   "source": [
    "## Data preparation"
   ]
  },
  {
   "cell_type": "code",
   "execution_count": 3,
   "metadata": {},
   "outputs": [
    {
     "data": {
      "text/html": [
       "<div>\n",
       "<style>\n",
       "    .dataframe thead tr:only-child th {\n",
       "        text-align: right;\n",
       "    }\n",
       "\n",
       "    .dataframe thead th {\n",
       "        text-align: left;\n",
       "    }\n",
       "\n",
       "    .dataframe tbody tr th {\n",
       "        vertical-align: top;\n",
       "    }\n",
       "</style>\n",
       "<table border=\"1\" class=\"dataframe\">\n",
       "  <thead>\n",
       "    <tr style=\"text-align: right;\">\n",
       "      <th></th>\n",
       "      <th>Date</th>\n",
       "      <th>Open</th>\n",
       "      <th>High</th>\n",
       "      <th>Low</th>\n",
       "      <th>Close</th>\n",
       "      <th>Adj Close</th>\n",
       "      <th>Volume</th>\n",
       "    </tr>\n",
       "  </thead>\n",
       "  <tbody>\n",
       "    <tr>\n",
       "      <th>4271</th>\n",
       "      <td>2017-11-27</td>\n",
       "      <td>23552.859375</td>\n",
       "      <td>23638.919922</td>\n",
       "      <td>23545.019531</td>\n",
       "      <td>23580.779297</td>\n",
       "      <td>23580.779297</td>\n",
       "      <td>296320000</td>\n",
       "    </tr>\n",
       "    <tr>\n",
       "      <th>4272</th>\n",
       "      <td>2017-11-28</td>\n",
       "      <td>23625.189453</td>\n",
       "      <td>23849.609375</td>\n",
       "      <td>23617.109375</td>\n",
       "      <td>23836.710938</td>\n",
       "      <td>23836.710938</td>\n",
       "      <td>319240000</td>\n",
       "    </tr>\n",
       "    <tr>\n",
       "      <th>4273</th>\n",
       "      <td>2017-11-29</td>\n",
       "      <td>23883.259766</td>\n",
       "      <td>23959.759766</td>\n",
       "      <td>23872.589844</td>\n",
       "      <td>23940.679688</td>\n",
       "      <td>23940.679688</td>\n",
       "      <td>401410000</td>\n",
       "    </tr>\n",
       "    <tr>\n",
       "      <th>4274</th>\n",
       "      <td>2017-11-30</td>\n",
       "      <td>24013.800781</td>\n",
       "      <td>24327.820313</td>\n",
       "      <td>24013.800781</td>\n",
       "      <td>24272.349609</td>\n",
       "      <td>24272.349609</td>\n",
       "      <td>488200000</td>\n",
       "    </tr>\n",
       "    <tr>\n",
       "      <th>4275</th>\n",
       "      <td>2017-12-01</td>\n",
       "      <td>24305.400391</td>\n",
       "      <td>24322.060547</td>\n",
       "      <td>23921.900391</td>\n",
       "      <td>24231.589844</td>\n",
       "      <td>24231.589844</td>\n",
       "      <td>417910000</td>\n",
       "    </tr>\n",
       "  </tbody>\n",
       "</table>\n",
       "</div>"
      ],
      "text/plain": [
       "            Date          Open          High           Low         Close  \\\n",
       "4271  2017-11-27  23552.859375  23638.919922  23545.019531  23580.779297   \n",
       "4272  2017-11-28  23625.189453  23849.609375  23617.109375  23836.710938   \n",
       "4273  2017-11-29  23883.259766  23959.759766  23872.589844  23940.679688   \n",
       "4274  2017-11-30  24013.800781  24327.820313  24013.800781  24272.349609   \n",
       "4275  2017-12-01  24305.400391  24322.060547  23921.900391  24231.589844   \n",
       "\n",
       "         Adj Close     Volume  \n",
       "4271  23580.779297  296320000  \n",
       "4272  23836.710938  319240000  \n",
       "4273  23940.679688  401410000  \n",
       "4274  24272.349609  488200000  \n",
       "4275  24231.589844  417910000  "
      ]
     },
     "execution_count": 3,
     "metadata": {},
     "output_type": "execute_result"
    }
   ],
   "source": [
    "data= pd.read_csv('/Users/arshiyaaggarwal/Desktop/Fms_Project/code/data/^DJI.csv')\n",
    "data.tail()"
   ]
  },
  {
   "cell_type": "code",
   "execution_count": 4,
   "metadata": {},
   "outputs": [
    {
     "data": {
      "text/html": [
       "<div>\n",
       "<style>\n",
       "    .dataframe thead tr:only-child th {\n",
       "        text-align: right;\n",
       "    }\n",
       "\n",
       "    .dataframe thead th {\n",
       "        text-align: left;\n",
       "    }\n",
       "\n",
       "    .dataframe tbody tr th {\n",
       "        vertical-align: top;\n",
       "    }\n",
       "</style>\n",
       "<table border=\"1\" class=\"dataframe\">\n",
       "  <thead>\n",
       "    <tr style=\"text-align: right;\">\n",
       "      <th></th>\n",
       "      <th>Date</th>\n",
       "      <th>Open</th>\n",
       "      <th>High</th>\n",
       "      <th>Low</th>\n",
       "      <th>Close</th>\n",
       "      <th>Adj Close</th>\n",
       "      <th>Volume</th>\n",
       "    </tr>\n",
       "  </thead>\n",
       "  <tbody>\n",
       "    <tr>\n",
       "      <th>4271</th>\n",
       "      <td>2017-11-27</td>\n",
       "      <td>23552.859375</td>\n",
       "      <td>23638.919922</td>\n",
       "      <td>23545.019531</td>\n",
       "      <td>23580.779297</td>\n",
       "      <td>23580.779297</td>\n",
       "      <td>296320000</td>\n",
       "    </tr>\n",
       "    <tr>\n",
       "      <th>4272</th>\n",
       "      <td>2017-11-28</td>\n",
       "      <td>23625.189453</td>\n",
       "      <td>23849.609375</td>\n",
       "      <td>23617.109375</td>\n",
       "      <td>23836.710938</td>\n",
       "      <td>23836.710938</td>\n",
       "      <td>319240000</td>\n",
       "    </tr>\n",
       "    <tr>\n",
       "      <th>4273</th>\n",
       "      <td>2017-11-29</td>\n",
       "      <td>23883.259766</td>\n",
       "      <td>23959.759766</td>\n",
       "      <td>23872.589844</td>\n",
       "      <td>23940.679688</td>\n",
       "      <td>23940.679688</td>\n",
       "      <td>401410000</td>\n",
       "    </tr>\n",
       "    <tr>\n",
       "      <th>4274</th>\n",
       "      <td>2017-11-30</td>\n",
       "      <td>24013.800781</td>\n",
       "      <td>24327.820313</td>\n",
       "      <td>24013.800781</td>\n",
       "      <td>24272.349609</td>\n",
       "      <td>24272.349609</td>\n",
       "      <td>488200000</td>\n",
       "    </tr>\n",
       "    <tr>\n",
       "      <th>4275</th>\n",
       "      <td>2017-12-01</td>\n",
       "      <td>24305.400391</td>\n",
       "      <td>24322.060547</td>\n",
       "      <td>23921.900391</td>\n",
       "      <td>24231.589844</td>\n",
       "      <td>24231.589844</td>\n",
       "      <td>417910000</td>\n",
       "    </tr>\n",
       "  </tbody>\n",
       "</table>\n",
       "</div>"
      ],
      "text/plain": [
       "            Date          Open          High           Low         Close  \\\n",
       "4271  2017-11-27  23552.859375  23638.919922  23545.019531  23580.779297   \n",
       "4272  2017-11-28  23625.189453  23849.609375  23617.109375  23836.710938   \n",
       "4273  2017-11-29  23883.259766  23959.759766  23872.589844  23940.679688   \n",
       "4274  2017-11-30  24013.800781  24327.820313  24013.800781  24272.349609   \n",
       "4275  2017-12-01  24305.400391  24322.060547  23921.900391  24231.589844   \n",
       "\n",
       "         Adj Close     Volume  \n",
       "4271  23580.779297  296320000  \n",
       "4272  23836.710938  319240000  \n",
       "4273  23940.679688  401410000  \n",
       "4274  24272.349609  488200000  \n",
       "4275  24231.589844  417910000  "
      ]
     },
     "execution_count": 4,
     "metadata": {},
     "output_type": "execute_result"
    }
   ],
   "source": [
    "data= data.dropna(axis=0)\n",
    "data.tail()"
   ]
  },
  {
   "cell_type": "code",
   "execution_count": 5,
   "metadata": {},
   "outputs": [
    {
     "name": "stdout",
     "output_type": "stream",
     "text": [
      "(4276, 4)\n"
     ]
    }
   ],
   "source": [
    "data= data.values[:, 1:5]\n",
    "print data.shape"
   ]
  },
  {
   "cell_type": "code",
   "execution_count": 6,
   "metadata": {},
   "outputs": [
    {
     "name": "stdout",
     "output_type": "stream",
     "text": [
      "[[10377.330078 10604.459961 10319.30957 10560.950195]\n",
      " [10576.780273 10917.299805 10576.780273 10898.719727]\n",
      " [10896.139648 10896.139648 10620.860352 10664.379883]\n",
      " [10644.660156 10689.019531 10583.230469 10617.360352]\n",
      " [10632.139648 10803.540039 10631.860352 10712.910156]\n",
      " [10719.360352 10792.160156 10670.05957 10725.799805]]\n"
     ]
    }
   ],
   "source": [
    "print data[:6, :]"
   ]
  },
  {
   "cell_type": "code",
   "execution_count": 7,
   "metadata": {},
   "outputs": [
    {
     "name": "stdout",
     "output_type": "stream",
     "text": [
      "(4275,)\n",
      "(4275, 4)\n"
     ]
    }
   ],
   "source": [
    "y= data[1:, 3]\n",
    "print y.shape\n",
    "X= data[:4275,:]\n",
    "print X.shape"
   ]
  },
  {
   "cell_type": "code",
   "execution_count": 8,
   "metadata": {
    "collapsed": true
   },
   "outputs": [],
   "source": [
    "y= (y- min(y))/(max(y)- min(y))"
   ]
  },
  {
   "cell_type": "code",
   "execution_count": 9,
   "metadata": {},
   "outputs": [
    {
     "name": "stdout",
     "output_type": "stream",
     "text": [
      "[0.9609839991623761 0.9754227755909837 0.9812883322331646 1.0\n",
      " 0.9977004752838762]\n",
      "[0.2455061392540156 0.2322854972004963 0.2296328181756039\n",
      " 0.2350234070545823 0.23575059639087165 0.23814659118191125\n",
      " 0.23962306262608365]\n"
     ]
    }
   ],
   "source": [
    "print y[4270:]\n",
    "print y[:7]"
   ]
  },
  {
   "cell_type": "code",
   "execution_count": 10,
   "metadata": {},
   "outputs": [
    {
     "name": "stdout",
     "output_type": "stream",
     "text": [
      "(4275, 4)\n",
      "[[0.2192915864574453 0.22106956373653716 0.2194135977236257\n",
      "  0.22645035256860355]\n",
      " [0.23071040945868904 0.23882618237200137 0.23408943537613414\n",
      "  0.2455061392540156]\n",
      " [0.24899421297621796 0.2376251434208518 0.23660200117712055\n",
      "  0.2322854972004963]]\n"
     ]
    }
   ],
   "source": [
    "X= (X- np.min(X,axis=0))/(np.max(X, axis=0)-np.min(X,axis=0))\n",
    "print X.shape\n",
    "print X[:3, :]"
   ]
  },
  {
   "cell_type": "code",
   "execution_count": 11,
   "metadata": {
    "collapsed": true
   },
   "outputs": [],
   "source": [
    "##LSTM input layer preparation"
   ]
  },
  {
   "cell_type": "code",
   "execution_count": 12,
   "metadata": {},
   "outputs": [
    {
     "name": "stdout",
     "output_type": "stream",
     "text": [
      "(4176, 100, 4) (4176,)\n"
     ]
    }
   ],
   "source": [
    "time_steps= 100\n",
    "X_new= np.zeros((X.shape[0] - time_steps +1, 100, X.shape[1]))\n",
    "y_new= np.zeros((y.shape[0] -time_steps +1,))\n",
    "for ix in range(X_new.shape[0]):\n",
    "    for jx in range(time_steps):\n",
    "        X_new[ix, jx, :]= X[ix +jx, :]\n",
    "    y_new[ix]= y[ix + time_steps -1]\n",
    "print X_new.shape, y_new.shape"
   ]
  },
  {
   "cell_type": "code",
   "execution_count": 13,
   "metadata": {
    "collapsed": true
   },
   "outputs": [],
   "source": [
    "## split into train and test sets"
   ]
  },
  {
   "cell_type": "code",
   "execution_count": 14,
   "metadata": {},
   "outputs": [
    {
     "name": "stdout",
     "output_type": "stream",
     "text": [
      "(3420, 100, 4) (3420,)\n",
      "(756, 100, 4) (756,)\n"
     ]
    }
   ],
   "source": [
    "split = int(0.8*data.shape[0])\n",
    "X_train = X_new[:split]\n",
    "X_test = X_new[split:]\n",
    "\n",
    "y_train = y_new[:split]\n",
    "y_test = y_new[split:]\n",
    "\n",
    "print X_train.shape, y_train.shape\n",
    "print X_test.shape, y_test.shape"
   ]
  },
  {
   "cell_type": "code",
   "execution_count": 15,
   "metadata": {
    "collapsed": true
   },
   "outputs": [],
   "source": [
    "## Model fitting"
   ]
  },
  {
   "cell_type": "code",
   "execution_count": 16,
   "metadata": {},
   "outputs": [
    {
     "name": "stdout",
     "output_type": "stream",
     "text": [
      "____________________________________________________________________________________________________\n",
      "Layer (type)                     Output Shape          Param #     Connected to                     \n",
      "====================================================================================================\n",
      "lstm_1 (LSTM)                    (None, 100, 100)      42000       lstm_input_1[0][0]               \n",
      "____________________________________________________________________________________________________\n",
      "dropout_1 (Dropout)              (None, 100, 100)      0           lstm_1[0][0]                     \n",
      "____________________________________________________________________________________________________\n",
      "lstm_2 (LSTM)                    (None, 50)            30200       dropout_1[0][0]                  \n",
      "____________________________________________________________________________________________________\n",
      "dropout_2 (Dropout)              (None, 50)            0           lstm_2[0][0]                     \n",
      "____________________________________________________________________________________________________\n",
      "dense_1 (Dense)                  (None, 1)             51          dropout_2[0][0]                  \n",
      "____________________________________________________________________________________________________\n",
      "activation_1 (Activation)        (None, 1)             0           dense_1[0][0]                    \n",
      "====================================================================================================\n",
      "Total params: 72,251\n",
      "Trainable params: 72,251\n",
      "Non-trainable params: 0\n",
      "____________________________________________________________________________________________________\n"
     ]
    }
   ],
   "source": [
    "model = Sequential()\n",
    "model.add(LSTM(100, input_shape= (100,4), return_sequences=True))\n",
    "model.add(Dropout(0.2))\n",
    "model.add(LSTM(50, return_sequences=False))\n",
    "model.add(Dropout(0.2))\n",
    "model.add(Dense(output_dim=1))\n",
    "model.add(Activation('linear'))\n",
    "\n",
    "model.summary()"
   ]
  },
  {
   "cell_type": "code",
   "execution_count": 17,
   "metadata": {},
   "outputs": [
    {
     "name": "stderr",
     "output_type": "stream",
     "text": [
      "/usr/local/lib/python2.7/site-packages/theano/tensor/basic.py:2146: UserWarning: theano.tensor.round() changed its default from `half_away_from_zero` to `half_to_even` to have the same default as NumPy. Use the Theano flag `warn.round=False` to disable this warning.\n",
      "  \"theano.tensor.round() changed its default from\"\n"
     ]
    }
   ],
   "source": [
    "model.compile(loss='mse', optimizer='rmsprop', metrics=['accuracy'])"
   ]
  },
  {
   "cell_type": "code",
   "execution_count": 18,
   "metadata": {},
   "outputs": [
    {
     "name": "stdout",
     "output_type": "stream",
     "text": [
      "Train on 3420 samples, validate on 756 samples\n",
      "Epoch 1/50\n",
      "19s - loss: 0.0558 - acc: 2.9240e-04 - val_loss: 0.0123 - val_acc: 0.0013\n",
      "Epoch 2/50\n",
      "18s - loss: 0.0052 - acc: 2.9240e-04 - val_loss: 0.0043 - val_acc: 0.0013\n",
      "Epoch 3/50\n",
      "18s - loss: 0.0055 - acc: 2.9240e-04 - val_loss: 0.0022 - val_acc: 0.0013\n",
      "Epoch 4/50\n",
      "16s - loss: 0.0044 - acc: 2.9240e-04 - val_loss: 0.0026 - val_acc: 0.0013\n",
      "Epoch 5/50\n",
      "18s - loss: 0.0044 - acc: 2.9240e-04 - val_loss: 0.0014 - val_acc: 0.0013\n",
      "Epoch 6/50\n",
      "18s - loss: 0.0031 - acc: 2.9240e-04 - val_loss: 0.0061 - val_acc: 0.0013\n",
      "Epoch 7/50\n",
      "16s - loss: 0.0027 - acc: 2.9240e-04 - val_loss: 0.0123 - val_acc: 0.0013\n",
      "Epoch 8/50\n",
      "16s - loss: 0.0022 - acc: 2.9240e-04 - val_loss: 0.0232 - val_acc: 0.0013\n",
      "Epoch 9/50\n",
      "16s - loss: 0.0022 - acc: 2.9240e-04 - val_loss: 0.0204 - val_acc: 0.0013\n",
      "Epoch 10/50\n",
      "15s - loss: 0.0019 - acc: 2.9240e-04 - val_loss: 0.0160 - val_acc: 0.0013\n",
      "Epoch 11/50\n",
      "16s - loss: 0.0020 - acc: 2.9240e-04 - val_loss: 0.0051 - val_acc: 0.0013\n",
      "Epoch 12/50\n",
      "16s - loss: 0.0019 - acc: 2.9240e-04 - val_loss: 0.0086 - val_acc: 0.0013\n",
      "Epoch 13/50\n",
      "16s - loss: 0.0016 - acc: 2.9240e-04 - val_loss: 0.0167 - val_acc: 0.0013\n",
      "Epoch 14/50\n",
      "15s - loss: 0.0018 - acc: 2.9240e-04 - val_loss: 0.0161 - val_acc: 0.0013\n",
      "Epoch 15/50\n",
      "16s - loss: 0.0014 - acc: 2.9240e-04 - val_loss: 0.0150 - val_acc: 0.0013\n",
      "Epoch 16/50\n",
      "16s - loss: 0.0015 - acc: 2.9240e-04 - val_loss: 0.0164 - val_acc: 0.0013\n",
      "Epoch 17/50\n",
      "16s - loss: 0.0013 - acc: 2.9240e-04 - val_loss: 0.0151 - val_acc: 0.0013\n",
      "Epoch 18/50\n",
      "15s - loss: 0.0013 - acc: 2.9240e-04 - val_loss: 0.0061 - val_acc: 0.0013\n",
      "Epoch 19/50\n",
      "16s - loss: 0.0013 - acc: 2.9240e-04 - val_loss: 0.0027 - val_acc: 0.0013\n",
      "Epoch 20/50\n",
      "15s - loss: 0.0013 - acc: 2.9240e-04 - val_loss: 0.0045 - val_acc: 0.0013\n",
      "Epoch 21/50\n",
      "15s - loss: 0.0013 - acc: 2.9240e-04 - val_loss: 0.0019 - val_acc: 0.0013\n",
      "Epoch 22/50\n",
      "15s - loss: 0.0012 - acc: 2.9240e-04 - val_loss: 0.0027 - val_acc: 0.0013\n",
      "Epoch 23/50\n",
      "14s - loss: 0.0013 - acc: 2.9240e-04 - val_loss: 0.0037 - val_acc: 0.0013\n",
      "Epoch 24/50\n",
      "14s - loss: 0.0011 - acc: 2.9240e-04 - val_loss: 0.0022 - val_acc: 0.0013\n",
      "Epoch 25/50\n",
      "16s - loss: 0.0011 - acc: 2.9240e-04 - val_loss: 0.0029 - val_acc: 0.0013\n",
      "Epoch 26/50\n",
      "16s - loss: 0.0011 - acc: 2.9240e-04 - val_loss: 0.0066 - val_acc: 0.0013\n",
      "Epoch 27/50\n",
      "15s - loss: 0.0010 - acc: 2.9240e-04 - val_loss: 0.0050 - val_acc: 0.0013\n",
      "Epoch 28/50\n",
      "15s - loss: 0.0010 - acc: 2.9240e-04 - val_loss: 0.0044 - val_acc: 0.0013\n",
      "Epoch 29/50\n",
      "15s - loss: 0.0011 - acc: 2.9240e-04 - val_loss: 0.0049 - val_acc: 0.0013\n",
      "Epoch 30/50\n",
      "13s - loss: 8.0355e-04 - acc: 2.9240e-04 - val_loss: 4.7968e-04 - val_acc: 0.0013\n",
      "Epoch 31/50\n",
      "13s - loss: 0.0011 - acc: 2.9240e-04 - val_loss: 9.9860e-04 - val_acc: 0.0013\n",
      "Epoch 32/50\n",
      "13s - loss: 0.0011 - acc: 2.9240e-04 - val_loss: 0.0038 - val_acc: 0.0013\n",
      "Epoch 33/50\n",
      "13s - loss: 9.2845e-04 - acc: 2.9240e-04 - val_loss: 8.9745e-04 - val_acc: 0.0013\n",
      "Epoch 34/50\n",
      "14s - loss: 8.7767e-04 - acc: 2.9240e-04 - val_loss: 5.8416e-04 - val_acc: 0.0013\n",
      "Epoch 35/50\n",
      "14s - loss: 9.2837e-04 - acc: 2.9240e-04 - val_loss: 3.7143e-04 - val_acc: 0.0013\n",
      "Epoch 36/50\n",
      "13s - loss: 9.1123e-04 - acc: 2.9240e-04 - val_loss: 0.0014 - val_acc: 0.0013\n",
      "Epoch 37/50\n",
      "13s - loss: 0.0010 - acc: 2.9240e-04 - val_loss: 0.0019 - val_acc: 0.0013\n",
      "Epoch 38/50\n",
      "14s - loss: 8.6145e-04 - acc: 2.9240e-04 - val_loss: 0.0098 - val_acc: 0.0013\n",
      "Epoch 39/50\n",
      "14s - loss: 8.4498e-04 - acc: 2.9240e-04 - val_loss: 0.0012 - val_acc: 0.0013\n",
      "Epoch 40/50\n",
      "590s - loss: 8.9179e-04 - acc: 2.9240e-04 - val_loss: 3.3264e-04 - val_acc: 0.0013\n",
      "Epoch 41/50\n",
      "14s - loss: 9.0552e-04 - acc: 2.9240e-04 - val_loss: 4.4956e-04 - val_acc: 0.0013\n",
      "Epoch 42/50\n",
      "14s - loss: 7.7122e-04 - acc: 2.9240e-04 - val_loss: 4.2487e-04 - val_acc: 0.0013\n",
      "Epoch 43/50\n",
      "14s - loss: 8.7359e-04 - acc: 2.9240e-04 - val_loss: 3.4036e-04 - val_acc: 0.0013\n",
      "Epoch 44/50\n",
      "14s - loss: 8.6112e-04 - acc: 2.9240e-04 - val_loss: 0.0026 - val_acc: 0.0013\n",
      "Epoch 45/50\n",
      "14s - loss: 7.5775e-04 - acc: 2.9240e-04 - val_loss: 0.0029 - val_acc: 0.0013\n",
      "Epoch 46/50\n",
      "13s - loss: 7.5955e-04 - acc: 2.9240e-04 - val_loss: 0.0026 - val_acc: 0.0013\n",
      "Epoch 47/50\n",
      "14s - loss: 7.9929e-04 - acc: 2.9240e-04 - val_loss: 7.2207e-04 - val_acc: 0.0013\n",
      "Epoch 48/50\n",
      "13s - loss: 7.2587e-04 - acc: 2.9240e-04 - val_loss: 0.0015 - val_acc: 0.0013\n",
      "Epoch 49/50\n",
      "13s - loss: 7.6243e-04 - acc: 2.9240e-04 - val_loss: 0.0049 - val_acc: 0.0013\n",
      "Epoch 50/50\n",
      "13s - loss: 8.6351e-04 - acc: 2.9240e-04 - val_loss: 2.8649e-04 - val_acc: 0.0013\n"
     ]
    },
    {
     "data": {
      "text/plain": [
       "<keras.callbacks.History at 0x1191cc090>"
      ]
     },
     "execution_count": 18,
     "metadata": {},
     "output_type": "execute_result"
    }
   ],
   "source": [
    "model.fit(X_train, y_train, batch_size=256, nb_epoch=50, validation_data = (X_test, y_test), verbose=2)"
   ]
  },
  {
   "cell_type": "code",
   "execution_count": 19,
   "metadata": {},
   "outputs": [
    {
     "name": "stdout",
     "output_type": "stream",
     "text": [
      "756/756 [==============================] - 0s     \n"
     ]
    }
   ],
   "source": [
    "score= model.evaluate(X_test, y_test, batch_size=256)"
   ]
  },
  {
   "cell_type": "code",
   "execution_count": 20,
   "metadata": {},
   "outputs": [
    {
     "name": "stdout",
     "output_type": "stream",
     "text": [
      "[0.00028648800860287216, 0.0013227512488368327]\n"
     ]
    }
   ],
   "source": [
    "print score"
   ]
  },
  {
   "cell_type": "code",
   "execution_count": 21,
   "metadata": {
    "collapsed": true
   },
   "outputs": [],
   "source": [
    "y_pred= model.predict(X_test)"
   ]
  },
  {
   "cell_type": "code",
   "execution_count": 22,
   "metadata": {},
   "outputs": [
    {
     "data": {
      "image/png": "[encoded data removed]",
      "text/plain": [
       "<matplotlib.figure.Figure at 0x11921f950>"
      ]
     },
     "metadata": {},
     "output_type": "display_data"
    }
   ],
   "source": [
    "plt.plot(y_pred, 'r-')\n",
    "plt.plot(y_test, 'b-')\n",
    "plt.show()"
   ]
  },
  {
   "cell_type": "code",
   "execution_count": 153,
   "metadata": {},
   "outputs": [
    {
     "data": {
      "image/png": "[encoded data removed]",
      "text/plain": [
       "<matplotlib.figure.Figure at 0x121c56190>"
      ]
     },
     "metadata": {},
     "output_type": "display_data"
    }
   ],
   "source": [
    "plt.plot (y_pred, y_test, 'bo')\n",
    "plt.xlabel('y_pred')\n",
    "plt.ylabel('y_test')\n",
    "plt.show()"
   ]
  },
  {
   "cell_type": "code",
   "execution_count": null,
   "metadata": {
    "collapsed": true
   },
   "outputs": [],
   "source": []
  },
  {
   "cell_type": "code",
   "execution_count": null,
   "metadata": {
    "collapsed": true
   },
   "outputs": [],
   "source": []
  }
 ],
 "metadata": {
  "kernelspec": {
   "display_name": "Python 2",
   "language": "python",
   "name": "python2"
  },
  "language_info": {
   "codemirror_mode": {
    "name": "ipython",
    "version": 2
   },
   "file_extension": ".py",
   "mimetype": "text/x-python",
   "name": "python",
   "nbconvert_exporter": "python",
   "pygments_lexer": "ipython2",
   "version": "2.7.10"
  }
 },
 "nbformat": 4,
 "nbformat_minor": 2
}
