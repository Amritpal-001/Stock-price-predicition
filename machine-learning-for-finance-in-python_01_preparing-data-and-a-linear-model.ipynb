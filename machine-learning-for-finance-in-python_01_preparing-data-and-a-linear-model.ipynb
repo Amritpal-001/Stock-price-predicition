{
 "cells": [
  {
   "cell_type": "markdown",
   "metadata": {},
   "source": [
    "# Chap 1: Preparing data and a linear model\n",
    "\n",
    "## Explore the data with some EDA\n",
    "\n",
    "First, let's explore the data. Any time we begin a machine learning (ML) project, we need to first do some exploratory data analysis (EDA) to familiarize ourselves with the data. This includes things like:\n",
    "\n",
    "* raw data plots\n",
    "* histograms\n",
    "* and more...\n",
    "\n",
    "I typically begin with raw data plots and histograms. This allows us to understand our data's distributions. If it's a normal distribution, we can use things like parametric statistics.\n",
    "\n",
    "There are two stocks loaded for you into pandas DataFrames: `lng_df` nd `spy_df` (`LNG` and `SPY`). Take a look at them with `.head()`. We'll use the closing prices and eventually volume as inputs to ML algorithms.\n",
    "\n",
    "Note: We'll call `plt.clf()` each time we want to make a new plot, or `f = plt.figure()`.\n",
    "\n",
    "### Instructions\n",
    "\n",
    "* Print out the first 5 lines of the two DataFrame (`lng_df` and `spy_df`) and examine their contents.\n",
    "* Use the pandas library to plot raw time series data for `'SPY'` and `'LNG'` with the adjusted close price (`'Adj_Close'`) -- set `legend=True` in `plot()`.\n",
    "* Use `plt.show()` to show the raw time series `plot (matplotlib.pyplot` has been imported as `plt`).\n",
    "* Use pandas and matplotlib to make a histogram of the adjusted close 1-day percent difference (use `.pct_change()`) for `SPY` and `LNG`.\n"
   ]
  },
  {
   "cell_type": "code",
   "execution_count": 1,
   "metadata": {},
   "outputs": [],
   "source": [
    "import pydot\n",
    "import pandas as pd\n",
    "import numpy as np\n",
    "import seaborn as sns\n",
    "sns.set()\n",
    "\n",
    "%matplotlib inline\n",
    "import matplotlib\n",
    "import matplotlib.pyplot as plt\n",
    "from matplotlib import colors as mcolors\n",
    "\n",
    "# Ignore warnings\n",
    "import warnings\n",
    "warnings.filterwarnings('ignore')\n",
    "\n",
    "\n",
    "# Import 'tree' from scikit-learn library\n",
    "from sklearn import tree"
   ]
  },
  {
   "cell_type": "code",
   "execution_count": 39,
   "metadata": {},
   "outputs": [],
   "source": [
    "spy_df=pd.read_csv('data/SPY.csv')\n",
    "lng_df=pd.read_csv('data/LNG.csv')"
   ]
  },
  {
   "cell_type": "code",
   "execution_count": 40,
   "metadata": {},
   "outputs": [],
   "source": [
    "smlv_df=pd.read_csv('data/SMLV.csv')"
   ]
  },
  {
   "cell_type": "code",
   "execution_count": 4,
   "metadata": {},
   "outputs": [
    {
     "data": {
      "text/html": [
       "<div>\n",
       "<style scoped>\n",
       "    .dataframe tbody tr th:only-of-type {\n",
       "        vertical-align: middle;\n",
       "    }\n",
       "\n",
       "    .dataframe tbody tr th {\n",
       "        vertical-align: top;\n",
       "    }\n",
       "\n",
       "    .dataframe thead th {\n",
       "        text-align: right;\n",
       "    }\n",
       "</style>\n",
       "<table border=\"1\" class=\"dataframe\">\n",
       "  <thead>\n",
       "    <tr style=\"text-align: right;\">\n",
       "      <th></th>\n",
       "      <th>Date</th>\n",
       "      <th>Adj_Close</th>\n",
       "      <th>Adj_Volume</th>\n",
       "    </tr>\n",
       "  </thead>\n",
       "  <tbody>\n",
       "    <tr>\n",
       "      <th>0</th>\n",
       "      <td>1993-01-29</td>\n",
       "      <td>28.223927</td>\n",
       "      <td>1003200.0</td>\n",
       "    </tr>\n",
       "    <tr>\n",
       "      <th>1</th>\n",
       "      <td>1993-02-01</td>\n",
       "      <td>28.424666</td>\n",
       "      <td>480500.0</td>\n",
       "    </tr>\n",
       "    <tr>\n",
       "      <th>2</th>\n",
       "      <td>1993-02-02</td>\n",
       "      <td>28.484856</td>\n",
       "      <td>201300.0</td>\n",
       "    </tr>\n",
       "    <tr>\n",
       "      <th>3</th>\n",
       "      <td>1993-02-03</td>\n",
       "      <td>28.785997</td>\n",
       "      <td>529400.0</td>\n",
       "    </tr>\n",
       "    <tr>\n",
       "      <th>4</th>\n",
       "      <td>1993-02-04</td>\n",
       "      <td>28.906440</td>\n",
       "      <td>531500.0</td>\n",
       "    </tr>\n",
       "  </tbody>\n",
       "</table>\n",
       "</div>"
      ],
      "text/plain": [
       "         Date  Adj_Close  Adj_Volume\n",
       "0  1993-01-29  28.223927   1003200.0\n",
       "1  1993-02-01  28.424666    480500.0\n",
       "2  1993-02-02  28.484856    201300.0\n",
       "3  1993-02-03  28.785997    529400.0\n",
       "4  1993-02-04  28.906440    531500.0"
      ]
     },
     "execution_count": 4,
     "metadata": {},
     "output_type": "execute_result"
    }
   ],
   "source": [
    "spy_df.head(5)"
   ]
  },
  {
   "cell_type": "code",
   "execution_count": 5,
   "metadata": {},
   "outputs": [
    {
     "data": {
      "text/plain": [
       "Index(['Date', 'Adj_Close', 'Adj_Volume'], dtype='object')"
      ]
     },
     "execution_count": 5,
     "metadata": {},
     "output_type": "execute_result"
    }
   ],
   "source": [
    "lng_df.columns"
   ]
  },
  {
   "cell_type": "code",
   "execution_count": 6,
   "metadata": {},
   "outputs": [
    {
     "data": {
      "image/png": "[encoded data removed]",
      "text/plain": [
       "<Figure size 432x288 with 2 Axes>"
      ]
     },
     "metadata": {
      "needs_background": "light"
     },
     "output_type": "display_data"
    },
    {
     "data": {
      "text/plain": [
       "<Figure size 432x288 with 0 Axes>"
      ]
     },
     "metadata": {},
     "output_type": "display_data"
    }
   ],
   "source": [
    "# Plot the Adj_Close columns for SPY and LNG\n",
    "spy_df['Adj_Close'].plot(label='SPY', legend=True)\n",
    "lng_df['Adj_Close'].plot(label='LNG', legend=True, secondary_y=True)\n",
    "plt.show()  # show the plot\n",
    "plt.clf()  # clear the plot space"
   ]
  },
  {
   "cell_type": "code",
   "execution_count": 7,
   "metadata": {
    "scrolled": true
   },
   "outputs": [
    {
     "data": {
      "image/png": "[encoded data removed]",
      "text/plain": [
       "<Figure size 432x288 with 1 Axes>"
      ]
     },
     "metadata": {
      "needs_background": "light"
     },
     "output_type": "display_data"
    }
   ],
   "source": [
    "# Histogram of the daily price change percent of Adj_Close for LNG\n",
    "spy_df['Adj_Close'].pct_change().plot.hist(bins=50, edgecolor=\"k\")\n",
    "#plt.xlim(-0.1, 0.1)\n",
    "plt.xlabel('SPY adjusted close 1-day percent change')\n",
    "#plt.ylabel('No of times')\n",
    "plt.show()"
   ]
  },
  {
   "cell_type": "markdown",
   "metadata": {},
   "source": [
    "#### Prepare Data to match DataCamp data set: \n",
    "\n",
    "Index has to be the col `'Date'`and the format of the index has to be `DatatimeIndex`.\n",
    "\n",
    "Raw data has more than 5000 rows. In the exercise only 500\n",
    "\n",
    "The data has to start the `2016-04-15`. Drop the rest."
   ]
  },
  {
   "cell_type": "code",
   "execution_count": 8,
   "metadata": {},
   "outputs": [],
   "source": [
    "#lng_df['Date'] = pd.to_datetime(lng_df['Date']).dt.date\n",
    "lng_df.set_index('Date',inplace=True)\n",
    "lng_df.index =pd.DatetimeIndex(lng_df.index)"
   ]
  },
  {
   "cell_type": "code",
   "execution_count": 9,
   "metadata": {},
   "outputs": [
    {
     "name": "stdout",
     "output_type": "stream",
     "text": [
      "(5548, 2)\n"
     ]
    }
   ],
   "source": [
    "print(lng_df.loc['1994-04-04':'2016-04-14'].shape)"
   ]
  },
  {
   "cell_type": "markdown",
   "metadata": {},
   "source": [
    "The data starts now the `2016-04-15`. \n",
    "\n",
    "And finish the `2018-04-10`\n",
    "\n",
    "I have to **delete more data** from `lng_df`."
   ]
  },
  {
   "cell_type": "code",
   "execution_count": 10,
   "metadata": {},
   "outputs": [],
   "source": [
    "lng_df.drop(lng_df.index[lng_df.index<'2016-04-15'], inplace=True)"
   ]
  },
  {
   "cell_type": "code",
   "execution_count": 11,
   "metadata": {},
   "outputs": [],
   "source": [
    "lng_df.drop(lng_df.index[lng_df.index>'2018-04-10'], inplace=True)"
   ]
  },
  {
   "cell_type": "code",
   "execution_count": 12,
   "metadata": {},
   "outputs": [
    {
     "data": {
      "text/plain": [
       "(500, 2)"
      ]
     },
     "execution_count": 12,
     "metadata": {},
     "output_type": "execute_result"
    }
   ],
   "source": [
    "lng_df.shape"
   ]
  },
  {
   "cell_type": "markdown",
   "metadata": {},
   "source": [
    "#### Histogram"
   ]
  },
  {
   "cell_type": "code",
   "execution_count": 13,
   "metadata": {},
   "outputs": [
    {
     "data": {
      "image/png": "[encoded data removed]",
      "text/plain": [
       "<Figure size 432x288 with 1 Axes>"
      ]
     },
     "metadata": {
      "needs_background": "light"
     },
     "output_type": "display_data"
    }
   ],
   "source": [
    "# Histogram of the daily price change percent of Adj_Close for LNG\n",
    "lng_df['Adj_Close'].pct_change().plot.hist(bins=50, edgecolor=\"k\")\n",
    "#plt.xlim(-0.1, 0.2)\n",
    "plt.xlabel('LNG adjusted close 1-day percent change')\n",
    "plt.ylabel('No of times')\n",
    "plt.show()"
   ]
  },
  {
   "cell_type": "markdown",
   "metadata": {},
   "source": [
    "## Correlations\n",
    "\n",
    "Correlations are nice to check out before building machine learning models, because we can see which features correlate to the target most strongly. \n",
    "\n",
    "**Pearson's correlation coefficient** is often used, which only detects linear relationships. \n",
    "\n",
    "It's commonly *assumed our data is normally distributed*, which we can \"eyeball\" from histograms. \n",
    "\n",
    "Highly correlated variables have a Pearson correlation coefficient near 1 (positively correlated) or -1 (negatively correlated). A value near 0 means the two variables are not linearly correlated.\n",
    "\n",
    "If we use the same time periods for previous price changes and future price changes, we can see if the stock price is mean-reverting (bounces around) or trend-following (goes up if it has been going up recently).\n",
    "\n",
    "### Instructions\n",
    "\n",
    "* Using the `lng_df` DataFrame and its `Adj_Close`:\n",
    "\n",
    "* Create the 5-day future price (as `5d_future_close`) with pandas' `.shift(-5)`.\n",
    "\n",
    "* Use `pct_change(5`) on `5d_future_close` and `Adj_Close` to create the future 5-day % price change (`5d_close_future_pct`), and the current 5-day % price change (`5d_close_pct`).\n",
    "\n",
    "* Examine correlations between the two 5-day percent price change columns with `.corr()` on `lng_df`.\n",
    "\n",
    "* Using `plt.scatter()`, make a scatterplot of `5d_close_pct` vs `5d_close_future_pct`."
   ]
  },
  {
   "cell_type": "code",
   "execution_count": 14,
   "metadata": {},
   "outputs": [
    {
     "data": {
      "text/plain": [
       "(500, 2)"
      ]
     },
     "execution_count": 14,
     "metadata": {},
     "output_type": "execute_result"
    }
   ],
   "source": [
    "lng_df.shape"
   ]
  },
  {
   "cell_type": "code",
   "execution_count": 15,
   "metadata": {},
   "outputs": [
    {
     "name": "stdout",
     "output_type": "stream",
     "text": [
      "                     5d_close_pct  5d_close_future_pct\n",
      "5d_close_pct             1.000000            -0.164861\n",
      "5d_close_future_pct     -0.164861             1.000000\n"
     ]
    },
    {
     "data": {
      "image/png": "[encoded data removed]",
      "text/plain": [
       "<Figure size 432x288 with 1 Axes>"
      ]
     },
     "metadata": {
      "needs_background": "light"
     },
     "output_type": "display_data"
    }
   ],
   "source": [
    "# Create 5-day % changes of Adj_Close for the current day, and 5 days in the future\n",
    "lng_df['5d_future_close'] = lng_df['Adj_Close'].shift(-5)\n",
    "lng_df['5d_close_future_pct'] = lng_df['5d_future_close'].pct_change(5)\n",
    "lng_df['5d_close_pct'] = lng_df['Adj_Close'].pct_change(5)\n",
    "\n",
    "# Calculate the correlation matrix between the 5d close pecentage changes (current and future)\n",
    "corr = lng_df[['5d_close_pct', '5d_close_future_pct']].corr()\n",
    "print(corr)\n",
    "\n",
    "# Scatter the current 5-day percent change vs the future 5-day percent change\n",
    "plt.scatter(lng_df['5d_close_pct'], lng_df['5d_close_future_pct'])\n",
    "plt.show()"
   ]
  },
  {
   "cell_type": "markdown",
   "metadata": {},
   "source": [
    "We can see the 5-day change is slightly negatively correlated to the change in the last 5 days -- an example of overall mean reversion!"
   ]
  },
  {
   "cell_type": "markdown",
   "metadata": {},
   "source": [
    "## Data transforms, features, and targets\n",
    "\n",
    "### Create moving average and RSI features\n",
    "\n",
    "We want to add historical data to our machine learning models to make better predictions, but adding lots of historical time steps is tricky. Instead, we can condense information from previous points into a single timestep with indicators.\n",
    "\n",
    "A **moving average** is one of the simplest indicators - it's the average of previous data points. This is the function `talib.SMA()` from the `TAlib` library.\n",
    "\n",
    "Another common technical indicator is the **relative strength index (RSI)**. This is defined by:\n",
    "\n",
    "\n",
    "$$RSI=100−\\frac{100}{1+RS}$$\n",
    "\n",
    "\n",
    "\n",
    "$$RS=\\frac{average\\:gain\\:over\\:n\\:periods}{average\\:loss\\:over\\:n\\:periods}$$\n",
    "\n",
    "The n periods is set in `talib.RSI()` as the timeperiod argument.\n",
    "\n",
    "#### Instructions\n",
    "\n",
    "* Create a list of feature names (start with a list containing only `'5d_close_pct'`).\n",
    "\n",
    "* Use timeperiods of 14, 30, 50, and 200 to calculate moving averages with `talib.SMA()` from adjusted close prices (`lng_df['Adj_Close']`).\n",
    "\n",
    "* Normalize the moving averages with the adjusted close by dividing by `Adj_Close`.\n",
    "\n",
    "* Within the loop, calculate RSI with `talib.RSI()` from `Adj_Close` and using n for the timeperiod.\n"
   ]
  },
  {
   "cell_type": "code",
   "execution_count": 16,
   "metadata": {},
   "outputs": [],
   "source": [
    "import talib"
   ]
  },
  {
   "cell_type": "code",
   "execution_count": 17,
   "metadata": {},
   "outputs": [
    {
     "name": "stdout",
     "output_type": "stream",
     "text": [
      "['5d_close_pct', 'ma14', 'rsi14', 'ma30', 'rsi30', 'ma50', 'rsi50', 'ma200', 'rsi200']\n"
     ]
    }
   ],
   "source": [
    "feature_names = ['5d_close_pct']  # a list of the feature names for later\n",
    "\n",
    "# Create moving averages and rsi for timeperiods of 14, 30, 50, and 200\n",
    "for n in [14,30,50,200]:\n",
    "\n",
    "    # Create the moving average indicator and divide by Adj_Close\n",
    "    lng_df['ma' + str(n)] = talib.SMA(lng_df['Adj_Close'].values,\n",
    "                              timeperiod=n) / lng_df['Adj_Close']\n",
    "    # Create the RSI indicator\n",
    "    lng_df['rsi' + str(n)] = talib.RSI(lng_df['Adj_Close'].values, timeperiod=n)\n",
    "    \n",
    "    # Add rsi and moving average to the feature name list\n",
    "    feature_names = feature_names + ['ma' + str(n), 'rsi' + str(n)]\n",
    "\n",
    "print(feature_names)"
   ]
  },
  {
   "cell_type": "code",
   "execution_count": 18,
   "metadata": {},
   "outputs": [
    {
     "name": "stdout",
     "output_type": "stream",
     "text": [
      "Index(['Adj_Close', 'Adj_Volume', '5d_future_close', '5d_close_future_pct',\n",
      "       '5d_close_pct', 'ma14', 'rsi14', 'ma30', 'rsi30', 'ma50', 'rsi50',\n",
      "       'ma200', 'rsi200'],\n",
      "      dtype='object')\n"
     ]
    },
    {
     "data": {
      "text/plain": [
       "(500, 13)"
      ]
     },
     "execution_count": 18,
     "metadata": {},
     "output_type": "execute_result"
    }
   ],
   "source": [
    "print(lng_df.columns)\n",
    "lng_df.shape"
   ]
  },
  {
   "cell_type": "markdown",
   "metadata": {},
   "source": [
    "### Create features and targets\n",
    "\n",
    "We almost have features and targets that are machine-learning ready -- we have features from current price changes (`5d_close_pct`) and indicators (moving averages and RSI), and we created targets of future price changes (`5d_close_future_pct`). Now we need to break these up into separate numpy arrays so we can feed them into machine learning algorithms.\n",
    "\n",
    "Our indicators also cause us to have missing values at the beginning of the DataFrame due to the calculations. We could backfill this data, fill it with a single value, or drop the rows. Dropping the rows is a good choice, so our machine learning algorithms aren't confused by any sort of backfilled or 0-filled data. Pandas has a `.dropna()` function which we will use to drop any rows with missing values.\n",
    "\n",
    "#### Drop `lng_df` NaN values"
   ]
  },
  {
   "cell_type": "code",
   "execution_count": 19,
   "metadata": {},
   "outputs": [
    {
     "name": "stdout",
     "output_type": "stream",
     "text": [
      "Index(['5d_close_pct', 'ma14', 'rsi14', 'ma30', 'rsi30', 'ma50', 'rsi50',\n",
      "       'ma200', 'rsi200'],\n",
      "      dtype='object')\n",
      "(295, 9)\n",
      "                     5d_close_future_pct  5d_close_pct      ma14     rsi14  \\\n",
      "5d_close_future_pct             1.000000     -0.047183  0.096373 -0.068888   \n",
      "5d_close_pct                   -0.047183      1.000000 -0.827699  0.683973   \n",
      "ma14                            0.096373     -0.827699  1.000000 -0.877566   \n",
      "rsi14                          -0.068888      0.683973 -0.877566  1.000000   \n",
      "ma30                            0.102744     -0.609573  0.848778 -0.964795   \n",
      "rsi30                          -0.106279      0.518748 -0.713427  0.935711   \n",
      "ma50                            0.113444     -0.475081  0.692689 -0.916540   \n",
      "rsi50                          -0.138946      0.426045 -0.601849  0.845788   \n",
      "ma200                           0.230860     -0.220690  0.346457 -0.551087   \n",
      "rsi200                         -0.221029      0.284021 -0.416221  0.639057   \n",
      "\n",
      "                         ma30     rsi30      ma50     rsi50     ma200  \\\n",
      "5d_close_future_pct  0.102744 -0.106279  0.113444 -0.138946  0.230860   \n",
      "5d_close_pct        -0.609573  0.518748 -0.475081  0.426045 -0.220690   \n",
      "ma14                 0.848778 -0.713427  0.692689 -0.601849  0.346457   \n",
      "rsi14               -0.964795  0.935711 -0.916540  0.845788 -0.551087   \n",
      "ma30                 1.000000 -0.900934  0.925715 -0.805506  0.527767   \n",
      "rsi30               -0.900934  1.000000 -0.962825  0.975608 -0.761846   \n",
      "ma50                 0.925715 -0.962825  1.000000 -0.915729  0.693863   \n",
      "rsi50               -0.805506  0.975608 -0.915729  1.000000 -0.871883   \n",
      "ma200                0.527767 -0.761846  0.693863 -0.871883  1.000000   \n",
      "rsi200              -0.600068  0.834532 -0.750857  0.930507 -0.976110   \n",
      "\n",
      "                       rsi200  \n",
      "5d_close_future_pct -0.221029  \n",
      "5d_close_pct         0.284021  \n",
      "ma14                -0.416221  \n",
      "rsi14                0.639057  \n",
      "ma30                -0.600068  \n",
      "rsi30                0.834532  \n",
      "ma50                -0.750857  \n",
      "rsi50                0.930507  \n",
      "ma200               -0.976110  \n",
      "rsi200               1.000000  \n"
     ]
    }
   ],
   "source": [
    "# Drop all na values\n",
    "lng_df1=lng_df.dropna()\n",
    "features = lng_df1[feature_names]\n",
    "print(features.columns)\n",
    "print(features.shape)\n",
    "\n",
    "targets = lng_df1['5d_close_future_pct']\n",
    "\n",
    "# Create DataFrame from target column and feature columns\n",
    "feature_and_target_cols = ['5d_close_future_pct'] + feature_names\n",
    "feat_targ_df = lng_df1[feature_and_target_cols]\n",
    "\n",
    "# Calculate correlation matrix\n",
    "corr = feat_targ_df.corr()\n",
    "print(corr)"
   ]
  },
  {
   "cell_type": "markdown",
   "metadata": {},
   "source": [
    "Now we've got features and targets ready for machine learning!"
   ]
  },
  {
   "cell_type": "markdown",
   "metadata": {},
   "source": [
    "### Check the correlations\n",
    "\n",
    "Before we fit our first machine learning model, let's look at the correlations between features and targets. Ideally we want large (near 1 or -1) correlations between features and targets. Examining correlations can help us tweak features to maximize correlation (for example, altering the timeperiod argument in the talib functions). It can also help us remove features that aren't correlated to the target.\n",
    "\n",
    "To easily plot a correlation matrix, we can use seaborn's `heatmap()` function. This takes a correlation matrix as the first argument, and has many other options (https://seaborn.pydata.org/generated/seaborn.heatmap.html). Check out the annot option -- this will help us turn on annotations.\n",
    "\n",
    "#### Instructions\n",
    "\n",
    "* Plot a heatmap of the correlation matrix (`corr`) we calculated in the last exercise (`seaborn` has been imported as sns for you).\n",
    "* Turn annotations on using the `sns.heatmap(`) option `annot=True`.\n",
    "* Show the plot with `plt.show()`, and clear the plot area with `plt.clf()` to prepare for our second plot.\n",
    "* Create a scatter plot of the most correlated feature/variable with the target (`5d_close_future_pc`t) from the `lng_df` DataFrame."
   ]
  },
  {
   "cell_type": "code",
   "execution_count": 20,
   "metadata": {},
   "outputs": [],
   "source": [
    "import seaborn as sns\n",
    "sns.set_style(\"whitegrid\")"
   ]
  },
  {
   "cell_type": "code",
   "execution_count": 21,
   "metadata": {},
   "outputs": [
    {
     "data": {
      "image/png": "[encoded data removed]",
      "text/plain": [
       "<Figure size 432x288 with 2 Axes>"
      ]
     },
     "metadata": {},
     "output_type": "display_data"
    },
    {
     "data": {
      "image/png": "[encoded data removed]",
      "text/plain": [
       "<Figure size 432x288 with 1 Axes>"
      ]
     },
     "metadata": {},
     "output_type": "display_data"
    }
   ],
   "source": [
    "# Plot heatmap of correlation matrix\n",
    "sns.heatmap(corr, annot=True)\n",
    "plt.yticks(rotation=0); plt.xticks(rotation=90)  # fix ticklabel directions\n",
    "plt.tight_layout()  # fits plot area to the plot, \"tightly\"\n",
    "plt.show()  # show the plot\n",
    "\n",
    "plt.clf()  # clear the plot area\n",
    "\n",
    "# Create a scatter plot of the most highly correlated variable with the target\n",
    "plt.scatter(lng_df['5d_close_future_pct'], lng_df['ma200'])\n",
    "plt.show()"
   ]
  },
  {
   "cell_type": "markdown",
   "metadata": {},
   "source": [
    "We can see a few features have some correlation to the target!"
   ]
  },
  {
   "cell_type": "markdown",
   "metadata": {},
   "source": [
    "## Linear modeling\n",
    "\n",
    "### Create train and test features\n",
    "\n",
    "Before we fit our linear model, we want to add a constant to our features, so we have an intercept for our linear model.\n",
    "\n",
    "We also want to create `train` and `test` features. This is so we can fit our model to the train dataset, and evaluate performance on the test dataset. We always want to check performance on data the model has not seen to make sure we're not overfitting, which is memorizing patterns in the training data too exactly.\n",
    "\n",
    "With a time series like this, we typically want to **use the oldest data as our training set**, and **the newest data as our test set**. This is so we can evaluate the performance of the model on the most recent data, which will more realistically simulate predictions on data we haven't seen yet.\n",
    "\n",
    "#### Instructions\n",
    "\n",
    "* Import the `statsmodels.api` library with the alias `sm`.\n",
    "* Add a constant to the features variable using statsmodels' `.add_constant()` function.\n",
    "* Set train_size as 85% of the total number of datapoints (number of rows) using the `.shape[0]` property of features or targets.\n",
    "* Break up linear_features and targets into `train` and `test` sets using `train_size` and `Python indexing` (e.g. `[start:stop:step]`)."
   ]
  },
  {
   "cell_type": "code",
   "execution_count": 22,
   "metadata": {},
   "outputs": [
    {
     "name": "stdout",
     "output_type": "stream",
     "text": [
      "(295, 10) (250, 10) (45, 10)\n",
      "(250,) (45,)\n"
     ]
    }
   ],
   "source": [
    "# Import the statsmodels.api library with the alias sm\n",
    "import statsmodels.api as sm\n",
    "\n",
    "# Add a constant to the features\n",
    "linear_features = sm.add_constant(features)\n",
    "\n",
    "# Create a size for the training set that is 85% of the total number of samples\n",
    "train_size = int(0.85 * features.shape[0])\n",
    "train_features = linear_features[0:train_size]\n",
    "train_targets = targets[0:train_size]\n",
    "test_features = linear_features[train_size:]\n",
    "test_targets = targets[train_size:]\n",
    "print(linear_features.shape, train_features.shape, test_features.shape)\n",
    "print(train_targets.shape, test_targets.shape)"
   ]
  },
  {
   "cell_type": "markdown",
   "metadata": {},
   "source": [
    "We're ready to fit our linear model."
   ]
  },
  {
   "cell_type": "markdown",
   "metadata": {},
   "source": [
    "### Fit a linear model\n",
    "\n",
    "We'll now fit a linear model, because they are simple and easy to understand. \n",
    "\n",
    "Once we've fit our model, we can see which predictor variables appear to be meaningfully linearly correlated with the target, as well as their magnitude of effect on the target.\n",
    "\n",
    "Our judgment of whether or not predictors are significant is based on the **p-values** of coefficients. This is using a t-test to statistically test if the coefficient significantly differs from 0. \n",
    "\n",
    "The **p-value** *is the percent chance that the coefficient for a feature does not differ from zero*. \n",
    "\n",
    "Typically, we take a p-value of less than 0.05 to mean the coefficient is significantly different from 0.\n",
    "\n",
    "#### Instructions\n",
    "\n",
    "* Fit the linear model (using the `.fit()` method) and save the results in the results variable.\n",
    "* Print out the results summary with the `.summary()` function.\n",
    "* Print out the p-values from the results (the `.pvalues` property of results).\n",
    "* Make predictions from the `train_features` and `test_features` using the `.predict()` function of our results object."
   ]
  },
  {
   "cell_type": "code",
   "execution_count": 23,
   "metadata": {},
   "outputs": [
    {
     "name": "stdout",
     "output_type": "stream",
     "text": [
      "                             OLS Regression Results                            \n",
      "===============================================================================\n",
      "Dep. Variable:     5d_close_future_pct   R-squared:                       0.273\n",
      "Model:                             OLS   Adj. R-squared:                  0.246\n",
      "Method:                  Least Squares   F-statistic:                     10.01\n",
      "Date:                 Sat, 20 Apr 2019   Prob (F-statistic):           4.92e-13\n",
      "Time:                         18:50:34   Log-Likelihood:                 536.49\n",
      "No. Observations:                  250   AIC:                            -1053.\n",
      "Df Residuals:                      240   BIC:                            -1018.\n",
      "Df Model:                            9                                         \n",
      "Covariance Type:             nonrobust                                         \n",
      "================================================================================\n",
      "                   coef    std err          t      P>|t|      [0.025      0.975]\n",
      "--------------------------------------------------------------------------------\n",
      "const            6.8197      1.169      5.832      0.000       4.516       9.123\n",
      "5d_close_pct    -0.0944      0.114     -0.830      0.408      -0.319       0.130\n",
      "ma14             0.3473      0.230      1.512      0.132      -0.105       0.800\n",
      "rsi14            0.0261      0.004      6.520      0.000       0.018       0.034\n",
      "ma30             0.2200      0.206      1.067      0.287      -0.186       0.626\n",
      "rsi30           -0.1789      0.025     -7.111      0.000      -0.228      -0.129\n",
      "ma50            -2.0856      0.374     -5.578      0.000      -2.822      -1.349\n",
      "rsi50            0.2410      0.032      7.458      0.000       0.177       0.305\n",
      "ma200            0.5639      0.220      2.567      0.011       0.131       0.997\n",
      "rsi200          -0.1999      0.029     -6.999      0.000      -0.256      -0.144\n",
      "==============================================================================\n",
      "Omnibus:                        3.594   Durbin-Watson:                   0.560\n",
      "Prob(Omnibus):                  0.166   Jarque-Bera (JB):                2.482\n",
      "Skew:                          -0.038   Prob(JB):                        0.289\n",
      "Kurtosis:                       2.518   Cond. No.                     6.92e+04\n",
      "==============================================================================\n",
      "\n",
      "Warnings:\n",
      "[1] Standard Errors assume that the covariance matrix of the errors is correctly specified.\n",
      "[2] The condition number is large, 6.92e+04. This might indicate that there are\n",
      "strong multicollinearity or other numerical problems.\n",
      "const           1.764767e-08\n",
      "5d_close_pct    4.075985e-01\n",
      "ma14            1.317652e-01\n",
      "rsi14           4.119023e-10\n",
      "ma30            2.870964e-01\n",
      "rsi30           1.315491e-11\n",
      "ma50            6.542888e-08\n",
      "rsi50           1.598367e-12\n",
      "ma200           1.087610e-02\n",
      "rsi200          2.559536e-11\n",
      "dtype: float64\n"
     ]
    }
   ],
   "source": [
    "# Create the linear model and complete the least squares fit\n",
    "model = sm.OLS(train_targets, train_features)\n",
    "results = model.fit() # fit the model\n",
    "print(results.summary())\n",
    "\n",
    "# examine pvalues\n",
    "# Features with p <= 0.05 are typically considered significantly different from 0\n",
    "print(results.pvalues)"
   ]
  },
  {
   "cell_type": "code",
   "execution_count": 24,
   "metadata": {},
   "outputs": [
    {
     "name": "stdout",
     "output_type": "stream",
     "text": [
      "(250, 10) (45, 10)\n",
      "(250,) (45,)\n"
     ]
    }
   ],
   "source": [
    "print(train_features.shape, test_features.shape)\n",
    "print(train_targets.shape, test_targets.shape)"
   ]
  },
  {
   "cell_type": "code",
   "execution_count": 25,
   "metadata": {},
   "outputs": [
    {
     "name": "stdout",
     "output_type": "stream",
     "text": [
      "(250, 10) (250,) (250,)\n",
      "(45, 10) (45,) (45,)\n"
     ]
    }
   ],
   "source": [
    "# Make predictions from our model for train and test sets\n",
    "train_predictions = results.predict(train_features)\n",
    "test_predictions = results.predict(test_features)\n",
    "\n",
    "print(train_features.shape, train_targets.shape, train_predictions.shape)\n",
    "print(test_features.shape,test_targets.shape, test_predictions.shape )"
   ]
  },
  {
   "cell_type": "markdown",
   "metadata": {},
   "source": [
    "Now we can evaluate the results from our predictions."
   ]
  },
  {
   "cell_type": "markdown",
   "metadata": {},
   "source": [
    "### Evaluate our results\n",
    "\n",
    "Once we have our linear fit and predictions, we want to see how good the predictions are so we can decide if our model is any good or not. Ideally, we want to back-test any type of trading strategy. However, this is a complex and typically time-consuming experience.\n",
    "\n",
    "A quicker way to understand the performance of our model is looking at regression evaluation metrics like **`R2`**, and plotting the predictions versus the actual values of the targets. \n",
    "\n",
    "Perfect predictions would form a straight, diagonal line in such a plot, making it easy for us to eyeball how our predictions are doing in different regions of price changes.\n",
    "\n",
    "We can use matplotlib's `.scatter()` function to create scatter plots of the predictions and actual values.\n",
    "\n",
    "#### Instructions\n",
    "\n",
    "* Show `test_predictions` vs `test_targets` in a scatterplot, with 80% transparency for the points (use the alpha parameter to set transparency).\n",
    "* Plot the perfect prediction line using `np.arange()` and the minimum and maximum values from the xaxis `(xmin, xmax)`.\n",
    "* Display the legend on the plot with `plt.legend()``\n",
    "."
   ]
  },
  {
   "cell_type": "code",
   "execution_count": 26,
   "metadata": {},
   "outputs": [
    {
     "data": {
      "image/png": "[encoded data removed]",
      "text/plain": [
       "<Figure size 432x288 with 1 Axes>"
      ]
     },
     "metadata": {},
     "output_type": "display_data"
    }
   ],
   "source": [
    "# Scatter the predictions vs the targets with 80% transparency\n",
    "plt.scatter(train_predictions, train_targets, alpha=0.2, color='b', label='train')\n",
    "\n",
    "plt.scatter(test_predictions, test_targets, alpha=0.2, color='r', label='test')\n",
    "\n",
    "# Plot the perfect prediction line\n",
    "xmin, xmax = plt.xlim()\n",
    "plt.plot(np.arange(xmin, xmax, 0.01), np.arange(xmin, xmax, 0.01), c='k')\n",
    "\n",
    "# Set the axis labels and show the plot\n",
    "plt.xlabel('predictions')\n",
    "plt.ylabel('actual')\n",
    "plt.legend() # show the legend\n",
    "plt.show()"
   ]
  },
  {
   "cell_type": "markdown",
   "metadata": {},
   "source": [
    "# Chap 2: Machine learning tree methods\n",
    "\n",
    "\n",
    "Learn how to use tree-based machine learning models to predict future values of a stock's price, as well as how to use forest-based machine learning methods for regression and feature selection.\n",
    "\n",
    "\n",
    "* Theory: **Engineering more features**\n",
    "\n",
    "* Feature engineering from volume\n",
    "\n",
    "* Create day-of-week features\n",
    "\n",
    "* Examine correlations of the new features\n",
    "\n",
    "* Theory: **Decision trees**\n",
    "\n",
    "* Fit a decision tree\n",
    "\n",
    "* Try different max depths\n",
    "\n",
    "* Check our results\n",
    "\n",
    "* Theory: **Random forests**\n",
    "\n",
    "* Fit a random forest\n",
    "\n",
    "* Tune random forest hyperparameters\n",
    "\n",
    "* Evaluate performance\n",
    "\n",
    "* Theory: **Feature importances and gradient boosting**\n",
    "\n",
    "* Random forest feature importances\n",
    "\n",
    "* A gradient boosting model\n",
    "\n",
    "* Gradient boosting feature importances\n",
    "\n",
    "## Engineering more features\n",
    "\n",
    "### Feature engineering from volume\n",
    "\n",
    "We're going to use non-linear models to make more accurate predictions. \n",
    "\n",
    "With linear models, features must be linearly correlated to the target. \n",
    "\n",
    "Other machine learning models can combine features in non-linear ways. For example, what if the price goes up when the moving average of price is going up, and the moving average of volume is going down? \n",
    "\n",
    "The only way to capture those interactions is to either multiply the features, or to use a machine learning algorithm that can handle non-linearity (e.g. random forests).\n",
    "\n",
    "To incorporate more information that may interact with other features, we can add in weakly-correlated features. First we will add volume data, which we have in the `lng_df` as the `Adj_Volume` column.\n",
    "\n",
    "#### Instructions\n",
    "\n",
    "* Create a 1-day percent change in volume (use `pct_change()` from pandas), and assign it to the `Adj_Volume_1d_change` column in `lng_df`.\n",
    "* Create a 5-day moving average of the 1-day percent change in Volume, and assign it to the `Adj_Volume_1d_change_SMA` column in `lng_df`.\n",
    "* Plot histograms of these two new features we created using the `new_features` list."
   ]
  },
  {
   "cell_type": "code",
   "execution_count": 27,
   "metadata": {},
   "outputs": [
    {
     "name": "stdout",
     "output_type": "stream",
     "text": [
      "(500, 13)\n",
      "(295, 13)\n",
      "Index(['Adj_Close', 'Adj_Volume', '5d_future_close', '5d_close_future_pct',\n",
      "       '5d_close_pct', 'ma14', 'rsi14', 'ma30', 'rsi30', 'ma50', 'rsi50',\n",
      "       'ma200', 'rsi200'],\n",
      "      dtype='object')\n",
      "Index(['Adj_Close', 'Adj_Volume', '5d_future_close', '5d_close_future_pct',\n",
      "       '5d_close_pct', 'ma14', 'rsi14', 'ma30', 'rsi30', 'ma50', 'rsi50',\n",
      "       'ma200', 'rsi200'],\n",
      "      dtype='object')\n"
     ]
    }
   ],
   "source": [
    "print(lng_df.shape)\n",
    "print(lng_df1.shape)\n",
    "print(lng_df.columns)\n",
    "print(lng_df1.columns)"
   ]
  },
  {
   "cell_type": "markdown",
   "metadata": {},
   "source": [
    "My file is much larger than the one used in the course I drop all data untill the `2016-04-15`"
   ]
  },
  {
   "cell_type": "code",
   "execution_count": 28,
   "metadata": {},
   "outputs": [],
   "source": [
    "# Create 2 new volume features, 1-day % change and 5-day SMA of the % change\n",
    "new_features = ['Adj_Volume_1d_change', 'Adj_Volume_1d_change_SMA']\n",
    "feature_names.extend(new_features)\n",
    "lng_df['Adj_Volume_1d_change'] = lng_df['Adj_Volume'].pct_change()\n",
    "lng_df['Adj_Volume_1d_change_SMA'] = talib.SMA(lng_df['Adj_Volume_1d_change'].\n",
    "                                               values,timeperiod=5)"
   ]
  },
  {
   "cell_type": "code",
   "execution_count": 29,
   "metadata": {},
   "outputs": [
    {
     "name": "stdout",
     "output_type": "stream",
     "text": [
      "(500, 15)\n"
     ]
    }
   ],
   "source": [
    "print(lng_df.shape)"
   ]
  },
  {
   "cell_type": "code",
   "execution_count": 30,
   "metadata": {},
   "outputs": [],
   "source": [
    "# Create 2 new volume features, 1-day % change and 5-day SMA of the % change\n",
    "lng_df1['Adj_Volume_1d_change'] = lng_df1['Adj_Volume'].pct_change()\n",
    "lng_df1['Adj_Volume_1d_change_SMA'] = talib.SMA(lng_df1['Adj_Volume_1d_change'].\n",
    "                                                values,timeperiod=5)"
   ]
  },
  {
   "cell_type": "code",
   "execution_count": 31,
   "metadata": {},
   "outputs": [
    {
     "name": "stdout",
     "output_type": "stream",
     "text": [
      "(295, 15)\n"
     ]
    }
   ],
   "source": [
    "print(lng_df1.shape)    "
   ]
  },
  {
   "cell_type": "code",
   "execution_count": 32,
   "metadata": {},
   "outputs": [
    {
     "data": {
      "image/png": "[encoded data removed]",
      "text/plain": [
       "<Figure size 432x288 with 1 Axes>"
      ]
     },
     "metadata": {},
     "output_type": "display_data"
    }
   ],
   "source": [
    "# Plot histogram of volume % change data\n",
    "lng_df[new_features].plot(kind='hist', sharex=False, bins=50)\n",
    "plt.show()"
   ]
  },
  {
   "cell_type": "markdown",
   "metadata": {},
   "source": [
    " We can see the moving average of volume changes has a much smaller range than the raw data."
   ]
  },
  {
   "cell_type": "markdown",
   "metadata": {},
   "source": [
    "### Create day-of-week features\n",
    "\n",
    "We can engineer datetime features to add even more information for our non-linear models. \n",
    "\n",
    "Most financial data has datetimes, which have lots of information in them -- year, month, day, and sometimes hour, minute, and second. But we can also get the day of the week, and things like the quarter of the year, or the elapsed time since some event (e.g. earnings reports).\n",
    "\n",
    "We are only going to get the day of the week here, since our dataset doesn't go back very far in time. \n",
    "\n",
    "The dayofweek property from the pandas datetime index will help us get the day of the week. \n",
    "\n",
    "Then we will dummy dayofweek with pandas' `get_dummies()`. This creates columns for each day of the week with binary values (`0` or `1`). We drop the first column because it can be inferred from the others.\n",
    "\n",
    "#### Instructions\n",
    "\n",
    "* Use the `dayofweek` property from the `lng_df` index to get the days of the week.\n",
    "* Use the `get_dummies` function on the days of the week variable, giving it a prefix of `'weekday'`.\n",
    "* Set the index of the `days_of_week` variable to be the same as the `lng_df` index so we can merge the two.\n",
    "* Concatenate the `lng_df` and `days_of_week` DataFrames into one DataFrame."
   ]
  },
  {
   "cell_type": "code",
   "execution_count": 33,
   "metadata": {},
   "outputs": [
    {
     "ename": "NameError",
     "evalue": "name 'days_of_week' is not defined",
     "output_type": "error",
     "traceback": [
      "\u001b[0;31m---------------------------------------------------------------------------\u001b[0m",
      "\u001b[0;31mNameError\u001b[0m                                 Traceback (most recent call last)",
      "\u001b[0;32m<ipython-input-33-db7bdd8379ce>\u001b[0m in \u001b[0;36m<module>\u001b[0;34m\u001b[0m\n\u001b[0;32m----> 1\u001b[0;31m \u001b[0mdays_of_week\u001b[0m\u001b[0;34m.\u001b[0m\u001b[0mhead\u001b[0m\u001b[0;34m(\u001b[0m\u001b[0;34m)\u001b[0m\u001b[0;34m\u001b[0m\u001b[0;34m\u001b[0m\u001b[0m\n\u001b[0m",
      "\u001b[0;31mNameError\u001b[0m: name 'days_of_week' is not defined"
     ]
    }
   ],
   "source": [
    "days_of_week.head()"
   ]
  },
  {
   "cell_type": "code",
   "execution_count": null,
   "metadata": {},
   "outputs": [],
   "source": [
    "# Use pandas' get_dummies function to get dummies for day of the week\n",
    "days_of_week = pd.get_dummies(lng_df.index.dayofweek,\n",
    "                              prefix='weekday',\n",
    "                              drop_first=True)\n",
    "\n",
    "# Set the index as the original dataframe index for merging\n",
    "days_of_week.index = lng_df.index\n",
    "\n",
    "# Join the dataframe with the days of week dataframe\n",
    "lng_df = pd.concat([lng_df, days_of_week], axis=1)\n",
    "\n",
    "# Add days of week to feature names\n",
    "feature_names.extend(['weekday_' + str(i) for i in range(1, 5)])\n",
    "lng_df.dropna(inplace=True)  # drop missing values in-place\n",
    "print(lng_df.head())\n"
   ]
  },
  {
   "cell_type": "code",
   "execution_count": null,
   "metadata": {},
   "outputs": [],
   "source": [
    "days_of_week1 = pd.get_dummies(lng_df1.index.dayofweek,\n",
    "                              prefix='weekday',\n",
    "                              drop_first=True)\n",
    "\n",
    "# Set the index as the original dataframe index for merging\n",
    "days_of_week1.index = lng_df1.index\n",
    "\n",
    "# Join the dataframe with the days of week dataframe\n",
    "lng_df1 = pd.concat([lng_df1, days_of_week1], axis=1)\n",
    "\n",
    "# Add days of week to feature names\n",
    "\n",
    "lng_df1.dropna(inplace=True)  # drop missing values in-place\n",
    "print(lng_df1.head())"
   ]
  },
  {
   "cell_type": "markdown",
   "metadata": {},
   "source": [
    "`weekday_1=Tue, weekday_2=Wed, weekday_3=Thu, weekday_4=Fri` . \n",
    "\n",
    "If not Tu, We, Thu, Fr, then is Monday\n",
    "\n",
    "Good work engineering new features! Let's see how they correlate to the target.\n",
    "\n",
    "### Examine correlations of the new features\n",
    "\n",
    "Now that we have our volume and datetime features, we want to check the correlations between our new features (stored in the new_features list) and the target (`5d_close_future_pct`) to see how strongly they are related. Recall pandas has the built-in `.corr()` method for DataFrames, and `seaborn` has a nice `heatmap()` function to show the correlations.\n",
    "\n",
    "#### Instructions\n",
    "\n",
    "* Extend our new_features variable to contain the weekdays' column names, such as `weekday_1`, by concatenating the weekday number with the `'weekday_'` string.\n",
    "* Use `seaborn`'s `heatmap` to plot the correlations of `new_features` and the target, `5d_close_future_pct`."
   ]
  },
  {
   "cell_type": "code",
   "execution_count": null,
   "metadata": {},
   "outputs": [],
   "source": [
    "# Add the weekday labels to the new_features list\n",
    "new_features.extend(['weekday_' + str(i) for i in range(1, 5)])\n",
    "print(new_features)\n",
    "# Plot the correlations between the new features and the targets\n",
    "sns.heatmap(lng_df[new_features + ['5d_close_future_pct']].corr(), annot=True)\n",
    "plt.yticks(rotation=0)  # ensure y-axis ticklabels are horizontal\n",
    "plt.xticks(rotation=90)  # ensure x-axis ticklabels are vertical\n",
    "plt.tight_layout()\n",
    "plt.show()"
   ]
  },
  {
   "cell_type": "markdown",
   "metadata": {},
   "source": [
    "Even though the correlations are weak, they may improve our predictions via interactions with other features."
   ]
  },
  {
   "cell_type": "markdown",
   "metadata": {},
   "source": [
    "## Decision trees\n",
    "\n",
    "### Fit a decision tree\n",
    "\n",
    "Random forests are a go-to model for predictions; they work well out of the box. But we'll first learn the building block of random forests -- decision trees.\n",
    "\n",
    "Decision trees split the data into groups based on the features. Decision trees start with a root node, and split the data down until we reach leaf nodes.\n",
    "\n",
    "We can use `sklearn` to fit a decision tree with `DecisionTreeRegressor` and `.fit(features, targets)`.\n",
    "\n",
    "Without limiting the tree's depth (or height), it will keep splitting the data until each leaf has 1 sample in it, which is the epitome of overfitting. We'll learn more about overfitting in the coming chapters.\n",
    "\n",
    "#### Instructions\n",
    "\n",
    "* Use the imported class `DecisionTreeRegressor` with default arguments (i.e. no arguments) to create a decision tree model called `decision_tree`.\n",
    "* Fit the model using `train_features` and `train_targets` which we've created earlier (and now contain day-of-week and volume features).\n",
    "* Print the score on the training features and targets, as well as `test_features` and `test_targets`.\n"
   ]
  },
  {
   "cell_type": "code",
   "execution_count": null,
   "metadata": {},
   "outputs": [],
   "source": [
    "print(lng_df.shape)\n",
    "print(lng_df.columns)\n",
    "print(lng_df1.shape)\n",
    "print(lng_df1.columns)"
   ]
  },
  {
   "cell_type": "code",
   "execution_count": null,
   "metadata": {},
   "outputs": [],
   "source": [
    "feature_names_tree=lng_df.columns\n",
    "feature_names_tree=['5d_close_pct', 'ma14', 'rsi14', 'ma30', 'rsi30', 'ma50', 'rsi50',\n",
    "       'ma200', 'rsi200', 'Adj_Volume_1d_change', 'Adj_Volume_1d_change_SMA',\n",
    "       'weekday_1', 'weekday_2', 'weekday_3', 'weekday_4']\n",
    "lng_df_3=lng_df[feature_names_tree]\n",
    "lng_df_3.columns"
   ]
  },
  {
   "cell_type": "code",
   "execution_count": null,
   "metadata": {},
   "outputs": [],
   "source": [
    "train_size = int(0.85 * lng_df_3.shape[0])\n",
    "train_features_3=lng_df_3[0:train_size]\n",
    "print(train_features_3.shape)\n",
    "test_features_3=lng_df_3[train_size:]\n",
    "print(test_features_3.shape)\n",
    "\n",
    "# Targets\n",
    "train_targets_3 = targets[0:train_size]\n",
    "test_targets_3 = targets[train_size:]\n",
    "print(train_targets_3.shape)\n",
    "print(test_targets_3.shape)"
   ]
  },
  {
   "cell_type": "code",
   "execution_count": null,
   "metadata": {},
   "outputs": [],
   "source": [
    "from sklearn.tree import DecisionTreeRegressor\n",
    "\n",
    "# Create a decision tree regression model with default arguments\n",
    "decision_tree = DecisionTreeRegressor()\n",
    "\n",
    "# Fit the model to the training features and targets\n",
    "decision_tree.fit(train_features_3,train_targets_3)\n",
    "\n",
    "# Check the score on train and test\n",
    "print(decision_tree.score(train_features_3, train_targets_3))\n",
    "print(decision_tree.score(test_features_3,test_targets_3))"
   ]
  },
  {
   "cell_type": "markdown",
   "metadata": {},
   "source": [
    "A perfect fit! ...on the training data."
   ]
  },
  {
   "cell_type": "markdown",
   "metadata": {},
   "source": [
    "### Try different max depths\n",
    "\n",
    "We always want to optimize our machine learning models to make the best predictions possible. We can do this by **tuning hyperparameters**, which are settings for our models. \n",
    "\n",
    "We will see in more detail how these are useful in future chapters, but for now think of them as knobs we can turn to tune our predictions to be as good as possible.\n",
    "\n",
    "For regular decision trees, probably the most important hyperparameter is `max_depth`. This limits the number of splits in a decision tree. \n",
    "\n",
    "Let's find the best value of `max_depth` based on the `R2` score of our model on the test set, which we can obtain using the `score()` method of our decision tree models.\n",
    "\n",
    "#### Instructions\n",
    "\n",
    "* Loop through the values 3, 5, and 10 for use as the `max_depth` parameter in our decision tree model.\n",
    "* Set the `max_depth` parameter in our `DecisionTreeRegressor` to be equal to `d` in each loop iteration.\n",
    "* Print the model's score on the `train_features` and `train_targets`."
   ]
  },
  {
   "cell_type": "code",
   "execution_count": 78,
   "metadata": {},
   "outputs": [
    {
     "ename": "NameError",
     "evalue": "name 'DecisionTreeRegressor' is not defined",
     "output_type": "error",
     "traceback": [
      "\u001b[0;31m---------------------------------------------------------------------------\u001b[0m",
      "\u001b[0;31mNameError\u001b[0m                                 Traceback (most recent call last)",
      "\u001b[0;32m<ipython-input-78-53da8f5603a0>\u001b[0m in \u001b[0;36m<module>\u001b[0;34m\u001b[0m\n\u001b[1;32m      2\u001b[0m \u001b[0;32mfor\u001b[0m \u001b[0md\u001b[0m \u001b[0;32min\u001b[0m \u001b[0;34m[\u001b[0m\u001b[0;36m3\u001b[0m\u001b[0;34m,\u001b[0m\u001b[0;36m5\u001b[0m\u001b[0;34m,\u001b[0m\u001b[0;36m10\u001b[0m\u001b[0;34m]\u001b[0m\u001b[0;34m:\u001b[0m\u001b[0;34m\u001b[0m\u001b[0;34m\u001b[0m\u001b[0m\n\u001b[1;32m      3\u001b[0m     \u001b[0;31m# Create the tree and fit it\u001b[0m\u001b[0;34m\u001b[0m\u001b[0;34m\u001b[0m\u001b[0;34m\u001b[0m\u001b[0m\n\u001b[0;32m----> 4\u001b[0;31m     \u001b[0mdecision_tree\u001b[0m \u001b[0;34m=\u001b[0m \u001b[0mDecisionTreeRegressor\u001b[0m\u001b[0;34m(\u001b[0m\u001b[0mmax_depth\u001b[0m\u001b[0;34m=\u001b[0m\u001b[0md\u001b[0m\u001b[0;34m)\u001b[0m\u001b[0;34m\u001b[0m\u001b[0;34m\u001b[0m\u001b[0m\n\u001b[0m\u001b[1;32m      5\u001b[0m     \u001b[0mdecision_tree\u001b[0m\u001b[0;34m.\u001b[0m\u001b[0mfit\u001b[0m\u001b[0;34m(\u001b[0m\u001b[0mtrain_features_3\u001b[0m\u001b[0;34m,\u001b[0m \u001b[0mtrain_targets_3\u001b[0m\u001b[0;34m)\u001b[0m\u001b[0;34m\u001b[0m\u001b[0;34m\u001b[0m\u001b[0m\n\u001b[1;32m      6\u001b[0m \u001b[0;34m\u001b[0m\u001b[0m\n",
      "\u001b[0;31mNameError\u001b[0m: name 'DecisionTreeRegressor' is not defined"
     ]
    }
   ],
   "source": [
    "# Loop through a few different max depths and check the performance\n",
    "for d in [3,5,10]:\n",
    "    # Create the tree and fit it\n",
    "    decision_tree = DecisionTreeRegressor(max_depth=d)\n",
    "    decision_tree.fit(train_features_3, train_targets_3)\n",
    "\n",
    "    # Print out the scores on train and test\n",
    "    print('max_depth=', str(d))\n",
    "    print(decision_tree.score(train_features_3, train_targets_3))\n",
    "    print(decision_tree.score(test_features_3, test_targets_3), '\\n')"
   ]
  },
  {
   "cell_type": "markdown",
   "metadata": {},
   "source": [
    " Remember what value of max_depth got the highest test score for the next exercise!"
   ]
  },
  {
   "cell_type": "markdown",
   "metadata": {},
   "source": [
    "### Check our results\n",
    "\n",
    "Once we have an optimized model, we want to check how it is performing in more detail. We already saw the R2 score, but it can be helpful to see the predictions plotted vs actual values. We can use the `.predict()` method of our decision tree model to get predictions on the train and test sets.\n",
    "\n",
    "Ideally, we want to see diagonal lines from the lower left to the upper right. However, due to the simplicity of decisions trees, our model is not going to do well on the test set. But it will do well on the train set.\n",
    "\n",
    "#### Instructions\n",
    "\n",
    "* Create a `DecisionTreeRegressor` model called `decision_tree` using 3 for the `max_depth` hyperparameter.\n",
    "* Make predictions on the train and test sets (`train_features` and `test_features`) with our decision tree model.\n",
    "* Scatter the train and test predictions vs the actual target values with `plt.scatter()`, and set the label argument equal to test for the test set."
   ]
  },
  {
   "cell_type": "code",
   "execution_count": null,
   "metadata": {},
   "outputs": [],
   "source": [
    "# Use the best max_depth of 3 from last exercise to fit a decision tree\n",
    "decision_tree = DecisionTreeRegressor(max_depth=3)\n",
    "decision_tree.fit(train_features_3, train_targets_3)\n",
    "\n",
    "# Predict values for train and test\n",
    "train_predictions_3 = decision_tree.predict(train_features_3)\n",
    "test_predictions_3 = decision_tree.predict(test_features_3)\n",
    "\n",
    "# Scatter the predictions vs actual values\n",
    "plt.scatter(train_predictions_3, train_targets_3, label='train')\n",
    "plt.scatter(test_predictions_3, test_targets_3, label='test')\n",
    "plt.legend()\n",
    "plt.xlabel('predictions')\n",
    "plt.ylabel('targets')\n",
    "plt.show()"
   ]
  },
  {
   "cell_type": "markdown",
   "metadata": {},
   "source": [
    "The predictions group into lines because our depth is limited."
   ]
  },
  {
   "cell_type": "markdown",
   "metadata": {},
   "source": [
    "## Random forests\n",
    "\n",
    "### Fit a random forest\n",
    "\n",
    "Data scientists often use random forest models. They perform well out of the box, and have lots of settings to optimize performance. **Random forests can be used for classification or regression; we'll use it for regression** to predict the future price change of LNG.\n",
    "\n",
    "We'll create and fit the random forest model similarly to the decision trees using the `.fit(features, targets)` method. With sklearn's `RandomForestRegressor`, there's a built-in `.score()` method we can use to evaluate performance. This takes arguments `(features, targets)`, and returns the `R2` score (the coefficient of determination).\n",
    "\n",
    "#### Instructions\n",
    "\n",
    "* Create the random forest model with the imported `RandomForestRegressor` class.\n",
    "* Fit (train) the random forest using `train_features` and `train_targets`.\n",
    "* Print out the R2 score on the train and test sets."
   ]
  },
  {
   "cell_type": "code",
   "execution_count": 86,
   "metadata": {},
   "outputs": [],
   "source": [
    "from sklearn.ensemble import RandomForestRegressor"
   ]
  },
  {
   "cell_type": "code",
   "execution_count": null,
   "metadata": {},
   "outputs": [],
   "source": [
    "# Create the random forest model and fit to the training data\n",
    "rfr = RandomForestRegressor(n_estimators=200)\n",
    "rfr.fit(train_features_3, train_targets_3)\n",
    "\n",
    "# Look at the R^2 scores on train and test\n",
    "print(rfr.score(train_features_3, train_targets_3))\n",
    "print(rfr.score(test_features_3, test_targets_3))"
   ]
  },
  {
   "cell_type": "markdown",
   "metadata": {},
   "source": [
    "### Tune random forest hyperparameters\n",
    "\n",
    "As with all models, we want to optimize performance by tuning hyperparameters. \n",
    "\n",
    "We have many hyperparameters for random forests, but **the most important is often the number of features we sample at each split**, or **`max_features`** in `RandomForestRegressor` from the `sklearn` library. \n",
    "\n",
    "For models like random forests that have randomness built-in, we also want to set the `random_state`. This is set for our results to be reproducible.\n",
    "\n",
    "Usually, we can use sklearn's `GridSearchCV()` method to search hyperparameters, but with a financial time series, we don't want to do cross-validation due to data mixing. \n",
    "\n",
    "We want to fit our models on the oldest data and evaluate on the newest data. So we'll use sklearn's `ParameterGrid` to create combinations of hyperparameters to search.\n",
    "\n",
    "#### Instructions\n",
    "\n",
    "* Set the `n_estimators` hyperparameter to be a list with one value (200) in the grid dictionary.\n",
    "* Set the `max_features` hyperparameter to be a list containing `4` and `8` in the grid dictionary.\n",
    "* Fit the random forest regressor model (`rfr`, already created for you) to the `train_features` and `train_targets` with each combination of hyperparameters, g, in the loop.\n",
    "* Calculate `R2` by using `rfr.score()` on test_features and append the result to the `test_scores` list."
   ]
  },
  {
   "cell_type": "code",
   "execution_count": null,
   "metadata": {},
   "outputs": [],
   "source": [
    "from sklearn.model_selection import ParameterGrid"
   ]
  },
  {
   "cell_type": "code",
   "execution_count": null,
   "metadata": {},
   "outputs": [],
   "source": [
    "#Instantiate RandomForestRegressor\n",
    "rfr = RandomForestRegressor()\n",
    "\n",
    "# Create a dictionary of hyperparameters to search\n",
    "grid = {'n_estimators':[200], 'max_depth': [3], 'max_features': [4,6,8], 'random_state': [42]}\n",
    "test_scores = []\n",
    "\n",
    "# Loop through the parameter grid, set the hyperparameters, and save the scores\n",
    "for g in ParameterGrid(grid):\n",
    "    rfr.set_params(**g)  # ** is \"unpacking\" the dictionary\n",
    "    rfr.fit(train_features_3, train_targets_3)\n",
    "    test_scores.append(rfr.score(test_features_3, test_targets_3))\n",
    "\n",
    "# Find best hyperparameters from the test score and print\n",
    "best_idx = np.argmax(test_scores)\n",
    "print(test_scores[best_idx], ParameterGrid(grid)[best_idx])"
   ]
  },
  {
   "cell_type": "markdown",
   "metadata": {},
   "source": [
    " Our test score (R^2) isn't great, but it's > 0!"
   ]
  },
  {
   "cell_type": "markdown",
   "metadata": {},
   "source": [
    "### Evaluate performance\n",
    "\n",
    "Lastly, and as always, we want to evaluate performance of our best model to check how well or poorly we are doing. Ideally it's best to do back-testing, but that's an involved process we don't have room to cover in this course.\n",
    "\n",
    "We've already seen the R2 scores, but let's take a look at the scatter plot of predictions vs actual results using matplotlib. Perfect predictions would be a diagonal line from the lower left to the upper right.\n",
    "\n",
    "#### Instructions\n",
    "\n",
    "* Use the best number for `max_features` in our `RandomForestRegressor` (`rfr`) that we found in the previous exercise (it was `4`).\n",
    "* Make predictions using the model with the `train_features` and `test_features`.\n",
    "* Scatter actual targets (train/test_targets) vs the predictions (train/test_predictions), and label the datasets train and test."
   ]
  },
  {
   "cell_type": "code",
   "execution_count": null,
   "metadata": {},
   "outputs": [],
   "source": [
    "# Use the best hyperparameters from before to fit a random forest model\n",
    "rfr = RandomForestRegressor(n_estimators=200, max_depth=3, max_features=4, random_state=42)\n",
    "rfr.fit(train_features_3, train_targets_3)\n",
    "\n",
    "# Make predictions with our model\n",
    "train_predictions_3 = rfr.predict(train_features_3)\n",
    "test_predictions_3 = rfr.predict(test_features_3)\n",
    "\n",
    "# Create a scatter plot with train and test actual vs predictions\n",
    "plt.scatter(train_predictions_3, train_targets_3, label='train')\n",
    "plt.scatter(test_predictions_3,test_targets_3,label='test')\n",
    "#plt.xlim(-0.075, 0.1)\n",
    "plt.legend()\n",
    "plt.xlabel('predictions')\n",
    "plt.ylabel('targets')\n",
    "plt.show()"
   ]
  },
  {
   "cell_type": "markdown",
   "metadata": {},
   "source": [
    "## Feature importances and gradient boosting\n",
    "\n",
    "### Random forest feature importances\n",
    "\n",
    "One useful aspect of tree-based methods is the ability to extract feature importances. This is a quantitative way to measure how much each feature contributes to our predictions. It can help us focus on our best features, possibly enhancing or tuning them, and can also help us get rid of useless features that may be cluttering up our model.\n",
    "\n",
    "Tree models in `sklearn` have a `.feature_importances_ property` that's accessible after fitting the model. This stores the feature importance scores. We need to get the indices of the sorted feature importances using `np.argsort()` in order to make a nice-looking bar plot of feature importances (sorted from greatest to least importance).\n",
    "\n",
    "#### Instructions\n",
    "\n",
    "* Use the `feature_importances_` property of our random forest model (`rfr`) to extract feature importances into the importances variable.\n",
    "* Use numpy's `argsort` to get indices of the feature importances from greatest to least, and save the sorted indices in the sorted_index variable.\n",
    "* Set `xtick` labels to be feature names in the `labels` variable, using the `sorted_index `list. `feature_names` must be converted to a numpy array so we can index it with the `sorted_index` list."
   ]
  },
  {
   "cell_type": "code",
   "execution_count": null,
   "metadata": {
    "scrolled": true
   },
   "outputs": [],
   "source": [
    "# Get feature importances from our random forest model\n",
    "importances = rfr.feature_importances_\n",
    "\n",
    "# Get the index of importances from greatest importance to least\n",
    "sorted_index = np.argsort(importances)[::-1]\n",
    "x = range(len(importances))\n",
    "\n",
    "# Create tick labels \n",
    "labels = np.array(feature_names)[sorted_index]\n",
    "plt.bar(x, importances[sorted_index], tick_label=labels)\n",
    "\n",
    "# Rotate tick labels to vertical\n",
    "plt.xticks(rotation=90)\n",
    "plt.show()"
   ]
  },
  {
   "cell_type": "markdown",
   "metadata": {},
   "source": [
    "Unsurprisingly, it looks like the days of the week should be thrown out."
   ]
  },
  {
   "cell_type": "markdown",
   "metadata": {},
   "source": [
    "### A gradient boosting model\n",
    "\n",
    "Now we'll fit a **gradient boosting (GB) model**. It's been said (http://blog.kaggle.com/2017/01/23/a-kaggle-master-explains-gradient-boosting/)a linear model is like a Toyota Camry, and GB is like a Black Hawk helicopter. GB has potential to outperform random forests, but doesn't always do so. This is called the **no free lunch theorem** (https://en.wikipedia.org/wiki/No_free_lunch_theorem), meaning we should always try lots of different models for each problem.\n",
    "\n",
    "**GB is similar to random forest models, but the difference is that trees are built successively**. With each iteration, the next tree fits the residual errors from the previous tree in order to improve the fit.\n",
    "\n",
    "For now we won't search our hyperparameters -- they've been searched for you.\n",
    "\n",
    "#### Instructions\n",
    "\n",
    "* Create a `GradientBoostingRegressor` object with the hyperparameters that have already been set for you.\n",
    "* Fit the `gbr` model to the `train_features` and `train_targets`.\n",
    "* Print the scores for the `training` and `test` `features` and `targets`."
   ]
  },
  {
   "cell_type": "code",
   "execution_count": null,
   "metadata": {},
   "outputs": [],
   "source": [
    "from sklearn.ensemble import GradientBoostingRegressor\n",
    "\n",
    "# Create GB model -- hyperparameters have already been searched for you\n",
    "gbr = GradientBoostingRegressor(max_features=4,\n",
    "                                learning_rate=0.01,\n",
    "                                n_estimators=200,\n",
    "                                subsample=0.6,\n",
    "                                random_state=42)\n",
    "gbr.fit(train_features_3,train_targets_3)\n",
    "\n",
    "print(gbr.score(train_features_3, train_targets_3))\n",
    "print(gbr.score(test_features_3, test_targets_3))"
   ]
  },
  {
   "cell_type": "markdown",
   "metadata": {},
   "source": [
    " In this case the gradient boosting model isn't that much better than a random forest, but you know what they say -- no free lunch!"
   ]
  },
  {
   "cell_type": "markdown",
   "metadata": {},
   "source": [
    "### Gradient boosting feature importances\n",
    "\n",
    "As with random forests, we can extract feature importances from gradient boosting models to understand which features are the best predictors. Sometimes it's nice to try different tree-based models and look at the feature importances from all of them. This can help average out any peculiarities that may arise from one particular model.\n",
    "\n",
    "The feature importances are stored as a numpy array in the `.feature_importances_` property of the gradient boosting model. We'll need to get the sorted indices of the feature importances, using `np.argsort()`, in order to make a nice plot. We want the features from largest to smallest, so we will use Python's indexing to reverse the sorted importances like `feat_importances[::-1]`.\n",
    "\n",
    "#### Instructions\n",
    "\n",
    "* Reverse the `sorted_index` variable to go from greatest to least using python indexing.\n",
    "* Create the sorted feature `labels` list as labels by converting `feature_names` to a numpy array and indexing with `sorted_index`.\n",
    "* Create a bar plot of the `xticks`, and `feature_importances` indexed with the `sorted_index` variable, and `labels` as the xtick labels."
   ]
  },
  {
   "cell_type": "code",
   "execution_count": null,
   "metadata": {},
   "outputs": [],
   "source": [
    "# Extract feature importances from the fitted gradient boosting model\n",
    "feature_importances = gbr.feature_importances_\n",
    "# Get the indices of the largest to smallest feature importances\n",
    "sorted_index = np.argsort(feature_importances)[::-1]\n",
    "x = range(train_features_3.shape[1])\n",
    "\n",
    "print(feature_importances)\n",
    "print(sorted_index)\n",
    "print(train_features_3.shape[1])"
   ]
  },
  {
   "cell_type": "code",
   "execution_count": null,
   "metadata": {},
   "outputs": [],
   "source": [
    "# Create tick labels \n",
    "labels = np.array(feature_names)[sorted_index]\n",
    "\n",
    "plt.bar(x, feature_importances[sorted_index], tick_label=labels)\n",
    "\n",
    "# Set the tick lables to be the feature names, according to the sorted feature_idx\n",
    "plt.xticks(rotation=90)\n",
    "plt.show()"
   ]
  },
  {
   "cell_type": "markdown",
   "metadata": {},
   "source": [
    "# Chap 3: Neural networks and KNN\n",
    "\n",
    "We will learn how to normalize and scale data for use in KNN and neural network methods. Then we will learn how to use KNN and neural network regression to predict the future values of a stock's price (or any other regression problem).\n",
    "\n",
    "\n",
    "* **Scaling data and KNN Regression**\n",
    "\n",
    "* Standardizing data\n",
    "\n",
    "* Optimize n_neighbors\n",
    "\n",
    "* Evaluate KNN performance\n",
    "\n",
    "* **Neural Networks**\n",
    "\n",
    "* Build and fit a simple neural net\n",
    "\n",
    "* Plot losses\n",
    "\n",
    "* Measure performance\n",
    "\n",
    "* **Custom loss functions**\n",
    "\n",
    "* Custom loss function\n",
    "\n",
    "* Fit neural net with custom loss function\n",
    "\n",
    "* Visualize the results\n",
    "\n",
    "* **Overfitting and ensembling**\n",
    "\n",
    "* Combatting overfitting with dropout\n",
    "\n",
    "* Ensembling models\n",
    "\n",
    "* See how the ensemble performed\n",
    "\n",
    "\n",
    "## Scaling data and KNN Regression\n"
   ]
  },
  {
   "cell_type": "markdown",
   "metadata": {},
   "source": [
    "### Standardizing data\n",
    "\n",
    "Some models, like K-nearest neighbors (KNN) & neural networks, work better with scaled data -- so we'll standardize our data.\n",
    "\n",
    "We'll also remove unimportant variables (day of week), according to feature importances, by indexing the features DataFrames with `.iloc[]`. KNN uses distances to find similar points for predictions, so big features outweigh small ones. Scaling data fixes that.\n",
    "\n",
    "sklearn's `scale()` will **standardize data**, which sets the **mean to 0** and **standard deviation to 1**. Ideally we'd want to use `StandardScaler` with `fit_transform()` on the training data, and `fit()` on the test data, but we are limited to 15 lines of code here.\n",
    "\n",
    "Once we've scaled the data, we'll check that it worked by plotting histograms of the data.\n",
    "\n",
    "#### Instructions\n",
    "\n",
    "* Remove day of week features from train/test features using `.iloc` (day of week are the last 4 features).\n",
    "* Standardize `train_features_3` and `test_features_3` using sklearn's `scale()`; store scaled features as `scaled_train_features` and `scaled_test_features`.\n",
    "* Plot a histogram of the 14-day RSI moving average (indexed at `[:, 2]`) from unscaled `train_features` on the first subplot (`ax[0]`).\n",
    "* Plot a histogram of the standardized 14-day RSI moving average on the second subplot (`ax[1]`)."
   ]
  },
  {
   "cell_type": "code",
   "execution_count": null,
   "metadata": {},
   "outputs": [],
   "source": [
    "from sklearn.preprocessing import scale\n",
    "\n",
    "# Remove unimportant features (weekdays)\n",
    "train_features_3 = train_features_3.iloc[:, :-4]\n",
    "test_features_3= test_features_3.iloc[:,:-4]\n",
    "\n",
    "# Standardize the train and test features\n",
    "scaled_train_features = scale(train_features_3)\n",
    "scaled_test_features = scale(test_features_3)\n",
    "\n",
    "# Plot histograms of the 14-day SMA RSI before and after scaling\n",
    "f, ax = plt.subplots(nrows=2, ncols=1)\n",
    "train_features.iloc[:, 2].hist(ax=ax[0])\n",
    "ax[1].hist(scaled_train_features[:, 2])\n",
    "plt.show()"
   ]
  },
  {
   "cell_type": "markdown",
   "metadata": {},
   "source": [
    "Next we're going to optimize n_neighbors for improved performance."
   ]
  },
  {
   "cell_type": "markdown",
   "metadata": {},
   "source": [
    "### Optimize n_neighbors\n",
    "\n",
    "Now that we have scaled data, we can try using a **KNN model**. To maximize performance, we should tune our model's hyperparameters. For the **k-nearest neighbors algorithm**, we only have **one hyperparameter: n**, the number of neighbors. We set this hyperparameter when we create the model with `KNeighborsRegressor`. The argument for the number of neighbors is `n_neighbors`.\n",
    "\n",
    "We want to try a range of values that passes through the setting with the best performance. Usually we will start with 2 neighbors, and increase until our scoring metric starts to decrease. We'll use the `R2` value from the `.score()` method on the test set (`scaled_test_features` and `test_targets`) to optimize `n` here. We'll use the test set scores to determine the best `n`.\n",
    "\n",
    "#### Instructions\n",
    "\n",
    "* Loop through values of 2 to 12 for `n` and set this as `n_neighbors` in the knn model.\n",
    "* Fit the model to the training data (`scaled_train_features` and `train_targets`).\n",
    "* Print out the `R2` values using the `.score()` method of the knn model for the train and test sets, and take note of the best score on the test set."
   ]
  },
  {
   "cell_type": "code",
   "execution_count": null,
   "metadata": {},
   "outputs": [],
   "source": [
    "from sklearn.neighbors import KNeighborsRegressor\n",
    "\n",
    "for n in range(2,13):\n",
    "    # Create and fit the KNN model\n",
    "    knn = KNeighborsRegressor(n_neighbors=n)\n",
    "    \n",
    "    # Fit the model to the training data\n",
    "    knn.fit(scaled_train_features, train_targets)\n",
    "    \n",
    "    # Print number of neighbors and the score to find the best value of n\n",
    "    print(\"n_neighbors =\", n)\n",
    "    print('train, test scores')\n",
    "    print(knn.score(scaled_train_features, train_targets))\n",
    "    print(knn.score(scaled_test_features,test_targets))\n",
    "    print()  # prints a blank line"
   ]
  },
  {
   "cell_type": "markdown",
   "metadata": {},
   "source": [
    "See how 5 is the best number of neighbors based on the test scores."
   ]
  },
  {
   "cell_type": "markdown",
   "metadata": {},
   "source": [
    "### Evaluate KNN performance\n",
    "\n",
    "We just saw a few things with our KNN scores. \n",
    "* For one, the training scores started high and decreased with increasing n, which is typical. \n",
    "* The test set performance reached a peak at 5 though, and we will use that as our setting in the final KNN model.\n",
    "\n",
    "As we have done a few times now, we will check our performance visually. This helps us see how well the model is predicting on different regions of actual values. We will get predictions from our knn model using the `.predict()` method on our scaled features. Then we'll use matplotlib's `plt.scatter()` to create a scatter plot of actual versus predicted values.\n",
    "\n",
    "#### Instructions\n",
    "\n",
    "* Set `n_neighbors` in the `KNeighborsRegressor` to the best-performing value of 5 (found in the previous exercise).\n",
    "* Obtain predictions using the knn model from the `scaled_train_features` and `scaled_test_features`.\n",
    "* Create a scatter plot of the `test_targets` versus the `test_predictions` and label it test.\n"
   ]
  },
  {
   "cell_type": "code",
   "execution_count": null,
   "metadata": {},
   "outputs": [],
   "source": [
    "# Create the model with the best-performing n_neighbors of 5\n",
    "knn = KNeighborsRegressor(n_neighbors=5)\n",
    "\n",
    "# Fit the model\n",
    "knn.fit(scaled_train_features, train_targets)\n",
    "\n",
    "# Get predictions for train and test sets\n",
    "train_predictions_knn = knn.predict(scaled_train_features)\n",
    "test_predictions_knn = knn.predict(scaled_test_features)\n",
    "\n",
    "# Plot the actual vs predicted values\n",
    "plt.scatter(train_predictions_knn, train_targets, label='train')\n",
    "plt.scatter(test_predictions_knn, test_targets, label='test')\n",
    "plt.xlabel('predictions')\n",
    "plt.ylabel('targets')\n",
    "plt.legend()\n",
    "plt.show()"
   ]
  },
  {
   "cell_type": "markdown",
   "metadata": {},
   "source": [
    "the model is doing OK!"
   ]
  },
  {
   "cell_type": "markdown",
   "metadata": {},
   "source": [
    "## Neural Networks\n",
    "\n",
    "Neural networks have potential\n",
    "\n",
    "Neural nets have:\n",
    "\n",
    "* non-linearity\n",
    "* variable interactions\n",
    "* customizability\n",
    "\n",
    "Use Keras library with the TensorFlow back-end to implement Neural networks\n",
    "Keras is a high-level API that allows us to design neuraö nets with minimal code but allows a lot of customization\n",
    "\n",
    "In Keras we can use the sequential or functionanal API.\n",
    "We'll use the sequential now because it's simpler.\n",
    "\n",
    "### Build and fit a simple neural net\n",
    "\n",
    "The next model we will learn how to use is a neural network. Neural nets can capture complex interactions between variables, but are difficult to set up and understand. Recently, they have been beating human experts in many fields, including image recognition and gaming (check out AlphaGo) -- so they have great potential to perform well.\n",
    "\n",
    "To build our nets we'll use the **keras library**. This is a high-level API that allows us to quickly make neural nets, yet still exercise a lot of control over the design. \n",
    "\n",
    "The first thing we'll do is create almost the simplest net possible -- a 3-layer net that takes our inputs and predicts a single value. Much like the sklearn models, keras models have a `.fit()` method that takes arguments of (features, targets).\n",
    "\n",
    "#### Instructions\n",
    "\n",
    "* Create a dense layer with 20 nodes and the ReLU (`'relu'`) activation as the 2nd layer in the neural network.\n",
    "* Create the last dense layer with 1 node and a linear activation (activation=`'linear'`).\n",
    "* Fit the model to the `scaled_train_features` and `train_targets`."
   ]
  },
  {
   "cell_type": "code",
   "execution_count": null,
   "metadata": {},
   "outputs": [],
   "source": [
    "from keras.models import Sequential\n",
    "from keras.layers import Dense\n",
    "\n",
    "# Create the model\n",
    "model_1 = Sequential()\n",
    "model_1.add(Dense(100, input_dim=scaled_train_features.shape[1], activation='relu'))\n",
    "model_1.add(Dense(20, activation='relu'))\n",
    "model_1.add(Dense(1, activation='linear'))\n",
    "\n",
    "# Fit the model\n",
    "model_1.compile(optimizer='adam', loss='mse')\n",
    "history = model_1.fit(scaled_train_features, train_targets, epochs=25)"
   ]
  },
  {
   "cell_type": "markdown",
   "metadata": {},
   "source": [
    "Now we need to check that our training loss has flattened out and the net is sufficiently trained.\n",
    "\n",
    "### Plot losses\n",
    "\n",
    "Once we've fit a model, we usually check the training loss curve to make sure it's flattened out. The history returned from model `.fit()` is a dictionary that has an entry, `'loss'`, which is the training loss. We want to ensure this has more or less flattened out at the end of our training.\n",
    "\n",
    "#### Instructions\n",
    "\n",
    "* Plot the losses (`'loss'`) from `history.history`.\n",
    "* Set the title of the plot as the last loss from `history.history`, and round it to 6 digits."
   ]
  },
  {
   "cell_type": "code",
   "execution_count": null,
   "metadata": {},
   "outputs": [],
   "source": [
    "# Plot the losses from the fit\n",
    "plt.plot(history.history['loss'])\n",
    "\n",
    "# Use the last loss as the title\n",
    "plt.title('loss:' + str(round(history.history['loss'][-1], 6)))\n",
    "plt.show()"
   ]
  },
  {
   "cell_type": "markdown",
   "metadata": {},
   "source": [
    "### Measure performance\n",
    "\n",
    "Now that we've fit our neural net, let's check performance to see how well our model is predicting new values. **There's not a built-in `.score()` method** like with sklearn models, so we'll use the `r2_score()` function from `sklearn.metrics`. This calculates the R2 score given arguments (`y_true`, `y_predicted`). We'll also plot our predictions versus actual values again. This will yield some interesting results soon (once we implement our own custom loss function).\n",
    "\n",
    "#### Instructions\n",
    "\n",
    "* Obtain predictions from `model_1` on the scaled test set data (`scaled_test_features` and `test_targets`).\n",
    "* Print the *R2 score* on the test set (`test_targets` and `test_preds`).\n",
    "* Plot the `test_preds` versus `test_targets` in a scatter plot with `plt.scatter()`."
   ]
  },
  {
   "cell_type": "code",
   "execution_count": null,
   "metadata": {},
   "outputs": [],
   "source": [
    "from sklearn.metrics import r2_score\n",
    "\n",
    "# Calculate R^2 score\n",
    "train_preds = model_1.predict(scaled_train_features)\n",
    "test_preds = model_1.predict(scaled_test_features)\n",
    "print(r2_score(train_targets, train_preds))\n",
    "print(r2_score(test_targets, test_preds))\n",
    "\n",
    "# Plot predictions vs actual\n",
    "plt.scatter(train_preds, train_targets, label='train')\n",
    "plt.scatter(test_preds,test_targets, label='test')\n",
    "plt.xlabel='predictions'\n",
    "plt.ylabel='targets'\n",
    "plt.legend()\n",
    "plt.show()"
   ]
  },
  {
   "cell_type": "markdown",
   "metadata": {},
   "source": [
    " It doesn't look too much different from our other models at this point."
   ]
  },
  {
   "cell_type": "markdown",
   "metadata": {},
   "source": [
    "## Custom loss functions\n",
    "\n",
    "When we create models, we ay have certains requirements\n",
    "Custom loss function can help guide our neural nets towards meeting those needs\n",
    "Direction is mportant for stock price change prediction\n",
    "\n",
    "One way to guide our neural net to predict correct directionality is to apply penalty to incorrect prediciton direction\n",
    "\n",
    "MSE with directional penalty\n",
    "\n",
    "If prediction and target direction match:\n",
    "Sum(y-^y)^2\n",
    "If not\n",
    "Sum(y-^y)^2`*`penalty\n",
    "\n",
    "To be able to import our own custom loss we need the backend tensorflow. There are other bckends like Theano\n",
    "Next, we create the actual loss function as a Python function\n",
    "\n",
    "### Custom loss function\n",
    "\n",
    "Up to now, we've used the **mean squared error as a loss function**. This works fine, but with stock price prediction it can be **useful to implement a custom loss function**. A custom loss function can help improve our model's performance in specific ways we choose. For example, **we're going to create a custom loss function with a large penalty for predicting price movements in the wrong direction**. This will help our net learn to at least predict price movements in the correct direction.\n",
    "\n",
    "To do this, we need to write a function that takes arguments of (`y_true, y_predicted`). We'll also use functionality from the `backend keras` (using `tensorflow`) to find cases where the true value and prediction don't match signs, then penalize those cases.\n",
    "\n",
    "#### Instructions\n",
    "\n",
    "* Set the arguments of the `sign_penalty()` function to be `y_true` and `y_pred`.\n",
    "* Multiply the squared error (`tf.square(y_true - y_pred)`) by `penalty` when the signs of `y_true` and `y_pred` are different.\n",
    "* Return the average of the loss variable from the function -- this is the mean squared error (with our penalty for opposite signs of actual vs predictions)."
   ]
  },
  {
   "cell_type": "markdown",
   "metadata": {},
   "source": [
    "`tf.math.less(\n",
    "    x,\n",
    "    y,\n",
    "    name=None\n",
    ")`\n",
    "\n",
    "\n",
    "Returns the truth value of (x < y) element-wise.\n",
    "\n",
    "`y_pred=1; y_true=-1`\n",
    "`tf.less(y_pred*y_true,0)` en este caso dara **`True`** porque el producto sera -1>0 \n",
    "=> **True**"
   ]
  },
  {
   "cell_type": "code",
   "execution_count": null,
   "metadata": {},
   "outputs": [],
   "source": [
    "import keras.losses\n",
    "import tensorflow as tf\n",
    "\n",
    "# Create loss function\n",
    "def sign_penalty(y_true, y_pred):\n",
    "    penalty = 100.\n",
    "    loss = tf.where(tf.less(y_true * y_pred, 0), \\\n",
    "                     penalty* tf.square(y_true - y_pred), \\\n",
    "                     tf.square(y_true - y_pred))\n",
    "\n",
    "    return tf.reduce_mean(loss, axis=-1)\n",
    "\n",
    "keras.losses.sign_penalty = sign_penalty  # enable use of loss with keras\n",
    "print(keras.losses.sign_penalty)"
   ]
  },
  {
   "cell_type": "markdown",
   "metadata": {},
   "source": [
    "### Fit neural net with custom loss function\n",
    "\n",
    "Now we'll use the custom loss function we just created. This will enable us to alter the model's behavior in useful ways particular to our problem -- it's going to try to force the model to learn how to at least predict price movement direction correctly. All we need to do now is set the loss argument in our `.compile()` function to our function name, **`sign_penalty`**. We'll examine the training loss again to make sure it's flattened out.\n",
    "\n",
    "#### Instructions\n",
    "\n",
    "* Set the `input_dim` of the first neural network layer to be the number of columns of `scaled_train_features` with the `.shape[1]` property.\n",
    "* Use the custom `sign_penalty` loss function to `.compile()` our `model_2`.\n",
    "* Plot the `loss` from the `history` of the fit. The `loss` is under `history.history['loss']`."
   ]
  },
  {
   "cell_type": "code",
   "execution_count": null,
   "metadata": {},
   "outputs": [],
   "source": [
    "# Create the model\n",
    "model_2 = Sequential()\n",
    "model_2.add(Dense(100, input_dim=scaled_train_features.shape[1], activation='relu'))\n",
    "model_2.add(Dense(20, activation='relu'))\n",
    "model_2.add(Dense(1, activation='linear'))\n",
    "\n",
    "# Fit the model with our custom 'sign_penalty' loss function\n",
    "model_2.compile(optimizer='adam', loss=sign_penalty)\n",
    "history = model_2.fit(scaled_train_features, train_targets, epochs=25)\n",
    "plt.plot(history.history['loss'])\n",
    "plt.title('loss:' + str(round(history.history['loss'][-1], 6)))\n",
    "plt.show()"
   ]
  },
  {
   "cell_type": "markdown",
   "metadata": {},
   "source": [
    "### Visualize the results\n",
    "\n",
    "We've fit our model with the custom loss function, and it's time to see how it is performing. We'll check the `R2 values` again with sklearn's `r2_score()` function, and we'll create a scatter plot of predictions versus actual values with `plt.scatter()`. This will yield some interesting results!\n",
    "\n",
    "#### Instructions\n",
    "\n",
    "* Create predictions on the test set with `.predict()`, `model_2`, and `scaled_test_features`.\n",
    "* Evaluate the R2 score on the test set predictions using `test_preds` and `test_targets`.\n",
    "* Plot the test set targets vs actual values with `plt.scatter()`, and label it `'test'`.\n"
   ]
  },
  {
   "cell_type": "code",
   "execution_count": null,
   "metadata": {},
   "outputs": [],
   "source": [
    "# Evaluate R^2 scores\n",
    "train_preds = model_2.predict(scaled_train_features)\n",
    "test_preds = model_2.predict(scaled_test_features)\n",
    "print(r2_score(train_targets, train_preds))\n",
    "print(r2_score(test_targets, test_preds))\n",
    "\n",
    "# Scatter the predictions vs actual -- this one is interesting!\n",
    "plt.scatter(train_preds, train_targets, label='train')\n",
    "plt.scatter(test_preds, test_targets, label='test')  # plot test set\n",
    "#plt.xlabel('predictions')\n",
    "#plt.ylabel('targets')\n",
    "plt.legend()\n",
    "plt.show()"
   ]
  },
  {
   "cell_type": "markdown",
   "metadata": {},
   "source": [
    "Notice how the train set actual vs predictions shape has changed to be a bow-tie."
   ]
  },
  {
   "cell_type": "markdown",
   "metadata": {},
   "source": [
    "## Overfitting and ensembling\n",
    "\n",
    "Neural network options\n",
    "\n",
    "**Options to combat overfitting**:\n",
    "\n",
    "* Decrease number of nodes\n",
    "* Use L1/L2 regulariation\n",
    "* Dropout\n",
    "* Autoencoder architecture\n",
    "* Early stopping\n",
    "* Adding noise to data\n",
    "* Max norm constraints\n",
    "* Ensembling\n",
    "\n",
    "### Combatting overfitting with dropout\n",
    "\n",
    "A common problem with neural networks is they tend to overfit to training data. What this means is the scoring metric, like R2 or accuracy, is high for the training set, but low for testing and validation sets, and the model is fitting to noise in the training data.\n",
    "\n",
    "We can work towards preventing overfitting by using **dropout**. This randomly drops some neurons during the training phase, which helps prevent the net from fitting noise in the training data. keras has a `Dropout` layer that we can use to accomplish this. We need to set the **dropout rate**, or fraction of connections dropped during training time. This is set as a **decimal between 0 and 1** in the `Dropout()` layer.\n",
    "\n",
    "We're going to go back to the mean squared error loss function for this model.\n",
    "\n",
    "#### Instructions\n",
    "\n",
    "* Add a dropout layer (`Dropout()`) after the first `Dense` layer in the model, and use 20% (0.2) as the dropout rate.\n",
    "* Use the `adam` optimizer and the `mse` loss function when compiling the model in `.compile()`.\n",
    "* Fit the model to the `scaled_train_features` and `train_targets` using 25 `epochs`.\n"
   ]
  },
  {
   "cell_type": "code",
   "execution_count": null,
   "metadata": {},
   "outputs": [],
   "source": [
    "from keras.layers import Dropout\n",
    "\n",
    "# Create model with dropout\n",
    "model_3 = Sequential()\n",
    "model_3.add(Dense(100, input_dim=scaled_train_features.shape[1], activation='relu'))\n",
    "model_3.add(Dropout(0.2))\n",
    "model_3.add(Dense(20, activation='relu'))\n",
    "model_3.add(Dense(1, activation='linear'))\n",
    "\n",
    "# Fit model with mean squared error loss function\n",
    "model_3.compile(optimizer='adam', loss='mse')\n",
    "history = model_3.fit(scaled_train_features, train_targets, epochs= 25)\n",
    "plt.plot(history.history['loss'])\n",
    "plt.title('loss:' + str(round(history.history['loss'][-1], 6)))\n",
    "plt.show()"
   ]
  },
  {
   "cell_type": "markdown",
   "metadata": {},
   "source": [
    "### Ensembling models\n",
    "\n",
    "One approach to improve predictions from machine learning models is **ensembling**. A **basic approach is to average the predictions from multiple models**. A more complex approach is to feed predictions of models into another model, which makes final predictions. Both approaches usually improve our overall performance (as long as our individual models are good). If you remember, **random forests are also using ensembling of many decision trees**.\n",
    "\n",
    "To ensemble our neural net predictions, we'll make predictions with the 3 models we just created -- the basic model, the model with the custom loss function, and the model with dropout. Then we'll combine the predictions with numpy's `.hstack()` function, and average them across rows with `np.mean(predictions, axis=1)`.\n",
    "\n",
    "#### Instructions\n",
    "\n",
    "* Create predictions on the `scaled_train_features` and `scaled_test_features` for the 3 models we fit (`model_1`, `model_2`, `model_3`) using the `.predict()` method.\n",
    "* Horizontally stack (`np.hstack(`) the predictions into a matrix, and take the row-wise averages to get average predictions for the train and test sets.\n"
   ]
  },
  {
   "cell_type": "code",
   "execution_count": null,
   "metadata": {},
   "outputs": [],
   "source": [
    "# Make predictions from the 3 neural net models\n",
    "train_pred1 = model_1.predict(scaled_train_features)\n",
    "test_pred1 = model_1.predict(scaled_test_features)\n",
    "\n",
    "train_pred2 = model_2.predict(scaled_train_features)\n",
    "test_pred2 =model_2.predict(scaled_test_features)\n",
    "\n",
    "train_pred3 = model_3.predict(scaled_train_features)\n",
    "test_pred3 = model_3.predict(scaled_test_features)\n",
    "\n",
    "# Horizontally stack predictions and take the average across rows\n",
    "train_preds = np.mean(np.hstack((train_pred1, train_pred2, train_pred3)), axis=1)\n",
    "test_preds = np.mean(np.hstack((test_pred1, test_pred2, test_pred3)), axis=1)\n",
    "print(test_preds[-5:])"
   ]
  },
  {
   "cell_type": "markdown",
   "metadata": {},
   "source": [
    "### See how the ensemble performed\n",
    "\n",
    "Let's check performance of our ensembled model to see how it's doing. We should see roughly an average of the R2 scores, as well as a scatter plot that is a mix of our previous models' predictions. The bow-tie shape from the custom loss function model should still be a bit visible, but the edges near x=0 should be softer.\n",
    "\n",
    "#### Instructions\n",
    "\n",
    "* Evaluate the R2 scores on the train and test sets. Use the sklearn `r2_score()` function (already imported for you) with `train_targets` and `train_preds` from the previous exercise.\n",
    "*Plot the train and test predictions versus the actual values with `plt.scatter()`."
   ]
  },
  {
   "cell_type": "code",
   "execution_count": null,
   "metadata": {},
   "outputs": [],
   "source": [
    "from sklearn.metrics import r2_score\n",
    "\n",
    "# Evaluate the R^2 scores\n",
    "print(r2_score(train_targets, train_preds))\n",
    "print(r2_score(test_targets, test_preds))\n",
    "\n",
    "# Scatter the predictions vs actual -- this one is interesting!\n",
    "plt.scatter(train_preds, train_targets, label='train')\n",
    "plt.scatter(test_preds, test_targets, label='test')\n",
    "plt.legend(); plt.show()"
   ]
  },
  {
   "cell_type": "markdown",
   "metadata": {},
   "source": [
    "# Chap 4: Machine learning with modern portfolio theory\n",
    "\n",
    "In this chapter, you'll learn how to use modern portfolio theory (MPT) and the Sharpe ratio to plot and find optimal stock portfolios. You'll also use machine learning to predict the best portfolios. Finally, you'll evaluate performance of the ML-predicted portfolios.\n",
    "\n",
    "olios.\n",
    "\n",
    "* **Modern portfolio theory (MPT); efficient frontiers**\n",
    "\n",
    "* Join stock DataFrames and calculate returns\n",
    "\n",
    "* Calculate covariances for volatility\n",
    "\n",
    "* Calculate portfolios\n",
    "\n",
    "* Plot efficient frontier\n",
    "\n",
    "* **Sharpe ratios; features and targets**\n",
    "\n",
    "* Get best Sharpe ratios\n",
    "\n",
    "* Calculate EWMAs\n",
    "\n",
    "* Make features and targets\n",
    "\n",
    "* Plot efficient frontier with best Sharpe ratio\n",
    "\n",
    "* **Machine learning for MPT**\n",
    "\n",
    "* Make predictions with a random forest\n",
    "\n",
    "* Get predictions and first evaluation\n",
    "\n",
    "* Evaluate returns\n",
    "\n",
    "* Plot returns\n",
    "\n",
    "* Closing remarks and advice\n",
    "\n",
    "## Modern portfolio theory (MPT); efficient frontiers\n",
    "\n",
    "* Joining data: concat()\n",
    "\n",
    "* Calculating **Returns**\n",
    "\n",
    "* Volatility \n",
    "\n",
    "* BMS\n",
    "\n",
    "* Covariance\n",
    "* Dayly returns\n",
    "\n",
    "* Efficient Frontier\n",
    "\n",
    "### Join stock DataFrames and calculate returns\n",
    "\n",
    "Our first step towards calculating **modern portfolio theory (MPT)** portfolios is to get daily and monthly returns. Eventually we're going to get the best portfolios of each month based on the **Sharpe ratio**. \n",
    "\n",
    "The easiest way to do this is to put all our stock prices into one DataFrame, then to resample them to the daily and monthly time frames. \n",
    "\n",
    "We need daily price changes to calculate **volatility**, which we will use as our measure of risk.\n",
    "\n",
    "#### Instructions\n",
    "\n",
    "* Join together `lng_df`, `spy_df`, and `smlv_df` using `pd.concat()` into the `full_df` DataFrame.\n",
    "* Resample the `full_df` to **Business Month Start ('BMS') frequency**. http://pandas.pydata.org/pandas-docs/stable/timeseries.html#offset-aliases.\n",
    "\n",
    "BMonthBegin or BusinessMonthBegin\t'BMS'\tbusiness month begin\n",
    "\n",
    "* Get the daily percent change of `full_df` with `.pct_change()`.\n"
   ]
  },
  {
   "cell_type": "markdown",
   "metadata": {},
   "source": [
    "Make DatatimeIndex and remove the column of 'Adj_Volume'"
   ]
  },
  {
   "cell_type": "code",
   "execution_count": 57,
   "metadata": {},
   "outputs": [],
   "source": [
    "for file_name in [lng_df,spy_df,smlv_df]:\n",
    "    file_name['Date'] = pd.to_datetime(file_name['Date']).dt.date\n",
    "    file_name.set_index('Date',inplace=True)\n",
    "    file_name.index =pd.DatetimeIndex(file_name.index)\n",
    "    file_name=file_name.drop(['Adj_Volume'], axis=1, inplace=True)"
   ]
  },
  {
   "cell_type": "code",
   "execution_count": 58,
   "metadata": {},
   "outputs": [
    {
     "name": "stdout",
     "output_type": "stream",
     "text": [
      "            Adj_Close\n",
      "Date                 \n",
      "1994-04-04       72.0\n",
      "1994-04-05      108.0\n",
      "1994-04-06      108.0\n",
      "1994-04-07      108.0\n",
      "1994-04-08      108.0\n",
      "            Adj_Close\n",
      "Date                 \n",
      "1993-01-29  28.223927\n",
      "1993-02-01  28.424666\n",
      "1993-02-02  28.484856\n",
      "1993-02-03  28.785997\n",
      "1993-02-04  28.906440\n",
      "            Adj_Close\n",
      "Date                 \n",
      "2013-02-21  49.482507\n",
      "2013-02-22  49.881225\n",
      "2013-02-25  49.440974\n",
      "2013-02-26  49.200082\n",
      "2013-02-27  49.424361\n"
     ]
    }
   ],
   "source": [
    "print(lng_df.head())\n",
    "print(spy_df.head())\n",
    "print(smlv_df.head())"
   ]
  },
  {
   "cell_type": "code",
   "execution_count": 61,
   "metadata": {},
   "outputs": [
    {
     "data": {
      "text/html": [
       "<div>\n",
       "<style scoped>\n",
       "    .dataframe tbody tr th:only-of-type {\n",
       "        vertical-align: middle;\n",
       "    }\n",
       "\n",
       "    .dataframe tbody tr th {\n",
       "        vertical-align: top;\n",
       "    }\n",
       "\n",
       "    .dataframe thead th {\n",
       "        text-align: right;\n",
       "    }\n",
       "</style>\n",
       "<table border=\"1\" class=\"dataframe\">\n",
       "  <thead>\n",
       "    <tr style=\"text-align: right;\">\n",
       "      <th></th>\n",
       "      <th>LNG</th>\n",
       "      <th>SPY</th>\n",
       "      <th>SMLV</th>\n",
       "    </tr>\n",
       "    <tr>\n",
       "      <th>Date</th>\n",
       "      <th></th>\n",
       "      <th></th>\n",
       "      <th></th>\n",
       "    </tr>\n",
       "  </thead>\n",
       "  <tbody>\n",
       "    <tr>\n",
       "      <th>2013-02-21</th>\n",
       "      <td>20.21</td>\n",
       "      <td>139.802535</td>\n",
       "      <td>49.482507</td>\n",
       "    </tr>\n",
       "    <tr>\n",
       "      <th>2013-02-22</th>\n",
       "      <td>20.99</td>\n",
       "      <td>141.168775</td>\n",
       "      <td>49.881225</td>\n",
       "    </tr>\n",
       "    <tr>\n",
       "      <th>2013-02-25</th>\n",
       "      <td>20.44</td>\n",
       "      <td>138.482768</td>\n",
       "      <td>49.440974</td>\n",
       "    </tr>\n",
       "    <tr>\n",
       "      <th>2013-02-26</th>\n",
       "      <td>21.15</td>\n",
       "      <td>139.430774</td>\n",
       "      <td>49.200082</td>\n",
       "    </tr>\n",
       "    <tr>\n",
       "      <th>2013-02-27</th>\n",
       "      <td>21.57</td>\n",
       "      <td>141.187368</td>\n",
       "      <td>49.424361</td>\n",
       "    </tr>\n",
       "  </tbody>\n",
       "</table>\n",
       "</div>"
      ],
      "text/plain": [
       "              LNG         SPY       SMLV\n",
       "Date                                    \n",
       "2013-02-21  20.21  139.802535  49.482507\n",
       "2013-02-22  20.99  141.168775  49.881225\n",
       "2013-02-25  20.44  138.482768  49.440974\n",
       "2013-02-26  21.15  139.430774  49.200082\n",
       "2013-02-27  21.57  141.187368  49.424361"
      ]
     },
     "execution_count": 61,
     "metadata": {},
     "output_type": "execute_result"
    }
   ],
   "source": [
    "full_df=pd.concat([lng_df,spy_df,smlv_df], axis=1).dropna()\n",
    "full_df.columns=['LNG', 'SPY', 'SMLV']\n",
    "full_df.head()"
   ]
  },
  {
   "cell_type": "code",
   "execution_count": 64,
   "metadata": {
    "scrolled": true
   },
   "outputs": [
    {
     "name": "stdout",
     "output_type": "stream",
     "text": [
      "Returns daily: \n",
      "                 LNG       SPY      SMLV\n",
      "Date                                    \n",
      "2017-12-01  0.019558  0.027069  0.029058\n",
      "2018-01-01  0.128300  0.021450 -0.010725\n",
      "2018-02-01  0.057770  0.047662 -0.003823\n",
      "2018-03-01 -0.103353 -0.049293 -0.048131\n",
      "2018-04-02  0.021396 -0.034367  0.009406\n",
      "\n",
      "Returns Monthly: \n",
      "                 LNG       SPY      SMLV\n",
      "Date                                    \n",
      "2017-12-01  0.019558  0.027069  0.029058\n",
      "2018-01-01  0.128300  0.021450 -0.010725\n",
      "2018-02-01  0.057770  0.047662 -0.003823\n",
      "2018-03-01 -0.103353 -0.049293 -0.048131\n",
      "2018-04-02  0.021396 -0.034367  0.009406\n"
     ]
    }
   ],
   "source": [
    "# Resample the full dataframe to monthly timeframe\n",
    "monthly_df = full_df.resample('BMS').first()\n",
    "\n",
    "# Calculate daily returns of stocks\n",
    "returns_daily = full_df.pct_change()\n",
    "print('Returns daily: ')\n",
    "print(returns_monthly.tail())\n",
    "\n",
    "# Calculate monthly returns of the stocks\n",
    "returns_monthly = monthly_df.pct_change().dropna()\n",
    "print('\\n'+'Returns Monthly: ')\n",
    "print(returns_monthly.tail())"
   ]
  },
  {
   "cell_type": "markdown",
   "metadata": {},
   "source": [
    "### Calculate covariances for volatility\n",
    "\n",
    "In MPT, we quantify **risk via volatility**. The math for calculating portfolio volatility is complex, and it requires daily returns covariances. We'll now loop through each month in the `returns_monthly` DataFrame, and **calculate the covariance of the daily returns**.\n",
    "\n",
    "With pandas **datetime indices**, we can access the month and year with `df.index.month` and `df.index.year`.\n",
    "\n",
    "We'll use this to **create a `mask`** for `returns_daily` that **gives us the daily returns for the current month and year in the loop**. \n",
    "\n",
    "We then use the mask to subset the DataFrame like this: `df[mask]`. This gets entries in the `returns_daily` DataFrame which are in the current month and year in each cycle of the loop. \n",
    "\n",
    "Finally, we'll use pandas' `.cov()` method to get the covariance of daily returns.\n",
    "\n",
    "#### Instructions\n",
    "\n",
    "* Loop through the index of `returns_monthly`.\n",
    "* Create a `mask` for `returns_daily` which uses the current `month` and `year` from `returns_monthly`, and matches this to the current month and year from i in the loop.\n",
    "* Use the `mask` on `returns_daily` and calculate covariances using `.cov()`."
   ]
  },
  {
   "cell_type": "code",
   "execution_count": 65,
   "metadata": {},
   "outputs": [
    {
     "name": "stdout",
     "output_type": "stream",
     "text": [
      "           LNG       SPY      SMLV\n",
      "LNG   0.000366  0.000192  0.000146\n",
      "SPY   0.000192  0.000173  0.000127\n",
      "SMLV  0.000146  0.000127  0.000103\n"
     ]
    }
   ],
   "source": [
    "# Daily covariance of stocks (for each monthly period)\n",
    "covariances = {}\n",
    "rtd_idx = returns_daily.index\n",
    "for i in returns_monthly.index:    \n",
    "    # Mask daily returns for each month and year, and calculate covariance\n",
    "    mask = (rtd_idx.month == i.month) & (rtd_idx.year == i.year)\n",
    "    \n",
    "    # Use the mask to get daily returns for the current month and year of monthy returns index\n",
    "    covariances[i] = returns_daily[mask].cov()\n",
    "\n",
    "print(covariances[i])"
   ]
  },
  {
   "cell_type": "markdown",
   "metadata": {},
   "source": [
    "### Calculate portfolios\n",
    "\n",
    "We'll now generate portfolios to find each month's best one. numpy's `random.random()` generates random numbers from a uniform distribution, then we normalize them so they sum to 1 using the /= operator. \n",
    "\n",
    "`x /= 3` is equivalent to:\n",
    "`x = x / 3`\n",
    "\n",
    "We use these weights to calculate **returns and volatility**. \n",
    "\n",
    "* **Returns** are sums of weights times individual returns. \n",
    "\n",
    "* **Volatility** is more complex, and involves the covariances of the different stocks.\n",
    "\n",
    "Finally we'll store the values in dictionaries for later use, with months' dates as keys.\n",
    "\n",
    "In this case, we will only generate 10 portfolios for each date so the code will run faster, but in a real-world use-case you'd want to use more like 1000 to 5000 randomly-generated portfolios for a few stocks.\n",
    "\n",
    "#### Instructions\n",
    "\n",
    "* Generate 3 random numbers for the weights using `np.random.random()`.\n",
    "* Calculate returns by taking the dot product (`np.dot()`; multiplies element-by-element and sums up two arrays) of weights with the monthly returns for the current date in the loop.\n",
    "* Use the `.setdefault()` method to add an empty list (`[]`) to the `portfolio_weights` dictionary for the current date, then append weights to the list."
   ]
  },
  {
   "cell_type": "code",
   "execution_count": 74,
   "metadata": {},
   "outputs": [
    {
     "name": "stdout",
     "output_type": "stream",
     "text": [
      "[0.48123062 0.08089585 0.43787353]\n"
     ]
    }
   ],
   "source": [
    "portfolio_returns, portfolio_volatility, portfolio_weights = {}, {}, {}\n",
    "\n",
    "# Get portfolio performances at each month\n",
    "for date in sorted(covariances.keys()):\n",
    "    cov = covariances[date]\n",
    "    for portfolio in range(1000):\n",
    "        weights = np.random.random(3)\n",
    "        weights /= np.sum(weights) # /= divides weights by their sum to normalize\n",
    "        returns = np.dot(weights, returns_monthly.loc[date])\n",
    "        volatility = np.sqrt(np.dot(weights.T, np.dot(cov, weights)))\n",
    "        portfolio_returns.setdefault(date, []).append(returns)\n",
    "        portfolio_volatility.setdefault(date, []).append(volatility)\n",
    "        portfolio_weights.setdefault(date, []).append(weights)\n",
    "        \n",
    "print(portfolio_weights[date][0])"
   ]
  },
  {
   "cell_type": "markdown",
   "metadata": {},
   "source": [
    "### Plot efficient frontier\n",
    "\n",
    "We can finally plot the results of our MPT portfolios, which shows the **\"efficient frontier\"**. \n",
    "\n",
    "**This is a plot of the volatility vs the returns**.\n",
    "\n",
    "This can help us visualize our risk-return possibilities for portfolios. The upper left boundary of the points is the best we can do (highest return for a given risk), and that is the efficient frontier.\n",
    "\n",
    "To create this plot, we will use the latest date in our covariances dictionary which we created a few exercises ago. This has dates as keys, so we'll get the sorted keys using `sorted()` and `.keys()`, then get the last entry with Python indexing (`[-1]`). Lastly we'll use `matplotlib` to scatter variance vs returns and see the efficient frontier for the latest date in the data.\n",
    "\n",
    "#### Instructions\n",
    "* Get the latest date from the covariances dictionary -- remember the dates are the keys.\n",
    "* Plot the volatility vs returns (`portfolio_returns`) for the latest date in a scatter plot, and set the `alpha` value for transparency to be `0.1`."
   ]
  },
  {
   "cell_type": "code",
   "execution_count": 77,
   "metadata": {},
   "outputs": [
    {
     "data": {
      "image/png": "[encoded data removed]",
      "text/plain": [
       "<Figure size 432x288 with 1 Axes>"
      ]
     },
     "metadata": {},
     "output_type": "display_data"
    }
   ],
   "source": [
    "# Get latest date of available data\n",
    "date = sorted(covariances.keys())[-1]  \n",
    "\n",
    "# Plot efficient frontier\n",
    "# warning: this can take at least 10s for the plot to execute...\n",
    "plt.scatter(x=portfolio_volatility[date], y=portfolio_returns[date],  alpha=0.1)\n",
    "plt.xlabel('Volatility')\n",
    "plt.xlim(0.008,0.02)\n",
    "plt.ylim(-0.035,0.025)\n",
    "plt.ylabel('Returns')\n",
    "plt.show()"
   ]
  },
  {
   "cell_type": "markdown",
   "metadata": {},
   "source": [
    "## Sharpe ratios; features and targets\n",
    "\n",
    "$$Sharpe\\;ratio=\\frac{portfolio\\;return-risk\\;free\\;return}{portfolio\\;standard\\;deviation}$$"
   ]
  },
  {
   "cell_type": "markdown",
   "metadata": {},
   "source": [
    "### Get best Sharpe ratios\n",
    "\n",
    "We need to find the \"ideal\" portfolios for each date so we can use them as targets for machine learning. \n",
    "\n",
    "We'll loop through each date in portfolio_returns, then loop through the portfolios we generated with `portfolio_returns[date]`. \n",
    "\n",
    "We'll then calculate the **Sharpe ratio**, which is the return divided by volatility (assuming a no-risk return of 0).\n",
    "\n",
    "We use `enumerate()` to loop through the returns for the current date (`portfolio_returns[date]`) and keep track of the `index` with `i`. Then we use the current date and current index to get the volatility of each portfolio with `portfolio_volatility[date][i]`. \n",
    "\n",
    "Finally, we get the index of the best Sharpe ratio for each date using `np.argmax()`. We'll use this index to get the ideal portfolio weights soon.\n",
    "\n",
    "### Instructions\n",
    "\n",
    "* Using `enumerate()`, enumerate the `portfolio_returns` for each date in the loop.\n",
    "* For the current date in the loop, append to the `sharpe_ratio` dictionary entry with the return (`ret`) divided by `portfolio_volatility` for the current date and current `i` in the loops.\n",
    "* Set the value for the current date's `max_sharpe_idxs` to be the index of the maximum Sharpe ratio using `np.argmax()`."
   ]
  },
  {
   "cell_type": "code",
   "execution_count": 79,
   "metadata": {},
   "outputs": [
    {
     "name": "stdout",
     "output_type": "stream",
     "text": [
      "0.01993513690686535\n"
     ]
    }
   ],
   "source": [
    "# Empty dictionaries for sharpe ratios and best sharpe indexes by date\n",
    "sharpe_ratio, max_sharpe_idxs = {}, {}\n",
    "\n",
    "# Loop through dates and get sharpe ratio for each portfolio\n",
    "for date in portfolio_returns.keys():\n",
    "    for i, ret in enumerate(portfolio_returns[date]):\n",
    "    \n",
    "        # Divide returns by the volatility for the date and index, i\n",
    "        sharpe_ratio.setdefault(date, []).append(ret/ portfolio_volatility[date][i])\n",
    "\n",
    "    # Get the index of the best sharpe ratio for each date\n",
    "    max_sharpe_idxs[date] = np.argmax(sharpe_ratio[date])\n",
    "\n",
    "print(portfolio_returns[date][max_sharpe_idxs[date]])"
   ]
  },
  {
   "cell_type": "markdown",
   "metadata": {},
   "source": [
    "We've got our best Sharpe ratios, which we'll use to create targets for machine learning."
   ]
  },
  {
   "cell_type": "markdown",
   "metadata": {},
   "source": [
    "### Calculate EWMAs\n",
    "W\n",
    "e will now work towards creating some features to be able to predict our ideal portfolios. \n",
    "\n",
    "We will simply use the price movement as a feature for now. \n",
    "\n",
    "To do this we will create a **daily exponentially-weighted moving average (EWMA)**, then resample that to the monthly timeframe. \n",
    "\n",
    "Finally, we'll shift the monthly moving average of price one month in the future, so we can use it as a feature for predicting future portfolios.\n",
    "\n",
    "#### Instructions\n",
    "\n",
    "* Use a span of 30 to calculate the daily exponentially-weighted moving average (`ewma_daily`).\n",
    "* Resample the daily `ewma` to the month by using the Business Monthly Start frequency (`BMS`) and the first day of the month (`.first()`).\n",
    "* Shift `ewma_monthly` by one month forward, so we can use the previous month's EWMA as a feature to predict the next month's ideal portfolio.\n"
   ]
  },
  {
   "cell_type": "code",
   "execution_count": 80,
   "metadata": {},
   "outputs": [
    {
     "name": "stdout",
     "output_type": "stream",
     "text": [
      "LNG    -0.004304\n",
      "SPY    -0.001003\n",
      "SMLV   -0.001670\n",
      "Name: 2018-04-02 00:00:00, dtype: float64\n"
     ]
    }
   ],
   "source": [
    "# Calculate exponentially-weighted moving average of daily returns\n",
    "ewma_daily = returns_daily.ewm(span=30).mean()\n",
    "\n",
    "# Resample daily returns to first business day of the month with average for that month\n",
    "ewma_monthly = ewma_daily.resample('BMS').first()\n",
    "\n",
    "# Shift ewma for the month by 1 month forward so we can use it as a feature for future predictions \n",
    "ewma_monthly = ewma_monthly.shift(1).dropna()\n",
    "\n",
    "print(ewma_monthly.iloc[-1])"
   ]
  },
  {
   "cell_type": "markdown",
   "metadata": {},
   "source": [
    "Now we can make our features and targets for a machine learning algorithm."
   ]
  },
  {
   "cell_type": "markdown",
   "metadata": {},
   "source": [
    "### Make features and targets\n",
    "\n",
    "To use machine learning to pick the best portfolio, we need to generate features and targets. Our features were just created in the last exercise – the exponentially weighted moving averages of prices. Our targets will be the best portfolios we found from the highest Sharpe ratio.\n",
    "\n",
    "We will use pandas' `.iterrows()` method to get the index, value pairs for the `ewma_monthly` DataFrame. We'll set the current value of `ewma_monthly` in the loop to be our features. Then we'll use the index of the best Sharpe ratio (from `max_sharpe_idxs`) to get the best `portfolio_weights` for each month and set that as a target.\n",
    "\n",
    "#### Instructions\n",
    "\n",
    "* Use the `.iterrows()` method with `ewma_monthly` to iterate through the index, value in the loop.\n",
    "* Use the `date` in the loop and `best_idx` to index `portfolio_weights` to get the ideal portfolio weights based on the best Sharpe ratio.\n",
    "* Append the `ewma` to the features.\n"
   ]
  },
  {
   "cell_type": "code",
   "execution_count": 81,
   "metadata": {},
   "outputs": [
    {
     "name": "stdout",
     "output_type": "stream",
     "text": [
      "[[2.70400641e-03 9.57334239e-01 3.99617547e-02]\n",
      " [9.78725117e-01 6.63597416e-03 1.46389087e-02]\n",
      " [2.75596074e-01 7.17673253e-01 6.73067267e-03]\n",
      " [3.81139655e-03 9.50205564e-01 4.59830399e-02]\n",
      " [8.79364789e-01 3.19493174e-04 1.20315718e-01]]\n"
     ]
    }
   ],
   "source": [
    "targets, features = [], []\n",
    "\n",
    "# Create features from price history and targets as ideal portfolio\n",
    "for date, ewma in ewma_monthly.iterrows():\n",
    "\n",
    "    # Get the index of the best sharpe ratio\n",
    "    best_idx = max_sharpe_idxs[date]\n",
    "    targets.append(portfolio_weights[date][best_idx])\n",
    "    features.append(ewma)  # add ewma to features\n",
    "\n",
    "targets = np.array(targets)\n",
    "features = np.array(features)\n",
    "print(targets[-5:])"
   ]
  },
  {
   "cell_type": "markdown",
   "metadata": {},
   "source": [
    "We're ready for a machine learning model."
   ]
  },
  {
   "cell_type": "markdown",
   "metadata": {},
   "source": [
    "### Plot efficient frontier with best Sharpe ratio\n",
    "\n",
    "Let's now plot the efficient frontier again, but add a marker for the portfolio with the best Sharpe index. Visualizing our data is always a good idea to better understand it.\n",
    "\n",
    "Recall the efficient frontier is plotted in a scatter plot of portfolio volatility on the x-axis, and portfolio returns on the y-axis. \n",
    "\n",
    "We'll get the latest date we have in our data from `covariances.keys()`, although any of the portfolio_returns, etc, dictionaries could be used as well to get the date. \n",
    "\n",
    "Then we get volatilities and returns for the latest date we have from our `portfolio_volatility` and `portfolio_returns`. \n",
    "\n",
    "Finally we get the index of the portfolio with the best Sharpe index from `max_sharpe_idxs[date]`, and plot everything with `plt.scatter()`.\n",
    "\n",
    "#### Instructions\n",
    "\n",
    "* Set cur_volatility to be the portfolio volatilities for the latest date.\n",
    "* Construct the **\"efficient frontier\" plot** by plotting volatility on the x-axis and returns on the y-axis.\n",
    "* Get the best portfolio index for the latest date from `max_sharpe_idxs`."
   ]
  },
  {
   "cell_type": "code",
   "execution_count": 83,
   "metadata": {},
   "outputs": [
    {
     "data": {
      "image/png": "[encoded data removed]",
      "text/plain": [
       "<Figure size 432x288 with 1 Axes>"
      ]
     },
     "metadata": {},
     "output_type": "display_data"
    }
   ],
   "source": [
    "# Get most recent (current) returns and volatility\n",
    "date = sorted(covariances.keys())[-1]\n",
    "cur_returns = portfolio_returns[date]\n",
    "cur_volatility = portfolio_volatility[date]\n",
    "\n",
    "# Plot efficient frontier with sharpe as point\n",
    "plt.scatter(x=cur_volatility, y=cur_returns, alpha=0.1, color='blue')\n",
    "best_idx = max_sharpe_idxs[date]\n",
    "\n",
    "# Place an orange \"X\" on the point with the best Sharpe ratio\n",
    "plt.scatter(x=cur_volatility[best_idx], y=cur_returns[best_idx], marker='x', color='orange')\n",
    "plt.xlabel('Volatility')\n",
    "plt.ylabel('Returns')\n",
    "plt.xlim(0.008,0.02)\n",
    "plt.ylim(-0.035,0.025)\n",
    "plt.show()"
   ]
  },
  {
   "cell_type": "markdown",
   "metadata": {},
   "source": [
    "## Machine learning for MPT\n",
    "\n",
    "### Make predictions with a random forest\n",
    "\n",
    "In order to fit a machine learning model to predict ideal portfolios, we need to create train and test sets for evaluating performance. We will do this as we did in previous chapters, where we take our features and targets arrays, and split them based on a `train_size` we set. Often the train size may be around 70-90% of our data.\n",
    "\n",
    "We then fit our model (a random forest in this case) to the training data, and evaluate the R2 scores on train and test using `.score()` from our model. In this case, the hyperparameters have been set for you, but usually you'd want to do a search with `ParameterGrid` like we did in previous chapters.\n",
    "\n",
    "#### Instructions\n",
    "\n",
    "* Set the `train_size` to be 85% of the full training set data using the `.shape` property of features.\n",
    "* Create `train` and `test` targets from `targets` using Python indexing.\n",
    "* Fit the random forest model to the `train_features` and `train_targets`."
   ]
  },
  {
   "cell_type": "code",
   "execution_count": 87,
   "metadata": {},
   "outputs": [
    {
     "name": "stdout",
     "output_type": "stream",
     "text": [
      "0.8305261767900498\n",
      "-0.3514122802504214\n"
     ]
    }
   ],
   "source": [
    "# Make train and test features\n",
    "train_size = int(0.85 * features.shape[0])\n",
    "train_features = features[:train_size]\n",
    "test_features = features[train_size:]\n",
    "train_targets = targets[:train_size]\n",
    "test_targets = targets[train_size:]\n",
    "\n",
    "# Fit the model and check scores on train and test\n",
    "rfr = RandomForestRegressor(n_estimators=300, random_state=42)\n",
    "rfr.fit(train_features, train_targets)\n",
    "print(rfr.score(train_features, train_targets))\n",
    "print(rfr.score(test_features, test_targets))"
   ]
  },
  {
   "cell_type": "markdown",
   "metadata": {},
   "source": [
    "The test score is not so good, but it'll work out OK in this case."
   ]
  },
  {
   "cell_type": "markdown",
   "metadata": {},
   "source": [
    "### Get predictions and first evaluation\n",
    "\n",
    "Now that we have a trained random forest model (`rfr`), we want to use it to get predictions on the test set. We do this to evaluate our model's performance – at a basic level, is it doing as well or better than just buying the index, SPY?\n",
    "\n",
    "We'll use the typical sklearn `.predict(features)` method, then multiply our monthly returns by our portfolio predictions. We sum these up with `np.sum()` since this will have 3 rows for each month. Then we plot both the monthly returns from our predictions, as well as SPY and compare the two.\n",
    "\n",
    "#### Instructions\n",
    "\n",
    "* Use the `rfr` random forest model's `.predict()` method to make predictions on `train_features` and `test_features`.\n",
    "* Multiply the test set portion of returns_monthly by test_predictions to get the returns of our test set predictions.\n",
    "* Plot the test set `returns_monthly` for `'SPY'` (everything from `train_size` to the end of the data)."
   ]
  },
  {
   "cell_type": "code",
   "execution_count": 93,
   "metadata": {},
   "outputs": [
    {
     "data": {
      "image/png": "[encoded data removed]",
      "text/plain": [
       "<Figure size 432x288 with 1 Axes>"
      ]
     },
     "metadata": {},
     "output_type": "display_data"
    }
   ],
   "source": [
    "# Get predictions from model on train and test\n",
    "train_predictions = rfr.predict(train_features)\n",
    "test_predictions = rfr.predict(test_features)\n",
    "# Calculate and plot returns from our RF predictions and the SPY returns\n",
    "test_returns = np.sum(returns_monthly.iloc[train_size:] * test_predictions, axis=1)\n",
    "plt.plot(test_returns, label='algo')\n",
    "plt.plot(returns_monthly['SPY'].iloc[train_size:], label='SPY')\n",
    "plt.legend()\n",
    "plt.show()"
   ]
  },
  {
   "cell_type": "markdown",
   "metadata": {},
   "source": [
    "We're doing a little better than SPY sometimes, and other times not. Let's see how it adds up."
   ]
  },
  {
   "cell_type": "markdown",
   "metadata": {},
   "source": [
    "### Evaluate returns\n",
    "\n",
    "Let's now see how our portfolio selection would perform as compared with just investing in the SPY. We'll do this to see if our predictions are promising, despite the low R2 value.\n",
    "\n",
    "We will set a starting value for our investment of $1000, then loop through the returns from our predictions as well as from SPY. We'll use the monthly returns from our portfolio selection and SPY and apply them to our starting cash balance. From this we will get a month-by-month picture of how our investment is doing, and we can see how our predictions did overall vs the SPY. Next, we can plot our portfolio from our predictions and compare it to SPY.\n",
    "\n",
    "#### Instructions\n",
    "\n",
    "* Set the first list entries of both `algo_cash` and `spy_cash` to the same amount (cash).\n",
    "* Multiply the cash in our test_returns loop by `1 + r` in order to apply the returns to our cash.\n",
    "* As with the `test_returns` loop, in the SPY performance loop, append cash to `spy_cash` after multiplying by `1 + r` to add the returns to cash."
   ]
  },
  {
   "cell_type": "code",
   "execution_count": 96,
   "metadata": {},
   "outputs": [
    {
     "name": "stdout",
     "output_type": "stream",
     "text": [
      "algo returns: 0.10973950243220747\n",
      "SPY returns: 0.07811831329855999\n"
     ]
    }
   ],
   "source": [
    "# Calculate the effect of our portfolio selection on a hypothetical $1k investment\n",
    "cash = 1000\n",
    "algo_cash, spy_cash = [cash], [cash]  # set equal starting cash amounts\n",
    "for r in test_returns:\n",
    "    cash *= 1 + r\n",
    "    algo_cash.append(cash)\n",
    "\n",
    "# Calculate performance for SPY\n",
    "cash = 1000  # reset cash amount\n",
    "for r in returns_monthly['SPY'].iloc[train_size:]:\n",
    "    cash *= 1 + r\n",
    "    spy_cash.append(cash)\n",
    "print('algo returns:', (algo_cash[-1] - algo_cash[0]) / algo_cash[0])\n",
    "print('SPY returns:', (spy_cash[-1] - spy_cash[0]) / spy_cash[0])"
   ]
  },
  {
   "cell_type": "markdown",
   "metadata": {},
   "source": [
    " Our predictions slightly beat the SPY!"
   ]
  },
  {
   "cell_type": "markdown",
   "metadata": {},
   "source": [
    "### Plot returns\n",
    "Lastly, we'll plot the performance of our machine-learning-generated portfolio versus just holding the SPY. We can use this as an evaluation to see if our predictions are doing well or not.\n",
    "\n",
    "Since we already have `algo_cash` and `spy_cash` created, all we need to do is provide them to `plt.plot()` to display. We'll also set the label for the datasets with legend in `plt.plot()`.\n",
    "\n",
    "#### Instructions\n",
    "\n",
    "* Use `plt.plot()` to plot the `algo_cash` and `spy_cash`, labeling them `'algo'` and `'SPY'`.\n",
    "* Use `plt.legend()` to display the legend."
   ]
  },
  {
   "cell_type": "code",
   "execution_count": 97,
   "metadata": {},
   "outputs": [
    {
     "data": {
      "image/png": "[encoded data removed]",
      "text/plain": [
       "<Figure size 432x288 with 1 Axes>"
      ]
     },
     "metadata": {},
     "output_type": "display_data"
    }
   ],
   "source": [
    "# Plot the algo_cash and spy_cash to compare overall returns\n",
    "plt.plot(algo_cash, label='algo')\n",
    "plt.plot(spy_cash, label='SPY')\n",
    "plt.legend() # show the legend\n",
    "plt.show()"
   ]
  },
  {
   "cell_type": "markdown",
   "metadata": {},
   "source": [
    "You finished the last coding exercise! "
   ]
  },
  {
   "cell_type": "markdown",
   "metadata": {},
   "source": [
    "### Toy examples\n",
    "\n",
    "Tools for bigger data:\n",
    "\n",
    "* Python 3 multiprocessing\n",
    "* Dask\n",
    "* Spark\n",
    "\n",
    "#### Get more and better data\n",
    "Data in this course:\n",
    "\n",
    "* From Quandl.com/EOD (free subset available)\n",
    "\n",
    "Alternative and other data:\n",
    "\n",
    "* satellite images\n",
    "* sentiment analysis (e.g. PsychSignal)\n",
    "* analyst predictions\n",
    "* fundamentals data\n",
    "\n",
    "\n"
   ]
  }
 ],
 "metadata": {
  "celltoolbar": "Raw Cell Format",
  "kernelspec": {
   "display_name": "Python 3",
   "language": "python",
   "name": "python3"
  },
  "language_info": {
   "codemirror_mode": {
    "name": "ipython",
    "version": 3
   },
   "file_extension": ".py",
   "mimetype": "text/x-python",
   "name": "python",
   "nbconvert_exporter": "python",
   "pygments_lexer": "ipython3",
   "version": "3.6.8"
  }
 },
 "nbformat": 4,
 "nbformat_minor": 2
}
